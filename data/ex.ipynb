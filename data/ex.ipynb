{
 "cells": [
  {
   "cell_type": "code",
   "execution_count": null,
   "metadata": {},
   "outputs": [],
   "source": []
  },
  {
   "cell_type": "code",
   "execution_count": 3,
   "metadata": {},
   "outputs": [],
   "source": [
    "import os\n",
    "import pandas as pd\n",
    "from pathlib import Path\n",
    "\n",
    "import pyarrow.parquet as pq\n",
    "\n",
    "# Define the folder path\n",
    "folder_path = Path('/mnt', 'nvme', 'datasets', 'sieglew', 'TripSequences', \"trips_processed_pinn_4\")\n",
    "\n",
    "\n"
   ]
  },
  {
   "cell_type": "code",
   "execution_count": 5,
   "metadata": {},
   "outputs": [
    {
     "name": "stdout",
     "output_type": "stream",
     "text": [
      "               FileName  Length\n",
      "0     V14_T1084.parquet    7553\n",
      "1     V17_T1107.parquet    1330\n",
      "2      V13_T797.parquet   13482\n",
      "3      V16_T174.parquet    2398\n",
      "4      V13_T969.parquet   11646\n",
      "...                 ...     ...\n",
      "6621   V12_T797.parquet   10344\n",
      "6622  V16_T2252.parquet    3653\n",
      "6623   V13_T532.parquet    4848\n",
      "6624  V101_T326.parquet    4708\n",
      "6625   V12_T597.parquet   14139\n",
      "\n",
      "[6626 rows x 2 columns]\n"
     ]
    }
   ],
   "source": [
    "# Initialize an empty list to store file information\n",
    "file_info = []\n",
    "\n",
    "# Iterate through each file in the folder\n",
    "for file in folder_path.glob('*.parquet'):\n",
    "    # Get the number of rows in the parquet file\n",
    "    num_rows = pq.read_metadata(file).num_rows\n",
    "    # Append the file name and number of rows to the list\n",
    "    file_info.append({'FileName': file.name, 'Length': num_rows})\n",
    "\n",
    "# Create a DataFrame from the list\n",
    "df_files_lengths = pd.DataFrame(file_info)\n",
    "\n",
    "# Save the DataFrame to a pickle file\n",
    "df_files_lengths.to_pickle('df_files_lengths_2.pickle')\n",
    "\n",
    "# Display the DataFrame\n",
    "print(df_files_lengths)"
   ]
  },
  {
   "cell_type": "code",
   "execution_count": 7,
   "metadata": {},
   "outputs": [
    {
     "name": "stdout",
     "output_type": "stream",
     "text": [
      "V13_T25.parquet\n"
     ]
    }
   ],
   "source": [
    "# Find the row with the maximum length\n",
    "longest_file = df_files_lengths.loc[df_files_lengths['Length'].idxmax()]\n",
    "\n",
    "# Display the file name\n",
    "print(longest_file['FileName'])"
   ]
  }
 ],
 "metadata": {
  "kernelspec": {
   "display_name": "sieglew",
   "language": "python",
   "name": "python3"
  },
  "language_info": {
   "codemirror_mode": {
    "name": "ipython",
    "version": 3
   },
   "file_extension": ".py",
   "mimetype": "text/x-python",
   "name": "python",
   "nbconvert_exporter": "python",
   "pygments_lexer": "ipython3",
   "version": "3.11.9"
  }
 },
 "nbformat": 4,
 "nbformat_minor": 2
}
