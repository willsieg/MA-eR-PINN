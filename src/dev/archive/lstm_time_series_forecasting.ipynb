{
 "cells": [
  {
   "cell_type": "code",
   "execution_count": 9,
   "metadata": {},
   "outputs": [],
   "source": [
    "import numpy as np\n",
    "import pandas as pd\n",
    "import matplotlib.pyplot as plt\n",
    "%matplotlib inline\n",
    "#import pickle\n",
    "import random\n",
    "\n",
    "from fastai.vision.all import *\n",
    "\n",
    "#from datetime import datetime\n",
    "#from scipy.signal import savgol_filter\n",
    "#from scipy.signal import correlate\n",
    "\n",
    "from sklearn.preprocessing import StandardScaler, MinMaxScaler\n",
    "from sklearn.metrics import mean_squared_error\n",
    "from sklearn.model_selection import train_test_split"
   ]
  },
  {
   "cell_type": "code",
   "execution_count": 10,
   "metadata": {},
   "outputs": [],
   "source": [
    "from IPython.core.magic import register_cell_magic\n",
    "@register_cell_magic    # cells can be skipped by using '%%skip' in the first line\n",
    "def skip(line, cell): return"
   ]
  },
  {
   "cell_type": "code",
   "execution_count": 11,
   "metadata": {},
   "outputs": [],
   "source": [
    "from os import listdir\n",
    "parquet_folder = r'C:\\Users\\SIEGLEW\\OneDrive - Daimler Truck\\MA\\Code\\SIEGLEW_COPY\\data\\processed' # Trip parquet files\n",
    "all_files = listdir(parquet_folder)"
   ]
  },
  {
   "cell_type": "markdown",
   "metadata": {},
   "source": [
    "___"
   ]
  },
  {
   "cell_type": "markdown",
   "metadata": {},
   "source": [
    "zu klärende Fragen:\n",
    "\n",
    "1. Wie können die Tensoren für einzelne batches aufgeteilt werden?\n",
    "    ---> werden die Zeitreihen eines batches einfach in einen Tensor aneinandergereiht?\n",
    "    ---> oder werden {batch_size} Zeitreihen nacheinander eingegeben?\n",
    "2. Gibt es besonders geeignete Transformationen für unsere Zeitreihen?\n"
   ]
  },
  {
   "cell_type": "code",
   "execution_count": 12,
   "metadata": {},
   "outputs": [],
   "source": [
    "import torch\n",
    "import torch.optim as optim\n",
    "\n",
    "from torch import nn\n",
    "from torch.nn import functional as F\n",
    "from torch.nn.parameter import Parameter\n",
    "from torch.nn.utils.rnn import pack_sequence\n",
    "\n",
    "from torch.autograd import Variable\n",
    "from torch.utils.data import DataLoader, TensorDataset\n",
    "\n",
    "torch.manual_seed(1);"
   ]
  },
  {
   "cell_type": "code",
   "execution_count": 13,
   "metadata": {},
   "outputs": [
    {
     "name": "stdout",
     "output_type": "stream",
     "text": [
      "Torch version:  2.3.1+cpu\n",
      "Cuda available:  False\n",
      "   --> Using cpu device\n"
     ]
    }
   ],
   "source": [
    "print('Torch version: ', torch.__version__)\n",
    "print('Cuda available: ',torch.cuda.is_available())\n",
    "if torch.cuda.is_available():\n",
    "    device = torch.device(f\"cuda:{torch.cuda.current_device()}\") \n",
    "    #device = torch.device(\"cuda:0\")   # or overwrite\n",
    "    print(f'Current Device: {torch.cuda.current_device()},  Total Count: {torch.cuda.device_count()}')\n",
    "else:\n",
    "    device = (\"cpu\")\n",
    "\n",
    "print(f\"   --> Using {device} device\")"
   ]
  },
  {
   "cell_type": "code",
   "execution_count": 14,
   "metadata": {},
   "outputs": [],
   "source": [
    "samples = [\"v_id983V16_trip269.parquet\", \"v_id983V12_trip98.parquet\", \"v_id983V16_trip104.parquet\", \"v_id983V18_trip197.parquet\", \"v_id983V14_trip156.parquet\", \n",
    "          \"v_id983V18_trip197_2.parquet\", \"v_id983V18_trip201.parquet\", \"v_id983V16_trip58.parquet\", \"v_id983V17_trip86.parquet\", \"v_id983V13_trip180.parquet\",\n",
    "          \"v_id983V14_trip157.parquet\", \"v_id983V14_trip89.parquet\", \"v_id983V14_trip220.parquet\", \"v_id983V18_trip227.parquet\", \"v_id983V14_trip232.parquet\",\n",
    "          \"v_id983V18_trip251_2.parquet\", \"v_id983V13_trip210.parquet\", \"v_id983V18_trip223.parquet\", \"v_id983V10_trip62.parquet\", \"v_id983V13_trip23.parquet\", \n",
    "          \"v_id983V14_trip39.parquet\", \"v_id983V18_trip209.parquet\", \"v_id983V16_trip13.parquet\", \"v_id983V16_trip246.parquet\", \"v_id983V16_trip81.parquet\"]"
   ]
  },
  {
   "cell_type": "code",
   "execution_count": 15,
   "metadata": {},
   "outputs": [
    {
     "name": "stdout",
     "output_type": "stream",
     "text": [
      "['v_id983V16_trip104.parquet']\n"
     ]
    }
   ],
   "source": [
    "sample = random.sample(samples,1)\n",
    "# sample = random.sample(all_files,1)\n",
    "print(sample)"
   ]
  },
  {
   "cell_type": "code",
   "execution_count": 16,
   "metadata": {},
   "outputs": [],
   "source": [
    "for f in [sample[0]]:\n",
    "    df = pd.read_parquet(parquet_folder + \"/\" + f, engine='fastparquet', \n",
    "                         columns = [\"signal_time\", \"hirestotalvehdist_cval_icuc\", \"vehspd_cval_cpc\", \n",
    "                                    \"altitude_cval_ippc\", \"bs_roadincln_cval\", \"ambtemp_cval_pt\", \n",
    "                                    \"hv_batpwr_cval_bms1\", \"hv_batmomavldischrgen_cval_1\"])"
   ]
  },
  {
   "cell_type": "code",
   "execution_count": 17,
   "metadata": {},
   "outputs": [
    {
     "data": {
      "text/html": [
       "<div>\n",
       "<style scoped>\n",
       "    .dataframe tbody tr th:only-of-type {\n",
       "        vertical-align: middle;\n",
       "    }\n",
       "\n",
       "    .dataframe tbody tr th {\n",
       "        vertical-align: top;\n",
       "    }\n",
       "\n",
       "    .dataframe thead th {\n",
       "        text-align: right;\n",
       "    }\n",
       "</style>\n",
       "<table border=\"1\" class=\"dataframe\">\n",
       "  <thead>\n",
       "    <tr style=\"text-align: right;\">\n",
       "      <th></th>\n",
       "      <th>signal_time</th>\n",
       "      <th>hirestotalvehdist_cval_icuc</th>\n",
       "      <th>vehspd_cval_cpc</th>\n",
       "      <th>altitude_cval_ippc</th>\n",
       "      <th>bs_roadincln_cval</th>\n",
       "      <th>ambtemp_cval_pt</th>\n",
       "      <th>hv_batpwr_cval_bms1</th>\n",
       "      <th>hv_batmomavldischrgen_cval_1</th>\n",
       "    </tr>\n",
       "  </thead>\n",
       "  <tbody>\n",
       "    <tr>\n",
       "      <th>0</th>\n",
       "      <td>1970-01-20 02:58:26.406451001</td>\n",
       "      <td>11621.205</td>\n",
       "      <td>0.0</td>\n",
       "      <td>68.75</td>\n",
       "      <td>1.0</td>\n",
       "      <td>19.5</td>\n",
       "      <td>-18.770</td>\n",
       "      <td>322.45</td>\n",
       "    </tr>\n",
       "    <tr>\n",
       "      <th>1</th>\n",
       "      <td>1970-01-20 02:58:26.407451001</td>\n",
       "      <td>11621.205</td>\n",
       "      <td>0.0</td>\n",
       "      <td>68.75</td>\n",
       "      <td>1.0</td>\n",
       "      <td>19.5</td>\n",
       "      <td>-18.785</td>\n",
       "      <td>322.45</td>\n",
       "    </tr>\n",
       "    <tr>\n",
       "      <th>2</th>\n",
       "      <td>1970-01-20 02:58:26.408451001</td>\n",
       "      <td>11621.205</td>\n",
       "      <td>0.0</td>\n",
       "      <td>68.75</td>\n",
       "      <td>1.0</td>\n",
       "      <td>19.5</td>\n",
       "      <td>-18.830</td>\n",
       "      <td>322.45</td>\n",
       "    </tr>\n",
       "    <tr>\n",
       "      <th>3</th>\n",
       "      <td>1970-01-20 02:58:26.409451001</td>\n",
       "      <td>11621.205</td>\n",
       "      <td>0.0</td>\n",
       "      <td>68.75</td>\n",
       "      <td>1.0</td>\n",
       "      <td>19.5</td>\n",
       "      <td>-18.810</td>\n",
       "      <td>322.45</td>\n",
       "    </tr>\n",
       "    <tr>\n",
       "      <th>4</th>\n",
       "      <td>1970-01-20 02:58:26.410451001</td>\n",
       "      <td>11621.205</td>\n",
       "      <td>0.0</td>\n",
       "      <td>68.75</td>\n",
       "      <td>1.0</td>\n",
       "      <td>19.5</td>\n",
       "      <td>-18.825</td>\n",
       "      <td>322.45</td>\n",
       "    </tr>\n",
       "  </tbody>\n",
       "</table>\n",
       "</div>"
      ],
      "text/plain": [
       "                    signal_time  hirestotalvehdist_cval_icuc  vehspd_cval_cpc  \\\n",
       "0 1970-01-20 02:58:26.406451001                    11621.205              0.0   \n",
       "1 1970-01-20 02:58:26.407451001                    11621.205              0.0   \n",
       "2 1970-01-20 02:58:26.408451001                    11621.205              0.0   \n",
       "3 1970-01-20 02:58:26.409451001                    11621.205              0.0   \n",
       "4 1970-01-20 02:58:26.410451001                    11621.205              0.0   \n",
       "\n",
       "   altitude_cval_ippc  bs_roadincln_cval  ambtemp_cval_pt  \\\n",
       "0               68.75                1.0             19.5   \n",
       "1               68.75                1.0             19.5   \n",
       "2               68.75                1.0             19.5   \n",
       "3               68.75                1.0             19.5   \n",
       "4               68.75                1.0             19.5   \n",
       "\n",
       "   hv_batpwr_cval_bms1  hv_batmomavldischrgen_cval_1  \n",
       "0              -18.770                        322.45  \n",
       "1              -18.785                        322.45  \n",
       "2              -18.830                        322.45  \n",
       "3              -18.810                        322.45  \n",
       "4              -18.825                        322.45  "
      ]
     },
     "execution_count": 17,
     "metadata": {},
     "output_type": "execute_result"
    }
   ],
   "source": [
    "df.head()"
   ]
  },
  {
   "cell_type": "code",
   "execution_count": 18,
   "metadata": {},
   "outputs": [
    {
     "data": {
      "image/png": "[encoded data removed]",
      "text/plain": [
       "<Figure size 800x400 with 1 Axes>"
      ]
     },
     "metadata": {},
     "output_type": "display_data"
    }
   ],
   "source": [
    "plt.style.use('ggplot')\n",
    "plt.xlabel('Time in s')\n",
    "plt.ylabel('Battery Energy in kWh')\n",
    "df[\"hv_batmomavldischrgen_cval_1\"].plot(label=\"CLOSE\", title=\"Total Energy Consumption\", figsize=(8,4));"
   ]
  },
  {
   "cell_type": "code",
   "execution_count": 19,
   "metadata": {},
   "outputs": [
    {
     "name": "stdout",
     "output_type": "stream",
     "text": [
      "StandardScaler: fitted with 2421 samples.\n",
      "MinMaxScaler: fitted with 2421 samples.\n"
     ]
    }
   ],
   "source": [
    "# DATA NORMALIZATION -----------------------------------------------------------------\n",
    "ss = StandardScaler()\n",
    "mm = MinMaxScaler(feature_range=(0, 1))\n",
    "\n",
    "X_ss = ss.fit_transform(df.iloc[:,1:-2])                # Standardize features by removing the mean and scaling to unit variance\n",
    "y_mm = mm.fit_transform(pd.DataFrame(df.iloc[:,-1:]))   # Transform features by scaling each feature to a given range\n",
    "\n",
    "print(f'StandardScaler: fitted with {ss.n_samples_seen_} samples.')\n",
    "print(f'MinMaxScaler: fitted with {mm.n_samples_seen_} samples.')"
   ]
  },
  {
   "cell_type": "code",
   "execution_count": 20,
   "metadata": {},
   "outputs": [],
   "source": [
    "# DATA SPLITS: TEST, TRAIN, VALIDATION ---------------------------------------------\n",
    "# \n",
    "# # split sequence at 80 %:\n",
    "n_train = round(len(X_ss) * 0.8)   # first n_train for training\n",
    "\n",
    "# Train & Test Sets\n",
    "X_train = X_ss[:n_train, :]#.to_numpy()\n",
    "X_test = X_ss[n_train:, :]#.to_numpy()\n",
    "\n",
    "y_train = y_mm[:n_train, :]#.to_numpy()\n",
    "y_test = y_mm[n_train:, :]#.to_numpy()"
   ]
  },
  {
   "cell_type": "code",
   "execution_count": 21,
   "metadata": {},
   "outputs": [],
   "source": [
    "# TENSOR CONVERSION -----------------------------------------------------------------\n",
    "dtype = torch.float32\n",
    "X_train_T = torch.tensor(X_train, dtype=dtype, requires_grad=True) # tensors\n",
    "X_test_T = torch.tensor(X_test, dtype=dtype)\n",
    "\n",
    "y_train_T = torch.tensor(y_train, dtype=dtype, requires_grad=True)\n",
    "y_test_T = torch.tensor(y_test, dtype=dtype) "
   ]
  },
  {
   "cell_type": "code",
   "execution_count": 22,
   "metadata": {},
   "outputs": [
    {
     "name": "stdout",
     "output_type": "stream",
     "text": [
      "Training Shape torch.Size([1937, 1, 5]) torch.Size([1937, 1])\n",
      "Testing Shape torch.Size([484, 1, 5]) torch.Size([484, 1])\n"
     ]
    }
   ],
   "source": [
    "# reshape\n",
    "X_train_T_final = torch.reshape(X_train_T,   (X_train_T.shape[0], 1, X_train_T.shape[1]))\n",
    "X_test_T_final = torch.reshape(X_test_T,  (X_test_T.shape[0], 1, X_test_T.shape[1]))\n",
    "\n",
    "print(\"Training Shape\", X_train_T_final.shape, y_train_T.shape)\n",
    "print(\"Testing Shape\", X_test_T_final.shape, y_test_T.shape)"
   ]
  },
  {
   "cell_type": "code",
   "execution_count": 23,
   "metadata": {},
   "outputs": [
    {
     "name": "stdout",
     "output_type": "stream",
     "text": [
      "Training dataset size: 1937\n",
      "Testing dataset size: 484\n"
     ]
    }
   ],
   "source": [
    "# Create TensorDataset for training and testing\n",
    "train_dataset = TensorDataset(X_train_T_final, y_train_T)\n",
    "test_dataset = TensorDataset(X_test_T_final, y_test_T)\n",
    "\n",
    "# Create DataLoader for training and testing\n",
    "train_loader = DataLoader(train_dataset, batch_size=32, shuffle=True)\n",
    "test_loader = DataLoader(test_dataset, batch_size=32, shuffle=False)\n",
    "\n",
    "# Print the size of the datasets\n",
    "print(f'Training dataset size: {len(train_dataset)}')\n",
    "print(f'Testing dataset size: {len(test_dataset)}')"
   ]
  },
  {
   "cell_type": "code",
   "execution_count": 24,
   "metadata": {},
   "outputs": [],
   "source": [
    "# LSTM NETWORK -----------------------------------------------------------------\n",
    "class LSTM1(nn.Module):\n",
    "    def __init__(self, input_size, hidden_size, num_layers, num_classes, seq_length, device = device, dtype = dtype):\n",
    "        super(LSTM1, self).__init__()\n",
    "\n",
    "        self.input_size = input_size    # input size\n",
    "        self.hidden_size = hidden_size  # hidden state\n",
    "        self.num_layers = num_layers    # number of layers\n",
    "        self.num_classes = num_classes  # number of classes\n",
    "        self.seq_length = seq_length    # sequence length\n",
    "\n",
    "        # LSTM CELL --------------------------------\n",
    "        self.lstm = nn.LSTM(\n",
    "            input_size = input_size,    # The number of expected features in the input x\n",
    "            hidden_size = hidden_size,  # The number of features in the hidden state h\n",
    "            num_layers = num_layers,    # Number of recurrent layers for stacked LSTMs. Default: 1\n",
    "            batch_first = True,         # If True, then the input and output tensors are provided as (batch, seq, feature) instead of (seq, batch, feature). Default: False\n",
    "            bias = True,                # If False, then the layer does not use bias weights b_ih and b_hh. Default: True\n",
    "            dropout = 0.0,              # usually: [0.2 - 0.5] , If non-zero, introduces a Dropout layer on the outputs of each LSTM layer except the last layer, with dropout probability equal to dropout. Default: 0\n",
    "            bidirectional = False,      # If True, becomes a bidirectional LSTM. Default: False\n",
    "            proj_size = 0,              # If > 0, will use LSTM with projections of corresponding size. Default: 0\n",
    "            device = device, \n",
    "            dtype = dtype\n",
    "            ) \n",
    "        \n",
    "        self.fc_1 =  nn.Linear(hidden_size, 128)  # fully connected 1\n",
    "        self.fc = nn.Linear(128, num_classes)     # fully connected last layer\n",
    "        self.relu = nn.ReLU()\n",
    "    \n",
    "    def forward(self,input, batch_size = None):\n",
    "        # initial hidden and internal states\n",
    "        h_0 = torch.zeros(self.num_layers, input.size(0) if batch_size is None else batch_size, self.hidden_size)\n",
    "        c_0 = torch.zeros(self.num_layers, input.size(0) if batch_size is None else batch_size, self.hidden_size)\n",
    "\n",
    "        # Propagate input through LSTM\n",
    "        output, (hn, cn) = self.lstm(input, (h_0, c_0)) # lstm with input, hidden, and internal state\n",
    "        \n",
    "\n",
    "        out = self.relu(hn.view(-1, self.hidden_size)) # reshaping the data for Dense layer next\n",
    "        out = self.fc_1(out) # first Dense\n",
    "        out = self.relu(out) # relu\n",
    "        out = self.fc(out) # Final Output\n",
    "        \n",
    "        return out"
   ]
  },
  {
   "cell_type": "code",
   "execution_count": 25,
   "metadata": {},
   "outputs": [],
   "source": [
    "# CONFIGURATION -----------------------------------------------------------------\n",
    "\n",
    "# Device --------------------------------\n",
    "input_size = 5      # features\n",
    "hidden_size = 12    # features in hidden state\n",
    "num_layers = 1      # stacked lstm layers\n",
    "num_classes = 1     # output classes \n",
    "\n",
    "# Hyperparameters --------------------------------\n",
    "num_steps = 500 # 1000 epochs\n",
    "learning_rate = 1e-3 # 0.001 lr"
   ]
  },
  {
   "cell_type": "code",
   "execution_count": 26,
   "metadata": {},
   "outputs": [
    {
     "name": "stdout",
     "output_type": "stream",
     "text": [
      "LSTM1(\n",
      "  (lstm): LSTM(5, 12, batch_first=True)\n",
      "  (fc_1): Linear(in_features=12, out_features=128, bias=True)\n",
      "  (fc): Linear(in_features=128, out_features=1, bias=True)\n",
      "  (relu): ReLU()\n",
      ")\n",
      "\n",
      "Model state:\n",
      "lstm.weight_ih_l0: \ttorch.Size([48, 5])\n",
      "lstm.weight_hh_l0: \ttorch.Size([48, 12])\n",
      "lstm.bias_ih_l0: \ttorch.Size([48])\n",
      "lstm.bias_hh_l0: \ttorch.Size([48])\n",
      "fc_1.weight: \ttorch.Size([128, 12])\n",
      "fc_1.bias: \ttorch.Size([128])\n",
      "fc.weight: \ttorch.Size([1, 128])\n",
      "fc.bias: \ttorch.Size([1])\n"
     ]
    }
   ],
   "source": [
    "# INSTANTIATE MODEL -----------------------------------------------------------------\n",
    "model = LSTM1(input_size, hidden_size, num_layers, num_classes, X_train_T_final.shape[1], device=device).to(device)\n",
    "\n",
    "# Print model information\n",
    "print(model)\n",
    "\n",
    "print(f\"\\nModel state:\")\n",
    "for param_tensor in model.state_dict():\n",
    "    print(f\"{param_tensor}: \\t{model.state_dict()[param_tensor].shape}\")"
   ]
  },
  {
   "cell_type": "code",
   "execution_count": 27,
   "metadata": {},
   "outputs": [],
   "source": [
    "# OPTIMIZER -----------------------------------------------------------------\n",
    "optimizer = torch.optim.AdamW(\n",
    "    filter(lambda p: p.requires_grad, model.parameters()),       # iterable of parameters to optimize or dicts defining parameter groups\n",
    "    lr = learning_rate,       # learning rate (default: 1e-3)\n",
    "    betas = (0.9, 0.95),      # coefficients used for computing running averages of gradient and its square (default: (0.9, 0.999))\n",
    "    eps = 1e-8,               # term added to the denominator to improve numerical stability (default: 1e-8)\n",
    "    weight_decay = 1e-4       # weight decay coefficient (default: 1e-2)\n",
    ")"
   ]
  },
  {
   "cell_type": "code",
   "execution_count": 28,
   "metadata": {},
   "outputs": [],
   "source": [
    "# LOSS FUNCTION -----------------------------------------------------------------\n",
    "def loss_func(model_output, target):\n",
    "    criterion = F.mse_loss(model_output, target) # mean-squared error for regression\n",
    "    return criterion"
   ]
  },
  {
   "cell_type": "code",
   "execution_count": 29,
   "metadata": {},
   "outputs": [],
   "source": [
    "%%skip \n",
    "\n",
    "import wandb\n",
    "wandb.init(project=\"first_project\",     # track hyperparameters and run metadata\n",
    "    config={\n",
    "    \"learning_rate\": learning_rate,\n",
    "    \"epochs\": num_steps,\n",
    "    })\n",
    "\n",
    "wandb.watch(model)"
   ]
  },
  {
   "cell_type": "code",
   "execution_count": 30,
   "metadata": {},
   "outputs": [
    {
     "name": "stdout",
     "output_type": "stream",
     "text": [
      "Step: 1/500, loss: 0.237828\n"
     ]
    },
    {
     "name": "stdout",
     "output_type": "stream",
     "text": [
      "Step: 51/500, loss: 0.028108\n",
      "Step: 101/500, loss: 0.003964\n",
      "Step: 151/500, loss: 0.002650\n",
      "Step: 201/500, loss: 0.001907\n",
      "Step: 251/500, loss: 0.001071\n",
      "Step: 301/500, loss: 0.000786\n",
      "Step: 351/500, loss: 0.000666\n",
      "Step: 401/500, loss: 0.000601\n",
      "Step: 451/500, loss: 0.000561\n",
      "Step: 500/500, loss: 0.000533\n"
     ]
    }
   ],
   "source": [
    "# TRAINING -----------------------------------------------------------------\n",
    "train_losses = [] # collect loss\n",
    "model.train() # set model to training mode\n",
    "\n",
    "for step in range(num_steps):\n",
    "  # -----------------------\n",
    "  # forward pass, obtain loss function, apply backpropagation:\n",
    "\n",
    "  loss = loss_func(model.forward(X_train_T_final) , y_train_T)\n",
    "  loss.backward()\n",
    "\n",
    "  # -----------------------\n",
    "  # update model parameters and reset gradients:\n",
    "  #nn.utils.clip_grad_value_(model.parameters(), clip_value=1.0) # optional: Gradient Value Clipping\n",
    "  optimizer.step()\n",
    "  optimizer.zero_grad()\n",
    "\n",
    "  # -----------------------\n",
    "  # print stats:\n",
    "  if step % 50 == 0 or step == num_steps-1:\n",
    "    print(f\"Step: {step+1}/{num_steps}, loss: {loss.item():.6f}\")\n",
    "    \n",
    "  # -----------------------\n",
    "  #wandb.log({\"loss\": loss})\n",
    "  train_losses.append(loss.item())"
   ]
  },
  {
   "cell_type": "code",
   "execution_count": 31,
   "metadata": {},
   "outputs": [
    {
     "data": {
      "image/png": "[encoded data removed]",
      "text/plain": [
       "<Figure size 800x300 with 1 Axes>"
      ]
     },
     "metadata": {},
     "output_type": "display_data"
    }
   ],
   "source": [
    "# plot training performance:\n",
    "fig, ax1 = plt.subplots(figsize=(8,3))\n",
    "ax1.set_xlabel('Iteration')\n",
    "\n",
    "plt.plot(train_losses, label='train_loss')\n",
    "fig.tight_layout(); plt.legend();"
   ]
  },
  {
   "cell_type": "code",
   "execution_count": 32,
   "metadata": {},
   "outputs": [
    {
     "name": "stdout",
     "output_type": "stream",
     "text": [
      "Test Loss: 0.0696\n"
     ]
    }
   ],
   "source": [
    "# EVALUATION -----------------------------------------------------------------\n",
    "model.eval()    # set model to evaluation mode\n",
    "with torch.no_grad():\n",
    "    test_loss = loss_func(model(X_test_T_final), y_test_T)\n",
    "    print(f'Test Loss: {test_loss.item():.4f}')"
   ]
  },
  {
   "cell_type": "code",
   "execution_count": 33,
   "metadata": {},
   "outputs": [],
   "source": [
    "# convert complete (scaled) input sequence to a tensor:\n",
    "X_ss_T = torch.tensor(X_ss, dtype=dtype)\n",
    "\n",
    "# reshape tensor for forwarding to model\n",
    "X_ss_T = torch.reshape(X_ss_T, (X_ss_T.shape[0], 1, X_ss_T.shape[1]))"
   ]
  },
  {
   "cell_type": "code",
   "execution_count": 34,
   "metadata": {},
   "outputs": [],
   "source": [
    "# Test with complete sequence\n",
    "y_mm_pred = model(X_ss_T).data.cpu().numpy() # forward pass; outputs the predictions of the complete sequence"
   ]
  },
  {
   "cell_type": "code",
   "execution_count": 35,
   "metadata": {},
   "outputs": [],
   "source": [
    "# reverse transformations using the MinMaxScaler from above:\n",
    "y_pred = mm.inverse_transform(y_mm_pred) \n",
    "y_test = mm.inverse_transform(y_mm)"
   ]
  },
  {
   "cell_type": "code",
   "execution_count": 36,
   "metadata": {},
   "outputs": [
    {
     "data": {
      "image/png": "[encoded data removed]",
      "text/plain": [
       "<Figure size 1200x400 with 1 Axes>"
      ]
     },
     "metadata": {},
     "output_type": "display_data"
    }
   ],
   "source": [
    "# PLOT RESULTS -----------------------------------------------------------------\n",
    "plt.figure(figsize=(12,4)) \n",
    "plt.axvline(x=n_train, c='r', linestyle='--') # mark size of the training set\n",
    "\n",
    "plt.xlabel('Time in s')\n",
    "plt.ylabel('Battery Energy in kWh')\n",
    "\n",
    "plt.plot(y_test, label='Actual Data') # actual plot\n",
    "plt.plot(y_pred, label='Predicted Data') # predicted plot\n",
    "plt.title('Time-Series Prediction')\n",
    "plt.legend();"
   ]
  }
 ],
 "metadata": {
  "kernelspec": {
   "display_name": "Python 3",
   "language": "python",
   "name": "python3"
  },
  "language_info": {
   "codemirror_mode": {
    "name": "ipython",
    "version": 3
   },
   "file_extension": ".py",
   "mimetype": "text/x-python",
   "name": "python",
   "nbconvert_exporter": "python",
   "pygments_lexer": "ipython3",
   "version": "3.11.9"
  }
 },
 "nbformat": 4,
 "nbformat_minor": 2
}
