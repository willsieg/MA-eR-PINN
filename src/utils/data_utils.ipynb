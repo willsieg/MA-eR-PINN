{
 "cells": [
  {
   "cell_type": "markdown",
   "metadata": {},
   "source": [
    "EXAMPLES\n",
    "___"
   ]
  },
  {
   "cell_type": "code",
   "execution_count": 9,
   "metadata": {},
   "outputs": [
    {
     "name": "stdout",
     "output_type": "stream",
     "text": [
      "------------------------------------------------------------\n",
      "/home/sieglew/MA-Data:\t\tprocessed_resampled, TripFiles, __pycache__, processed_2, y_true, processed, processed_new\n",
      "/home/sieglew/MA-eR-PINN:\tproject, ref, test, data, src, .git, archive\n"
     ]
    }
   ],
   "source": [
    "# ------------ LOCATE REPOSITORY/DATASTORAGE IN CURRENT SYSTEM ENVIRONMENT  --------------\n",
    "import sys, os; from pathlib import Path                                                #|\n",
    "global ROOT, DATA_PATH, IS_NOTEBOOK; IS_NOTEBOOK = True                                 #|\n",
    "ROOT = Path('..', '..').resolve() if IS_NOTEBOOK else Path('.').resolve()               #|\n",
    "sys.path.append(os.path.abspath(ROOT))                                                  #|\n",
    "from data import get_data_path  # paths set in \"data/__init__.py\"                       #|\n",
    "DATA_PATH = get_data_path()                                                             #|\n",
    "print(f\"{'-'*60}\\n{DATA_PATH}:\\t\\t{', '.join([_.name for _ in DATA_PATH.glob('*/')])}\") #|\n",
    "print(f\"{ROOT}:\\t{', '.join([_.name for _ in ROOT.glob('*/')])}\")   \t                #|\n",
    "# ----------------------------------------------------------------------------------------"
   ]
  },
  {
   "cell_type": "code",
   "execution_count": 4,
   "metadata": {},
   "outputs": [],
   "source": [
    "# GET DIRECTORY CONTENS:\n",
    "\n",
    "# change to 'os.fspath' for full path name:\n",
    "parquet_folder = Path(DATA_PATH, 'processed_resampled')\n",
    "trips = [os.fspath(_) for _ in parquet_folder.iterdir() if str(_).endswith(\".parquet\")]\n",
    "\n",
    "pth_files = [os.path.basename(_) for _ in Path(ROOT, 'src', 'models', 'pth').iterdir() if str(_).endswith(\".pth\")]"
   ]
  },
  {
   "cell_type": "code",
   "execution_count": 5,
   "metadata": {},
   "outputs": [],
   "source": [
    "# Visualize a Trip\n",
    "from src.trip_analysis.show_trip_gps import show_trip_gps\n",
    "show_trip_gps(trips[0])"
   ]
  },
  {
   "cell_type": "code",
   "execution_count": 7,
   "metadata": {},
   "outputs": [
    {
     "name": "stdout",
     "output_type": "stream",
     "text": [
      "['signal_time', 'accelpdlposn_cval', 'actdrvtrnpwrprc_cval', 'actualdcvoltage_pti1', 'actualdcvoltage_pti2', 'actualspeed_pti1', 'actualspeed_pti2', 'actualtorque_pti1', 'actualtorque_pti2', 'airtempinsd_cval_hvac', 'airtempinsd_rq', 'airtempoutsd_cval_cpc', 'airtempoutsd_cval_sca', 'altitude_cval_ippc', 'ambtemp_cval_pt', 'brc_stat_brc1', 'brc_stat_brc2', 'brktempfa_cval', 'brktempra_cval', 'bs_brk_cval', 'bs_roadincln_cval', 'cc_actv_stat', 'cc_setspd_cval', 'chargestate', 'chrgcoupproxydet_stat', 'currgr_stat_edcu', 'currpwr_contendrnbrkresist2', 'currpwr_contendrnbrkresist_cval', 'currtmp_brkresist1int_cval', 'currtmp_brkresist2int_cval', 'diff', 'dsrdpwr_contendrn2_cval', 'dsrdpwr_contendrn_cval', 'edrvspd_cval', 'elcomp_pwrcons_cval', 'emot_pwr_cval', 'epto_pwr_cval', 'grocmbvehweight_cval', 'grshift_stat_pt', 'hirestotalvehdist_cval_cpc', 'hirestotalvehdist_cval_icuc', 'hv_bat_dc_maxvoltlim_cval', 'hv_bat_dc_minvoltlim_cval', 'hv_bat_dc_momvolt_cval_bms1', 'hv_bat_dc_volt_cval_bms1', 'hv_bat_intres_cval_bms1', 'hv_bat_soc_cval_bms1', 'hv_bat_soh_cval_bms1', 'hv_batavcelltemp_cval_bms1', 'hv_batcurr_cval_bms1', 'hv_bathighcelltemp_cval_bms1', 'hv_batisores_cval_e2e', 'hv_batlinkvoltage_sc01', 'hv_batlowcelltemp_cval_bms1', 'hv_batmaxchrgpwrlim_cval_1', 'hv_batmaxdischrgpwrlim_cval', 'hv_batmaxdischrgpwrlim_cval_1', 'hv_batmomavlchrgen_cval_bms1', 'hv_batmomavldischrgen_cval_1', 'hv_batpwr_cval_bms1', 'hv_chrgpwr_ecpc_cval', 'hv_curr_cval_dcl1', 'hv_dclink_volt_cval_brc', 'hv_dclink_volt_cval_brc2', 'hv_dclink_volt_cval_dcl1', 'hv_ptc2_pwr_cval', 'hv_ptc_cabin1_pwr_cval', 'hv_pwr_cval_dcl1', 'ignsw_stat_sca', 'inv1_curr_cval_api1', 'inv1_pwr_cval_api1', 'inv1_pwr_cval_api3', 'inv1_spd_cval_api1', 'inv2_curr_cval_api2', 'inv2_pwr_cval_api2', 'inv2_spd_cval_api2', 'latitude_cval_ippc', 'linkvoltage_bms05', 'longitude_cval_ippc', 'lv_conv_dc_momvolt_cval_dcl1', 'lv_conv_voltdmd_e2e_dcl1', 'lv_convcurr_cval_dcl1', 'lv_convmaxcurr_cval_dcl1', 'lv_convpwr_cval_dcl1', 'maproadgrad_cval', 'maxbrickvoltage_bms01', 'maxmoduletempindex_bms01', 'maxpwr_contendrnbrkresist2', 'maxpwr_contendrnbrkresist_cval', 'maxrecuppwrprc_cval', 'maxtracpwrpct_cval', 'meanmoduletemperature_bms01', 'minmoduletempindex_bms01', 'motortemperature_pti1', 'motortemperature_pti2', 'odometer', 'oiltemp_ra_cval', 'plugchrg_stat', 'powerstagetemperature_pti1', 'powerstagetemperature_pti2', 'pt4_dcb_hvdc_power_max_st3', 'pt4_dcb_temp1_st3', 'pt4_dcb_temp2_st3', 'rmsmotorcurrent_pti1', 'rmsmotorcurrent_pti2', 'roadgrad_cval_pt', 'selgr_rq_pt', 'signal_date', 'signal_ts', 'stringvoltage_bms01', 'txoiltemp_cval_tcm', 'vehicle_id', 'vehspd_cval_cpc', 'vehweight_cval_pt']\n",
      "<class 'pandas.core.frame.DataFrame'>\n",
      "RangeIndex: 1277 entries, 0 to 1276\n",
      "Columns: 114 entries, accelpdlposn_cval to vehweight_cval_pt\n",
      "dtypes: datetime64[ns](1), float64(113)\n",
      "memory usage: 1.1 MB\n"
     ]
    }
   ],
   "source": [
    "# Read Parquet file to DataFrame:\n",
    "import pandas as pd\n",
    "df = pd.read_parquet(trips[100])\n",
    "\n",
    "signal_names = list(df.columns)\n",
    "print(signal_names)   # show columns\n",
    "\n",
    "df.sort_index(axis=1, inplace=True) # sort columns\n",
    "df.info()                        # show DataFrame info"
   ]
  },
  {
   "cell_type": "code",
   "execution_count": 23,
   "metadata": {},
   "outputs": [
    {
     "data": {
      "text/html": [
       "<div>\n",
       "<style scoped>\n",
       "    .dataframe tbody tr th:only-of-type {\n",
       "        vertical-align: middle;\n",
       "    }\n",
       "\n",
       "    .dataframe tbody tr th {\n",
       "        vertical-align: top;\n",
       "    }\n",
       "\n",
       "    .dataframe thead th {\n",
       "        text-align: right;\n",
       "    }\n",
       "</style>\n",
       "<table border=\"1\" class=\"dataframe\">\n",
       "  <thead>\n",
       "    <tr style=\"text-align: right;\">\n",
       "      <th></th>\n",
       "      <th>signal_time</th>\n",
       "      <th>signal_date</th>\n",
       "      <th>signal_ts</th>\n",
       "    </tr>\n",
       "  </thead>\n",
       "  <tbody>\n",
       "    <tr>\n",
       "      <th>0</th>\n",
       "      <td>2022-01-17 05:37:00</td>\n",
       "      <td>NaN</td>\n",
       "      <td>1.642398e+15</td>\n",
       "    </tr>\n",
       "    <tr>\n",
       "      <th>1</th>\n",
       "      <td>2022-01-17 05:37:10</td>\n",
       "      <td>NaN</td>\n",
       "      <td>1.642398e+15</td>\n",
       "    </tr>\n",
       "    <tr>\n",
       "      <th>2</th>\n",
       "      <td>2022-01-17 05:37:20</td>\n",
       "      <td>NaN</td>\n",
       "      <td>1.642398e+15</td>\n",
       "    </tr>\n",
       "    <tr>\n",
       "      <th>3</th>\n",
       "      <td>2022-01-17 05:37:30</td>\n",
       "      <td>NaN</td>\n",
       "      <td>1.642398e+15</td>\n",
       "    </tr>\n",
       "    <tr>\n",
       "      <th>4</th>\n",
       "      <td>2022-01-17 05:37:40</td>\n",
       "      <td>NaN</td>\n",
       "      <td>1.642398e+15</td>\n",
       "    </tr>\n",
       "  </tbody>\n",
       "</table>\n",
       "</div>"
      ],
      "text/plain": [
       "          signal_time  signal_date     signal_ts\n",
       "0 2022-01-17 05:37:00          NaN  1.642398e+15\n",
       "1 2022-01-17 05:37:10          NaN  1.642398e+15\n",
       "2 2022-01-17 05:37:20          NaN  1.642398e+15\n",
       "3 2022-01-17 05:37:30          NaN  1.642398e+15\n",
       "4 2022-01-17 05:37:40          NaN  1.642398e+15"
      ]
     },
     "execution_count": 23,
     "metadata": {},
     "output_type": "execute_result"
    }
   ],
   "source": [
    "# show selected signals:\n",
    "df[['signal_time', 'signal_date', 'signal_ts']].head()"
   ]
  },
  {
   "cell_type": "code",
   "execution_count": null,
   "metadata": {},
   "outputs": [],
   "source": []
  }
 ],
 "metadata": {
  "kernelspec": {
   "display_name": "Python 3",
   "language": "python",
   "name": "python3"
  },
  "language_info": {
   "codemirror_mode": {
    "name": "ipython",
    "version": 3
   },
   "file_extension": ".py",
   "mimetype": "text/x-python",
   "name": "python",
   "nbconvert_exporter": "python",
   "pygments_lexer": "ipython3",
   "version": "3.11.0rc1"
  }
 },
 "nbformat": 4,
 "nbformat_minor": 2
}
