{
 "cells": [
  {
   "cell_type": "code",
   "execution_count": 1,
   "id": "9cfaf8cc",
   "metadata": {},
   "outputs": [],
   "source": [
    "%reset -f -s\n",
    "%matplotlib inline\n",
    "'''------------------------------------------------------------------\n",
    "MA-eR-PINN: eRange Prediction using Physics-Informed Neural Networks\n",
    "---------------------------------------------------------------------\n",
    "Version: V2.1      Modified: 15.01.2025        William Siegle\n",
    "---------------------------------------------------------------------\n",
    "PTRAIN - Standard Pipeline Framework for Training the PINN\n",
    "+ OPTUNA - Hyperparameter Optimization using Optuna\n",
    "------------------------------------------------------------------''';"
   ]
  },
  {
   "cell_type": "code",
   "execution_count": 2,
   "id": "55581895",
   "metadata": {},
   "outputs": [],
   "source": [
    "# MA-eR-PINN: CONFIGURATION FILE -------------------------------------------------\n",
    "from pathlib import Path\n",
    "CONFIG = {\n",
    "    # SYSTEM: ---------------------------------------------------------------------\n",
    "    \"GPU_SELECT\":       0,\n",
    "    \"ROOT\":             Path('../..').resolve(),\n",
    "    \"INPUT_LOCATION\":   Path(\"TripSequences\", \"trips_processed_pinn_4\"), \n",
    "    \"OUTPUT_LOCATION\":  Path(\"src\", \"models\", \"pth\"),\n",
    "    \"SEED\"  :           18,\n",
    "    \"MIXED_PRECISION\":  False,\n",
    "\n",
    "    # DATA PREPROCESSING: ---------------------------------------------------------\n",
    "    \"TRAIN_VAL_TEST\":   [0.7, 0.15, 0.15], # [train, val, test splits]\n",
    "    \"MAX_FILES\":        None, # None: all files\n",
    "    \"MIN_SEQ_LENGTH\":   600, # minimum sequence length in s to be included in DataSets\n",
    "    \"SCALERS\":          {'feature_scaler': 'MinMaxScaler()','target_scaler': 'MinMaxScaler()','prior_scaler': 'MinMaxScaler()'},\n",
    "\n",
    "    # FEATURES: -------------------------------------------------------------------\n",
    "    \"FEATURES\":         ['accelpdlposn_cval','actdrvtrnpwrprc_cval','actualdcvoltage_pti1','actualspeed_pti1','actualtorque_pti1',\n",
    "                        'airtempinsd_cval_hvac','airtempinsd_rq','airtempoutsd_cval_cpc','altitude_cval_ippc','brc_stat_brc1','brktempra_cval',\n",
    "                        'bs_brk_cval','currpwr_contendrnbrkresist_cval','elcomp_pwrcons_cval','epto_pwr_cval','hv_bat_dc_momvolt_cval_bms1',\n",
    "                        'hv_batavcelltemp_cval_bms1','hv_batcurr_cval_bms1','hv_batisores_cval_e2e','hv_batmaxchrgpwrlim_cval_1',\n",
    "                        'hv_batmaxdischrgpwrlim_cval_1','hv_curr_cval_dcl1','hv_dclink_volt_cval_dcl1','hv_ptc_cabin1_pwr_cval','hv_pwr_cval_dcl1',\n",
    "                        'lv_convpwr_cval_dcl1','maxrecuppwrprc_cval','maxtracpwrpct_cval','motortemperature_pti1','powerstagetemperature_pti1',\n",
    "                        'rmsmotorcurrent_pti1','roadgrad_cval_pt','selgr_rq_pt','start_soc','txoiltemp_cval_tcm','vehspd_cval_cpc','vehweight_cval_pt'],                 \n",
    "    \"TARGETS\":          ['hv_bat_soc_cval_bms1'],\n",
    "    \"PRIORS\":           ['emot_soc_pred'],  \n",
    "\n",
    "    # MODEL: -----------------------------------------------------------------------\n",
    "    \"HIDDEN_SIZE\":      180,    # features in the hidden state h\n",
    "    \"NUM_LAYERS\":       6,      # recurrent layers for stacked LSTMs. Default: 1\n",
    "    \"DROPOUT\":          0.15,   # usually: [0.2 - 0.5]\n",
    "    \n",
    "    # TRAINING & OPTIMIZER: --------------------------------------------------------\n",
    "    \"NUM_EPOCHS\":       30,         # max epochs\n",
    "    \"BATCH_SIZE\":       16,         # [2, 4, 8, 16, 32, 64, 128, 256]\n",
    "    \"LEARNING_RATE\":    0.0003,       # 0.001 lr\n",
    "    \"OPTIMIZER\":        'adam',    # ('adam', 'sgd', 'adamw')\n",
    "    \"WEIGHT_DECAY\":     1e-7,       # weight decay coefficient (default: 1e-2)\n",
    "    \"WEIGHT_INIT_TYPE\": 'he',  # ('he', 'normal', 'default')\n",
    "    \"CLIP_GRAD\":        10,        # default: None\n",
    "    \"LRSCHEDULER\":      \"torch.optim.lr_scheduler.LambdaLR(optimizer, lr_lambda=lr_lambda)\",  # constant LR for 1.0 as multiplicative factor\n",
    "\n",
    "    # LOSS FUNCTION: ---------------------------------------------------------------\n",
    "    \"LPSCHEDULER\":      \"ParameterScheduler(initial_value=0.0, schedule_type='constant', absolute_reduction=-0.0002)\",\n",
    "    #       'constant': [], 'time_based': ['decay_rate'], 'step_based': ['drop_rate', 'epochs_drop'], 'exponential': ['decay_rate'], 'linear': ['absolute_reduction'], \n",
    "    #       'cosine_annealing': ['total_epochs'], 'cyclic': ['base_lr', 'max_lr', 'step_size']\n",
    "\n",
    "}"
   ]
  },
  {
   "cell_type": "code",
   "execution_count": 3,
   "id": "222d1780",
   "metadata": {},
   "outputs": [],
   "source": [
    "# LOSS FUNCTION MODULES ----------------------------------------------------------------  \n",
    "global LOSS_FN\n",
    "from torch import nn\n",
    "\n",
    "class CustomLoss(nn.Module):\n",
    "    def __init__(self):\n",
    "        super(CustomLoss, self).__init__()\n",
    "        self.mse_loss = nn.MSELoss()\n",
    "        \n",
    "    def forward(self, y_pred, y_true, y_phys, l_p):\n",
    "        mse_loss_value = self.mse_loss(y_pred, y_true)                      # loss w.r.t. data\n",
    "        phys_loss_value = self.mse_loss(y_pred, y_phys)                     # loss w.r.t. physical model\n",
    "        total_loss = (1 - l_p) * mse_loss_value + l_p * phys_loss_value     # total loss, weighted by l_p-factor\n",
    "        return total_loss\n",
    "\n",
    "LOSS_FN = CustomLoss()"
   ]
  },
  {
   "cell_type": "markdown",
   "id": "1a5c4680",
   "metadata": {},
   "source": [
    "___\n",
    "SETUP: Locate devices & system folders"
   ]
  },
  {
   "cell_type": "code",
   "execution_count": 4,
   "id": "7924eab4",
   "metadata": {},
   "outputs": [
    {
     "name": "stdout",
     "output_type": "stream",
     "text": [
      "/home/sieglew/MA-eR-PINN\n"
     ]
    },
    {
     "name": "stdout",
     "output_type": "stream",
     "text": [
      "------------------------------------------------------------\n",
      "Directories:\n",
      "  /home/sieglew/MA-eR-PINN:\t\t\ttest, .git, archive, project, data, src\n",
      "  /mnt/nvme/datasets/sieglew:\t\t\tTripSequences\n",
      "------------------------------------------------------------\n",
      "Running in notebook mode\n",
      "CONFIG Dictionary:\n",
      "---------------------------------------------------------------------------------------------------------------------------------\n",
      "     Parameter         Value\n",
      "--  ----------------  ---------------------------------------------------------------------------------------------------------\n",
      "0   GPU_SELECT        0\n",
      "1   ROOT              /home/sieglew/MA-eR-PINN\n",
      "2   INPUT_LOCATION    TripSequences/trips_processed_pinn_4\n",
      "3   OUTPUT_LOCATION   src/models/pth\n",
      "4   SEED              18\n",
      "5   MIXED_PRECISION   False\n",
      "6   TRAIN_VAL_TEST    [0.7, 0.15, 0.15]\n",
      "7   MAX_FILES         None\n",
      "8   MIN_SEQ_LENGTH    600\n",
      "9   SCALERS           {'feature_scaler': 'MinMaxScaler()', 'target_scaler': 'MinMaxScaler()', 'prior_scaler': 'MinMaxScaler()'}\n",
      "10  FEATURES          ['accelpdlposn_cval',\n",
      "                       'actdrvtrnpwrprc_cval',\n",
      "                       'actualdcvoltage_pti1',\n",
      "                       'actualspeed_pti1',\n",
      "                       'actualtorque_pti1',\n",
      "                       'airtempinsd_cval_hvac',\n",
      "                       'airtempinsd_rq',\n",
      "                       'airtempoutsd_cval_cpc',\n",
      "                       'altitude_cval_ippc',\n",
      "                       'brc_stat_brc1',\n",
      "                       'brktempra_cval',\n",
      "                       'bs_brk_cval',\n",
      "                       'currpwr_contendrnbrkresist_cval',\n",
      "                       'elcomp_pwrcons_cval',\n",
      "                       'epto_pwr_cval',\n",
      "                       'hv_bat_dc_momvolt_cval_bms1',\n",
      "                       'hv_batavcelltemp_cval_bms1',\n",
      "                       'hv_batcurr_cval_bms1',\n",
      "                       'hv_batisores_cval_e2e',\n",
      "                       'hv_batmaxchrgpwrlim_cval_1',\n",
      "                       'hv_batmaxdischrgpwrlim_cval_1',\n",
      "                       'hv_curr_cval_dcl1',\n",
      "                       'hv_dclink_volt_cval_dcl1',\n",
      "                       'hv_ptc_cabin1_pwr_cval',\n",
      "                       'hv_pwr_cval_dcl1',\n",
      "                       'lv_convpwr_cval_dcl1',\n",
      "                       'maxrecuppwrprc_cval',\n",
      "                       'maxtracpwrpct_cval',\n",
      "                       'motortemperature_pti1',\n",
      "                       'powerstagetemperature_pti1',\n",
      "                       'rmsmotorcurrent_pti1',\n",
      "                       'roadgrad_cval_pt',\n",
      "                       'selgr_rq_pt',\n",
      "                       'start_soc',\n",
      "                       'txoiltemp_cval_tcm',\n",
      "                       'vehspd_cval_cpc',\n",
      "                       'vehweight_cval_pt']\n",
      "11  TARGETS           ['hv_bat_soc_cval_bms1']\n",
      "12  PRIORS            ['emot_soc_pred']\n",
      "13  HIDDEN_SIZE       180\n",
      "14  NUM_LAYERS        6\n",
      "15  DROPOUT           0.15\n",
      "16  NUM_EPOCHS        30\n",
      "17  BATCH_SIZE        16\n",
      "18  LEARNING_RATE     0.0003\n",
      "19  OPTIMIZER         adam\n",
      "20  WEIGHT_DECAY      1e-07\n",
      "21  WEIGHT_INIT_TYPE  he\n",
      "22  CLIP_GRAD         10\n",
      "23  LRSCHEDULER       torch.optim.lr_scheduler.LambdaLR(optimizer, lr_lambda=lr_lambda)\n",
      "24  LPSCHEDULER       ParameterScheduler(initial_value=0.0, schedule_type='constant', absolute_reduction=-0.0002) \n",
      "---------------------------------------------------------------------------------------------------------------------------------\n",
      "\n",
      "Torch version:  2.5.1+cu124\n",
      "Using: -->  CUDA:0\n",
      "Timestamp: 250119_185033\n",
      "------------------------------------------------------------\n",
      "Total Files:\t6626\n",
      "Filtered Files:\t6626\n",
      "------------------------------------------------------------\n",
      "               FileName  Length  Index\n",
      "0       V13_T25.parquet   20843   3868\n",
      "1      V13_T352.parquet   18308   3630\n",
      "2     V18_T1224.parquet   16645   5939\n",
      "3      V101_T37.parquet   16591   4718\n",
      "4      V13_T486.parquet   16434   3811\n",
      "...                 ...     ...    ...\n",
      "6621  V17_T4757.parquet     645   2031\n",
      "6622  V14_T1967.parquet     643   5314\n",
      "6623    V4_T260.parquet     636   4530\n",
      "6624    V4_T244.parquet     628   3798\n",
      "6625  V14_T2036.parquet     625   3635\n",
      "\n",
      "[6626 rows x 3 columns]\n"
     ]
    }
   ],
   "source": [
    "# LOCATE REPOSITORY/DATASTORAGE IN CURRENT SYSTEM ENVIRONMENT  ---------------------------\n",
    "import sys, os\n",
    "for key in CONFIG: globals()[key] = CONFIG[key]\n",
    "if 'ROOT' not in globals(): ROOT = Path('../..').resolve()\n",
    "sys.path.append(os.path.abspath(ROOT)); print(ROOT)\n",
    "\n",
    "# INTERNAL MODULE IMPORTS ----------------------------------------------------------------\n",
    "from src.__init__ import *\n",
    "from src.utils.data_utils import *\n",
    "from src.utils.preprocess_utils import *\n",
    "from src.utils.eval_utils import *\n",
    "from src.utils.Trainers import *\n",
    "from src.utils.scheduler_utils import *\n",
    "from src.models.lstm_models import *\n",
    "\n",
    "# SETUP ENVIRONMENT ---------------------------------------------------------------------\n",
    "DATA_PATH, IS_NOTEBOOK, DEVICE, LOG_FILE_NAME, TS = setup_environment(CONFIG, ROOT, SEED, GPU_SELECT)\n",
    "if not IS_NOTEBOOK: output_file = open(f\"{LOG_FILE_NAME}\", \"w\"); sys.stdout = Tee(sys.stdout, output_file); sys.stderr = Tee(sys.stderr, output_file)\n",
    "\n",
    "# FILE SOURCES ---------------------------------------------------------------\n",
    "input_folder = Path(DATA_PATH, INPUT_LOCATION) # Trip parquet files\n",
    "pth_folder = Path(ROOT, OUTPUT_LOCATION, f\"{TS}\")\n",
    "pth_folder.mkdir(parents=True, exist_ok=True)\n",
    "files, trip_lengths, indices_by_length, sorted_trip_lengths, all_signals = prepare_data(input_folder, pth_folder, MAX_FILES, MIN_SEQ_LENGTH, ROOT)"
   ]
  },
  {
   "cell_type": "markdown",
   "id": "8f1963d1",
   "metadata": {},
   "source": [
    "___\n",
    "DATA SELECTION & PREPROCESSING"
   ]
  },
  {
   "cell_type": "code",
   "execution_count": 5,
   "id": "6bb0b2cd",
   "metadata": {},
   "outputs": [
    {
     "name": "stdout",
     "output_type": "stream",
     "text": [
      "------------------------------------------------------------\n",
      "Input Signals:\t37\n",
      "Target Signals:\t1\n",
      "Physical Prior Signals:\t1\n",
      "------------------------------------------------------------\n"
     ]
    },
    {
     "name": "stdout",
     "output_type": "stream",
     "text": [
      " --> Warning: Removed the last 15 samples to ensure a balanced batch size\n",
      "fitting Scalers: MinMaxScaler, MinMaxScaler, MinMaxScaler\n",
      "\t50% of the fitting done...\n",
      "Done. Create DataSets and DataLoaders...\n",
      "\tNumber of batches created: 289\n",
      "\tNumber of batches created: 63\n",
      "\t --> Warning: Removed the shortest batch with size 1\n",
      "\tNumber of batches created: 62\n",
      "------------------------------------------------------------\n",
      "Train size:  22047922\t\t(Files: 4624)\n",
      "Val. size:   4779129\t\t(Files: 994)\n",
      "Test size:   4635097\t\t(Files: 993) \n",
      " ------------------------------------------------------------\n",
      "\tRemoved 15 file from the dataset\n",
      "------------------------------------------------------------\n"
     ]
    }
   ],
   "source": [
    "# FEATURE SELECTION & SCALING ----------------------------------------------------------------------------\n",
    "INPUT_COLUMNS = FEATURES; TARGET_COLUMN = TARGETS; PRIOR_COLUMN = PRIORS\n",
    "print(f\"{'-'*60}\\nInput Signals:\\t{len(FEATURES)}\\nTarget Signals:\\t{len(TARGETS)}\\nPhysical Prior Signals:\\t{len(PRIORS)}\\n{'-'*60}\")\n",
    "scaler, target_scaler, prior_scaler = eval(SCALERS['feature_scaler']), eval(SCALERS['target_scaler']), eval(SCALERS['prior_scaler'])\n",
    "\n",
    "# DATA SET SPLITTING AND SORTING ----------------------------------------------------------------\n",
    "train_subset, val_subset, test_subset = random_split(files, TRAIN_VAL_TEST)\n",
    "\n",
    "# DATALOADER SETTINGS ------------------------------------------------------------------\n",
    "dataloader_settings = {'batch_size': 1, 'shuffle': True, 'collate_fn': collate_fn_PINN, 'num_workers': 8,\n",
    " 'prefetch_factor': 4, 'persistent_workers': True, 'pin_memory': False if DEVICE.type == 'cpu' else True}\n",
    "\n",
    "# PREPARE TRAIN, VAL & TEST DATALOADERS  ------------------------------------------------------------\n",
    "train_subset, train_dataset, train_dataset_batches, train_loader = prepare_dataloader_PINN(train_subset, indices_by_length, \\\n",
    "    BATCH_SIZE, INPUT_COLUMNS, TARGET_COLUMN, PRIOR_COLUMN, scaler, target_scaler, prior_scaler, dataloader_settings, fit=True, drop_last=True)\n",
    "\n",
    "val_subset, val_dataset, val_dataset_batches, val_loader = prepare_dataloader_PINN(val_subset, indices_by_length, \\\n",
    "    BATCH_SIZE, INPUT_COLUMNS, TARGET_COLUMN, PRIOR_COLUMN, scaler, target_scaler, prior_scaler, dataloader_settings, drop_last=False)\n",
    "\n",
    "test_subset, test_dataset, test_dataset_batches, test_loader = prepare_dataloader_PINN(test_subset, indices_by_length, \\\n",
    "    BATCH_SIZE, INPUT_COLUMNS, TARGET_COLUMN, PRIOR_COLUMN, scaler, target_scaler, prior_scaler, dataloader_settings, drop_last=False)\n",
    "\n",
    "# print dataset info\n",
    "subset_files = print_dataset_sizes(train_dataset, val_dataset, test_dataset, train_subset, val_subset, test_subset, files)\n",
    "\n",
    "# -----------------------------------------------------------------------------------\n",
    "# Load dataloaders instead\n",
    "#train_loader = torch.load('train_loader.pth')\n",
    "#val_loader = torch.load('val_loader.pth')\n",
    "#test_loader = torch.load('test_loader.pth')\n",
    "\n",
    "# optional visualizations of padding preprocessing:\n",
    "if IS_NOTEBOOK and False: \n",
    "    check_batch_PINN(train_loader)\n",
    "    visualize_padding(BATCH_SIZE, trip_lengths, sorted_trip_lengths, train_loader, val_loader, test_loader)"
   ]
  },
  {
   "cell_type": "markdown",
   "id": "51c3fe74",
   "metadata": {},
   "source": [
    "___\n",
    "MODEL & TRAINING CONFIGURATIONS"
   ]
  },
  {
   "cell_type": "code",
   "execution_count": 6,
   "id": "15ef486f",
   "metadata": {},
   "outputs": [],
   "source": [
    "# LSTM NETWORK -----------------------------------------------------------------------\n",
    "\n",
    "class LSTM1_packed_old_version(nn.Module):\n",
    "    def __init__(self, input_size, hidden_size, num_layers, dropout, device=DEVICE):\n",
    "        super(LSTM1_packed_old_version, self).__init__()\n",
    "        # LSTM CELL --------------------------------\n",
    "        self.lstm = nn.LSTM(input_size,hidden_size,num_layers,batch_first=True,dropout=0,device=device)\n",
    "        # LAYERS -----------------------------------\n",
    "        self.dropout_layer = nn.Dropout(dropout)\n",
    "        self.fc1 = nn.Linear(hidden_size, hidden_size // 2)\n",
    "        self.bn1 = nn.BatchNorm1d(hidden_size // 2)\n",
    "        self.fc2 = nn.Linear(hidden_size // 2, 1)\n",
    "        self.relu = nn.ReLU()\n",
    "\n",
    "    def forward(self, packed_input, batch_size=None):\n",
    "        packed_out, _ = self.lstm(packed_input)\n",
    "        out, _ = pad_packed_sequence(packed_out, batch_first=True)\n",
    "        out = self.relu(out)  # relu\n",
    "        out = self.dropout_layer(out)  # dropout\n",
    "        out = self.fc1(out)  # fully connected layer 1\n",
    "        out = self.bn1(out.transpose(1, 2)).transpose(1, 2)\n",
    "        out = self.relu(out)  # relu\n",
    "        out = self.fc2(out)  # fully connected layer 2\n",
    "        return out\n",
    "\n",
    "    # Define the weight initialization function for LSTM and other layers\n",
    "    def initialize_weights_lstm(self, init_type):\n",
    "        for name, param in self.named_parameters():\n",
    "            if 'weight_ih' in name or 'weight_hh' in name:\n",
    "                if init_type == 'he': nn.init.kaiming_uniform_(param.data, nonlinearity='relu')  # HE INIT\n",
    "                elif init_type == 'normal': nn.init.normal_(param.data, mean=0.0, std=0.02)  # NORMAL INIT\n",
    "                elif init_type == 'default': continue  # TORCH DEFAULT INIT\n",
    "            elif 'weight' in name:\n",
    "                if param.dim() >= 2:  # Ensure the tensor has at least 2 dimensions\n",
    "                    if init_type == 'he': nn.init.kaiming_uniform_(param.data, nonlinearity='relu')  # HE INIT for FC layers\n",
    "                    elif init_type == 'normal': nn.init.normal_(param.data, mean=0.0, std=0.02)  # NORMAL INIT for FC layers\n",
    "                    elif init_type == 'default': continue  # TORCH DEFAULT INIT\n",
    "            elif 'bias' in name and init_type != 'default': nn.init.constant_(param.data, 0)  # Initialize biases to 0\n",
    "\n",
    "class DeepLSTM_v2(nn.Module):\n",
    "    def __init__(self, input_size, hidden_size, num_layers, dropout, device=DEVICE):\n",
    "        super(DeepLSTM_v2, self).__init__()\n",
    "\n",
    "        self.lstm = nn.LSTM(input_size,hidden_size,num_layers,batch_first=True,dropout=0,device=device) # LSTM Dropout = 0 !\n",
    "        self.dropout_layer = nn.Dropout(dropout)\n",
    "        self.fc1 = nn.Linear(hidden_size, hidden_size // 2)\n",
    "        self.bn1 = nn.BatchNorm1d(hidden_size // 2)\n",
    "        self.fc2 = nn.Linear(hidden_size // 2, hidden_size // 4)\n",
    "        self.bn2 = nn.BatchNorm1d(hidden_size // 4)\n",
    "        self.fc3 = nn.Linear(hidden_size // 4, 1)\n",
    "        self.relu = nn.ReLU()\n",
    "\n",
    "    def forward(self, packed_input, batch_size=None):\n",
    "        packed_out, _ = self.lstm(packed_input)\n",
    "        out, _ = pad_packed_sequence(packed_out, batch_first=True)\n",
    "        out = self.relu(out)\n",
    "        out = self.dropout_layer(out)\n",
    "        out = self.fc1(out)\n",
    "        out = self.bn1(out.transpose(1, 2)).transpose(1, 2)\n",
    "        out = self.relu(out)\n",
    "        out = self.fc2(out)\n",
    "        out = self.bn2(out.transpose(1, 2)).transpose(1, 2)\n",
    "        out = self.relu(out)\n",
    "        out = self.fc3(out)\n",
    "        return out\n",
    "\n",
    "    # Define the weight initialization function for LSTM and other layers\n",
    "    def initialize_weights_lstm(self, init_type):\n",
    "        for name, param in self.named_parameters():\n",
    "            if 'weight_ih' in name or 'weight_hh' in name:\n",
    "                if init_type == 'he': nn.init.kaiming_uniform_(param.data, nonlinearity='relu')  # HE INIT\n",
    "                elif init_type == 'normal': nn.init.normal_(param.data, mean=0.0, std=0.02)  # NORMAL INIT\n",
    "                elif init_type == 'default': continue  # TORCH DEFAULT INIT\n",
    "            elif 'weight' in name:\n",
    "                if param.dim() >= 2:  # Ensure the tensor has at least 2 dimensions\n",
    "                    if init_type == 'he': nn.init.kaiming_uniform_(param.data, nonlinearity='relu')  # HE INIT for FC layers\n",
    "                    elif init_type == 'normal': nn.init.normal_(param.data, mean=0.0, std=0.02)  # NORMAL INIT for FC layers\n",
    "                    elif init_type == 'default': continue  # TORCH DEFAULT INIT\n",
    "            elif 'bias' in name and init_type != 'default': nn.init.constant_(param.data, 0)  # Initialize biases to 0\n",
    "\n",
    "class DeepLSTM_v3(nn.Module):\n",
    "    def __init__(self, input_size, hidden_size, num_layers, dropout, device='cpu'):\n",
    "        super(DeepLSTM_v3, self).__init__()\n",
    "\n",
    "        self.lstm = nn.LSTM(input_size, hidden_size, num_layers, batch_first=True, dropout=0, device=device)  # LSTM Dropout = 0 !\n",
    "        self.dropout_layer = nn.Dropout(dropout)\n",
    "        self.fc1 = nn.Linear(hidden_size, hidden_size * 2)\n",
    "        self.bn1 = nn.BatchNorm1d(hidden_size * 2)\n",
    "        self.fc2 = nn.Linear(hidden_size * 2, hidden_size)\n",
    "        self.bn2 = nn.BatchNorm1d(hidden_size)\n",
    "        self.fc3 = nn.Linear(hidden_size, hidden_size // 2)\n",
    "        self.bn3 = nn.BatchNorm1d(hidden_size // 2)\n",
    "        self.fc4 = nn.Linear(hidden_size // 2, 1)\n",
    "        self.relu = nn.ReLU()\n",
    "\n",
    "    def forward(self, packed_input, batch_size=None):\n",
    "        packed_out, _ = self.lstm(packed_input)\n",
    "        out, _ = pad_packed_sequence(packed_out, batch_first=True)\n",
    "        out = self.relu(out)\n",
    "        out = self.dropout_layer(out)\n",
    "        out = self.fc1(out)\n",
    "        out = self.bn1(out.transpose(1, 2)).transpose(1, 2)\n",
    "        out = self.relu(out)\n",
    "        out = self.fc2(out)\n",
    "        out = self.bn2(out.transpose(1, 2)).transpose(1, 2)\n",
    "        out = self.relu(out)\n",
    "        out = self.fc3(out)\n",
    "        out = self.bn3(out.transpose(1, 2)).transpose(1, 2)\n",
    "        out = self.relu(out)\n",
    "        out = self.fc4(out)\n",
    "        return out\n",
    "\n",
    "    # Define the weight initialization function for LSTM and other layers\n",
    "    def initialize_weights_lstm(self, init_type):\n",
    "        for name, param in self.named_parameters():\n",
    "            if 'weight_ih' in name or 'weight_hh' in name:\n",
    "                if init_type == 'he': nn.init.kaiming_uniform_(param.data, nonlinearity='relu')  # HE INIT\n",
    "                elif init_type == 'normal': nn.init.normal_(param.data, mean=0.0, std=0.02)  # NORMAL INIT\n",
    "                elif init_type == 'default': continue  # TORCH DEFAULT INIT\n",
    "            elif 'weight' in name:\n",
    "                if param.dim() >= 2:  # Ensure the tensor has at least 2 dimensions\n",
    "                    if init_type == 'he': nn.init.kaiming_uniform_(param.data, nonlinearity='relu')  # HE INIT for FC layers\n",
    "                    elif init_type == 'normal': nn.init.normal_(param.data, mean=0.0, std=0.02)  # NORMAL INIT for FC layers\n",
    "                    elif init_type == 'default': continue  # TORCH DEFAULT INIT\n",
    "            elif 'bias' in name and init_type != 'default': nn.init.constant_(param.data, 0)  # Initialize biases to 0"
   ]
  },
  {
   "cell_type": "markdown",
   "id": "1ac0d8b3",
   "metadata": {},
   "source": [
    "___\n",
    "TRAINING"
   ]
  },
  {
   "cell_type": "code",
   "execution_count": 7,
   "id": "ef9c4426",
   "metadata": {},
   "outputs": [
    {
     "name": "stdout",
     "output_type": "stream",
     "text": [
      "------------------------------------------------------------\n",
      "Training Started.\tProcess ID: 3992372 \n",
      "------------------------------------------------------------\n",
      "Model: DeepLSTM_v3\tParameters on device: CUDA:0\n",
      "------------------------------------------------------------\n",
      "Train/Batch size:\t289 / 289\n",
      "Loss:\t\t\tCustomLoss(\n",
      "  (mse_loss): MSELoss()\n",
      ")\n",
      "Optimizer:\t\tAdam\n",
      "LR:\t\t\t0.0003\n",
      "Weight Decay:\t\t1e-07\n",
      "------------------------------------------------------------\n"
     ]
    },
    {
     "data": {
      "text/html": [
       "<div id=\"scrollable_table\" style=\"height: 300px; overflow-y: scroll;\">\n",
       "    <table id=\"training_table\" style=\"width:60%; border-collapse: collapse;\">\n",
       "        <thead style=\"position: sticky; top: 0; z-index: 1;\">\n",
       "            <tr>\n",
       "                <th style=\"font-weight:bold; width:15%; text-align:left; padding: 10px; background-color: #404040;\">Epoch</th>\n",
       "                <th style=\"font-weight:bold; width:25%; text-align:left; padding: 10px; background-color: #404040;\">Iteration</th>\n",
       "                <th style=\"font-weight:bold; width:30%; text-align:left; padding: 10px; background-color: #404040;\">Batch Loss</th>\n",
       "                <th style=\"font-weight:bold; width:30%; text-align:left; padding: 10px; background-color: #404040;\">Train Loss</th>\n",
       "            </tr>\n",
       "        </thead>\n",
       "        <tbody>\n",
       "        </tbody>\n",
       "    </table>\n",
       "    <script>\n",
       "        function addRow(epoch, step, loss, running_loss) {\n",
       "            var table = document.getElementById(\"training_table\").getElementsByTagName('tbody')[0];\n",
       "            var row = table.insertRow(-1);\n",
       "            var cell1 = row.insertCell(0);\n",
       "            var cell2 = row.insertCell(1);\n",
       "            var cell3 = row.insertCell(2);\n",
       "            var cell4 = row.insertCell(3);\n",
       "            cell1.style.textAlign = \"left\";\n",
       "            cell2.style.textAlign = \"left\";\n",
       "            cell3.style.textAlign = \"left\";\n",
       "            cell4.style.textAlign = \"left\";\n",
       "            cell1.innerHTML = epoch;\n",
       "            cell2.innerHTML = step;\n",
       "            cell3.innerHTML = loss;\n",
       "            cell4.innerHTML = running_loss;\n",
       "            var scrollableDiv = document.getElementById(\"scrollable_table\");\n",
       "            scrollableDiv.scrollTop = scrollableDiv.scrollHeight;\n",
       "        }\n",
       "    </script>\n",
       "    </div>"
      ]
     },
     "metadata": {},
     "output_type": "display_data"
    },
    {
     "data": {
      "application/vnd.jupyter.widget-view+json": {
       "model_id": "f3a2e041294a42728febf125da3047f2",
       "version_major": 2,
       "version_minor": 0
      },
      "text/plain": [
       "  0%|          | 0/289 [00:00<?, ?batch/s]"
      ]
     },
     "metadata": {},
     "output_type": "display_data"
    },
    {
     "data": {
      "text/html": [
       "<script>addRow(\"<b>1/30\", \"1/289\", \"0.847081\", \"\");</script>"
      ]
     },
     "metadata": {},
     "output_type": "display_data"
    },
    {
     "data": {
      "text/html": [
       "<script>addRow(\"\", \"289\", \"0.014930\", \"<b>0.049312\");</script>"
      ]
     },
     "metadata": {},
     "output_type": "display_data"
    },
    {
     "data": {
      "text/html": [
       "<script>addRow(\"<b>Val\", \"Validation Loss:\", \"<b>0.003545\", \"\");</script>"
      ]
     },
     "metadata": {},
     "output_type": "display_data"
    },
    {
     "data": {
      "application/vnd.jupyter.widget-view+json": {
       "model_id": "d703f57d077740329d09b20262d78de5",
       "version_major": 2,
       "version_minor": 0
      },
      "text/plain": [
       "  0%|          | 0/289 [00:00<?, ?batch/s]"
      ]
     },
     "metadata": {},
     "output_type": "display_data"
    },
    {
     "data": {
      "text/html": [
       "<script>addRow(\"<b>2/30\", \"1/289\", \"0.008871\", \"\");</script>"
      ]
     },
     "metadata": {},
     "output_type": "display_data"
    },
    {
     "data": {
      "text/html": [
       "<script>addRow(\"\", \"289\", \"0.004460\", \"<b>0.006841\");</script>"
      ]
     },
     "metadata": {},
     "output_type": "display_data"
    },
    {
     "data": {
      "text/html": [
       "<script>addRow(\"<b>Val\", \"Validation Loss:\", \"<b>0.005547\", \"\");</script>"
      ]
     },
     "metadata": {},
     "output_type": "display_data"
    },
    {
     "name": "stdout",
     "output_type": "stream",
     "text": [
      "EarlyStopping counter: 1 out of 10\n"
     ]
    },
    {
     "data": {
      "application/vnd.jupyter.widget-view+json": {
       "model_id": "7b1958bedde440269cefb20f621bd03f",
       "version_major": 2,
       "version_minor": 0
      },
      "text/plain": [
       "  0%|          | 0/289 [00:00<?, ?batch/s]"
      ]
     },
     "metadata": {},
     "output_type": "display_data"
    },
    {
     "data": {
      "text/html": [
       "<script>addRow(\"<b>3/30\", \"1/289\", \"0.007710\", \"\");</script>"
      ]
     },
     "metadata": {},
     "output_type": "display_data"
    },
    {
     "data": {
      "text/html": [
       "<script>addRow(\"\", \"289\", \"0.002642\", \"<b>0.004326\");</script>"
      ]
     },
     "metadata": {},
     "output_type": "display_data"
    },
    {
     "data": {
      "text/html": [
       "<script>addRow(\"<b>Val\", \"Validation Loss:\", \"<b>0.001395\", \"\");</script>"
      ]
     },
     "metadata": {},
     "output_type": "display_data"
    },
    {
     "name": "stdout",
     "output_type": "stream",
     "text": [
      "Validation loss improved. Reducing patience to 10\n"
     ]
    },
    {
     "data": {
      "application/vnd.jupyter.widget-view+json": {
       "model_id": "948579825d694f13a794a0c13baff35d",
       "version_major": 2,
       "version_minor": 0
      },
      "text/plain": [
       "  0%|          | 0/289 [00:00<?, ?batch/s]"
      ]
     },
     "metadata": {},
     "output_type": "display_data"
    },
    {
     "data": {
      "text/html": [
       "<script>addRow(\"<b>4/30\", \"1/289\", \"0.003295\", \"\");</script>"
      ]
     },
     "metadata": {},
     "output_type": "display_data"
    },
    {
     "data": {
      "text/html": [
       "<script>addRow(\"\", \"289\", \"0.001930\", \"<b>0.002820\");</script>"
      ]
     },
     "metadata": {},
     "output_type": "display_data"
    },
    {
     "data": {
      "text/html": [
       "<script>addRow(\"<b>Val\", \"Validation Loss:\", \"<b>0.001365\", \"\");</script>"
      ]
     },
     "metadata": {},
     "output_type": "display_data"
    },
    {
     "name": "stdout",
     "output_type": "stream",
     "text": [
      "Validation loss improved. Reducing patience to 10\n"
     ]
    },
    {
     "data": {
      "application/vnd.jupyter.widget-view+json": {
       "model_id": "53281500120b4e4aaf4649c4f50f494c",
       "version_major": 2,
       "version_minor": 0
      },
      "text/plain": [
       "  0%|          | 0/289 [00:00<?, ?batch/s]"
      ]
     },
     "metadata": {},
     "output_type": "display_data"
    },
    {
     "data": {
      "text/html": [
       "<script>addRow(\"<b>5/30\", \"1/289\", \"0.003045\", \"\");</script>"
      ]
     },
     "metadata": {},
     "output_type": "display_data"
    },
    {
     "data": {
      "text/html": [
       "<script>addRow(\"\", \"289\", \"0.002415\", \"<b>0.002546\");</script>"
      ]
     },
     "metadata": {},
     "output_type": "display_data"
    },
    {
     "data": {
      "text/html": [
       "<script>addRow(\"<b>Val\", \"Validation Loss:\", \"<b>0.001573\", \"\");</script>"
      ]
     },
     "metadata": {},
     "output_type": "display_data"
    },
    {
     "name": "stdout",
     "output_type": "stream",
     "text": [
      "EarlyStopping counter: 1 out of 10\n"
     ]
    },
    {
     "data": {
      "application/vnd.jupyter.widget-view+json": {
       "model_id": "2881c8d46e7e4a75b9e11e4775f95162",
       "version_major": 2,
       "version_minor": 0
      },
      "text/plain": [
       "  0%|          | 0/289 [00:00<?, ?batch/s]"
      ]
     },
     "metadata": {},
     "output_type": "display_data"
    },
    {
     "data": {
      "text/html": [
       "<script>addRow(\"<b>6/30\", \"1/289\", \"0.001587\", \"\");</script>"
      ]
     },
     "metadata": {},
     "output_type": "display_data"
    },
    {
     "data": {
      "text/html": [
       "<script>addRow(\"\", \"289\", \"0.001695\", \"<b>0.002116\");</script>"
      ]
     },
     "metadata": {},
     "output_type": "display_data"
    },
    {
     "data": {
      "text/html": [
       "<script>addRow(\"<b>Val\", \"Validation Loss:\", \"<b>0.003093\", \"\");</script>"
      ]
     },
     "metadata": {},
     "output_type": "display_data"
    },
    {
     "name": "stdout",
     "output_type": "stream",
     "text": [
      "EarlyStopping counter: 2 out of 10\n"
     ]
    },
    {
     "data": {
      "application/vnd.jupyter.widget-view+json": {
       "model_id": "3fc58d1b7ba14b1baaedbc35eb255719",
       "version_major": 2,
       "version_minor": 0
      },
      "text/plain": [
       "  0%|          | 0/289 [00:00<?, ?batch/s]"
      ]
     },
     "metadata": {},
     "output_type": "display_data"
    },
    {
     "data": {
      "text/html": [
       "<script>addRow(\"<b>7/30\", \"1/289\", \"0.001592\", \"\");</script>"
      ]
     },
     "metadata": {},
     "output_type": "display_data"
    },
    {
     "data": {
      "text/html": [
       "<script>addRow(\"\", \"289\", \"0.001110\", \"<b>0.002025\");</script>"
      ]
     },
     "metadata": {},
     "output_type": "display_data"
    },
    {
     "data": {
      "text/html": [
       "<script>addRow(\"<b>Val\", \"Validation Loss:\", \"<b>0.001903\", \"\");</script>"
      ]
     },
     "metadata": {},
     "output_type": "display_data"
    },
    {
     "name": "stdout",
     "output_type": "stream",
     "text": [
      "EarlyStopping counter: 3 out of 10\n"
     ]
    },
    {
     "data": {
      "application/vnd.jupyter.widget-view+json": {
       "model_id": "9aea617bce32492c87e670d13da52677",
       "version_major": 2,
       "version_minor": 0
      },
      "text/plain": [
       "  0%|          | 0/289 [00:00<?, ?batch/s]"
      ]
     },
     "metadata": {},
     "output_type": "display_data"
    },
    {
     "data": {
      "text/html": [
       "<script>addRow(\"<b>8/30\", \"1/289\", \"0.004194\", \"\");</script>"
      ]
     },
     "metadata": {},
     "output_type": "display_data"
    },
    {
     "data": {
      "text/html": [
       "<script>addRow(\"\", \"289\", \"0.000835\", \"<b>0.001599\");</script>"
      ]
     },
     "metadata": {},
     "output_type": "display_data"
    },
    {
     "data": {
      "text/html": [
       "<script>addRow(\"<b>Val\", \"Validation Loss:\", \"<b>0.001979\", \"\");</script>"
      ]
     },
     "metadata": {},
     "output_type": "display_data"
    },
    {
     "name": "stdout",
     "output_type": "stream",
     "text": [
      "EarlyStopping counter: 4 out of 10\n"
     ]
    },
    {
     "data": {
      "application/vnd.jupyter.widget-view+json": {
       "model_id": "4d5eca48e7b64510b7a77fde7a510a60",
       "version_major": 2,
       "version_minor": 0
      },
      "text/plain": [
       "  0%|          | 0/289 [00:00<?, ?batch/s]"
      ]
     },
     "metadata": {},
     "output_type": "display_data"
    },
    {
     "data": {
      "text/html": [
       "<script>addRow(\"<b>9/30\", \"1/289\", \"0.001841\", \"\");</script>"
      ]
     },
     "metadata": {},
     "output_type": "display_data"
    },
    {
     "data": {
      "text/html": [
       "<script>addRow(\"\", \"289\", \"0.002533\", \"<b>0.001798\");</script>"
      ]
     },
     "metadata": {},
     "output_type": "display_data"
    },
    {
     "data": {
      "text/html": [
       "<script>addRow(\"<b>Val\", \"Validation Loss:\", \"<b>0.001702\", \"\");</script>"
      ]
     },
     "metadata": {},
     "output_type": "display_data"
    },
    {
     "name": "stdout",
     "output_type": "stream",
     "text": [
      "EarlyStopping counter: 5 out of 10\n"
     ]
    },
    {
     "data": {
      "application/vnd.jupyter.widget-view+json": {
       "model_id": "a572f4dcecd74e899770f798496daf7a",
       "version_major": 2,
       "version_minor": 0
      },
      "text/plain": [
       "  0%|          | 0/289 [00:00<?, ?batch/s]"
      ]
     },
     "metadata": {},
     "output_type": "display_data"
    },
    {
     "data": {
      "text/html": [
       "<script>addRow(\"<b>10/30\", \"1/289\", \"0.002022\", \"\");</script>"
      ]
     },
     "metadata": {},
     "output_type": "display_data"
    },
    {
     "data": {
      "text/html": [
       "<script>addRow(\"\", \"289\", \"0.001029\", \"<b>0.001558\");</script>"
      ]
     },
     "metadata": {},
     "output_type": "display_data"
    },
    {
     "data": {
      "text/html": [
       "<script>addRow(\"<b>Val\", \"Validation Loss:\", \"<b>0.000591\", \"\");</script>"
      ]
     },
     "metadata": {},
     "output_type": "display_data"
    },
    {
     "name": "stdout",
     "output_type": "stream",
     "text": [
      "Validation loss improved. Reducing patience to 10\n"
     ]
    },
    {
     "data": {
      "application/vnd.jupyter.widget-view+json": {
       "model_id": "4bb741a4785e4351af32a1eec3923448",
       "version_major": 2,
       "version_minor": 0
      },
      "text/plain": [
       "  0%|          | 0/289 [00:00<?, ?batch/s]"
      ]
     },
     "metadata": {},
     "output_type": "display_data"
    },
    {
     "data": {
      "text/html": [
       "<script>addRow(\"<b>11/30\", \"1/289\", \"0.001565\", \"\");</script>"
      ]
     },
     "metadata": {},
     "output_type": "display_data"
    },
    {
     "data": {
      "text/html": [
       "<script>addRow(\"\", \"289\", \"0.001812\", \"<b>0.001556\");</script>"
      ]
     },
     "metadata": {},
     "output_type": "display_data"
    },
    {
     "data": {
      "text/html": [
       "<script>addRow(\"<b>Val\", \"Validation Loss:\", \"<b>0.001973\", \"\");</script>"
      ]
     },
     "metadata": {},
     "output_type": "display_data"
    },
    {
     "name": "stdout",
     "output_type": "stream",
     "text": [
      "EarlyStopping counter: 1 out of 10\n"
     ]
    },
    {
     "data": {
      "application/vnd.jupyter.widget-view+json": {
       "model_id": "b40a67b0ca514a6083558dd453d081b5",
       "version_major": 2,
       "version_minor": 0
      },
      "text/plain": [
       "  0%|          | 0/289 [00:00<?, ?batch/s]"
      ]
     },
     "metadata": {},
     "output_type": "display_data"
    },
    {
     "data": {
      "text/html": [
       "<script>addRow(\"<b>12/30\", \"1/289\", \"0.002125\", \"\");</script>"
      ]
     },
     "metadata": {},
     "output_type": "display_data"
    },
    {
     "data": {
      "text/html": [
       "<script>addRow(\"\", \"289\", \"0.001120\", \"<b>0.001877\");</script>"
      ]
     },
     "metadata": {},
     "output_type": "display_data"
    },
    {
     "data": {
      "text/html": [
       "<script>addRow(\"<b>Val\", \"Validation Loss:\", \"<b>0.001817\", \"\");</script>"
      ]
     },
     "metadata": {},
     "output_type": "display_data"
    },
    {
     "name": "stdout",
     "output_type": "stream",
     "text": [
      "EarlyStopping counter: 2 out of 10\n"
     ]
    },
    {
     "data": {
      "application/vnd.jupyter.widget-view+json": {
       "model_id": "0dd3e58195ff412b87f59ceeb729f575",
       "version_major": 2,
       "version_minor": 0
      },
      "text/plain": [
       "  0%|          | 0/289 [00:00<?, ?batch/s]"
      ]
     },
     "metadata": {},
     "output_type": "display_data"
    },
    {
     "data": {
      "text/html": [
       "<script>addRow(\"<b>13/30\", \"1/289\", \"0.001772\", \"\");</script>"
      ]
     },
     "metadata": {},
     "output_type": "display_data"
    },
    {
     "data": {
      "text/html": [
       "<script>addRow(\"\", \"289\", \"0.000789\", \"<b>0.001492\");</script>"
      ]
     },
     "metadata": {},
     "output_type": "display_data"
    },
    {
     "data": {
      "text/html": [
       "<script>addRow(\"<b>Val\", \"Validation Loss:\", \"<b>0.001320\", \"\");</script>"
      ]
     },
     "metadata": {},
     "output_type": "display_data"
    },
    {
     "name": "stdout",
     "output_type": "stream",
     "text": [
      "EarlyStopping counter: 3 out of 10\n"
     ]
    },
    {
     "data": {
      "application/vnd.jupyter.widget-view+json": {
       "model_id": "2321de32e2dd48f28b39692efbde8837",
       "version_major": 2,
       "version_minor": 0
      },
      "text/plain": [
       "  0%|          | 0/289 [00:00<?, ?batch/s]"
      ]
     },
     "metadata": {},
     "output_type": "display_data"
    },
    {
     "data": {
      "text/html": [
       "<script>addRow(\"<b>14/30\", \"1/289\", \"0.002141\", \"\");</script>"
      ]
     },
     "metadata": {},
     "output_type": "display_data"
    },
    {
     "data": {
      "text/html": [
       "<script>addRow(\"\", \"289\", \"0.000806\", \"<b>0.001089\");</script>"
      ]
     },
     "metadata": {},
     "output_type": "display_data"
    },
    {
     "data": {
      "text/html": [
       "<script>addRow(\"<b>Val\", \"Validation Loss:\", \"<b>0.000944\", \"\");</script>"
      ]
     },
     "metadata": {},
     "output_type": "display_data"
    },
    {
     "name": "stdout",
     "output_type": "stream",
     "text": [
      "EarlyStopping counter: 4 out of 10\n"
     ]
    },
    {
     "data": {
      "application/vnd.jupyter.widget-view+json": {
       "model_id": "2031f5d20a804afdbad41561700abe02",
       "version_major": 2,
       "version_minor": 0
      },
      "text/plain": [
       "  0%|          | 0/289 [00:00<?, ?batch/s]"
      ]
     },
     "metadata": {},
     "output_type": "display_data"
    },
    {
     "data": {
      "text/html": [
       "<script>addRow(\"<b>15/30\", \"1/289\", \"0.000923\", \"\");</script>"
      ]
     },
     "metadata": {},
     "output_type": "display_data"
    },
    {
     "data": {
      "text/html": [
       "<script>addRow(\"\", \"289\", \"0.001050\", \"<b>0.001117\");</script>"
      ]
     },
     "metadata": {},
     "output_type": "display_data"
    },
    {
     "data": {
      "text/html": [
       "<script>addRow(\"<b>Val\", \"Validation Loss:\", \"<b>0.002575\", \"\");</script>"
      ]
     },
     "metadata": {},
     "output_type": "display_data"
    },
    {
     "name": "stdout",
     "output_type": "stream",
     "text": [
      "EarlyStopping counter: 5 out of 10\n"
     ]
    },
    {
     "data": {
      "application/vnd.jupyter.widget-view+json": {
       "model_id": "44d1e6b005344d9e8f518f5722b008c9",
       "version_major": 2,
       "version_minor": 0
      },
      "text/plain": [
       "  0%|          | 0/289 [00:00<?, ?batch/s]"
      ]
     },
     "metadata": {},
     "output_type": "display_data"
    },
    {
     "data": {
      "text/html": [
       "<script>addRow(\"<b>16/30\", \"1/289\", \"0.000824\", \"\");</script>"
      ]
     },
     "metadata": {},
     "output_type": "display_data"
    },
    {
     "data": {
      "text/html": [
       "<script>addRow(\"\", \"289\", \"0.000794\", \"<b>0.001073\");</script>"
      ]
     },
     "metadata": {},
     "output_type": "display_data"
    },
    {
     "data": {
      "text/html": [
       "<script>addRow(\"<b>Val\", \"Validation Loss:\", \"<b>0.000566\", \"\");</script>"
      ]
     },
     "metadata": {},
     "output_type": "display_data"
    },
    {
     "name": "stdout",
     "output_type": "stream",
     "text": [
      "Validation loss improved. Reducing patience to 10\n"
     ]
    },
    {
     "data": {
      "application/vnd.jupyter.widget-view+json": {
       "model_id": "ac0c50953c024ced9893cd2b626838f0",
       "version_major": 2,
       "version_minor": 0
      },
      "text/plain": [
       "  0%|          | 0/289 [00:00<?, ?batch/s]"
      ]
     },
     "metadata": {},
     "output_type": "display_data"
    },
    {
     "data": {
      "text/html": [
       "<script>addRow(\"<b>17/30\", \"1/289\", \"0.000824\", \"\");</script>"
      ]
     },
     "metadata": {},
     "output_type": "display_data"
    },
    {
     "data": {
      "text/html": [
       "<script>addRow(\"\", \"289\", \"0.000905\", \"<b>0.000960\");</script>"
      ]
     },
     "metadata": {},
     "output_type": "display_data"
    },
    {
     "data": {
      "text/html": [
       "<script>addRow(\"<b>Val\", \"Validation Loss:\", \"<b>0.002318\", \"\");</script>"
      ]
     },
     "metadata": {},
     "output_type": "display_data"
    },
    {
     "name": "stdout",
     "output_type": "stream",
     "text": [
      "EarlyStopping counter: 1 out of 10\n"
     ]
    },
    {
     "data": {
      "application/vnd.jupyter.widget-view+json": {
       "model_id": "558e65eaab794d57bf730374fd54e7a5",
       "version_major": 2,
       "version_minor": 0
      },
      "text/plain": [
       "  0%|          | 0/289 [00:00<?, ?batch/s]"
      ]
     },
     "metadata": {},
     "output_type": "display_data"
    },
    {
     "data": {
      "text/html": [
       "<script>addRow(\"<b>18/30\", \"1/289\", \"0.001089\", \"\");</script>"
      ]
     },
     "metadata": {},
     "output_type": "display_data"
    },
    {
     "data": {
      "text/html": [
       "<script>addRow(\"\", \"289\", \"0.002034\", \"<b>0.001303\");</script>"
      ]
     },
     "metadata": {},
     "output_type": "display_data"
    },
    {
     "data": {
      "text/html": [
       "<script>addRow(\"<b>Val\", \"Validation Loss:\", \"<b>0.003503\", \"\");</script>"
      ]
     },
     "metadata": {},
     "output_type": "display_data"
    },
    {
     "name": "stdout",
     "output_type": "stream",
     "text": [
      "EarlyStopping counter: 2 out of 10\n"
     ]
    },
    {
     "data": {
      "application/vnd.jupyter.widget-view+json": {
       "model_id": "f4f4b86ada0041e3aa5c4a84bd1e7a05",
       "version_major": 2,
       "version_minor": 0
      },
      "text/plain": [
       "  0%|          | 0/289 [00:00<?, ?batch/s]"
      ]
     },
     "metadata": {},
     "output_type": "display_data"
    },
    {
     "data": {
      "text/html": [
       "<script>addRow(\"<b>19/30\", \"1/289\", \"0.001463\", \"\");</script>"
      ]
     },
     "metadata": {},
     "output_type": "display_data"
    },
    {
     "data": {
      "text/html": [
       "<script>addRow(\"\", \"289\", \"0.000470\", \"<b>0.001083\");</script>"
      ]
     },
     "metadata": {},
     "output_type": "display_data"
    },
    {
     "data": {
      "text/html": [
       "<script>addRow(\"<b>Val\", \"Validation Loss:\", \"<b>0.001011\", \"\");</script>"
      ]
     },
     "metadata": {},
     "output_type": "display_data"
    },
    {
     "name": "stdout",
     "output_type": "stream",
     "text": [
      "EarlyStopping counter: 3 out of 10\n"
     ]
    },
    {
     "data": {
      "application/vnd.jupyter.widget-view+json": {
       "model_id": "a904f6e74b994bb8b43fd27f9f7ba5d9",
       "version_major": 2,
       "version_minor": 0
      },
      "text/plain": [
       "  0%|          | 0/289 [00:00<?, ?batch/s]"
      ]
     },
     "metadata": {},
     "output_type": "display_data"
    },
    {
     "data": {
      "text/html": [
       "<script>addRow(\"<b>20/30\", \"1/289\", \"0.000706\", \"\");</script>"
      ]
     },
     "metadata": {},
     "output_type": "display_data"
    },
    {
     "data": {
      "text/html": [
       "<script>addRow(\"\", \"289\", \"0.000921\", \"<b>0.000901\");</script>"
      ]
     },
     "metadata": {},
     "output_type": "display_data"
    },
    {
     "data": {
      "text/html": [
       "<script>addRow(\"<b>Val\", \"Validation Loss:\", \"<b>0.000839\", \"\");</script>"
      ]
     },
     "metadata": {},
     "output_type": "display_data"
    },
    {
     "name": "stdout",
     "output_type": "stream",
     "text": [
      "EarlyStopping counter: 4 out of 10\n"
     ]
    },
    {
     "data": {
      "application/vnd.jupyter.widget-view+json": {
       "model_id": "dd15f3db81d54417b28c5e91d957f2e3",
       "version_major": 2,
       "version_minor": 0
      },
      "text/plain": [
       "  0%|          | 0/289 [00:00<?, ?batch/s]"
      ]
     },
     "metadata": {},
     "output_type": "display_data"
    },
    {
     "data": {
      "text/html": [
       "<script>addRow(\"<b>21/30\", \"1/289\", \"0.000944\", \"\");</script>"
      ]
     },
     "metadata": {},
     "output_type": "display_data"
    },
    {
     "data": {
      "text/html": [
       "<script>addRow(\"\", \"289\", \"0.000806\", \"<b>0.000967\");</script>"
      ]
     },
     "metadata": {},
     "output_type": "display_data"
    },
    {
     "data": {
      "text/html": [
       "<script>addRow(\"<b>Val\", \"Validation Loss:\", \"<b>0.001694\", \"\");</script>"
      ]
     },
     "metadata": {},
     "output_type": "display_data"
    },
    {
     "name": "stdout",
     "output_type": "stream",
     "text": [
      "EarlyStopping counter: 5 out of 10\n"
     ]
    },
    {
     "data": {
      "application/vnd.jupyter.widget-view+json": {
       "model_id": "d0df1f08ac2f4085bfea8cbaa0f556cf",
       "version_major": 2,
       "version_minor": 0
      },
      "text/plain": [
       "  0%|          | 0/289 [00:00<?, ?batch/s]"
      ]
     },
     "metadata": {},
     "output_type": "display_data"
    },
    {
     "data": {
      "text/html": [
       "<script>addRow(\"<b>22/30\", \"1/289\", \"0.002097\", \"\");</script>"
      ]
     },
     "metadata": {},
     "output_type": "display_data"
    },
    {
     "data": {
      "text/html": [
       "<script>addRow(\"\", \"289\", \"0.000723\", \"<b>0.000840\");</script>"
      ]
     },
     "metadata": {},
     "output_type": "display_data"
    },
    {
     "data": {
      "text/html": [
       "<script>addRow(\"<b>Val\", \"Validation Loss:\", \"<b>0.001323\", \"\");</script>"
      ]
     },
     "metadata": {},
     "output_type": "display_data"
    },
    {
     "name": "stdout",
     "output_type": "stream",
     "text": [
      "EarlyStopping counter: 6 out of 10\n"
     ]
    },
    {
     "data": {
      "application/vnd.jupyter.widget-view+json": {
       "model_id": "f04bca68f4cb48dd985a036a8396b519",
       "version_major": 2,
       "version_minor": 0
      },
      "text/plain": [
       "  0%|          | 0/289 [00:00<?, ?batch/s]"
      ]
     },
     "metadata": {},
     "output_type": "display_data"
    },
    {
     "data": {
      "text/html": [
       "<script>addRow(\"<b>23/30\", \"1/289\", \"0.000786\", \"\");</script>"
      ]
     },
     "metadata": {},
     "output_type": "display_data"
    },
    {
     "data": {
      "text/html": [
       "<script>addRow(\"\", \"289\", \"0.000676\", \"<b>0.001055\");</script>"
      ]
     },
     "metadata": {},
     "output_type": "display_data"
    },
    {
     "data": {
      "text/html": [
       "<script>addRow(\"<b>Val\", \"Validation Loss:\", \"<b>0.001301\", \"\");</script>"
      ]
     },
     "metadata": {},
     "output_type": "display_data"
    },
    {
     "name": "stdout",
     "output_type": "stream",
     "text": [
      "EarlyStopping counter: 7 out of 10\n"
     ]
    },
    {
     "data": {
      "application/vnd.jupyter.widget-view+json": {
       "model_id": "598d3f3ee0844811acad942e2cbd5e10",
       "version_major": 2,
       "version_minor": 0
      },
      "text/plain": [
       "  0%|          | 0/289 [00:00<?, ?batch/s]"
      ]
     },
     "metadata": {},
     "output_type": "display_data"
    },
    {
     "data": {
      "text/html": [
       "<script>addRow(\"<b>24/30\", \"1/289\", \"0.000467\", \"\");</script>"
      ]
     },
     "metadata": {},
     "output_type": "display_data"
    },
    {
     "data": {
      "text/html": [
       "<script>addRow(\"\", \"289\", \"0.000785\", \"<b>0.000829\");</script>"
      ]
     },
     "metadata": {},
     "output_type": "display_data"
    },
    {
     "data": {
      "text/html": [
       "<script>addRow(\"<b>Val\", \"Validation Loss:\", \"<b>0.001351\", \"\");</script>"
      ]
     },
     "metadata": {},
     "output_type": "display_data"
    },
    {
     "name": "stdout",
     "output_type": "stream",
     "text": [
      "EarlyStopping counter: 8 out of 10\n"
     ]
    },
    {
     "data": {
      "application/vnd.jupyter.widget-view+json": {
       "model_id": "3105ce1a37ca40938c4609c14e94232c",
       "version_major": 2,
       "version_minor": 0
      },
      "text/plain": [
       "  0%|          | 0/289 [00:00<?, ?batch/s]"
      ]
     },
     "metadata": {},
     "output_type": "display_data"
    },
    {
     "data": {
      "text/html": [
       "<script>addRow(\"<b>25/30\", \"1/289\", \"0.000813\", \"\");</script>"
      ]
     },
     "metadata": {},
     "output_type": "display_data"
    },
    {
     "data": {
      "text/html": [
       "<script>addRow(\"\", \"289\", \"0.000642\", \"<b>0.000765\");</script>"
      ]
     },
     "metadata": {},
     "output_type": "display_data"
    },
    {
     "data": {
      "text/html": [
       "<script>addRow(\"<b>Val\", \"Validation Loss:\", \"<b>0.001477\", \"\");</script>"
      ]
     },
     "metadata": {},
     "output_type": "display_data"
    },
    {
     "name": "stdout",
     "output_type": "stream",
     "text": [
      "EarlyStopping counter: 9 out of 10\n"
     ]
    },
    {
     "data": {
      "application/vnd.jupyter.widget-view+json": {
       "model_id": "dd76f65b7a9b4079933dc16baa96f2cc",
       "version_major": 2,
       "version_minor": 0
      },
      "text/plain": [
       "  0%|          | 0/289 [00:00<?, ?batch/s]"
      ]
     },
     "metadata": {},
     "output_type": "display_data"
    },
    {
     "data": {
      "text/html": [
       "<script>addRow(\"<b>26/30\", \"1/289\", \"0.000872\", \"\");</script>"
      ]
     },
     "metadata": {},
     "output_type": "display_data"
    },
    {
     "data": {
      "text/html": [
       "<script>addRow(\"\", \"289\", \"0.000612\", \"<b>0.000812\");</script>"
      ]
     },
     "metadata": {},
     "output_type": "display_data"
    },
    {
     "data": {
      "text/html": [
       "<script>addRow(\"<b>Val\", \"Validation Loss:\", \"<b>0.000808\", \"\");</script>"
      ]
     },
     "metadata": {},
     "output_type": "display_data"
    },
    {
     "name": "stdout",
     "output_type": "stream",
     "text": [
      "EarlyStopping counter: 10 out of 10\n",
      "Early stopping.\n",
      "------------------------------------------------------------\n",
      "\n",
      "------------------------------------------------------------\n",
      "Training Completed.\tExecution Time: 01:46:26\n",
      "------------------------------------------------------------\n",
      "\n"
     ]
    },
    {
     "data": {
      "image/png": "[encoded data removed]",
      "text/plain": [
       "<Figure size 1200x300 with 1 Axes>"
      ]
     },
     "metadata": {},
     "output_type": "display_data"
    }
   ],
   "source": [
    "# INSTANTIATE MODEL --------------------\n",
    "model = DeepLSTM_v3(len(INPUT_COLUMNS), HIDDEN_SIZE, NUM_LAYERS, DROPOUT).to(DEVICE)\n",
    "model.initialize_weights_lstm(WEIGHT_INIT_TYPE)\n",
    "#print_info(model)\n",
    "\n",
    "# SET OPTIMIIZER, SCHEDULER AND LOSS MODULES ---------------------------\n",
    "if OPTIMIZER=='adam': optimizer = torch.optim.Adam(model.parameters(), lr=LEARNING_RATE, weight_decay=WEIGHT_DECAY)\n",
    "elif OPTIMIZER=='adamw': optimizer = torch.optim.AdamW(model.parameters(), lr = LEARNING_RATE, weight_decay = WEIGHT_DECAY)\n",
    "elif OPTIMIZER=='sgd': optimizer = torch.optim.SGD(model.parameters(), lr=LEARNING_RATE, momentum=MOMENTUM_SGD, weight_decay=WEIGHT_DECAY)\n",
    "\n",
    "def lr_lambda(epoch): return 1.0\n",
    "lr_scheduler = eval(LRSCHEDULER); l_p_scheduler = eval(LPSCHEDULER)\n",
    "\n",
    "# TRAIN -----------------------------------------------------------------\n",
    "TRAINER = PTrainer_PINN(\n",
    "    model = model, \n",
    "    optimizer = optimizer, \n",
    "    lr_scheduler = lr_scheduler,\n",
    "    l_p_scheduler = l_p_scheduler,\n",
    "    loss_fn = LOSS_FN, \n",
    "    train_loader = train_loader, \n",
    "    val_loader = val_loader, \n",
    "    test_loader = test_loader, \n",
    "    num_epochs = NUM_EPOCHS, \n",
    "    device = DEVICE, \n",
    "    is_notebook = IS_NOTEBOOK, \n",
    "    use_mixed_precision = MIXED_PRECISION, \n",
    "    clip_value = CLIP_GRAD, \n",
    "    log_file = Path(LOG_FILE_NAME).with_name(f\"{TS}_log.txt\"),\n",
    "    config = CONFIG)\n",
    "\n",
    "RESULTS = TRAINER.train_model()\n",
    "\n",
    "# PLOT RESULTS AND SAVE OPERATIONS ----------------------------------------------\n",
    "plot_training_performance(RESULTS)"
   ]
  },
  {
   "cell_type": "markdown",
   "id": "b0fc2065",
   "metadata": {},
   "source": [
    "___\n",
    "SAVE CHECKPOINT"
   ]
  },
  {
   "cell_type": "code",
   "execution_count": 8,
   "id": "b7542bb3",
   "metadata": {},
   "outputs": [
    {
     "name": "stdout",
     "output_type": "stream",
     "text": [
      "Model saved to:\t DeepLSTM_v3_250119_185033.pt\n",
      "------------------------------------------------------------\n",
      "Model ID: DeepLSTM_v3_250119_185033\n",
      "------------------------------------------------------------\n",
      "Size: 19.00 MB\n",
      "------------------------------------------------------------\n",
      "log_file: /home/sieglew/MA-eR-PINN/src/models/log/250119_185033/250119_185033_log.txt\n"
     ]
    }
   ],
   "source": [
    "# SAVE MODEL -----------------------------------------------------------------\n",
    "CHECKPOINT, model_destination_path = save_checkpoint(TRAINER, train_loader, val_loader, test_loader, RESULTS, CONFIG, subset_files, pth_folder, TS)"
   ]
  },
  {
   "cell_type": "markdown",
   "id": "83cddb8e",
   "metadata": {},
   "source": [
    "___\n",
    "LOAD CHECKPOINT"
   ]
  },
  {
   "cell_type": "code",
   "execution_count": 9,
   "id": "4bb2d7f7",
   "metadata": {},
   "outputs": [],
   "source": [
    "# model_destination_path = Path(pth_folder, \"LSTM1_packed_old_version_241216_082030.pth\")"
   ]
  },
  {
   "cell_type": "code",
   "execution_count": 10,
   "id": "f81daa6c",
   "metadata": {},
   "outputs": [
    {
     "name": "stdout",
     "output_type": "stream",
     "text": [
      "Model loaded from:\t/home/sieglew/MA-eR-PINN/src/models/pth/250119_185033/DeepLSTM_v3_250119_185033.pt\n",
      "------------------------------------------------------------\n",
      "Model: DeepLSTM_v3\tParameters on device: cuda:0\n",
      "------------------------------------------------------------\n",
      "Train/Batch size:\t289 / 16\n",
      "Loss:\t\t\tCustomLoss(\n",
      "  (mse_loss): MSELoss()\n",
      ")\n",
      "Optimizer:\t\tAdam\n",
      "LR:\t\t\t0.0003\n",
      "Weight Decay:\t\t1e-07\n",
      "------------------------------------------------------------\n",
      "\n"
     ]
    },
    {
     "data": {
      "text/plain": [
       "DeepLSTM_v3(\n",
       "  (lstm): LSTM(37, 180, num_layers=6, batch_first=True)\n",
       "  (dropout_layer): Dropout(p=0.15, inplace=False)\n",
       "  (fc1): Linear(in_features=180, out_features=360, bias=True)\n",
       "  (bn1): BatchNorm1d(360, eps=1e-05, momentum=0.1, affine=True, track_running_stats=True)\n",
       "  (fc2): Linear(in_features=360, out_features=180, bias=True)\n",
       "  (bn2): BatchNorm1d(180, eps=1e-05, momentum=0.1, affine=True, track_running_stats=True)\n",
       "  (fc3): Linear(in_features=180, out_features=90, bias=True)\n",
       "  (bn3): BatchNorm1d(90, eps=1e-05, momentum=0.1, affine=True, track_running_stats=True)\n",
       "  (fc4): Linear(in_features=90, out_features=1, bias=True)\n",
       "  (relu): ReLU()\n",
       ")"
      ]
     },
     "execution_count": 10,
     "metadata": {},
     "output_type": "execute_result"
    }
   ],
   "source": [
    "# LOAD MODEL -----------------------------------------------------------------\n",
    "CHECKPOINT = load_checkpoint(model_destination_path, DEVICE)\n",
    "for key in CHECKPOINT.keys(): globals()[key] = CHECKPOINT[key]\n",
    "# load model and optimizer states --------------------------------------------\n",
    "model.load_state_dict(model_state_dict)\n",
    "optimizer.load_state_dict(optimizer_state_dict)\n",
    "model.eval()  # set model to evaluation mode for inference"
   ]
  },
  {
   "cell_type": "markdown",
   "id": "ae4d64ba",
   "metadata": {},
   "source": [
    "___\n",
    "EVALUATION"
   ]
  },
  {
   "cell_type": "code",
   "execution_count": 11,
   "id": "97f09213",
   "metadata": {},
   "outputs": [
    {
     "name": "stdout",
     "output_type": "stream",
     "text": [
      "------------------------------------------------------------\n",
      "Test subset: 993 files\n",
      "------------------------------------------------------------\n",
      "Test Loss:\t\t0.000841\n",
      "RMSE:\t\t\t2.8394        \n",
      "MAE ± STD (MAPE):\t2.2985 ± 2.8150 (5.60%)\n",
      "R-squared:\t\t0.9824\n",
      "------------------------------------------------------------\n",
      "Metrics (unweighted):\n",
      "RMSE:\t\t\t2.5475        \n",
      "MAE ± STD (MAPE):\t2.1817 ± 1.7025 (4.99%)\n",
      "R-squared:\t\t0.4504\n",
      "------------------------------------------------------------\n"
     ]
    }
   ],
   "source": [
    "# EVALUATION -----------------------------------------------------------------\n",
    "# get file list of test subset\n",
    "test_files = CHECKPOINT[\"test_files\"]; print(f\"{'-'*60}\\nTest subset: {len(test_files)} files\\n{'-'*60}\")\n",
    "# -------------------------------------\n",
    "# evaluate model on test set\n",
    "test_loss, all_outputs, all_targets, all_priors, all_original_lengths = TRAINER.evaluate_model()\n",
    "# -------------------------------------\n",
    "# Inverse-transform on all outputs and targets for evaluation\n",
    "scaled_outputs = [target_scaler.inverse_transform(output_sequence.reshape(1, -1)).squeeze() for output_sequence in all_outputs]\n",
    "scaled_targets = [target_scaler.inverse_transform(target_sequence.reshape(1, -1)).squeeze() for target_sequence in all_targets]\n",
    "scaled_priors = [prior_scaler.inverse_transform(prior_sequence.reshape(1, -1)).squeeze() for prior_sequence in all_priors]\n",
    "\n",
    "# concatenate:\n",
    "all_y_true, all_y_pred, all_y_phys = np.concatenate(scaled_targets), np.concatenate(scaled_outputs), np.concatenate(scaled_priors)\n",
    "\n",
    "# calculate evaluation metrics\n",
    "print(f\"Test Loss:\\t\\t{test_loss:.6f}\")\n",
    "metrics = calculate_metrics(all_y_true, all_y_pred) # [rmse, mae, std_dev, mape, r2, max_error]\n",
    "print(\"Metrics (unweighted):\")\n",
    "mean_metrics = calculate_metrics_per_sequence(scaled_targets, scaled_outputs)"
   ]
  },
  {
   "cell_type": "markdown",
   "id": "952ed8d9",
   "metadata": {},
   "source": [
    "___\n",
    "PLOT RESULTS"
   ]
  },
  {
   "cell_type": "code",
   "execution_count": 59,
   "id": "27dbdbab",
   "metadata": {},
   "outputs": [
    {
     "data": {
      "image/png": "[encoded data removed]",
      "text/plain": [
       "<Figure size 1800x400 with 1 Axes>"
      ]
     },
     "metadata": {},
     "output_type": "display_data"
    },
    {
     "data": {
      "image/png": "[encoded data removed]",
      "text/plain": [
       "<Figure size 1800x400 with 1 Axes>"
      ]
     },
     "metadata": {},
     "output_type": "display_data"
    }
   ],
   "source": [
    "# get random sample sequence from test set\n",
    "sample_int = random.randint(1, len(test_files)-1)\n",
    "y_true, y_pred, y_phys = scaled_targets[sample_int], scaled_outputs[sample_int], scaled_priors[sample_int]\n",
    "\n",
    "# ----------->  add specific file selector for easier comparison\n",
    "###############################################\n",
    "# PLOT PREDICTION -----------------------------------------------------------------\n",
    "\n",
    "plt.figure(figsize=(18,4)); plt.xlabel('Time in s'); plt.ylabel('SOC in %'); plt.title('Battery State of Charge: Prediction vs. Actual Data') \n",
    "plt.plot(y_true, label='Actual Data') # actual plot\n",
    "plt.plot(np.arange(0, len(y_true), 1), y_pred, label='Predicted Data') # predicted plot\n",
    "plt.plot(y_phys, label='Physical Prior') # physical prior\n",
    "plt.ylim(0, 100) # set y-axis limits\n",
    "\n",
    "plt.legend()\n",
    "plt.text(0.01, 0.02, f\"RMSE: {root_mean_squared_error(y_true, y_pred):.4f}\\nStd Dev: {np.std(y_true - y_pred):.4f}\\nModel ID: {model_name_id}\",\\\n",
    "     transform=plt.gca().transAxes, fontsize=12, bbox=dict(facecolor='white', alpha=0.5))\n",
    "\n",
    "plt.figure(figsize=(18,4)); plt.xlabel('Time in s'); plt.ylabel('SOC in %')\n",
    "plt.plot(savgol_filter(y_true.flatten(), window_length=60, polyorder=3), label='Actual Data (Smoothed)') # actual plot\n",
    "plt.plot(np.arange(0, len(y_true), 1), savgol_filter(y_pred.flatten(), window_length=300, polyorder=3), label='Predicted Data (Smoothed)') # predicted plot\n",
    "plt.ylim(0, 100) # set y-axis limits\n",
    "plt.legend();"
   ]
  },
  {
   "cell_type": "code",
   "execution_count": 13,
   "id": "4acf1909",
   "metadata": {},
   "outputs": [],
   "source": [
    "if not IS_NOTEBOOK: sys.stdout.close(); sys.stderr.close()"
   ]
  }
 ],
 "metadata": {
  "kernelspec": {
   "display_name": "sieglew",
   "language": "python",
   "name": "python3"
  },
  "language_info": {
   "codemirror_mode": {
    "name": "ipython",
    "version": 3
   },
   "file_extension": ".py",
   "mimetype": "text/x-python",
   "name": "python",
   "nbconvert_exporter": "python",
   "pygments_lexer": "ipython3",
   "version": "3.11.9"
  }
 },
 "nbformat": 4,
 "nbformat_minor": 5
}
