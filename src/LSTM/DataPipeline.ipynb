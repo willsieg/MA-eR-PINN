{
 "cells": [
  {
   "cell_type": "code",
   "execution_count": 1,
   "metadata": {},
   "outputs": [],
   "source": [
    "%reset -f -s"
   ]
  },
  {
   "cell_type": "code",
   "execution_count": 2,
   "metadata": {},
   "outputs": [],
   "source": [
    "'''------------------------------------------------------------------\n",
    "---------------------------------------------------------------------\n",
    "LSTM Training\n",
    "---------------------------------------------------------------------\n",
    "Version: V1.7       Modified: 06.11.2024        William Siegle\n",
    "---------------------------------------------------------------------\n",
    "notebook can be converted to python script using: \n",
    "(python -m) jupytext --to py FILENAME.ipynb\n",
    "------------------------------------------------------------------'''\n",
    "#import pathlib\n",
    "from pathlib import Path, WindowsPath, PosixPath\n",
    "\n",
    "\n",
    "# SETTINGS ------------------------------------------------------------------------\n",
    "CONFIG = {\n",
    "    # SYSTEM: ---------------------------------------------------------------------\n",
    "    \"GPU_SELECT\":       2, # {0,1,2,3, None: CPU only}\n",
    "    \"ROOT\":             Path('../..').resolve(),\n",
    "    \"INPUT_LOCATION\":   Path(\"TripSequences\", \"trips_processed_final\"), \n",
    "    \"OUTPUT_LOCATION\":  Path(\"src\", \"models\", \"pth\"),\n",
    "    \"SEED\"  :           100,\n",
    "    \"PLOT_ACTIVE\":      True,\n",
    "\n",
    "    # DATA PREPROCESSING: ---------------------------------------------------------\n",
    "    \"TRAIN_VAL_TEST\":   [0.8, 0.19, 0.01], # [train, val, test splits]\n",
    "    \"MAX_FILES\":        None, # None: all files\n",
    "    \"SCALERS\":          {'feature_scaler': 'MaxAbsScaler()', 'target_scaler': 'MinMaxScaler(feature_range=(0, 1))'},\n",
    "    \"MIN_SEQ_LENGTH\":   600, # minimum sequence length in s to be included in DataSets\n",
    "\n",
    "    # FEATURES: -------------------------------------------------------------------\n",
    "    \"FEATURES\":         ['actdrvtrnpwrprc_cval','altitude_cval_ippc','motortemperature_pti1',\n",
    "                        'brktempra_cval','hv_batmaxdischrgpwrlim_cval_1',\n",
    "                        'emot_pwr_cval','actualtorque_pti1','powerstagetemperature_pti1',\n",
    "                        'accelpdlposn_cval','airtempoutsd_cval_cpc','airtempinsd_cval_hvac','actualdcvoltage_pti1','hv_batavcelltemp_cval_bms1',\n",
    "                        'epto_pwr_cval','maxtracpwrpct_cval','airtempinsd_rq','bs_brk_cval','brc_stat_brc1','vehspd_cval_cpc',\n",
    "                        'vehweight_cval_pt','actualspeed_pti1','selgr_rq_pt',\n",
    "                        'rmsmotorcurrent_pti1','roadgrad_cval_pt','currpwr_contendrnbrkresist_cval','elcomp_pwrcons_cval',\n",
    "                        'hv_ptc_cabin1_pwr_cval','maxrecuppwrprc_cval','txoiltemp_cval_tcm'],\n",
    "    \"TARGETS\":          ['hv_bat_soc_cval_bms1'],\n",
    "\n",
    "    # MODEL: -----------------------------------------------------------------------\n",
    "    \"HIDDEN_SIZE\":      400,    # features in the hidden state h\n",
    "    \"NUM_LAYERS\":       2,      # recurrent layers for stacked LSTMs. Default: 1\n",
    "    \"DROPOUT\":          0.5,\n",
    "    \n",
    "    # TRAINING & OPTIMIZER: --------------------------------------------------------\n",
    "    \"NUM_EPOCHS\":       20,\n",
    "    \"BATCH_SIZE\":       32,   # [16, 32, 64, 128, 256, 512, 1024, 2048, 4096, 8192, 16384, 32768]\n",
    "    \"LEARNING_RATE\":    1e-2,   # 0.001 lr\n",
    "    \"OPTIMIZER\":        \"torch.optim.AdamW(model.parameters(), lr = LEARNING_RATE, weight_decay = 1e-3)\",      \n",
    "                        # weight_decay = 1e-4     # weight decay coefficient (default: 1e-2)\n",
    "                        # betas = (0.9, 0.95),    # coefficients used for computing running averages of gradient and its square (default: (0.9, 0.999))\n",
    "                        # eps = 1e-8,             # term added to the denominator to improve numerical stability (default: 1e-8)\n",
    "    \"LRSCHEDULER\":      \"torch.optim.lr_scheduler.ReduceLROnPlateau(optimizer, mode='min', patience = 2, factor = 0.5, min_lr = 1e-7)\",\n",
    "\n",
    "    # LOSS FUNCTION: ---------------------------------------------------------------\n",
    "    \"CRITERION\":        \"nn.SmoothL1Loss()\", # ['nn.MSELoss()', 'nn.L1Loss()', 'nn.SmoothL1Loss()', 'nn.HuberLoss()', 'MASE()']\n",
    "    \"LOSS_FN\":          \"F.mse_loss(output, target)\", # ['F.mse_loss(output, target)', 'F.l1_loss(output, target)', 'F.smooth_l1_loss(output, target)', 'F.huber_loss(output, target)', 'F.mase_loss(output, target)']\n",
    "\n",
    "    # SAVE & LOAD: -----------------------------------------------------------------\n",
    "    \"MODE\":             \"train_mode\", # ['train_mode', 'test_mode']\n",
    "    \"TRAIN_LOG\":        \"test1.txt\",\n",
    "\n",
    "}\n",
    "for key in CONFIG: globals()[key] = CONFIG[key];"
   ]
  },
  {
   "cell_type": "markdown",
   "metadata": {},
   "source": [
    "___\n",
    "LOCATE DEVICES & SYSTEM FOLDERS"
   ]
  },
  {
   "cell_type": "code",
   "execution_count": 3,
   "metadata": {},
   "outputs": [
    {
     "name": "stdout",
     "output_type": "stream",
     "text": [
      "------------------------------------------------------------\n",
      "Directories:\n",
      "  /home/sieglew/MA-eR-PINN:\t\t\tproject, ref, test, data, src, .git, archive\n",
      "  /home/sieglew/MA-Data:\t\t\t__pycache__, trips_processed_resampled, final, y_true, processed, TripSequences, trips_processed_pickles, final_2, trips_processed_final\n",
      "------------------------------------------------------------\n",
      "Running in notebook mode\n"
     ]
    }
   ],
   "source": [
    "# LOCATE REPOSITORY/DATASTORAGE IN CURRENT SYSTEM ENVIRONMENT  ---------------------------\n",
    "# ----------------------------------------------------------------------------------------\n",
    "import sys, os\n",
    "if 'ROOT' not in globals(): global ROOT; ROOT = Path('../..').resolve()\n",
    "print(f\"{'-'*60}\\nDirectories:\\n  {ROOT}:\\t\\t\\t{', '.join([_.name for _ in ROOT.glob('*/')])}\")\n",
    "sys.path.append(os.path.abspath(ROOT))\n",
    "from data import get_data_path  # paths set in \"data/__init__.py\"\n",
    "global DATA_PATH\n",
    "DATA_PATH = get_data_path()\n",
    "print(f\"  {DATA_PATH}:\\t\\t\\t{', '.join([_.name for _ in DATA_PATH.glob('*/')])}\")\n",
    "\n",
    "# INTERNAL MODULE IMPORTS ----------------------------------------------------------------\n",
    "# ----------------------------------------------------------------------------------------\n",
    "from src.utils.data_utils import *\n",
    "from src.utils.Trainer import *\n",
    "\n",
    "# NOTEBOOK / SCRIPT SETTINGS -------------------------------------------------------------\n",
    "# ----------------------------------------------------------------------------------------\n",
    "global IS_NOTEBOOK\n",
    "IS_NOTEBOOK = False\n",
    "try:    # if running in IPython\n",
    "    shell = get_ipython().__class__.__name__ # type: ignore \n",
    "    from IPython.display import display, HTML, Javascript, clear_output\n",
    "    from IPython.core.magic import register_cell_magic\n",
    "    @register_cell_magic    # cells can be skipped by using '%%skip' in the first line\n",
    "    def skip(line, cell): return\n",
    "    from tqdm.notebook import tqdm as tqdm_nb\n",
    "    IS_NOTEBOOK = True\n",
    "    print(f\"{'-'*60}\\nRunning in notebook mode\")\n",
    "except (NameError, ImportError):    # if running in script\n",
    "    from tqdm import tqdm as tqdm\n",
    "    from tabulate import tabulate\n",
    "    print(f\"{'-'*60}\\nRunning in script mode\")\n",
    "    \n",
    "# GENERAL MODULE IMPORTS -----------------------------------------------------------------\n",
    "# ----------------------------------------------------------------------------------------\n",
    "import math, time, random, pickle\n",
    "import numpy as np\n",
    "import pandas as pd\n",
    "import matplotlib.pyplot as plt; plt.style.use('ggplot')\n",
    "import pyarrow.parquet as pq\n",
    "from copy import deepcopy\n",
    "from datetime import datetime\n",
    "\n",
    "from sklearn.preprocessing import StandardScaler, MinMaxScaler, MaxAbsScaler\n",
    "from sklearn.model_selection import train_test_split, GridSearchCV\n",
    "from sklearn.metrics import root_mean_squared_error, mean_absolute_error, mean_squared_error, r2_score\n",
    "from scipy.signal import savgol_filter\n",
    "\n",
    "import torch\n",
    "from torch import nn\n",
    "from torch.nn import functional as F\n",
    "from torch.nn.parameter import Parameter\n",
    "from torch.nn.utils.rnn import pack_sequence, pad_sequence, pack_padded_sequence, pad_packed_sequence\n",
    "from torch.utils.data import DataLoader, TensorDataset, Dataset, random_split\n",
    "torch.set_default_dtype(torch.float32); torch.set_printoptions(precision=6, sci_mode=True)\n",
    "torch.manual_seed(SEED); random.seed(SEED); np.random.seed(SEED)\n",
    "\n",
    "from torchmetrics.functional import mean_squared_error\n",
    "from pytorch_forecasting.metrics import MASE"
   ]
  },
  {
   "cell_type": "code",
   "execution_count": 4,
   "metadata": {},
   "outputs": [
    {
     "name": "stdout",
     "output_type": "stream",
     "text": [
      "CONFIG Dictionary:\n",
      "---------------------------------------------------------------------------------------------------------------------------------\n",
      "     Parameter        Value\n",
      "--  ---------------  ------------------------------------------------------------------------------------------------------------\n",
      "0   GPU_SELECT       2\n",
      "1   ROOT             /home/sieglew/MA-eR-PINN\n",
      "2   INPUT_LOCATION   TripSequences/trips_processed_final\n",
      "3   OUTPUT_LOCATION  src/models/pth\n",
      "4   SEED             100\n",
      "5   PLOT_ACTIVE      True\n",
      "6   TRAIN_VAL_TEST   [0.8, 0.19, 0.01]\n",
      "7   MAX_FILES        None\n",
      "8   SCALERS          {'feature_scaler': 'MaxAbsScaler()', 'target_scaler': 'MinMaxScaler(feature_range=(0, 1))'}\n",
      "9   MIN_SEQ_LENGTH   600\n",
      "10  FEATURES         ['actdrvtrnpwrprc_cval',\n",
      "                      'altitude_cval_ippc',\n",
      "                      'motortemperature_pti1',\n",
      "                      'brktempra_cval',\n",
      "                      'hv_batmaxdischrgpwrlim_cval_1',\n",
      "                      'emot_pwr_cval',\n",
      "                      'actualtorque_pti1',\n",
      "                      'powerstagetemperature_pti1',\n",
      "                      'accelpdlposn_cval',\n",
      "                      'airtempoutsd_cval_cpc',\n",
      "                      'airtempinsd_cval_hvac',\n",
      "                      'actualdcvoltage_pti1',\n",
      "                      'hv_batavcelltemp_cval_bms1',\n",
      "                      'epto_pwr_cval',\n",
      "                      'maxtracpwrpct_cval',\n",
      "                      'airtempinsd_rq',\n",
      "                      'bs_brk_cval',\n",
      "                      'brc_stat_brc1',\n",
      "                      'vehspd_cval_cpc',\n",
      "                      'vehweight_cval_pt',\n",
      "                      'actualspeed_pti1',\n",
      "                      'selgr_rq_pt',\n",
      "                      'rmsmotorcurrent_pti1',\n",
      "                      'roadgrad_cval_pt',\n",
      "                      'currpwr_contendrnbrkresist_cval',\n",
      "                      'elcomp_pwrcons_cval',\n",
      "                      'hv_ptc_cabin1_pwr_cval',\n",
      "                      'maxrecuppwrprc_cval',\n",
      "                      'txoiltemp_cval_tcm']\n",
      "11  TARGETS          ['hv_bat_soc_cval_bms1']\n",
      "12  HIDDEN_SIZE      400\n",
      "13  NUM_LAYERS       2\n",
      "14  DROPOUT          0.5\n",
      "15  NUM_EPOCHS       20\n",
      "16  BATCH_SIZE       32\n",
      "17  LEARNING_RATE    0.01\n",
      "18  OPTIMIZER        torch.optim.AdamW(model.parameters(), lr = LEARNING_RATE, weight_decay = 1e-3)\n",
      "19  LRSCHEDULER      torch.optim.lr_scheduler.ReduceLROnPlateau(optimizer, mode='min', patience = 2, factor = 0.5, min_lr = 1e-7)\n",
      "20  CRITERION        nn.SmoothL1Loss()\n",
      "21  LOSS_FN          F.mse_loss(output, target)\n",
      "22  MODE             train_mode\n",
      "23  TRAIN_LOG        test1.txt \n",
      "---------------------------------------------------------------------------------------------------------------------------------\n",
      "\n",
      "Torch version:  2.4.1+cu121\n",
      "Using: -->  CUDA:2\n"
     ]
    }
   ],
   "source": [
    "# PRINT CONFIG ---------------------------------------------------------------------\n",
    "config_df = pd.DataFrame(list(CONFIG.items()), columns=['Parameter', 'Value'])\n",
    "config_df['Value'] = config_df['Value'].apply(lambda x: str(x).replace(',', ',\\n') if len(str(x)) > 120 else str(x))\n",
    "print(f\"CONFIG Dictionary:\\n{'-'*129}\\n\", tabulate(config_df, headers='keys', colalign=(\"left\", \"left\"), \\\n",
    "    maxcolwidths=[30, 120]), f\"\\n{'-'*129}\\n\")\n",
    "\n",
    "# DEVICE SELECTION ---------------------------------------------------------------------\n",
    "global DEVICE\n",
    "print(f\"Torch version: \", torch.__version__)\n",
    "if not torch.cuda.is_available() or GPU_SELECT is None: DEVICE = torch.device(\"cpu\")\n",
    "else: DEVICE = torch.device(f\"cuda:{GPU_SELECT}\")\n",
    "print(f\"Using: -->  {str(DEVICE).upper()}\")"
   ]
  },
  {
   "cell_type": "markdown",
   "metadata": {},
   "source": [
    "___\n",
    "DATA PREPROCESSING"
   ]
  },
  {
   "cell_type": "code",
   "execution_count": 5,
   "metadata": {},
   "outputs": [
    {
     "name": "stdout",
     "output_type": "stream",
     "text": [
      "------------------------------------------------------------\n",
      "Total Files:\t18629\n",
      "Filtered Files:\t14050\n",
      "------------------------------------------------------------\n",
      "                FileName  Length  Index\n",
      "0        V13_T25.parquet   20843   1796\n",
      "1       V18_T775.parquet   19425   5324\n",
      "2       V13_T352.parquet   18308   1746\n",
      "3       V18_T972.parquet   17858   7030\n",
      "4      V16_T1629.parquet   17519   3550\n",
      "...                  ...     ...    ...\n",
      "14045   V12_T273.parquet     602  13860\n",
      "14046   V16_T522.parquet     601   2893\n",
      "14047  V18_T1549.parquet     601   6147\n",
      "14048   V18_T883.parquet     601   8194\n",
      "14049  V17_T3857.parquet     601   8206\n",
      "\n",
      "[14050 rows x 3 columns]\n"
     ]
    }
   ],
   "source": [
    "# FILE SOURCES ---------------------------------------------------------------\n",
    "input_folder = Path(DATA_PATH, INPUT_LOCATION) # Trip parquet files\n",
    "pth_folder = Path(ROOT, OUTPUT_LOCATION)\n",
    "#print(f\"{'-'*60}\\nInput Data:\\t{input_folder}\\nStore model in:\\t{pth_folder}\")\n",
    "\n",
    "# PREPARE TRAIN & TEST SET ---------------------------------------------------\n",
    "all_files = [Path(input_folder, f) for f in os.listdir(input_folder) if f.endswith(\".parquet\")]\n",
    "if MAX_FILES is not None: files = random.sample(all_files, MAX_FILES)\n",
    "else: files = all_files\n",
    "print(f\"{'-'*60}\\nTotal Files:\\t{len(files)}\")\n",
    "# ---------------------------------------------------\n",
    "df = pd.read_parquet(Path(input_folder, random.choice(files)), engine='fastparquet')\n",
    "all_signals = df.columns; assert len(all_signals) == 44\n",
    "\n",
    "# FILTER INPUT FILES --------------------------------------------------------\n",
    "# generate lengths of all files by reading metadata or using presaved lengths\n",
    "try:\n",
    "    presaved_lengths = pd.read_pickle(Path(ROOT, 'data', 'df_files_lengths.pickle'))\n",
    "    presaved_lengths = presaved_lengths.set_index('FileName').to_dict()['Length']\n",
    "    trip_lengths = [presaved_lengths[file.name] for file in files]\n",
    "except:\n",
    "    print(f\"{'-'*60}\\nObtaining sequence lengths... (may take up to 5 minutes)\")\n",
    "    trip_lengths = [pq.read_metadata(file).num_rows for file in files]\n",
    "\n",
    "# discard all items shorter than min_seq_length\n",
    "filtered_files = []\n",
    "filtered_lengths = []\n",
    "for file, length in zip(files, trip_lengths):\n",
    "    if length > MIN_SEQ_LENGTH: \n",
    "        filtered_files.append(file)\n",
    "        filtered_lengths.append(length)\n",
    "\n",
    "# replace lists with only filtered items\n",
    "files = filtered_files\n",
    "trip_lengths = filtered_lengths\n",
    "print(f\"Filtered Files:\\t{len(files)}\\n{'-'*60}\")\n",
    "\n",
    "# SORT INPUT FILES BY SEQUENCE LENGTH --------------------------------------\n",
    "# this is needed in order to later sort the sequence by their length\n",
    "file_length_mapping = sorted([(file.name, length, idx) for idx, (file, length) in enumerate(zip(files, trip_lengths))], \\\n",
    "    key=lambda x: x[1], reverse=True)\n",
    "\n",
    "file_length_df = pd.DataFrame(file_length_mapping, columns=['FileName', 'Length', 'Index'])\n",
    "indices_by_length = file_length_df['Index'].to_list()\n",
    "sorted_trip_lengths = file_length_df['Length'].to_list()\n",
    "print(file_length_df)"
   ]
  },
  {
   "cell_type": "code",
   "execution_count": 6,
   "metadata": {},
   "outputs": [],
   "source": [
    "# INPUT & TARGET SPECIFICATION ---------------------------------------------------\n",
    "# these signals are required for the physical Model calculation:\n",
    "base_signals = [\"signal_time\", \"hirestotalvehdist_cval_icuc\", \"vehspd_cval_cpc\", \"altitude_cval_ippc\", \"airtempoutsd_cval_cpc\", \n",
    "                \"hv_batpwr_cval_bms1\", \"emot_pwr_cval\",\"bs_roadincln_cval\", \"roadgrad_cval_pt\"]\n",
    "\n",
    "# these signals have to be dropped in order for appropriate training:\n",
    "columns_to_drop = [\"hv_batmomavldischrgen_cval_1\", \"latitude_cval_ippc\", \"longitude_cval_ippc\", \"signal_time\", \"hirestotalvehdist_cval_icuc\"]\n",
    "\n",
    "# ---------------------------------------------------\n",
    "selection_1 = [\"vehspd_cval_cpc\", \"altitude_cval_ippc\", \"airtempoutsd_cval_cpc\", 'roadgrad_cval_pt', \"vehweight_cval_pt\", \"accelpdlposn_cval\", \"bs_brk_cval\", \"elcomp_pwrcons_cval\",\n",
    "               \"epto_pwr_cval\", \"motortemperature_pti1\", \"powerstagetemperature_pti1\", 'airtempinsd_cval_hvac', 'brktempra_cval', 'selgr_rq_pt']\n",
    "selection_2 = [\"hirestotalvehdist_cval_icuc\", \"vehspd_cval_cpc\", \"altitude_cval_ippc\", \"airtempoutsd_cval_cpc\", \"hv_batpwr_cval_bms1\", \"emot_pwr_cval\", \"roadgrad_cval_pt\"]\n",
    "selection_3 = [\"vehspd_cval_cpc\", \"altitude_cval_ippc\", \"airtempoutsd_cval_cpc\", \"vehweight_cval_pt\"]"
   ]
  },
  {
   "cell_type": "code",
   "execution_count": 7,
   "metadata": {},
   "outputs": [
    {
     "name": "stdout",
     "output_type": "stream",
     "text": [
      "------------------------------------------------------------\n",
      "Input Signals:\t38\n",
      "Target Signals:\t1\n"
     ]
    }
   ],
   "source": [
    "# FEATURE SELECTION  ----------------------------------------------------------------------------\n",
    "TARGET_COLUMN = TARGETS\n",
    "INPUT_COLUMNS = FEATURES\n",
    "INPUT_COLUMNS = list(set(all_signals) - set(columns_to_drop) - set(TARGET_COLUMN))\n",
    "print(f\"{'-'*60}\\nInput Signals:\\t{len(INPUT_COLUMNS)}\\nTarget Signals:\\t{len(TARGET_COLUMN)}\")\n",
    "\n",
    "# FEATURE NORMALIZATION/SCALING -----------------------------------------------------------------\n",
    "scaler = eval(SCALERS['feature_scaler'])\n",
    "target_scaler = eval(SCALERS['target_scaler'])"
   ]
  },
  {
   "cell_type": "code",
   "execution_count": null,
   "metadata": {},
   "outputs": [
    {
     "name": "stdout",
     "output_type": "stream",
     "text": [
      " --> Warning: Removed the last 9 samples to ensure a balanced batch size\n",
      "fitting Scalers: MaxAbsScaler, MinMaxScaler\n",
      "\t50% of the fitting done...\n",
      "Done. Create DataSets and DataLoaders...\n",
      "\tNumber of batches created: 351\n",
      "\t\tBatch sizes: [32, 32, 32, 32, 32, 32, 32, 32, 32, 32, 32, 32, 32, 32, 32, 32, 32, 32, 32, 32, 32, 32, 32, 32, 32, 32, 32, 32, 32, 32, 32, 32, 32, 32, 32, 32, 32, 32, 32, 32, 32, 32, 32, 32, 32, 32, 32, 32, 32, 32, 32, 32, 32, 32, 32, 32, 32, 32, 32, 32, 32, 32, 32, 32, 32, 32, 32, 32, 32, 32, 32, 32, 32, 32, 32, 32, 32, 32, 32, 32, 32, 32, 32, 32, 32, 32, 32, 32, 32, 32, 32, 32, 32, 32, 32, 32, 32, 32, 32, 32, 32, 32, 32, 32, 32, 32, 32, 32, 32, 32, 32, 32, 32, 32, 32, 32, 32, 32, 32, 32, 32, 32, 32, 32, 32, 32, 32, 32, 32, 32, 32, 32, 32, 32, 32, 32, 32, 32, 32, 32, 32, 32, 32, 32, 32, 32, 32, 32, 32, 32, 32, 32, 32, 32, 32, 32, 32, 32, 32, 32, 32, 32, 32, 32, 32, 32, 32, 32, 32, 32, 32, 32, 32, 32, 32, 32, 32, 32, 32, 32, 32, 32, 32, 32, 32, 32, 32, 32, 32, 32, 32, 32, 32, 32, 32, 32, 32, 32, 32, 32, 32, 32, 32, 32, 32, 32, 32, 32, 32, 32, 32, 32, 32, 32, 32, 32, 32, 32, 32, 32, 32, 32, 32, 32, 32, 32, 32, 32, 32, 32, 32, 32, 32, 32, 32, 32, 32, 32, 32, 32, 32, 32, 32, 32, 32, 32, 32, 32, 32, 32, 32, 32, 32, 32, 32, 32, 32, 32, 32, 32, 32, 32, 32, 32, 32, 32, 32, 32, 32, 32, 32, 32, 32, 32, 32, 32, 32, 32, 32, 32, 32, 32, 32, 32, 32, 32, 32, 32, 32, 32, 32, 32, 32, 32, 32, 32, 32, 32, 32, 32, 32, 32, 32, 32, 32, 32, 32, 32, 32, 32, 32, 32, 32, 32, 32, 32, 32, 32, 32, 32, 32, 32, 32, 32, 32, 32, 32, 32, 32, 32, 32, 32, 32, 32, 32, 32, 32, 32, 32, 32, 32, 32, 32, 32, 32, 32, 32, 32, 32, 32, 32]\n",
      "\tNumber of batches created: 84\n",
      "\t\tBatch sizes: [32, 32, 32, 32, 32, 32, 32, 32, 32, 32, 32, 32, 32, 32, 32, 32, 32, 32, 32, 32, 32, 32, 32, 32, 32, 32, 32, 32, 32, 32, 32, 32, 32, 32, 32, 32, 32, 32, 32, 32, 32, 32, 32, 32, 32, 32, 32, 32, 32, 32, 32, 32, 32, 32, 32, 32, 32, 32, 32, 32, 32, 32, 32, 32, 32, 32, 32, 32, 32, 32, 32, 32, 32, 32, 32, 32, 32, 32, 32, 32, 32, 32, 32, 13]\n",
      "\tNumber of batches created: 5\n",
      "\t\tBatch sizes: [32, 32, 32, 32, 12]\n"
     ]
    }
   ],
   "source": [
    "# GENERATE DATALOADERS ---------------------------------------------------------------\n",
    "\n",
    "# DATA SET SPLITTING AND SORTING ----------------------------------------------------------------\n",
    "train_subset, val_subset, test_subset = random_split(files, TRAIN_VAL_TEST)\n",
    "\n",
    "# DATALOADER SETTINGS ------------------------------------------------------------------\n",
    "dataloader_settings = {\n",
    "    'batch_size': 1,                # see *Note above\n",
    "    'shuffle': True,                # shuffle the batches before each epoch\n",
    "    'collate_fn': collate_fn,       # include optional arguments\n",
    "    'num_workers': 4,               # number of workers\n",
    "    'pin_memory': False if DEVICE.type == 'cpu' else True\n",
    "}\n",
    "\n",
    "# PREPARE TRAIN, VAL & TEST DATALOADERS  ------------------------------------------------------------\n",
    "train_subset, train_dataset, train_dataset_batches, train_loader = prepare_dataloader(train_subset, indices_by_length, \\\n",
    "    BATCH_SIZE, INPUT_COLUMNS, TARGET_COLUMN, scaler, target_scaler, dataloader_settings, fit=True, drop_last=True)\n",
    "\n",
    "val_subset, val_dataset, val_dataset_batches, val_loader = prepare_dataloader(val_subset, indices_by_length, \\\n",
    "    BATCH_SIZE, INPUT_COLUMNS, TARGET_COLUMN, scaler, target_scaler, dataloader_settings, fit=False)\n",
    "\n",
    "test_subset, test_dataset, test_dataset_batches, test_loader = prepare_dataloader(test_subset, indices_by_length, \\\n",
    "    BATCH_SIZE, INPUT_COLUMNS, TARGET_COLUMN, scaler, target_scaler, dataloader_settings, fit=False)"
   ]
  },
  {
   "cell_type": "code",
   "execution_count": 9,
   "metadata": {},
   "outputs": [
    {
     "name": "stdout",
     "output_type": "stream",
     "text": [
      "------------------------------------------------------------\n",
      "Train size:  36564651\t\t(Files: 11232)\n",
      "Val. size:   8819620\t\t(Files: 2669)\n",
      "Test size:   487958\t\t(Files: 140) \n",
      " ------------------------------------------------------------\n",
      "\tRemoved 9 file from the dataset\n",
      "------------------------------------------------------------\n",
      "first 3 train files: ['V13_T25.parquet', 'V18_T775.parquet', 'V13_T352.parquet']\n"
     ]
    }
   ],
   "source": [
    "# Print the size of the datasets ----------------------------------\n",
    "print(f\"{'-'*60}\\nTrain size:  {len(train_dataset)}\\t\\t(Files: {len(train_subset)})\")\n",
    "print(f'Val. size:   {len(val_dataset)}\\t\\t(Files: {len(val_subset)})')\n",
    "print(f'Test size:   {len(test_dataset)}\\t\\t(Files: {len(test_subset)}) \\n {\"-\"*60}')\n",
    "\n",
    "if train_dataset.__len__() != sum(len(data) for data in train_dataset.data): print(\"Warning: Train Dataset Length Mismatch\")\n",
    "if len(train_subset)+len(val_subset)+len(test_subset) != len(files): \n",
    "    print(f\"\\tRemoved {len(files) - (len(train_subset)+len(val_subset)+len(test_subset))} file from the dataset\\n{'-'*60}\")\n",
    "    \n",
    "subset_files = {\"train_files\": list(train_dataset.file_list), \"val_files\": list(val_dataset.file_list), \"test_files\": list(test_dataset.file_list)}\n",
    "print(f\"first 3 train files: {[os.path.basename(_) for _ in subset_files['train_files'][:3]]}\")"
   ]
  },
  {
   "cell_type": "code",
   "execution_count": 10,
   "metadata": {},
   "outputs": [],
   "source": [
    "%%skip\n",
    "if IS_NOTEBOOK and PLOT_ACTIVE:\n",
    "    # SEQUENCE PADDING: VISUALIZATION ----------------------------------\n",
    "    # compare padding proportions for unsorted and sorted sequences, as well as for the train, val, and test sets\n",
    "    _ = plot_padded_sequences(BATCH_SIZE, trip_lengths, \"padding values (unsorted)\")\n",
    "    _ = plot_padded_sequences(BATCH_SIZE, sorted_trip_lengths, \"padding values (sorted)\")\n",
    "    _ = plot_padded_sequences(BATCH_SIZE, get_trip_lengths_from_loader(train_loader), \"padding values (Train Set)\")\n",
    "    _ = plot_padded_sequences(BATCH_SIZE, get_trip_lengths_from_loader(val_loader), \"padding values (Val Set)\")\n",
    "    _ = plot_padded_sequences(BATCH_SIZE, get_trip_lengths_from_loader(test_loader), \"padding values (Test Set)\")"
   ]
  },
  {
   "cell_type": "code",
   "execution_count": 11,
   "metadata": {},
   "outputs": [],
   "source": [
    "if False:\n",
    "    # BATCH LOADER CHECK -----------------------------------------------------------------------\n",
    "    # Iterate through the train_loader once and print a batch example of a PackedSequence\n",
    "    for batch_idx, (packed_inputs, padded_targets, lengths) in enumerate(train_loader):\n",
    "        print(f\"Batch {batch_idx}\")\n",
    "        print(f\"Shape of packed_inputs.data: {packed_inputs.data.shape}\")\n",
    "        print(f\"Lengths: {lengths}\")\n",
    "        # check correct types and shapes\n",
    "        assert type(packed_inputs) == torch.nn.utils.rnn.PackedSequence\n",
    "        assert type(packed_inputs.data) == torch.Tensor\n",
    "        assert type(packed_inputs.batch_sizes) == torch.Tensor\n",
    "        assert type(padded_targets) == torch.Tensor\n",
    "        assert type(lengths) == torch.Tensor\n",
    "        assert len(packed_inputs.batch_sizes) == max(lengths)\n",
    "        assert sum(lengths) == packed_inputs.data.shape[0]\n",
    "        break"
   ]
  },
  {
   "cell_type": "code",
   "execution_count": null,
   "metadata": {},
   "outputs": [],
   "source": [
    "'''\n",
    "Move to model defintions\n",
    "'''\n",
    "# LSTM NETWORK -----------------------------------------------------------------------\n",
    "class LSTM1_keep_hidden_cell(nn.Module):\n",
    "    def __init__(self, input_size, hidden_size, num_layers, dropout, device=DEVICE):\n",
    "        super(LSTM1_keep_hidden_cell, self).__init__()\n",
    "\n",
    "        self.input_size = input_size    # input size\n",
    "        self.hidden_size = hidden_size  # hidden state\n",
    "        self.num_layers = num_layers    # number of layers\n",
    "        self.dropout = dropout\n",
    "        self.device = device\n",
    "\n",
    "        # LSTM CELL --------------------------------\n",
    "        self.lstm = nn.LSTM(\n",
    "            self.input_size,            # The number of expected features in the input x\n",
    "            self.hidden_size,           # The number of features in the hidden state h\n",
    "            self.num_layers,            # Number of recurrent layers for stacked LSTMs. Default: 1\n",
    "            batch_first=True,           # If True, then the input and output tensors are provided as (batch, seq, feature) instead of (seq, batch, feature). Default: False\n",
    "            bias=True,                  # If False, then the layer does not use bias weights b_ih and b_hh. Default: True\n",
    "            dropout=self.dropout,       # usually: [0.2 - 0.5], introduces a Dropout layer on the outputs of each LSTM layer except the last layer, (dropout probability). Default: 0\n",
    "            bidirectional=False,        # If True, becomes a bidirectional LSTM. Default: False\n",
    "            proj_size=0,                # If > 0, will use LSTM with projections of corresponding size. Default: 0\n",
    "            device=self.device\n",
    "        )\n",
    "\n",
    "        self.relu = nn.ReLU()\n",
    "        self.fc_test = nn.Linear(hidden_size, 1)\n",
    "    \n",
    "    def forward(self, packed_input, hidden=None, cell=None):\n",
    "\n",
    "        '''        \n",
    "        # initial hidden and internal states (default to 0 if not explicitly provided)\n",
    "        # --------------------------------\n",
    "        h_0 = torch.zeros(self.num_layers, input.size(0) if batch_size is None else batch_size, self.hidden_size)\n",
    "        c_0 = torch.zeros(self.num_layers, input.size(0) if batch_size is None else batch_size, self.hidden_size)  \n",
    "        # --------------------------------\n",
    "        out = self.relu(hn.view(-1, self.hidden_size)) # reshaping the data for Dense layer next\n",
    "        out = self.fc_1(out) # first Dense\n",
    "        out = self.relu(out) # relu\n",
    "        out = self.fc(out) # Final Output\n",
    "        '''\n",
    "\n",
    "        # ALWAYS SET TO ZERO:::\n",
    "        #if hidden is None or cell is None:\n",
    "        hidden = torch.zeros(self.num_layers, packed_input.batch_sizes[0].item(), self.hidden_size).to(self.device)\n",
    "        cell = torch.zeros(self.num_layers, packed_input.batch_sizes[0].item(), self.hidden_size).to(self.device)\n",
    "\n",
    "        # Propagate input through LSTM\n",
    "        # --------------------------------\n",
    "        # output, (hn, cn) = self.lstm(input, (h_0, c_0)) # lstm with input, hidden, and internal state\n",
    "        # input shape:      (batch_size, seq_length, input_size)\n",
    "        # output shape:     (batch_size, seq_length, hidden_size)\n",
    "\n",
    "        packed_out, (hidden, cell) = self.lstm(packed_input, (hidden, cell))\n",
    "        #print(f\"LSTM: Output after LSTM: {packed_out.data.shape}, {type(packed_out)}\")\n",
    "        #print(f\"             hidden: {hidden.shape}, {type(hidden)}\")\n",
    "        #print(f\"             cell: {cell.shape}, {type(cell)}\")\n",
    "\n",
    "        # Unpack the output\n",
    "        out, _ = pad_packed_sequence(packed_out, batch_first=True)\n",
    "        #print(f\"             after packing: {out.shape}, {type(out)}\")\n",
    "\n",
    "        # Output layers\n",
    "        out = self.relu(out)  # relu\n",
    "        #print(f\"             after relu: {out.shape}, {type(out)}\")\n",
    "\n",
    "        out = self.fc_test(out)  # Use all outputs for prediction\n",
    "        #print(f\"             after fc: {out.shape}, {type(out)}\")\n",
    "        \n",
    "        return out, (hidden, cell)\n",
    "        \n",
    "\n",
    "class LSTM1_packed_old_version(nn.Module):\n",
    "    def __init__(self, input_size, hidden_size, num_layers, seq_length, dropout, device=DEVICE):\n",
    "        super(LSTM1_packed_old_version, self).__init__()\n",
    "\n",
    "        self.input_size = input_size    # input size\n",
    "        self.hidden_size = hidden_size  # hidden state\n",
    "        self.num_layers = num_layers    # number of layers\n",
    "        self.dropout = dropout\n",
    "        self.seq_length = seq_length    # sequence length\n",
    "\n",
    "        # LSTM CELL --------------------------------\n",
    "        self.lstm = nn.LSTM(\n",
    "            self.input_size,            # The number of expected features in the input x\n",
    "            self.hidden_size,           # The number of features in the hidden state h\n",
    "            self.num_layers,            # Number of recurrent layers for stacked LSTMs. Default: 1\n",
    "            batch_first=True,           # If True, then the input and output tensors are provided as (batch, seq, feature) instead of (seq, batch, feature). Default: False\n",
    "            bias=True,                  # If False, then the layer does not use bias weights b_ih and b_hh. Default: True\n",
    "            dropout=self.dropout,       # usually: [0.2 - 0.5], introduces a Dropout layer on the outputs of each LSTM layer except the last layer, (dropout probability). Default: 0\n",
    "            bidirectional=False,        # If True, becomes a bidirectional LSTM. Default: False\n",
    "            proj_size=0,                # If > 0, will use LSTM with projections of corresponding size. Default: 0\n",
    "            device=device\n",
    "        )\n",
    "\n",
    "        self.relu = nn.ReLU()\n",
    "        self.fc_test = nn.Linear(hidden_size, 1)\n",
    "    \n",
    "    def forward(self, packed_input, batch_size=None):\n",
    "        # Propagate input through LSTM\n",
    "        packed_out, _ = self.lstm(packed_input)\n",
    "        #print(f\"LSTM: Output after LSTM: {packed_out.data.shape}, {type(packed_out)}\")\n",
    "\n",
    "        # Unpack the output\n",
    "        out, _ = pad_packed_sequence(packed_out, batch_first=True)\n",
    "        #print(f\"             after packing: {out.shape}, {type(out)}\")\n",
    "\n",
    "        # Output layers\n",
    "        out = self.relu(out)  # relu\n",
    "        #print(f\"             after relu: {out.shape}, {type(out)}\")\n",
    "\n",
    "        out = self.fc_test(out)  # Use all outputs for prediction\n",
    "        #print(f\"             after fc: {out.shape}, {type(out)}\")\n",
    "        \n",
    "        return out\n"
   ]
  },
  {
   "cell_type": "code",
   "execution_count": 13,
   "metadata": {},
   "outputs": [
    {
     "data": {
      "text/plain": [
       "'def forward(self, packed_input, batch_size=None):\\n\\n            \\n    # initial hidden and internal states\\n    # --------------------------------\\n    h_0 = torch.zeros(self.num_layers, input.size(0) if batch_size is None else batch_size, self.hidden_size)\\n    c_0 = torch.zeros(self.num_layers, input.size(0) if batch_size is None else batch_size, self.hidden_size)  \\n    # --------------------------------\\n    out = self.relu(hn.view(-1, self.hidden_size)) # reshaping the data for Dense layer next\\n    out = self.fc_1(out) # first Dense\\n    out = self.relu(out) # relu\\n    out = self.fc(out) # Final Output\\n    \\n\\n\\n    # Propagate input through LSTM\\n    packed_out, _ = self.lstm(packed_input)\\n    #print(f\"LSTM: Output after LSTM: {packed_out.data.shape}, {type(packed_out)}\")\\n\\n    # Unpack the output\\n    out, _ = pad_packed_sequence(packed_out, batch_first=True)\\n    #print(f\"             after packing: {out.shape}, {type(out)}\")\\n\\n    # Output layers\\n    out = self.relu(out)  # relu\\n    #print(f\"             after relu: {out.shape}, {type(out)}\")\\n\\n    out = self.fc_test(out)  # Use all outputs for prediction\\n    #print(f\"             after fc: {out.shape}, {type(out)}\")\\n    \\n    return out'"
      ]
     },
     "execution_count": 13,
     "metadata": {},
     "output_type": "execute_result"
    }
   ],
   "source": [
    "'''def forward(self, packed_input, batch_size=None):\n",
    "\n",
    "            \n",
    "    # initial hidden and internal states\n",
    "    # --------------------------------\n",
    "    h_0 = torch.zeros(self.num_layers, input.size(0) if batch_size is None else batch_size, self.hidden_size)\n",
    "    c_0 = torch.zeros(self.num_layers, input.size(0) if batch_size is None else batch_size, self.hidden_size)  \n",
    "    # --------------------------------\n",
    "    out = self.relu(hn.view(-1, self.hidden_size)) # reshaping the data for Dense layer next\n",
    "    out = self.fc_1(out) # first Dense\n",
    "    out = self.relu(out) # relu\n",
    "    out = self.fc(out) # Final Output\n",
    "    \n",
    "\n",
    "\n",
    "    # Propagate input through LSTM\n",
    "    packed_out, _ = self.lstm(packed_input)\n",
    "    #print(f\"LSTM: Output after LSTM: {packed_out.data.shape}, {type(packed_out)}\")\n",
    "\n",
    "    # Unpack the output\n",
    "    out, _ = pad_packed_sequence(packed_out, batch_first=True)\n",
    "    #print(f\"             after packing: {out.shape}, {type(out)}\")\n",
    "\n",
    "    # Output layers\n",
    "    out = self.relu(out)  # relu\n",
    "    #print(f\"             after relu: {out.shape}, {type(out)}\")\n",
    "\n",
    "    out = self.fc_test(out)  # Use all outputs for prediction\n",
    "    #print(f\"             after fc: {out.shape}, {type(out)}\")\n",
    "    \n",
    "    return out'''"
   ]
  },
  {
   "cell_type": "code",
   "execution_count": 43,
   "metadata": {},
   "outputs": [
    {
     "name": "stdout",
     "output_type": "stream",
     "text": [
      "------------------------------------------------------------\n",
      " LSTM1_packed_old_version(\n",
      "  (lstm): LSTM(38, 400, num_layers=2, batch_first=True, dropout=0.5)\n",
      "  (relu): ReLU()\n",
      "  (fc_test): Linear(in_features=400, out_features=1, bias=True)\n",
      ") ------------------------------------------------------------\n",
      "Model state_dict:\n",
      "lstm.weight_ih_l0:\t torch.Size([1600, 38])\n",
      "lstm.weight_hh_l0:\t torch.Size([1600, 400])\n",
      "lstm.bias_ih_l0:\t torch.Size([1600])\n",
      "lstm.bias_hh_l0:\t torch.Size([1600])\n",
      "lstm.weight_ih_l1:\t torch.Size([1600, 400])\n",
      "lstm.weight_hh_l1:\t torch.Size([1600, 400])\n",
      "lstm.bias_ih_l1:\t torch.Size([1600])\n",
      "lstm.bias_hh_l1:\t torch.Size([1600])\n",
      "fc_test.weight:\t torch.Size([1, 400])\n",
      "fc_test.bias:\t torch.Size([1])\n"
     ]
    }
   ],
   "source": [
    "# MODEL CONFIGURATION -----------------------------------------------------------------------\n",
    "\n",
    "# LAYERS --------------------------------\n",
    "input_size = len(INPUT_COLUMNS)     # expected features in the input x\n",
    "hidden_size = HIDDEN_SIZE           # features in the hidden state h\n",
    "num_layers = NUM_LAYERS             # recurrent layers for stacked LSTMs. Default: 1\n",
    "num_classes = 1                     # output classes (=1 for regression)\n",
    "\n",
    "# INSTANTIATE MODEL --------------------\n",
    "model = LSTM1_packed_old_version(input_size, HIDDEN_SIZE, NUM_LAYERS, 60, DROPOUT).to(DEVICE)\n",
    "print(f\"{'-'*60}\\n\", model, f\"{'-'*60}\\nModel state_dict:\")\n",
    "for param_tensor in model.state_dict(): print(f\"{param_tensor}:\\t {model.state_dict()[param_tensor].size()}\") \n",
    "# --> Note torch.Size([4*hidden_size, input_size]) for LSTM weights because of i,o,f,g params concatenated"
   ]
  },
  {
   "cell_type": "code",
   "execution_count": 44,
   "metadata": {},
   "outputs": [
    {
     "name": "stdout",
     "output_type": "stream",
     "text": [
      "------------------------------------------------------------\n",
      "AdamW (\n",
      "Parameter Group 0\n",
      "    amsgrad: False\n",
      "    betas: (0.9, 0.999)\n",
      "    capturable: False\n",
      "    differentiable: False\n",
      "    eps: 1e-08\n",
      "    foreach: None\n",
      "    fused: None\n",
      "    lr: 0.01\n",
      "    maximize: False\n",
      "    weight_decay: 0.001\n",
      ")\n",
      "------------------------------------------------------------\n",
      "LRScheduler: <class 'torch.optim.lr_scheduler.ReduceLROnPlateau'>\n",
      "------------------------------------------------------------\n",
      "Loss_Fn: F.mse_loss(output, target)\n",
      "------------------------------------------------------------\n",
      "Criterion: <class 'torch.nn.modules.loss.SmoothL1Loss'>\n",
      "------------------------------------------------------------\n",
      "\n"
     ]
    }
   ],
   "source": [
    "# TRAINING CONFIGURATION -----------------------------------------------------------------------\n",
    "\n",
    "# OPTIMIZER --------------------------------------------------------------------------------\n",
    "# common optimizers: ['torch.optim.Adam', 'torch.optim.SGD', 'torch.optim.RMSprop']\n",
    "if 'OPTIMIZER' in globals(): optimizer = eval(OPTIMIZER)\n",
    "else: optimizer = torch.optim.AdamW(model.parameters(), lr = LEARNING_RATE,\n",
    "        weight_decay = 1e-4      # weight decay coefficient (default: 1e-2)\n",
    "        #betas = (0.9, 0.95),    # coefficients used for computing running averages of gradient and its square (default: (0.9, 0.999))\n",
    "        #eps = 1e-8,             # term added to the denominator to improve numerical stability (default: 1e-8)\n",
    ")\n",
    "print(f\"{'-'*60}\\n{optimizer}\\n{'-'*60}\")\n",
    "\n",
    "# LR SCHEDULER ----------------------------------------------------------------------------\n",
    "if 'LRSCHEDULER' in globals(): scheduler = eval(LRSCHEDULER)\n",
    "else: scheduler = torch.optim.lr_scheduler.ReduceLROnPlateau(optimizer, mode='min', patience = 2, factor = 0.5, min_lr = 1e-6)\n",
    "print(f\"LRScheduler: {scheduler.__class__}\\n{'-'*60}\")\n",
    "\n",
    "# LOSS FUNCTION ----------------------------------------------------------------\n",
    "def loss_fn(output, target):\n",
    "    if 'LOSS_FN' in globals(): loss = eval(LOSS_FN)\n",
    "    else: loss = F.mse_loss(output, target) # mean-squared error for regression\n",
    "    return loss\n",
    "\n",
    "# or define criterion function:\n",
    "criterion_list = [nn.MSELoss(), nn.L1Loss(), nn.SmoothL1Loss(), nn.HuberLoss(), MASE()]\n",
    "\n",
    "if 'CRITERION' in globals(): criterion = eval(CRITERION)\n",
    "else: criterion = nn.SmoothL1Loss()\n",
    "print(f\"Loss_Fn: {LOSS_FN}\\n{'-'*60}\")\n",
    "print(f\"Criterion: {criterion.__class__}\\n{'-'*60}\\n\")"
   ]
  },
  {
   "cell_type": "code",
   "execution_count": 45,
   "metadata": {},
   "outputs": [],
   "source": [
    "# SET NETWORK TRAINER -----------------------------------------------------------------\n",
    "TRAINER = PTrainer_old_version(\n",
    "    model = model, \n",
    "    optimizer = optimizer,\n",
    "    scheduler = scheduler, \n",
    "    loss_fn = criterion, \n",
    "    train_loader = train_loader,\n",
    "    val_loader = val_loader,\n",
    "    test_loader = test_loader,\n",
    "    num_epochs = NUM_EPOCHS, \n",
    "    device = DEVICE, \n",
    "    is_notebook = IS_NOTEBOOK,\n",
    "    use_mixed_precision = True,\n",
    "    log_file = TRAIN_LOG\n",
    "    )"
   ]
  },
  {
   "cell_type": "code",
   "execution_count": null,
   "metadata": {},
   "outputs": [
    {
     "name": "stdout",
     "output_type": "stream",
     "text": [
      "------------------------------------------------------------\n",
      "Training Started.\tProcess ID: 1218716 \n",
      "------------------------------------------------------------\n",
      "Model: LSTM1_packed_old_version\tParameters on device: CUDA:2\n",
      "------------------------------------------------------------\n",
      "Train/Batch size:\t351 / 1\n",
      "Loss:\t\t\tSmoothL1Loss()\n",
      "Optimizer:\t\tAdamW\n",
      "LR:\t\t\t0.01\n",
      "Weight Decay:\t\t0.001\n",
      "------------------------------------------------------------\n"
     ]
    },
    {
     "data": {
      "text/html": [
       "<div id=\"scrollable_table\" style=\"height: 300px; overflow-y: scroll;\">\n",
       "    <table id=\"training_table\" style=\"width:60%; border-collapse: collapse;\">\n",
       "        <thead style=\"position: sticky; top: 0; z-index: 1;\">\n",
       "            <tr>\n",
       "                <th style=\"font-weight:bold; width:15%; text-align:left; padding: 10px; background-color: #404040;\">Epoch</th>\n",
       "                <th style=\"font-weight:bold; width:25%; text-align:left; padding: 10px; background-color: #404040;\">Iteration</th>\n",
       "                <th style=\"font-weight:bold; width:30%; text-align:left; padding: 10px; background-color: #404040;\">Batch Loss</th>\n",
       "                <th style=\"font-weight:bold; width:30%; text-align:left; padding: 10px; background-color: #404040;\">Train Loss</th>\n",
       "            </tr>\n",
       "        </thead>\n",
       "        <tbody>\n",
       "        </tbody>\n",
       "    </table>\n",
       "    <script>\n",
       "        function addRow(epoch, step, loss, running_loss) {\n",
       "            var table = document.getElementById(\"training_table\").getElementsByTagName('tbody')[0];\n",
       "            var row = table.insertRow(-1);\n",
       "            var cell1 = row.insertCell(0);\n",
       "            var cell2 = row.insertCell(1);\n",
       "            var cell3 = row.insertCell(2);\n",
       "            var cell4 = row.insertCell(3);\n",
       "            cell1.style.textAlign = \"left\";\n",
       "            cell2.style.textAlign = \"left\";\n",
       "            cell3.style.textAlign = \"left\";\n",
       "            cell4.style.textAlign = \"left\";\n",
       "            cell1.innerHTML = epoch;\n",
       "            cell2.innerHTML = step;\n",
       "            cell3.innerHTML = loss;\n",
       "            cell4.innerHTML = running_loss;\n",
       "            var scrollableDiv = document.getElementById(\"scrollable_table\");\n",
       "            scrollableDiv.scrollTop = scrollableDiv.scrollHeight;\n",
       "        }\n",
       "    </script>\n",
       "    </div>"
      ]
     },
     "metadata": {},
     "output_type": "display_data"
    },
    {
     "data": {
      "application/vnd.jupyter.widget-view+json": {
       "model_id": "b5244cd302754c45821214e106e9976f",
       "version_major": 2,
       "version_minor": 0
      },
      "text/plain": [
       "  0%|          | 0/351 [00:00<?, ?batch/s]"
      ]
     },
     "metadata": {},
     "output_type": "display_data"
    },
    {
     "data": {
      "text/html": [
       "<script>addRow(\"<b>1/20\", \"1/351\", \"0.154850\", \"\");</script>"
      ]
     },
     "metadata": {},
     "output_type": "display_data"
    },
    {
     "data": {
      "text/html": [
       "<script>addRow(\"\", \"87\", \"0.017235\", \"\");</script>"
      ]
     },
     "metadata": {},
     "output_type": "display_data"
    },
    {
     "data": {
      "text/html": [
       "<script>addRow(\"\", \"174\", \"0.011582\", \"\");</script>"
      ]
     },
     "metadata": {},
     "output_type": "display_data"
    },
    {
     "data": {
      "text/html": [
       "<script>addRow(\"\", \"261\", \"0.002835\", \"\");</script>"
      ]
     },
     "metadata": {},
     "output_type": "display_data"
    },
    {
     "data": {
      "text/html": [
       "<script>addRow(\"\", \"351\", \"0.002609\", \"<b>0.032467\");</script>"
      ]
     },
     "metadata": {},
     "output_type": "display_data"
    },
    {
     "data": {
      "text/html": [
       "<script>addRow(\"<b>Val\", \"Validation Loss:\", \"<b>0.002384\", \"\");</script>"
      ]
     },
     "metadata": {},
     "output_type": "display_data"
    },
    {
     "data": {
      "application/vnd.jupyter.widget-view+json": {
       "model_id": "ee52cfa2313b436db0c1ebb8e4264e7c",
       "version_major": 2,
       "version_minor": 0
      },
      "text/plain": [
       "  0%|          | 0/351 [00:00<?, ?batch/s]"
      ]
     },
     "metadata": {},
     "output_type": "display_data"
    },
    {
     "data": {
      "text/html": [
       "<script>addRow(\"<b>2/20\", \"1/351\", \"0.002637\", \"\");</script>"
      ]
     },
     "metadata": {},
     "output_type": "display_data"
    },
    {
     "data": {
      "text/html": [
       "<script>addRow(\"\", \"87\", \"0.000710\", \"\");</script>"
      ]
     },
     "metadata": {},
     "output_type": "display_data"
    },
    {
     "data": {
      "text/html": [
       "<script>addRow(\"\", \"174\", \"0.002740\", \"\");</script>"
      ]
     },
     "metadata": {},
     "output_type": "display_data"
    },
    {
     "data": {
      "text/html": [
       "<script>addRow(\"\", \"261\", \"0.001203\", \"\");</script>"
      ]
     },
     "metadata": {},
     "output_type": "display_data"
    },
    {
     "data": {
      "text/html": [
       "<script>addRow(\"\", \"351\", \"0.001365\", \"<b>0.002253\");</script>"
      ]
     },
     "metadata": {},
     "output_type": "display_data"
    },
    {
     "data": {
      "text/html": [
       "<script>addRow(\"<b>Val\", \"Validation Loss:\", \"<b>0.001246\", \"\");</script>"
      ]
     },
     "metadata": {},
     "output_type": "display_data"
    },
    {
     "data": {
      "application/vnd.jupyter.widget-view+json": {
       "model_id": "77a025ca87a1464ca8180861499ab8ff",
       "version_major": 2,
       "version_minor": 0
      },
      "text/plain": [
       "  0%|          | 0/351 [00:00<?, ?batch/s]"
      ]
     },
     "metadata": {},
     "output_type": "display_data"
    },
    {
     "data": {
      "text/html": [
       "<script>addRow(\"<b>3/20\", \"1/351\", \"0.001195\", \"\");</script>"
      ]
     },
     "metadata": {},
     "output_type": "display_data"
    },
    {
     "data": {
      "text/html": [
       "<script>addRow(\"\", \"87\", \"0.002276\", \"\");</script>"
      ]
     },
     "metadata": {},
     "output_type": "display_data"
    },
    {
     "data": {
      "text/html": [
       "<script>addRow(\"\", \"174\", \"0.001005\", \"\");</script>"
      ]
     },
     "metadata": {},
     "output_type": "display_data"
    },
    {
     "data": {
      "text/html": [
       "<script>addRow(\"\", \"261\", \"0.002029\", \"\");</script>"
      ]
     },
     "metadata": {},
     "output_type": "display_data"
    },
    {
     "data": {
      "text/html": [
       "<script>addRow(\"\", \"351\", \"0.001122\", \"<b>0.001424\");</script>"
      ]
     },
     "metadata": {},
     "output_type": "display_data"
    },
    {
     "data": {
      "text/html": [
       "<script>addRow(\"<b>Val\", \"Validation Loss:\", \"<b>0.001202\", \"\");</script>"
      ]
     },
     "metadata": {},
     "output_type": "display_data"
    },
    {
     "data": {
      "application/vnd.jupyter.widget-view+json": {
       "model_id": "f8dc6f0461cb4304ad2d62d81c1eb712",
       "version_major": 2,
       "version_minor": 0
      },
      "text/plain": [
       "  0%|          | 0/351 [00:00<?, ?batch/s]"
      ]
     },
     "metadata": {},
     "output_type": "display_data"
    },
    {
     "data": {
      "text/html": [
       "<script>addRow(\"<b>4/20\", \"1/351\", \"0.001379\", \"\");</script>"
      ]
     },
     "metadata": {},
     "output_type": "display_data"
    },
    {
     "data": {
      "text/html": [
       "<script>addRow(\"\", \"87\", \"0.001012\", \"\");</script>"
      ]
     },
     "metadata": {},
     "output_type": "display_data"
    },
    {
     "data": {
      "text/html": [
       "<script>addRow(\"\", \"174\", \"0.001102\", \"\");</script>"
      ]
     },
     "metadata": {},
     "output_type": "display_data"
    },
    {
     "data": {
      "text/html": [
       "<script>addRow(\"\", \"261\", \"0.001616\", \"\");</script>"
      ]
     },
     "metadata": {},
     "output_type": "display_data"
    },
    {
     "data": {
      "text/html": [
       "<script>addRow(\"\", \"351\", \"0.001817\", \"<b>0.001299\");</script>"
      ]
     },
     "metadata": {},
     "output_type": "display_data"
    },
    {
     "data": {
      "text/html": [
       "<script>addRow(\"<b>Val\", \"Validation Loss:\", \"<b>0.000959\", \"\");</script>"
      ]
     },
     "metadata": {},
     "output_type": "display_data"
    },
    {
     "data": {
      "application/vnd.jupyter.widget-view+json": {
       "model_id": "6d53f2ceeff4446b857847fbeec8ffec",
       "version_major": 2,
       "version_minor": 0
      },
      "text/plain": [
       "  0%|          | 0/351 [00:00<?, ?batch/s]"
      ]
     },
     "metadata": {},
     "output_type": "display_data"
    },
    {
     "data": {
      "text/html": [
       "<script>addRow(\"<b>5/20\", \"1/351\", \"0.000926\", \"\");</script>"
      ]
     },
     "metadata": {},
     "output_type": "display_data"
    },
    {
     "data": {
      "text/html": [
       "<script>addRow(\"\", \"87\", \"0.001738\", \"\");</script>"
      ]
     },
     "metadata": {},
     "output_type": "display_data"
    },
    {
     "data": {
      "text/html": [
       "<script>addRow(\"\", \"174\", \"0.000704\", \"\");</script>"
      ]
     },
     "metadata": {},
     "output_type": "display_data"
    },
    {
     "data": {
      "text/html": [
       "<script>addRow(\"\", \"261\", \"0.000726\", \"\");</script>"
      ]
     },
     "metadata": {},
     "output_type": "display_data"
    },
    {
     "data": {
      "text/html": [
       "<script>addRow(\"\", \"351\", \"0.001279\", \"<b>0.001097\");</script>"
      ]
     },
     "metadata": {},
     "output_type": "display_data"
    },
    {
     "data": {
      "text/html": [
       "<script>addRow(\"<b>Val\", \"Validation Loss:\", \"<b>0.001761\", \"\");</script>"
      ]
     },
     "metadata": {},
     "output_type": "display_data"
    },
    {
     "data": {
      "application/vnd.jupyter.widget-view+json": {
       "model_id": "a83c8cdca0bb45cb9ec674902428e6fc",
       "version_major": 2,
       "version_minor": 0
      },
      "text/plain": [
       "  0%|          | 0/351 [00:00<?, ?batch/s]"
      ]
     },
     "metadata": {},
     "output_type": "display_data"
    },
    {
     "data": {
      "text/html": [
       "<script>addRow(\"<b>6/20\", \"1/351\", \"0.001534\", \"\");</script>"
      ]
     },
     "metadata": {},
     "output_type": "display_data"
    },
    {
     "data": {
      "text/html": [
       "<script>addRow(\"\", \"87\", \"0.000799\", \"\");</script>"
      ]
     },
     "metadata": {},
     "output_type": "display_data"
    },
    {
     "data": {
      "text/html": [
       "<script>addRow(\"\", \"174\", \"0.000760\", \"\");</script>"
      ]
     },
     "metadata": {},
     "output_type": "display_data"
    },
    {
     "data": {
      "text/html": [
       "<script>addRow(\"\", \"261\", \"0.000575\", \"\");</script>"
      ]
     },
     "metadata": {},
     "output_type": "display_data"
    },
    {
     "data": {
      "text/html": [
       "<script>addRow(\"\", \"351\", \"0.000615\", \"<b>0.001249\");</script>"
      ]
     },
     "metadata": {},
     "output_type": "display_data"
    },
    {
     "data": {
      "text/html": [
       "<script>addRow(\"<b>Val\", \"Validation Loss:\", \"<b>0.000864\", \"\");</script>"
      ]
     },
     "metadata": {},
     "output_type": "display_data"
    },
    {
     "data": {
      "application/vnd.jupyter.widget-view+json": {
       "model_id": "560148e038414e93b6d5840d188b9702",
       "version_major": 2,
       "version_minor": 0
      },
      "text/plain": [
       "  0%|          | 0/351 [00:00<?, ?batch/s]"
      ]
     },
     "metadata": {},
     "output_type": "display_data"
    },
    {
     "data": {
      "text/html": [
       "<script>addRow(\"<b>7/20\", \"1/351\", \"0.001162\", \"\");</script>"
      ]
     },
     "metadata": {},
     "output_type": "display_data"
    },
    {
     "data": {
      "text/html": [
       "<script>addRow(\"\", \"87\", \"0.000808\", \"\");</script>"
      ]
     },
     "metadata": {},
     "output_type": "display_data"
    },
    {
     "data": {
      "text/html": [
       "<script>addRow(\"\", \"174\", \"0.001195\", \"\");</script>"
      ]
     },
     "metadata": {},
     "output_type": "display_data"
    },
    {
     "data": {
      "text/html": [
       "<script>addRow(\"\", \"261\", \"0.000936\", \"\");</script>"
      ]
     },
     "metadata": {},
     "output_type": "display_data"
    },
    {
     "data": {
      "text/html": [
       "<script>addRow(\"\", \"351\", \"0.001109\", \"<b>0.000970\");</script>"
      ]
     },
     "metadata": {},
     "output_type": "display_data"
    },
    {
     "data": {
      "text/html": [
       "<script>addRow(\"<b>Val\", \"Validation Loss:\", \"<b>0.001045\", \"\");</script>"
      ]
     },
     "metadata": {},
     "output_type": "display_data"
    },
    {
     "data": {
      "application/vnd.jupyter.widget-view+json": {
       "model_id": "a4421e93738c4e3aa70fa83e04632718",
       "version_major": 2,
       "version_minor": 0
      },
      "text/plain": [
       "  0%|          | 0/351 [00:00<?, ?batch/s]"
      ]
     },
     "metadata": {},
     "output_type": "display_data"
    },
    {
     "data": {
      "text/html": [
       "<script>addRow(\"<b>8/20\", \"1/351\", \"0.001128\", \"\");</script>"
      ]
     },
     "metadata": {},
     "output_type": "display_data"
    },
    {
     "data": {
      "text/html": [
       "<script>addRow(\"\", \"87\", \"0.001734\", \"\");</script>"
      ]
     },
     "metadata": {},
     "output_type": "display_data"
    },
    {
     "data": {
      "text/html": [
       "<script>addRow(\"\", \"174\", \"0.001149\", \"\");</script>"
      ]
     },
     "metadata": {},
     "output_type": "display_data"
    },
    {
     "data": {
      "text/html": [
       "<script>addRow(\"\", \"261\", \"0.001918\", \"\");</script>"
      ]
     },
     "metadata": {},
     "output_type": "display_data"
    },
    {
     "data": {
      "text/html": [
       "<script>addRow(\"\", \"351\", \"0.001310\", \"<b>0.000944\");</script>"
      ]
     },
     "metadata": {},
     "output_type": "display_data"
    },
    {
     "data": {
      "text/html": [
       "<script>addRow(\"<b>Val\", \"Validation Loss:\", \"<b>0.001029\", \"\");</script>"
      ]
     },
     "metadata": {},
     "output_type": "display_data"
    },
    {
     "data": {
      "application/vnd.jupyter.widget-view+json": {
       "model_id": "499c3eac93dc4b51a998309341ac78ef",
       "version_major": 2,
       "version_minor": 0
      },
      "text/plain": [
       "  0%|          | 0/351 [00:00<?, ?batch/s]"
      ]
     },
     "metadata": {},
     "output_type": "display_data"
    },
    {
     "data": {
      "text/html": [
       "<script>addRow(\"<b>9/20\", \"1/351\", \"0.000892\", \"\");</script>"
      ]
     },
     "metadata": {},
     "output_type": "display_data"
    },
    {
     "data": {
      "text/html": [
       "<script>addRow(\"\", \"87\", \"0.000397\", \"\");</script>"
      ]
     },
     "metadata": {},
     "output_type": "display_data"
    },
    {
     "data": {
      "text/html": [
       "<script>addRow(\"\", \"174\", \"0.001503\", \"\");</script>"
      ]
     },
     "metadata": {},
     "output_type": "display_data"
    },
    {
     "data": {
      "text/html": [
       "<script>addRow(\"\", \"261\", \"0.000895\", \"\");</script>"
      ]
     },
     "metadata": {},
     "output_type": "display_data"
    },
    {
     "data": {
      "text/html": [
       "<script>addRow(\"\", \"351\", \"0.001510\", \"<b>0.000877\");</script>"
      ]
     },
     "metadata": {},
     "output_type": "display_data"
    },
    {
     "data": {
      "text/html": [
       "<script>addRow(\"<b>Val\", \"Validation Loss:\", \"<b>0.000662\", \"\");</script>"
      ]
     },
     "metadata": {},
     "output_type": "display_data"
    },
    {
     "data": {
      "application/vnd.jupyter.widget-view+json": {
       "model_id": "1edcdfa3a5324f4f805d360bcdb2a5db",
       "version_major": 2,
       "version_minor": 0
      },
      "text/plain": [
       "  0%|          | 0/351 [00:00<?, ?batch/s]"
      ]
     },
     "metadata": {},
     "output_type": "display_data"
    },
    {
     "data": {
      "text/html": [
       "<script>addRow(\"<b>10/20\", \"1/351\", \"0.000597\", \"\");</script>"
      ]
     },
     "metadata": {},
     "output_type": "display_data"
    },
    {
     "data": {
      "text/html": [
       "<script>addRow(\"\", \"87\", \"0.000535\", \"\");</script>"
      ]
     },
     "metadata": {},
     "output_type": "display_data"
    },
    {
     "data": {
      "text/html": [
       "<script>addRow(\"\", \"174\", \"0.001026\", \"\");</script>"
      ]
     },
     "metadata": {},
     "output_type": "display_data"
    },
    {
     "data": {
      "text/html": [
       "<script>addRow(\"\", \"261\", \"0.001229\", \"\");</script>"
      ]
     },
     "metadata": {},
     "output_type": "display_data"
    },
    {
     "data": {
      "text/html": [
       "<script>addRow(\"\", \"351\", \"0.000703\", \"<b>0.000916\");</script>"
      ]
     },
     "metadata": {},
     "output_type": "display_data"
    },
    {
     "data": {
      "text/html": [
       "<script>addRow(\"<b>Val\", \"Validation Loss:\", \"<b>0.000871\", \"\");</script>"
      ]
     },
     "metadata": {},
     "output_type": "display_data"
    },
    {
     "data": {
      "application/vnd.jupyter.widget-view+json": {
       "model_id": "0c72c817478741c29f37f4648a7ba958",
       "version_major": 2,
       "version_minor": 0
      },
      "text/plain": [
       "  0%|          | 0/351 [00:00<?, ?batch/s]"
      ]
     },
     "metadata": {},
     "output_type": "display_data"
    },
    {
     "data": {
      "text/html": [
       "<script>addRow(\"<b>11/20\", \"1/351\", \"0.000534\", \"\");</script>"
      ]
     },
     "metadata": {},
     "output_type": "display_data"
    },
    {
     "data": {
      "text/html": [
       "<script>addRow(\"\", \"87\", \"0.000555\", \"\");</script>"
      ]
     },
     "metadata": {},
     "output_type": "display_data"
    },
    {
     "data": {
      "text/html": [
       "<script>addRow(\"\", \"174\", \"0.000531\", \"\");</script>"
      ]
     },
     "metadata": {},
     "output_type": "display_data"
    },
    {
     "data": {
      "text/html": [
       "<script>addRow(\"\", \"261\", \"0.000319\", \"\");</script>"
      ]
     },
     "metadata": {},
     "output_type": "display_data"
    },
    {
     "data": {
      "text/html": [
       "<script>addRow(\"\", \"351\", \"0.000411\", \"<b>0.000703\");</script>"
      ]
     },
     "metadata": {},
     "output_type": "display_data"
    },
    {
     "data": {
      "text/html": [
       "<script>addRow(\"<b>Val\", \"Validation Loss:\", \"<b>0.000493\", \"\");</script>"
      ]
     },
     "metadata": {},
     "output_type": "display_data"
    },
    {
     "data": {
      "application/vnd.jupyter.widget-view+json": {
       "model_id": "089011e411f84245a5f45b0986c9a486",
       "version_major": 2,
       "version_minor": 0
      },
      "text/plain": [
       "  0%|          | 0/351 [00:00<?, ?batch/s]"
      ]
     },
     "metadata": {},
     "output_type": "display_data"
    },
    {
     "data": {
      "text/html": [
       "<script>addRow(\"<b>12/20\", \"1/351\", \"0.000772\", \"\");</script>"
      ]
     },
     "metadata": {},
     "output_type": "display_data"
    },
    {
     "data": {
      "text/html": [
       "<script>addRow(\"\", \"87\", \"0.000689\", \"\");</script>"
      ]
     },
     "metadata": {},
     "output_type": "display_data"
    },
    {
     "data": {
      "text/html": [
       "<script>addRow(\"\", \"174\", \"0.000704\", \"\");</script>"
      ]
     },
     "metadata": {},
     "output_type": "display_data"
    },
    {
     "data": {
      "text/html": [
       "<script>addRow(\"\", \"261\", \"0.000242\", \"\");</script>"
      ]
     },
     "metadata": {},
     "output_type": "display_data"
    },
    {
     "data": {
      "text/html": [
       "<script>addRow(\"\", \"351\", \"0.000553\", \"<b>0.000605\");</script>"
      ]
     },
     "metadata": {},
     "output_type": "display_data"
    },
    {
     "data": {
      "text/html": [
       "<script>addRow(\"<b>Val\", \"Validation Loss:\", \"<b>0.000827\", \"\");</script>"
      ]
     },
     "metadata": {},
     "output_type": "display_data"
    },
    {
     "data": {
      "application/vnd.jupyter.widget-view+json": {
       "model_id": "20a57eab7b704f66a5b0d5e6bdd15501",
       "version_major": 2,
       "version_minor": 0
      },
      "text/plain": [
       "  0%|          | 0/351 [00:00<?, ?batch/s]"
      ]
     },
     "metadata": {},
     "output_type": "display_data"
    },
    {
     "data": {
      "text/html": [
       "<script>addRow(\"<b>13/20\", \"1/351\", \"0.000692\", \"\");</script>"
      ]
     },
     "metadata": {},
     "output_type": "display_data"
    },
    {
     "data": {
      "text/html": [
       "<script>addRow(\"\", \"87\", \"0.000504\", \"\");</script>"
      ]
     },
     "metadata": {},
     "output_type": "display_data"
    },
    {
     "data": {
      "text/html": [
       "<script>addRow(\"\", \"174\", \"0.000353\", \"\");</script>"
      ]
     },
     "metadata": {},
     "output_type": "display_data"
    },
    {
     "data": {
      "text/html": [
       "<script>addRow(\"\", \"261\", \"0.000429\", \"\");</script>"
      ]
     },
     "metadata": {},
     "output_type": "display_data"
    },
    {
     "data": {
      "text/html": [
       "<script>addRow(\"\", \"351\", \"0.000388\", \"<b>0.000625\");</script>"
      ]
     },
     "metadata": {},
     "output_type": "display_data"
    },
    {
     "data": {
      "text/html": [
       "<script>addRow(\"<b>Val\", \"Validation Loss:\", \"<b>0.000411\", \"\");</script>"
      ]
     },
     "metadata": {},
     "output_type": "display_data"
    },
    {
     "data": {
      "application/vnd.jupyter.widget-view+json": {
       "model_id": "a34172ff860b422c97c179f81e4d505e",
       "version_major": 2,
       "version_minor": 0
      },
      "text/plain": [
       "  0%|          | 0/351 [00:00<?, ?batch/s]"
      ]
     },
     "metadata": {},
     "output_type": "display_data"
    },
    {
     "data": {
      "text/html": [
       "<script>addRow(\"<b>14/20\", \"1/351\", \"0.000404\", \"\");</script>"
      ]
     },
     "metadata": {},
     "output_type": "display_data"
    },
    {
     "data": {
      "text/html": [
       "<script>addRow(\"\", \"87\", \"0.000385\", \"\");</script>"
      ]
     },
     "metadata": {},
     "output_type": "display_data"
    },
    {
     "data": {
      "text/html": [
       "<script>addRow(\"\", \"174\", \"0.001904\", \"\");</script>"
      ]
     },
     "metadata": {},
     "output_type": "display_data"
    },
    {
     "data": {
      "text/html": [
       "<script>addRow(\"\", \"261\", \"0.000360\", \"\");</script>"
      ]
     },
     "metadata": {},
     "output_type": "display_data"
    },
    {
     "data": {
      "text/html": [
       "<script>addRow(\"\", \"351\", \"0.000865\", \"<b>0.000672\");</script>"
      ]
     },
     "metadata": {},
     "output_type": "display_data"
    },
    {
     "data": {
      "text/html": [
       "<script>addRow(\"<b>Val\", \"Validation Loss:\", \"<b>0.000439\", \"\");</script>"
      ]
     },
     "metadata": {},
     "output_type": "display_data"
    },
    {
     "data": {
      "application/vnd.jupyter.widget-view+json": {
       "model_id": "f5cf9d1ff6084ee3af76d826f8a91ef4",
       "version_major": 2,
       "version_minor": 0
      },
      "text/plain": [
       "  0%|          | 0/351 [00:00<?, ?batch/s]"
      ]
     },
     "metadata": {},
     "output_type": "display_data"
    },
    {
     "data": {
      "text/html": [
       "<script>addRow(\"<b>15/20\", \"1/351\", \"0.000441\", \"\");</script>"
      ]
     },
     "metadata": {},
     "output_type": "display_data"
    },
    {
     "data": {
      "text/html": [
       "<script>addRow(\"\", \"87\", \"0.000494\", \"\");</script>"
      ]
     },
     "metadata": {},
     "output_type": "display_data"
    },
    {
     "data": {
      "text/html": [
       "<script>addRow(\"\", \"174\", \"0.000542\", \"\");</script>"
      ]
     },
     "metadata": {},
     "output_type": "display_data"
    },
    {
     "data": {
      "text/html": [
       "<script>addRow(\"\", \"261\", \"0.000609\", \"\");</script>"
      ]
     },
     "metadata": {},
     "output_type": "display_data"
    },
    {
     "data": {
      "text/html": [
       "<script>addRow(\"\", \"351\", \"0.000413\", \"<b>0.000614\");</script>"
      ]
     },
     "metadata": {},
     "output_type": "display_data"
    },
    {
     "data": {
      "text/html": [
       "<script>addRow(\"<b>Val\", \"Validation Loss:\", \"<b>0.001737\", \"\");</script>"
      ]
     },
     "metadata": {},
     "output_type": "display_data"
    },
    {
     "data": {
      "application/vnd.jupyter.widget-view+json": {
       "model_id": "2e8f5cba784c4434b4a2407389f9705c",
       "version_major": 2,
       "version_minor": 0
      },
      "text/plain": [
       "  0%|          | 0/351 [00:00<?, ?batch/s]"
      ]
     },
     "metadata": {},
     "output_type": "display_data"
    },
    {
     "data": {
      "text/html": [
       "<script>addRow(\"<b>16/20\", \"1/351\", \"0.001663\", \"\");</script>"
      ]
     },
     "metadata": {},
     "output_type": "display_data"
    },
    {
     "data": {
      "text/html": [
       "<script>addRow(\"\", \"87\", \"0.000380\", \"\");</script>"
      ]
     },
     "metadata": {},
     "output_type": "display_data"
    },
    {
     "data": {
      "text/html": [
       "<script>addRow(\"\", \"174\", \"0.000673\", \"\");</script>"
      ]
     },
     "metadata": {},
     "output_type": "display_data"
    },
    {
     "data": {
      "text/html": [
       "<script>addRow(\"\", \"261\", \"0.000281\", \"\");</script>"
      ]
     },
     "metadata": {},
     "output_type": "display_data"
    },
    {
     "data": {
      "text/html": [
       "<script>addRow(\"\", \"351\", \"0.000794\", \"<b>0.000491\");</script>"
      ]
     },
     "metadata": {},
     "output_type": "display_data"
    },
    {
     "data": {
      "text/html": [
       "<script>addRow(\"<b>Val\", \"Validation Loss:\", \"<b>0.000301\", \"\");</script>"
      ]
     },
     "metadata": {},
     "output_type": "display_data"
    },
    {
     "data": {
      "application/vnd.jupyter.widget-view+json": {
       "model_id": "6a9e55c6cfb54780af11344043b492a6",
       "version_major": 2,
       "version_minor": 0
      },
      "text/plain": [
       "  0%|          | 0/351 [00:00<?, ?batch/s]"
      ]
     },
     "metadata": {},
     "output_type": "display_data"
    },
    {
     "data": {
      "text/html": [
       "<script>addRow(\"<b>17/20\", \"1/351\", \"0.000321\", \"\");</script>"
      ]
     },
     "metadata": {},
     "output_type": "display_data"
    },
    {
     "data": {
      "text/html": [
       "<script>addRow(\"\", \"87\", \"0.000314\", \"\");</script>"
      ]
     },
     "metadata": {},
     "output_type": "display_data"
    },
    {
     "data": {
      "text/html": [
       "<script>addRow(\"\", \"174\", \"0.000431\", \"\");</script>"
      ]
     },
     "metadata": {},
     "output_type": "display_data"
    }
   ],
   "source": [
    "# START TRAINING -----------------------------------------------------------------\n",
    "if MODE == 'train_mode': CHECKPOINT = TRAINER.train_model()"
   ]
  },
  {
   "cell_type": "code",
   "execution_count": 30,
   "metadata": {},
   "outputs": [],
   "source": [
    "# COLLECTING RESULTS AND META DATA FOR SAVING DICT ---------------------------------------------------\n",
    "trainer_add_info = {key: getattr(TRAINER, key) for key in ['model','optimizer','scheduler','state','clip_value','device','use_mixed_precision']}\n",
    "loader_sizes = {'train_batches': len(train_loader), 'val_batches': len(val_loader), 'test_batches': len(test_loader)}\n",
    "CHECKPOINT['CONFIG'] = CONFIG\n",
    "CHECKPOINT = {**CHECKPOINT, **trainer_add_info, **subset_files, **loader_sizes}"
   ]
  },
  {
   "cell_type": "code",
   "execution_count": 31,
   "metadata": {},
   "outputs": [
    {
     "name": "stdout",
     "output_type": "stream",
     "text": [
      "Model saved to:\t /home/sieglew/MA-eR-PINN/src/models/pth/LSTM1_packed_old_version_241207_180154.pth\n",
      "------------------------------------------------------------\n",
      "Size: 23.62 MB\n",
      "------------------------------------------------------------\n"
     ]
    }
   ],
   "source": [
    "# SAVE CHECKPOINT ------------------------------------------------------------------------\n",
    "# ----------------------------------------------------------------------------------------\n",
    "# create unique identifier for model name\n",
    "model_name_id = f'{model.__class__.__name__}_{datetime.now().strftime(\"%y%m%d_%H%M%S\")}'\n",
    "model_destination_path = Path(pth_folder, model_name_id + \".pth\")\n",
    "\n",
    "# SAVE (TORCH) -----------------------------------------------------------------\n",
    "torch.save(CHECKPOINT, model_destination_path, pickle_protocol=pickle.HIGHEST_PROTOCOL)\n",
    "\n",
    "# CHECK SAVED OBJECT SIZE -----------------------------------------------------------------\n",
    "print(f\"Model saved to:\\t {model_destination_path}\\n{'-'*60}\\nSize: {os.path.getsize(model_destination_path) / 1024**2:.2f} MB\\n{'-'*60}\")\n",
    "if os.path.getsize(model_destination_path) > 100 * 1024**2: \n",
    "    print(\"--> Warning: saved model size exceeds 100MB! Creating a zip file instead ...\")\n",
    "    try:\n",
    "        import io, zipfile\n",
    "        buffer = io.BytesIO(); torch.save(CHECKPOINT, buffer); buffer.seek(0)\n",
    "        model_destination_path_zip = Path(pth_folder, model_name_id + \".zip\")\n",
    "        with zipfile.ZipFile(model_destination_path_zip, 'w', zipfile.ZIP_DEFLATED, compresslevel=9) as zipf: \n",
    "            zipf.writestr(model_destination_path_zip.name, buffer.read())\n",
    "        if os.path.getsize(model_destination_path_zip) > 100 * 1024**2: print(\"--> Warning: zip compressed model size still exceeds 100MB!\")\n",
    "    except Exception as e: print(f\"An error occurred while trying to save the model as a zip file: {e}\")"
   ]
  },
  {
   "cell_type": "markdown",
   "metadata": {},
   "source": [
    "___"
   ]
  },
  {
   "cell_type": "code",
   "execution_count": 32,
   "metadata": {},
   "outputs": [
    {
     "name": "stdout",
     "output_type": "stream",
     "text": [
      "Model loaded from:\t/home/sieglew/MA-eR-PINN/src/models/pth/LSTM1_packed_old_version_241207_180154.pth\n",
      "------------------------------------------------------------\n",
      "Model: LSTM1_packed_old_version\tParameters on device: cuda:2\n",
      "------------------------------------------------------------\n",
      "Train/Batch size:\t351 / 1\n",
      "Loss:\t\t\tSmoothL1Loss()\n",
      "Optimizer:\t\tAdamW\n",
      "LR:\t\t\t0.00125\n",
      "Weight Decay:\t\t0.001\n",
      "------------------------------------------------------------\n",
      " LSTM1_packed_old_version(\n",
      "  (lstm): LSTM(38, 400, num_layers=2, batch_first=True, dropout=0.5)\n",
      "  (relu): ReLU()\n",
      "  (fc_test): Linear(in_features=400, out_features=1, bias=True)\n",
      ")\n"
     ]
    }
   ],
   "source": [
    "#%%skip\n",
    "\n",
    "# LOAD CHECKPOINT -----------------------------------------------------------------\n",
    "#model_destination_path = Path(pth_folder, \"LSTM1_packed_241206_155418.pth\")\n",
    "\n",
    "# -----------------------------------------------------------------\n",
    "try: \n",
    "    checkpoint = torch.load(model_destination_path, weights_only=False, \\\n",
    "        map_location=DEVICE if (torch.cuda.is_available() and GPU_SELECT is not None) else torch.device('cpu'))\n",
    "except NotImplementedError:\n",
    "    import pathlib\n",
    "    temp = pathlib.PosixPath\n",
    "    pathlib.PosixPath = pathlib.WindowsPath\n",
    "    # temporarily change PosixPath to WindowsPath for loading\n",
    "    checkpoint = torch.load(model_destination_path, weights_only=False, map_location=DEVICE if torch.cuda.is_available() else torch.device('cpu'))\n",
    "    pathlib.PosixPath = temp\n",
    "\n",
    "for key in checkpoint.keys(): globals()[key] = checkpoint[key]\n",
    "\n",
    "# configure model and optimizer:\n",
    "model.load_state_dict(model_state_dict)\n",
    "optimizer.load_state_dict(optimizer_state_dict)\n",
    "\n",
    "model.eval(); # set model to evaluation mode for inference\n",
    "print(f\"Model loaded from:\\t{model_destination_path}\\n{'-'*60}\\nModel: {model.__class__.__name__}\\tParameters on device: {next(model.parameters()).device}\"\n",
    "        f\"\\n{'-'*60}\\nTrain/Batch size:\\t{len(train_loader.dataset)} / {train_loader.batch_size}\\n\"\n",
    "        f\"Loss:\\t\\t\\t{loss_fn}\\nOptimizer:\\t\\t{optimizer.__class__.__name__}\\nLR:\\t\\t\\t\"\n",
    "        f\"{optimizer.param_groups[0]['lr']}\\nWeight Decay:\\t\\t{optimizer.param_groups[0]['weight_decay']}\\n{'-'*60}\\n\", model)"
   ]
  },
  {
   "cell_type": "code",
   "execution_count": 35,
   "metadata": {},
   "outputs": [
    {
     "data": {
      "image/png": "[encoded data removed]",
      "text/plain": [
       "<Figure size 1400x400 with 2 Axes>"
      ]
     },
     "metadata": {},
     "output_type": "display_data"
    }
   ],
   "source": [
    "# PLOT TRAINING PERFORMANCE -----------------------------------------------------------------\n",
    "# get DataFrame of training metrics:\n",
    "training_df = pd.DataFrame(training_table, columns=[\"Epoch\", \"Iteration\", \"Batch Loss\", \"Train Loss\"])\n",
    "\n",
    "# -------------------------------------\n",
    "NUM_EPOCHS = CONFIG['NUM_EPOCHS']\n",
    "# plot training performance:\n",
    "fig, ax1 = plt.subplots(figsize=(14,4))\n",
    "ax1.set_xlabel('Epochs')\n",
    "ax1.set_xticks(range(1, NUM_EPOCHS + 1))\n",
    "\n",
    "assert len(train_losses_per_iter) == NUM_EPOCHS * train_batches, \"Length of train_losses_per_iter might not match the number of iterations.\"\n",
    "plt.plot(np.linspace(1, NUM_EPOCHS, len(train_losses_per_iter)), train_losses_per_iter, label='batch_loss', color='lightblue')\n",
    "plt.plot(range(1, NUM_EPOCHS + 1), train_losses, label='train_loss', color='blue')\n",
    "plt.plot(range(1, NUM_EPOCHS + 1), val_losses, label='val_loss', color='red')\n",
    "\n",
    "plt.yscale('log'); fig.tight_layout(); plt.legend();\n",
    "\n",
    "plt.text(0.86, 0.6, f\"Train: {train_losses[-1]:.3e}\\nVal:    {val_losses[-1]:.3e}\", \\\n",
    "    transform=plt.gca().transAxes, fontsize=10, bbox=dict(facecolor='white', alpha=0.5));\n",
    "\n",
    "if pd.Series(lr_history).nunique() > 1:\n",
    "    ax2 = ax1.twinx()\n",
    "    ax2.plot(range(1, NUM_EPOCHS + 1), lr_history, label='lr', color='green', linestyle='--')\n",
    "    ax2.set_ylabel('Learning Rate', color='green'); ax2.tick_params(axis='y', labelcolor='green'); ax2.set_yscale('log')"
   ]
  },
  {
   "cell_type": "code",
   "execution_count": 36,
   "metadata": {},
   "outputs": [
    {
     "name": "stdout",
     "output_type": "stream",
     "text": [
      "Test Loss:  0.000088\n",
      "RMSE: 1.3012\n",
      "Standard Deviation: 1.1432\n"
     ]
    }
   ],
   "source": [
    "# EVALUATION -----------------------------------------------------------------\n",
    "\n",
    "# get file list of test subset\n",
    "test_files = checkpoint[\"test_files\"]\n",
    "# -------------------------------------\n",
    "# evaluate model on test set\n",
    "test_loss, outputs, targets, original_lengths = TRAINER.evaluate_model()\n",
    "# -------------------------------------\n",
    "all_outputs, all_targets, all_original_lengths = [], [], []\n",
    "for batch_outputs, batch_targets, batch_lengths in zip(outputs, targets, original_lengths):\n",
    "    all_outputs.extend(batch_outputs)\n",
    "    all_targets.extend(batch_targets)\n",
    "    all_original_lengths.extend(batch_lengths)\n",
    "\n",
    "# Inverse-transform on all outputs and targets for evaluation\n",
    "scaled_outputs = [target_scaler.inverse_transform(output_sequence.reshape(1, -1)).squeeze() for output_sequence in all_outputs]\n",
    "scaled_targets = [target_scaler.inverse_transform(target_sequence.reshape(1, -1)).squeeze() for target_sequence in all_targets]\n",
    "\n",
    "print(f\"Test Loss:  {test_loss:.6f}\")\n",
    "print(f\"RMSE: {root_mean_squared_error(np.concatenate(scaled_targets), np.concatenate(scaled_outputs)):.4f}\")\n",
    "print(f\"Standard Deviation: {np.std(np.concatenate(scaled_targets) - np.concatenate(scaled_outputs)):.4f}\")"
   ]
  },
  {
   "cell_type": "code",
   "execution_count": 41,
   "metadata": {},
   "outputs": [
    {
     "data": {
      "image/png": "[encoded data removed]",
      "text/plain": [
       "<Figure size 1800x400 with 1 Axes>"
      ]
     },
     "metadata": {},
     "output_type": "display_data"
    },
    {
     "data": {
      "image/png": "[encoded data removed]",
      "text/plain": [
       "<Figure size 1800x400 with 1 Axes>"
      ]
     },
     "metadata": {},
     "output_type": "display_data"
    }
   ],
   "source": [
    "# PLOT RESULTS -----------------------------------------------------------------\n",
    "# get random sample sequence from test set\n",
    "# -------------------------------------\n",
    "sample_int = random.randint(1, len(scaled_outputs))\n",
    "y_pred = scaled_outputs[sample_int]\n",
    "y_true = scaled_targets[sample_int]\n",
    "\n",
    "###############################################\n",
    "# PLOT PREDICTION -----------------------------------------------------------------\n",
    "if PLOT_ACTIVE:\n",
    "     plt.figure(figsize=(18,4)); plt.xlabel('Time in s'); plt.ylabel('SOC in %'); plt.title('Battery State of Charge: Prediction vs. Actual Data') \n",
    "     plt.plot(y_true, label='Actual Data') # actual plot\n",
    "     plt.plot(np.arange(0, len(y_true), 1), y_pred, label='Predicted Data') # predicted plot\n",
    "     plt.legend()\n",
    "     plt.text(0.01, 0.02, f\"RMSE: {root_mean_squared_error(y_true, y_pred):.4f}\\nStd Dev: {np.std(y_true - y_pred):.4f}\",\\\n",
    "          transform=plt.gca().transAxes, fontsize=12, bbox=dict(facecolor='white', alpha=0.5))\n",
    "\n",
    "     plt.figure(figsize=(18,4)); plt.xlabel('Time in s'); plt.ylabel('SOC in %')\n",
    "     plt.plot(savgol_filter(y_true.flatten(), window_length=60, polyorder=3), label='Actual Data (Smoothed)') # actual plot\n",
    "     plt.plot(np.arange(0, len(y_true), 1), savgol_filter(y_pred.flatten(), window_length=60, polyorder=3), label='Predicted Data (Smoothed)') # predicted plot\n",
    "     plt.legend();"
   ]
  },
  {
   "cell_type": "code",
   "execution_count": 24,
   "metadata": {},
   "outputs": [
    {
     "data": {
      "text/plain": [
       "'\\nTODOs: \\n- check if keeping the hidden state between batches is necessary\\n'"
      ]
     },
     "execution_count": 24,
     "metadata": {},
     "output_type": "execute_result"
    }
   ],
   "source": [
    "'''\n",
    "TODOs: \n",
    "- check if keeping the hidden state between batches is necessary\n",
    "'''"
   ]
  }
 ],
 "metadata": {
  "kernelspec": {
   "display_name": "Python 3",
   "language": "python",
   "name": "python3"
  },
  "language_info": {
   "codemirror_mode": {
    "name": "ipython",
    "version": 3
   },
   "file_extension": ".py",
   "mimetype": "text/x-python",
   "name": "python",
   "nbconvert_exporter": "python",
   "pygments_lexer": "ipython3",
   "version": "3.11.0"
  }
 },
 "nbformat": 4,
 "nbformat_minor": 2
}
