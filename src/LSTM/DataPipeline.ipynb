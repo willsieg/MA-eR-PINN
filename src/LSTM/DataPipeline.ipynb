{
 "cells": [
  {
   "cell_type": "code",
   "execution_count": 1,
   "metadata": {},
   "outputs": [],
   "source": [
    "#%reset -f -s"
   ]
  },
  {
   "cell_type": "code",
   "execution_count": null,
   "metadata": {},
   "outputs": [
    {
     "name": "stdout",
     "output_type": "stream",
     "text": [
      "ROOT: /home/sieglew/MA-eR-PINN\n"
     ]
    }
   ],
   "source": [
    "'''------------------------------------------------------------------\n",
    "---------------------------------------------------------------------\n",
    "LSTM Training\n",
    "---------------------------------------------------------------------\n",
    "Version: V1.7       Modified: 06.11.2024        William Siegle\n",
    "---------------------------------------------------------------------\n",
    "notebook can be converted to python script using: \n",
    "(python -m) jupytext --to py FILENAME.ipynb\n",
    "------------------------------------------------------------------'''\n",
    "from pathlib import Path\n",
    "\n",
    "# SETTINGS ------------------------------------------------------------------------\n",
    "CONFIG = {\n",
    "    # SYSTEM: ---------------------------------------------------------------------\n",
    "    \"ROOT\":             Path('../..').resolve(),\n",
    "    \"INPUT_LOCATION\":   Path(\"TripSequences\", \"trips_processed_final\"), \n",
    "    \"OUTPUT_LOCATION\":  Path(\"src\", \"models\", \"pth\"),\n",
    "    \"GPU_SELECT\":       0, # {0,1,2,3, None: CPU only}\n",
    "    \"TORCH_SEED\"  :     17,\n",
    "\n",
    "    # DATA PREPROCESSING: ---------------------------------------------------------\n",
    "    \"TRAIN_VAL_TEST\":   [0.8, 0.15, 0.05], # [train, val, test splits]\n",
    "    \"MAX_FILES\":        None, # None: all files\n",
    "    \"SCALERS\":          {'feature_scaler': 'MaxAbsScaler()', 'target_scaler': 'MinMaxScaler(feature_range=(0, 1))'},\n",
    "    \"MIN_SEQ_LENGTH\":   60, # minimum sequence length in seconds\n",
    "\n",
    "    # FEATURES: -------------------------------------------------------------------\n",
    "    \"FEATURES\":         [\"vehspd_cval_cpc\", \"altitude_cval_ippc\", \"airtempoutsd_cval_cpc\", 'roadgrad_cval_pt', \"vehweight_cval_pt\", \"accelpdlposn_cval\", \n",
    "                         \"bs_brk_cval\", \"elcomp_pwrcons_cval\",\"epto_pwr_cval\", \"motortemperature_pti1\", \"powerstagetemperature_pti1\", 'airtempinsd_cval_hvac', \n",
    "                         'brktempra_cval', 'selgr_rq_pt'],\n",
    "    \"TARGETS\":          ['hv_bat_soc_cval_bms1'],\n",
    "\n",
    "    # MODEL: -----------------------------------------------------------------------\n",
    "    \"HIDDEN_SIZE\":      400,    # features in the hidden state h\n",
    "    \"NUM_LAYERS\":       2,      # recurrent layers for stacked LSTMs. Default: 1\n",
    "    \"DROPOUT\":          0.5,\n",
    "    \"SEQ_LENGTH\":       60,\n",
    "    \n",
    "    # TRAINING & OPTIMIZER: --------------------------------------------------------\n",
    "    \"NUM_EPOCHS\":       100,\n",
    "    \"BATCH_SIZE\":       32,   # [16, 32, 64, 128, 256, 512, 1024, 2048, 4096, 8192, 16384, 32768]\n",
    "    \"LEARNING_RATE\":    3e-3,   # 0.001 lr\n",
    "    \"OPTIMIZER\":        \"torch.optim.AdamW(model.parameters(), lr = LEARNING_RATE, weight_decay = 1e-3)\",      \n",
    "                            # weight_decay = 1e-4     # weight decay coefficient (default: 1e-2)\n",
    "                            # betas = (0.9, 0.95),    # coefficients used for computing running averages of gradient and its square (default: (0.9, 0.999))\n",
    "                            # eps = 1e-8,             # term added to the denominator to improve numerical stability (default: 1e-8)\n",
    "    \"LRSCHEDULER\":      \"torch.optim.lr_scheduler.ReduceLROnPlateau(optimizer, mode='min', patience = 2, factor = 0.5, min_lr = 1e-7)\",\n",
    "\n",
    "    # LOSS FUNCTION: ---------------------------------------------------------------\n",
    "    \"CRITERION\":        \"nn.SmoothL1Loss()\", #['nn.MSELoss()', 'nn.L1Loss()', 'nn.SmoothL1Loss()', 'nn.HuberLoss()', 'MASE()']\n",
    "\n",
    "\n",
    "    # METRICS: ---------------------------------------------------------------------\n",
    "\n",
    "    # SAVE & LOAD: -----------------------------------------------------------------\n",
    "\n",
    "}\n",
    "\n",
    "for key in CONFIG: globals()[key] = CONFIG[key]\n",
    "print(f\"ROOT: {ROOT}\")"
   ]
  },
  {
   "cell_type": "markdown",
   "metadata": {},
   "source": [
    "___\n",
    "LOCATE DEVICES & SYSTEM FOLDERS"
   ]
  },
  {
   "cell_type": "code",
   "execution_count": 3,
   "metadata": {},
   "outputs": [
    {
     "name": "stdout",
     "output_type": "stream",
     "text": [
      "------------------------------------------------------------\n",
      "Directories:\n",
      "  /home/sieglew/MA-eR-PINN:\t\t\tproject, ref, test, data, src, .git, archive\n",
      "  /home/sieglew/MA-Data:\t\t\t__pycache__, trips_processed_resampled, final, y_true, processed, TripSequences, trips_processed_pickles, final_2, trips_processed_final\n",
      "------------------------------------------------------------\n",
      "Running in notebook mode\n"
     ]
    }
   ],
   "source": [
    "# LOCATE REPOSITORY/DATASTORAGE IN CURRENT SYSTEM ENVIRONMENT  ---------------------------\n",
    "# ----------------------------------------------------------------------------------------\n",
    "import sys, os\n",
    "global ROOT, DATA_PATH\n",
    "if 'ROOT' not in globals(): ROOT = Path('../..').resolve()\n",
    "print(f\"{'-'*60}\\nDirectories:\\n  {ROOT}:\\t\\t\\t{', '.join([_.name for _ in ROOT.glob('*/')])}\")\n",
    "sys.path.append(os.path.abspath(ROOT))\n",
    "from data import get_data_path  # paths set in \"data/__init__.py\"\n",
    "DATA_PATH = get_data_path()\n",
    "print(f\"  {DATA_PATH}:\\t\\t\\t{', '.join([_.name for _ in DATA_PATH.glob('*/')])}\")\n",
    "\n",
    "# INTERNAL MODULE IMPORTS ----------------------------------------------------------------\n",
    "# ----------------------------------------------------------------------------------------\n",
    "from src.utils.TripDataset import *\n",
    "from src.utils.train_model import *\n",
    "\n",
    "# NOTEBOOK / SCRIPT SETTINGS -------------------------------------------------------------\n",
    "# ----------------------------------------------------------------------------------------\n",
    "global IS_NOTEBOOK\n",
    "IS_NOTEBOOK = False\n",
    "try:    # if running in IPython\n",
    "    shell = get_ipython().__class__.__name__ # type: ignore \n",
    "    from IPython.display import display, HTML, Javascript, clear_output\n",
    "    from IPython.core.magic import register_cell_magic\n",
    "    @register_cell_magic    # cells can be skipped by using '%%skip' in the first line\n",
    "    def skip(line, cell): return\n",
    "    from tqdm.notebook import tqdm as tqdm_nb\n",
    "    IS_NOTEBOOK = True\n",
    "    print(f\"{'-'*60}\\nRunning in notebook mode\")\n",
    "except (NameError, ImportError):    # if running in script\n",
    "    from tqdm import tqdm as tqdm\n",
    "    from tabulate import tabulate\n",
    "    print(f\"{'-'*60}\\nRunning in script mode\")\n",
    "    \n",
    "# GENERAL MODULE IMPORTS -----------------------------------------------------------------\n",
    "# ----------------------------------------------------------------------------------------\n",
    "import math, time, random, pickle\n",
    "import numpy as np\n",
    "import pandas as pd\n",
    "import matplotlib.pyplot as plt; plt.style.use('ggplot')\n",
    "import pyarrow.parquet as pq\n",
    "from copy import deepcopy\n",
    "from datetime import datetime\n",
    "\n",
    "from sklearn.preprocessing import StandardScaler, MinMaxScaler, MaxAbsScaler\n",
    "from sklearn.model_selection import train_test_split\n",
    "#from sklearn.pipeline import Pipeline\n",
    "#from sklearn.compose import ColumnTransformer\n",
    "from scipy.signal import savgol_filter\n",
    "\n",
    "import torch\n",
    "from torch import nn\n",
    "from torch.nn import functional as F\n",
    "from torch.nn.parameter import Parameter\n",
    "from torch.nn.utils.rnn import pack_sequence, pad_sequence, pack_padded_sequence, pad_packed_sequence\n",
    "from torch.utils.data import DataLoader, TensorDataset, Dataset, random_split\n",
    "from torchmetrics.functional import mean_squared_error\n",
    "torch.set_default_dtype(torch.float32); torch.manual_seed(TORCH_SEED);\n",
    "\n",
    "from sklearn.metrics import root_mean_squared_error\n",
    "from pytorch_forecasting.metrics import MASE\n",
    "#from darts import TimeSeries\n",
    "#from darts.models import ExponentialSmoothing"
   ]
  },
  {
   "cell_type": "code",
   "execution_count": 4,
   "metadata": {},
   "outputs": [
    {
     "name": "stdout",
     "output_type": "stream",
     "text": [
      "------------------------------------------------------------\n",
      "Torch version:  2.4.1+cu121\n",
      "Using: -->  CUDA:0\n"
     ]
    }
   ],
   "source": [
    "# DEVICE SELECTION ---------------------------------------------------------------------\n",
    "global DEVICE\n",
    "print(f\"{'-'*60}\\nTorch version: \", torch.__version__)\n",
    "if not torch.cuda.is_available() or GPU_SELECT is None:\n",
    "    DEVICE = torch.device(\"cpu\")\n",
    "else:\n",
    "    DEVICE = torch.device(f\"cuda:{GPU_SELECT}\")\n",
    "print(f\"Using: -->  {str(DEVICE).upper()}\")"
   ]
  },
  {
   "cell_type": "markdown",
   "metadata": {},
   "source": [
    "___\n",
    "DATA PREPROCESSING"
   ]
  },
  {
   "cell_type": "code",
   "execution_count": 5,
   "metadata": {},
   "outputs": [
    {
     "name": "stdout",
     "output_type": "stream",
     "text": [
      "------------------------------------------------------------\n",
      "Input Data:\t/home/sieglew/MA-Data/TripSequences/trips_processed_final\n",
      "Store model in:\t/home/sieglew/MA-eR-PINN/src/models/pth\n",
      "------------------------------------------------------------\n",
      "Total Files:\t18629\n",
      "Filtered Files:\t11063\n",
      "------------------------------------------------------------\n",
      "                FileName  Length  Index\n",
      "0        V13_T25.parquet   20843   1406\n",
      "1       V18_T775.parquet   19425   4216\n",
      "2       V13_T352.parquet   18308   1364\n",
      "3       V18_T972.parquet   17858   5553\n",
      "4      V16_T1629.parquet   17519   2803\n",
      "...                  ...     ...    ...\n",
      "11058  V18_T1136.parquet    1001   7214\n",
      "11059  V17_T5178.parquet    1001   7416\n",
      "11060  V17_T5165.parquet    1001   7420\n",
      "11061  V17_T4326.parquet    1001   8790\n",
      "11062    V1_T288.parquet    1001   9499\n",
      "\n",
      "[11063 rows x 3 columns]\n"
     ]
    }
   ],
   "source": [
    "# FILE SOURCES ---------------------------------------------------------------\n",
    "input_folder = Path(DATA_PATH, INPUT_LOCATION) # Trip parquet files\n",
    "pth_folder = Path(ROOT, OUTPUT_LOCATION)\n",
    "print(f\"{'-'*60}\\nInput Data:\\t{input_folder}\\nStore model in:\\t{pth_folder}\")\n",
    "\n",
    "# PREPARE TRAIN & TEST SET ---------------------------------------------------\n",
    "all_files = [Path(input_folder, f) for f in os.listdir(input_folder) if f.endswith(\".parquet\")]\n",
    "files = all_files[:MAX_FILES]\n",
    "print(f\"{'-'*60}\\nTotal Files:\\t{len(files)}\")\n",
    "# ---------------------------------------------------\n",
    "df = pd.read_parquet(Path(input_folder, random.choice(files)), engine='fastparquet')\n",
    "all_signals = df.columns\n",
    "assert len(all_signals) == 44\n",
    "\n",
    "# FILTER INPUT FILES --------------------------------------------------------\n",
    "# generate lengths of all files by reading metadata or using presaved lengths\n",
    "try:\n",
    "    presaved_lengths = pd.read_pickle(Path(ROOT, 'data', 'df_files_lengths.pickle'))\n",
    "    presaved_lengths = presaved_lengths.set_index('FileName').to_dict()['Length']\n",
    "    trip_lengths = [presaved_lengths[file.name] for file in files]\n",
    "except:\n",
    "    print(f\"{'-'*60}\\nObtaining sequence lengths... (may take up to 5 minutes)\")\n",
    "    trip_lengths = [pq.read_metadata(file).num_rows for file in files]\n",
    "\n",
    "# discard all items shorter than min_seq_length\n",
    "min_seq_length = MIN_SEQ_LENGTH\n",
    "filtered_files = []\n",
    "filtered_lengths = []\n",
    "for file, length in zip(files, trip_lengths):\n",
    "    if length > min_seq_length: \n",
    "        filtered_files.append(file)\n",
    "        filtered_lengths.append(length)\n",
    "\n",
    "# replace lists with only filtered items\n",
    "files = filtered_files\n",
    "trip_lengths = filtered_lengths\n",
    "print(f\"Filtered Files:\\t{len(files)}\\n{'-'*60}\")\n",
    "\n",
    "# SORT INPUT FILES BY SEQUENCE LENGTH --------------------------------------\n",
    "# this is needed in order to later sort the sequence by their length\n",
    "file_length_mapping = sorted([(file.name, length, idx) for idx, (file, length) in enumerate(zip(files, trip_lengths))], \\\n",
    "    key=lambda x: x[1], reverse=True)\n",
    "\n",
    "file_length_df = pd.DataFrame(file_length_mapping, columns=['FileName', 'Length', 'Index'])\n",
    "print(file_length_df)\n",
    "\n",
    "indices_by_length = file_length_df['Index'].to_list()\n",
    "sorted_trip_lengths = file_length_df['Length'].to_list()"
   ]
  },
  {
   "cell_type": "code",
   "execution_count": 6,
   "metadata": {},
   "outputs": [],
   "source": [
    "%%skip\n",
    "def plot_sequence_lengths(batch_size, trip_lengths):\n",
    "    # Calculate the number of batches\n",
    "    num_batches = int(np.ceil(len(trip_lengths) / batch_size))\n",
    "    # Create a figure and axis\n",
    "    fig, ax = plt.subplots(figsize=(18, 6))\n",
    "    ratios = []\n",
    "    for i in range(num_batches):\n",
    "        start_idx = i * batch_size\n",
    "        end_idx = min((i + 1) * batch_size, len(trip_lengths))\n",
    "        batch_lengths = trip_lengths[start_idx:end_idx]\n",
    "\n",
    "        ax.bar(range(start_idx, end_idx), batch_lengths, color='blue', edgecolor='blue') # Plot the actual sequence lengths\n",
    "\n",
    "        max_length = max(batch_lengths)\n",
    "        blue_area = sum(batch_lengths)\n",
    "        orange_area = sum(max_length - length for length in batch_lengths)\n",
    "        ratio = orange_area / (blue_area + orange_area)\n",
    "        ratios.append(ratio)\n",
    "\n",
    "        # Highlight the padded parts\n",
    "        for j in range(start_idx, end_idx): ax.bar(j, max_length - batch_lengths[j - start_idx], bottom=batch_lengths[j - start_idx], color='orange', edgecolor='orange')\n",
    "\n",
    "        # Add vertical red dashed lines at batch boundaries\n",
    "        if i > 0: ax.axvline(x=start_idx, color='red', linestyle='--')\n",
    "\n",
    "    # Set labels and title\n",
    "    ax.set_xlabel('Sequence Number')\n",
    "    ax.set_ylabel('Sequence Length (Number of Rows)')\n",
    "    ax.set_title('Diagram of Sequence Lengths with Padded Parts Highlighted')\n",
    "    handles = [plt.Rectangle((0,0),1,1,color=c,ec=\"k\") if c != \"red\" else plt.Line2D([0], [0], color=c, linestyle='--') for c in [\"blue\", \"orange\", \"red\"]]\n",
    "    labels = [\"sequence data\", \"padding\", \"batch boundaries\"]\n",
    "    ax.legend(handles, labels, loc=\"upper right\"); ax.grid(False); plt.show();\n",
    "\n",
    "    return ratios\n",
    "\n",
    "ratios_1 = plot_sequence_lengths(BATCH_SIZE, trip_lengths)\n",
    "ratios_2 = plot_sequence_lengths(BATCH_SIZE, sorted_trip_lengths)\n",
    "\n",
    "# Calculate and print the ratio between blue and orange areas for both diagrams\n",
    "print(f\"padding values (unsorted) = {np.mean(ratios_1)*100:.0f} %\")\n",
    "print(f\"padding values (sorted) = {np.mean(ratios_2)*100:.0f} %\")"
   ]
  },
  {
   "cell_type": "code",
   "execution_count": 7,
   "metadata": {},
   "outputs": [],
   "source": [
    "# INPUT & TARGET SPECIFICATION ---------------------------------------------------\n",
    "# these signals are required for the physical Model calculation:\n",
    "base_signals = [\"signal_time\", \"hirestotalvehdist_cval_icuc\", \"vehspd_cval_cpc\", \"altitude_cval_ippc\", \"airtempoutsd_cval_cpc\", \n",
    "\"hv_batpwr_cval_bms1\", \"emot_pwr_cval\",\"bs_roadincln_cval\", \"roadgrad_cval_pt\"]\n",
    "\n",
    "# these signals have to be dropped in order for appropriate training:\n",
    "columns_to_drop = [\"hv_batmomavldischrgen_cval_1\", \"latitude_cval_ippc\", \"longitude_cval_ippc\", \"signal_time\", \"hirestotalvehdist_cval_icuc\"]\n",
    "\n",
    "# ---------------------------------------------------\n",
    "selection_1 = [\"vehspd_cval_cpc\", \"altitude_cval_ippc\", \"airtempoutsd_cval_cpc\", 'roadgrad_cval_pt', \"vehweight_cval_pt\", \"accelpdlposn_cval\", \"bs_brk_cval\", \"elcomp_pwrcons_cval\",\n",
    "               \"epto_pwr_cval\", \"motortemperature_pti1\", \"powerstagetemperature_pti1\", 'airtempinsd_cval_hvac', 'brktempra_cval', 'selgr_rq_pt']\n",
    "selection_2 = [\"hirestotalvehdist_cval_icuc\", \"vehspd_cval_cpc\", \"altitude_cval_ippc\", \"airtempoutsd_cval_cpc\", \"hv_batpwr_cval_bms1\", \"emot_pwr_cval\", \"roadgrad_cval_pt\"]\n",
    "selection_3 = [\"vehspd_cval_cpc\", \"altitude_cval_ippc\", \"airtempoutsd_cval_cpc\", \"vehweight_cval_pt\"]\n",
    "\n",
    "# FEATURE SELECTION  --------------------------------------\n",
    "# ---------------------------------------------------------\n",
    "target_column = TARGETS\n",
    "input_columns = FEATURES\n",
    "#input_columns = list(set(all_signals) - set(columns_to_drop) - set(target_column))"
   ]
  },
  {
   "cell_type": "code",
   "execution_count": 8,
   "metadata": {},
   "outputs": [],
   "source": [
    "# FEATURE NORMALIZATION/SCALING -----------------------------------------------------------------\n",
    "scaler = eval(SCALERS['feature_scaler'])\n",
    "target_scaler = eval(SCALERS['target_scaler'])\n",
    "\n",
    "# DATA SET SPLITTING -----------------------------------------------------------------------\n",
    "train_subset, val_subset, test_subset = random_split(files, TRAIN_VAL_TEST)"
   ]
  },
  {
   "cell_type": "code",
   "execution_count": 9,
   "metadata": {},
   "outputs": [
    {
     "name": "stdout",
     "output_type": "stream",
     "text": [
      "fitting Scalers: MaxAbsScaler, MinMaxScaler\n",
      "\t50% of the fitting done...\n",
      "Done. Create DataSets and DataLoaders...\n",
      "Number of batches created: 277\n",
      "Number of batches created: 52\n",
      "Number of batches created: 18\n"
     ]
    }
   ],
   "source": [
    "# GENERATE DATALOADERS  ---------------------------------------------------------------\n",
    "'''\n",
    "Notes: for each of the three subsets, the following steps are performed:\n",
    "    1. Sort each subset by descending sequence lengths based on the obtained indices\n",
    "    2. Create a (custom) TripDataset object to select the input and target columns and apply the scalers. In case\n",
    "         of the training subset, the scalers will be fitted to the training set first.\n",
    "    3. Create a (custom) BatchDataset object of the corresponding TripDataset to handle the sequence padding before using \n",
    "            the DataLoader to create the batches.\n",
    "    4. The DataLoader will then be used to iterate over the batches during training. To use the integrated collate_fn function\n",
    "            of the DataLoader, the batch_size has to be set to 1. The actual batch size is then handled by the BatchDataset object.\n",
    "    5. The collate_fn that is integrated in the DataLoader will automatically handle the shuffling, padding and packing\n",
    "            of the sequences. The DataLoader will return a tuple of (packed_inputs, padded_targets, lengths), where\n",
    "            the packed_inputs are PackedSequence objects that can be efficiently processed by RNNs.\n",
    "            [Output tuple of types (<class 'torch.nn.utils.rnn.PackedSequence'>, <class 'torch.Tensor'>, <class 'torch.Tensor'>)]\n",
    "\n",
    "Note: shuffling will be done batchwise, however inside each batch the sequences  will remain sorted by length\n",
    "\n",
    "*Note: Because of the BatchDataset object in the train loader, \"batch_size\" refers to the number of batches to feed, not the \n",
    "number of samples in a batch. Also, the \"drop_last\" argument is useless due to this.\n",
    "'''\n",
    "\n",
    "# -------------------------------------------------------------------\n",
    "dataloader_settings = {\n",
    "    'batch_size': 1,                # see *Note above\n",
    "    'shuffle': True,                # shuffle the batches before each epoch\n",
    "    'collate_fn': collate_fn,       # include optional arguments\n",
    "    'num_workers': 4,               # number of workers\n",
    "    'pin_memory': False if DEVICE.type == 'cpu' else True\n",
    "}\n",
    "\n",
    "# TRAIN  ------------------------------------------------------------\n",
    "train_subset.indices = [i for i in indices_by_length if i in set(list(train_subset.indices))]\n",
    "train_dataset = TripDataset(train_subset, input_columns, target_column, scaler, target_scaler, fit=True)\n",
    "train_dataset_batches = create_batches(train_dataset, BATCH_SIZE)\n",
    "train_loader = DataLoader(train_dataset_batches, **dataloader_settings)\n",
    "\n",
    "# VAL --------------------------------------------------------------\n",
    "val_subset.indices = [i for i in indices_by_length if i in set(list(val_subset.indices))]\n",
    "val_dataset = TripDataset(val_subset, input_columns, target_column, scaler, target_scaler, fit=False)\n",
    "val_dataset_batches = create_batches(val_dataset, BATCH_SIZE)\n",
    "val_loader = DataLoader(val_dataset_batches, **dataloader_settings)\n",
    "\n",
    "# TEST -------------------------------------------------------------\n",
    "test_subset.indices = [i for i in indices_by_length if i in set(list(test_subset.indices))]\n",
    "test_dataset = TripDataset(test_subset, input_columns, target_column, scaler, target_scaler, fit=False)\n",
    "test_dataset_batches = create_batches(test_dataset, BATCH_SIZE)\n",
    "test_loader = DataLoader(test_dataset_batches, **dataloader_settings)"
   ]
  },
  {
   "cell_type": "code",
   "execution_count": 10,
   "metadata": {},
   "outputs": [
    {
     "name": "stdout",
     "output_type": "stream",
     "text": [
      "------------------------------------------------------------\n",
      "Train size:  34834665\t\t(Files: 8851)\n",
      "Val. size:   6486909\t\t(Files: 1659)\n",
      "Test size:   2091169\t\t(Files: 553) \n",
      " ------------------------------------------------------------\n",
      "first 3 train files: ['V13_T25.parquet', 'V18_T775.parquet', 'V13_T352.parquet']\n"
     ]
    }
   ],
   "source": [
    "# Print the size of the datasets ----------------------------------\n",
    "print(f\"{'-'*60}\\nTrain size:  {len(train_dataset)}\\t\\t(Files: {len(train_subset)})\")\n",
    "print(f'Val. size:   {len(val_dataset)}\\t\\t(Files: {len(val_subset)})')\n",
    "print(f'Test size:   {len(test_dataset)}\\t\\t(Files: {len(test_subset)}) \\n {\"-\"*60}')\n",
    "if train_dataset.__len__() != sum(len(data) for data in train_dataset.data): print(\"Warning: Train Dataset Length Mismatch\")\n",
    "\n",
    "subset_files = {\"train\":    list(train_dataset.file_list),\n",
    "                \"val\":      list(val_dataset.file_list),\n",
    "                \"test\":     list(test_dataset.file_list)}\n",
    "print(f\"first 3 train files: {[os.path.basename(_) for _ in subset_files['train'][:3]]}\")"
   ]
  },
  {
   "cell_type": "code",
   "execution_count": 11,
   "metadata": {},
   "outputs": [],
   "source": [
    "%%skip\n",
    "# Create a figure and axis\n",
    "fig, ax = plt.subplots(figsize=(18, 6))\n",
    "ratios = []\n",
    "for batch_idx, (padded_inputs, padded_targets, lengths) in enumerate(train_loader):\n",
    "    start_idx = batch_idx * BATCH_SIZE\n",
    "    end_idx = start_idx + len(lengths)\n",
    "    \n",
    "    # Plot the actual sequence lengths\n",
    "    ax.bar(range(start_idx, end_idx), lengths, color='blue', edgecolor='blue')\n",
    "    \n",
    "    # Highlight the padded parts\n",
    "    max_length = max(lengths)\n",
    "    blue_area = sum(lengths)\n",
    "    orange_area = sum(max_length - length for length in lengths)\n",
    "    ratio = orange_area / (blue_area + orange_area)\n",
    "    ratios.append(ratio)\n",
    "\n",
    "    for j in range(start_idx, end_idx): ax.bar(j, max_length - lengths[j - start_idx], bottom=lengths[j - start_idx], color='orange', edgecolor='orange')\n",
    "\n",
    "    # Add vertical red dashed lines at batch boundaries\n",
    "    if batch_idx > 0: ax.axvline(x=start_idx, color='red', linestyle='--')\n",
    "\n",
    "# Set labels and title\n",
    "ax.set_xlabel('Sequence Number')\n",
    "ax.set_ylabel('Sequence Length (Number of Rows)')\n",
    "ax.set_title('Diagram of Sequence Lengths with Padded Parts Highlighted')\n",
    "handles = [plt.Rectangle((0,0),1,1,color=c,ec=\"k\") if c != \"red\" else plt.Line2D([0], [0], color=c, linestyle='--') for c in [\"blue\", \"orange\", \"red\"]]\n",
    "labels = [\"sequence data\", \"padding\", \"batch boundaries\"]\n",
    "ax.legend(handles, labels, loc=\"upper right\"); ax.grid(False); plt.show(); \n",
    "\n",
    "# Calculate and print the ratio between blue and orange areas\n",
    "print(f\"padding values = {np.mean(ratios)*100:.0f} %\")"
   ]
  },
  {
   "cell_type": "code",
   "execution_count": 12,
   "metadata": {},
   "outputs": [
    {
     "name": "stdout",
     "output_type": "stream",
     "text": [
      "Type of packed_inputs: <class 'torch.nn.utils.rnn.PackedSequence'>, Type of packed_inputs.data: <class 'torch.Tensor'>, Type of packed_inputs.batch_sizes: <class 'torch.Tensor'>\n",
      "Type of padded_targets: <class 'torch.Tensor'>, Type of lengths: <class 'torch.Tensor'>\n",
      "Shape of packed_inputs.data: torch.Size([54207, 14])\n",
      "Length of packed_inputs.batch_sizes: 1699\n",
      "Lengths: tensor([1699, 1698, 1698, 1698, 1698, 1697, 1697, 1697, 1696, 1696, 1696, 1696,\n",
      "        1695, 1695, 1695, 1695, 1694, 1693, 1693, 1693, 1692, 1692, 1692, 1691,\n",
      "        1691, 1691, 1691, 1690, 1690, 1690, 1689, 1689])\n",
      "tensor(54207)\n"
     ]
    }
   ],
   "source": [
    "# Iterate through the train_loader and print an example of a PackedSequence\n",
    "for batch_idx, (packed_inputs, padded_targets, lengths) in enumerate(train_loader):\n",
    "    #print(f\"Packed Inputs (Batch {batch_idx}):\\n{packed_inputs}\")\n",
    "    print(f\"Type of packed_inputs: {type(packed_inputs)}, Type of packed_inputs.data: {type(packed_inputs.data)}, Type of packed_inputs.batch_sizes: {type(packed_inputs.batch_sizes)}\")\n",
    "    print(f\"Type of padded_targets: {type(padded_targets)}, Type of lengths: {type(lengths)}\")\n",
    "    print(f\"Shape of packed_inputs.data: {packed_inputs.data.shape}\")\n",
    "    print(f\"Length of packed_inputs.batch_sizes: {len(packed_inputs.batch_sizes)}\")\n",
    "    print(f\"Lengths: {lengths}\")\n",
    "    print(sum(lengths))\n",
    "    break"
   ]
  },
  {
   "cell_type": "code",
   "execution_count": 13,
   "metadata": {},
   "outputs": [],
   "source": [
    "# LSTM NETWORK -----------------------------------------------------------------------\n",
    "class LSTM1_packed(nn.Module):\n",
    "    def __init__(self, input_size, hidden_size, num_layers, seq_length, dropout, device=DEVICE):\n",
    "        super(LSTM1_packed, self).__init__()\n",
    "\n",
    "        self.input_size = input_size    # input size\n",
    "        self.hidden_size = hidden_size  # hidden state\n",
    "        self.num_layers = num_layers    # number of layers\n",
    "        self.dropout = dropout\n",
    "        self.seq_length = seq_length    # sequence length\n",
    "\n",
    "        # LSTM CELL --------------------------------\n",
    "        self.lstm = nn.LSTM(\n",
    "            self.input_size,            # The number of expected features in the input x\n",
    "            self.hidden_size,           # The number of features in the hidden state h\n",
    "            self.num_layers,            # Number of recurrent layers for stacked LSTMs. Default: 1\n",
    "            batch_first=True,           # If True, then the input and output tensors are provided as (batch, seq, feature) instead of (seq, batch, feature). Default: False\n",
    "            bias=True,                  # If False, then the layer does not use bias weights b_ih and b_hh. Default: True\n",
    "            dropout=self.dropout,       # usually: [0.2 - 0.5], introduces a Dropout layer on the outputs of each LSTM layer except the last layer, (dropout probability). Default: 0\n",
    "            bidirectional=False,        # If True, becomes a bidirectional LSTM. Default: False\n",
    "            proj_size=0,                # If > 0, will use LSTM with projections of corresponding size. Default: 0\n",
    "            device=device\n",
    "        )\n",
    "\n",
    "        self.relu = nn.ReLU()\n",
    "        self.fc_test = nn.Linear(hidden_size, 1)\n",
    "    \n",
    "    def forward(self, packed_input, batch_size=None):\n",
    "        # Propagate input through LSTM\n",
    "        packed_out, _ = self.lstm(packed_input)\n",
    "        #print(f\"LSTM: Output after LSTM: {packed_out.data.shape}, {type(packed_out)}\")\n",
    "\n",
    "        # Unpack the output\n",
    "        out, _ = pad_packed_sequence(packed_out, batch_first=True)\n",
    "        #print(f\"             after packing: {out.shape}, {type(out)}\")\n",
    "\n",
    "        # Output layers\n",
    "        out = self.relu(out)  # relu\n",
    "        #print(f\"             after relu: {out.shape}, {type(out)}\")\n",
    "\n",
    "        out = self.fc_test(out)  # Use all outputs for prediction\n",
    "        #print(f\"             after fc: {out.shape}, {type(out)}\")\n",
    "        \n",
    "        return out\n"
   ]
  },
  {
   "cell_type": "code",
   "execution_count": 14,
   "metadata": {},
   "outputs": [
    {
     "name": "stdout",
     "output_type": "stream",
     "text": [
      "------------------------------------------------------------\n",
      " LSTM1_packed(\n",
      "  (lstm): LSTM(14, 500, num_layers=2, batch_first=True, dropout=0.5)\n",
      "  (relu): ReLU()\n",
      "  (fc_test): Linear(in_features=500, out_features=1, bias=True)\n",
      ")\n",
      "------------------------------------------------------------\n",
      "Model state_dict:\n",
      "lstm.weight_ih_l0:\t torch.Size([2000, 14])\n",
      "lstm.weight_hh_l0:\t torch.Size([2000, 500])\n",
      "lstm.bias_ih_l0:\t torch.Size([2000])\n",
      "lstm.bias_hh_l0:\t torch.Size([2000])\n",
      "lstm.weight_ih_l1:\t torch.Size([2000, 500])\n",
      "lstm.weight_hh_l1:\t torch.Size([2000, 500])\n",
      "lstm.bias_ih_l1:\t torch.Size([2000])\n",
      "lstm.bias_hh_l1:\t torch.Size([2000])\n",
      "fc_test.weight:\t torch.Size([1, 500])\n",
      "fc_test.bias:\t torch.Size([1])\n"
     ]
    }
   ],
   "source": [
    "# MODEL CONFIGURATION -----------------------------------------------------------------------\n",
    "\n",
    "# LAYERS --------------------------------\n",
    "input_size = len(input_columns)     # expected features in the input x\n",
    "hidden_size = HIDDEN_SIZE           # features in the hidden state h\n",
    "num_layers = NUM_LAYERS             # recurrent layers for stacked LSTMs. Default: 1\n",
    "num_classes = 1                     # output classes (=1 for regression)\n",
    "\n",
    "# INSTANTIATE MODEL --------------------\n",
    "model = LSTM1_packed(input_size, HIDDEN_SIZE, NUM_LAYERS, SEQ_LENGTH, DROPOUT).to(DEVICE)\n",
    "print(f\"{'-'*60}\\n\", model)\n",
    "print(f\"{'-'*60}\\nModel state_dict:\")\n",
    "for param_tensor in model.state_dict(): print(f\"{param_tensor}:\\t {model.state_dict()[param_tensor].size()}\") \n",
    "# --> Note torch.Size([4*hidden_size, input_size]) for LSTM weights because of i,o,f,g params concatenated"
   ]
  },
  {
   "cell_type": "code",
   "execution_count": 15,
   "metadata": {},
   "outputs": [
    {
     "name": "stdout",
     "output_type": "stream",
     "text": [
      "------------------------------------------------------------\n",
      "AdamW (\n",
      "Parameter Group 0\n",
      "    amsgrad: False\n",
      "    betas: (0.9, 0.999)\n",
      "    capturable: False\n",
      "    differentiable: False\n",
      "    eps: 1e-08\n",
      "    foreach: None\n",
      "    fused: None\n",
      "    lr: 0.003\n",
      "    maximize: False\n",
      "    weight_decay: 0.001\n",
      ")\n",
      "------------------------------------------------------------\n",
      "\n"
     ]
    }
   ],
   "source": [
    "# TRAINING CONFIGURATION -----------------------------------------------------------------------\n",
    "\n",
    "# OPTIMIZER -----------------------------\n",
    "# common optimizers: ['torch.optim.Adam', 'torch.optim.SGD', 'torch.optim.RMSprop']\n",
    "if 'OPTIMIZER' in globals(): optimizer = eval(OPTIMIZER)\n",
    "else: optimizer = torch.optim.AdamW(model.parameters(), lr = LEARNING_RATE,\n",
    "        weight_decay = 1e-4      # weight decay coefficient (default: 1e-2)\n",
    "        #betas = (0.9, 0.95),    # coefficients used for computing running averages of gradient and its square (default: (0.9, 0.999))\n",
    "        #eps = 1e-8,             # term added to the denominator to improve numerical stability (default: 1e-8)\n",
    ")\n",
    "\n",
    "# LR SCHEDULER -----------------------------\n",
    "if 'LRSCHEDULER' in globals(): scheduler = eval(LRSCHEDULER)\n",
    "else: scheduler = torch.optim.lr_scheduler.ReduceLROnPlateau(optimizer, mode='min', patience = 2, factor = 0.5, min_lr = 1e-6)\n",
    "\n",
    "# LOSS FUNCTION ----------------------------------------------------------------\n",
    "def loss_fn(model_output, target):\n",
    "    loss = F.mse_loss(model_output, target) # mean-squared error for regression\n",
    "    return loss\n",
    "\n",
    "# or define criterion function:\n",
    "criterion_list = [nn.MSELoss(), nn.L1Loss(), nn.SmoothL1Loss(), nn.HuberLoss(), MASE()]\n",
    "\n",
    "if 'CRITERION' in globals(): criterion = eval(CRITERION)\n",
    "else: criterion = nn.SmoothL1Loss()\n",
    "\n",
    "# ------------------------------------------------------------------------------\n",
    "# print Model and Optimizer state_dicts\n",
    "print(f\"{'-'*60}\\n{optimizer}\\n{'-'*60}\\n\")"
   ]
  },
  {
   "cell_type": "code",
   "execution_count": 16,
   "metadata": {},
   "outputs": [],
   "source": [
    "'''\n",
    "######################## \n",
    "# ------------->  TO BE INCLUDED IN train_model.py'''\n",
    "\n",
    "if torch.cuda.is_available(): from torch.amp import GradScaler, autocast\n",
    "#############################################################################################################\n",
    "# -----------------------------------------------------------------------------------------------------------\n",
    "\n",
    "class Trainer_packed():\n",
    "\n",
    "    def __init__(self, model: nn.Module, optimizer: torch.optim.Optimizer, loss_fn: nn.Module, \n",
    "                 train_loader: DataLoader, num_epochs: int, device: torch.device, \n",
    "                 is_notebook: bool = False, val_loader: DataLoader = None, test_loader: DataLoader = None, \n",
    "                 scheduler: torch.optim.lr_scheduler._LRScheduler = None, state: dict = None, \n",
    "                 use_mixed_precision: bool = False, clip_value = None):\n",
    "\n",
    "        self.model = model\n",
    "        self.optimizer = optimizer\n",
    "        self.loss_fn = loss_fn\n",
    "        self.train_loader = train_loader\n",
    "        self.num_epochs = num_epochs\n",
    "        self.device = device\n",
    "        self.is_notebook = is_notebook\n",
    "        self.val_loader = val_loader\n",
    "        self.test_loader = test_loader\n",
    "        self.scheduler = scheduler\n",
    "        self.state = state\n",
    "        self.use_mixed_precision = use_mixed_precision if torch.cuda.is_available() else False\n",
    "        if self.use_mixed_precision: self.scaler = GradScaler('cuda')  # Initialize GradScaler\n",
    "        self.clip_value = clip_value\n",
    "\n",
    "    # EVALUATION ROUTINE DEFINITION -----------------------------------------------------------------\n",
    "    def evaluate_model(self) -> tuple:\n",
    "        if self.test_loader is None: print(\"No test data available.\"); return None\n",
    "        else:\n",
    "            self.model.eval()  # Set model to evaluation mode\n",
    "            test_loss = 0.0\n",
    "            all_outputs, all_targets, all_original_lengths = [], [], []\n",
    "\n",
    "            with torch.no_grad():\n",
    "                for inputs, targets, original_lengths in self.test_loader:\n",
    "                    inputs, targets = inputs.to(self.device), targets.to(self.device)\n",
    "                    # -------------------------------------\n",
    "                    if self.use_mixed_precision:\n",
    "                        with autocast(device_type='cuda'):\n",
    "                            outputs = self.model(inputs)  # inputs are packed, outputs are not ! --> see forward method in model\n",
    "                            outputs = outputs.squeeze()\n",
    "                            if outputs.dim() > 1:\n",
    "                                mask = torch.arange(outputs.size(1))[None, :] < original_lengths[:, None]\n",
    "                            else:\n",
    "                                print(\"shape: \", outputs.shape), print(outputs.size(0), outputs.size(1))\n",
    "                            outputs_masked = outputs[mask]\n",
    "                            targets_masked = targets[mask]\n",
    "                            loss = self.loss_fn(outputs_masked.squeeze(), targets_masked).mean()\n",
    "                            test_loss += loss.item()\n",
    "                    else:\n",
    "                        outputs = self.model(inputs)  # inputs are packed, outputs are not ! --> see forward method in model\n",
    "                        outputs = outputs.squeeze()\n",
    "                        mask = torch.arange(outputs.size(1))[None, :] < original_lengths[:, None]\n",
    "                        outputs_masked = outputs[mask]\n",
    "                        targets_masked = targets[mask]\n",
    "                        loss = self.loss_fn(outputs_masked.squeeze(), targets_masked).mean()\n",
    "                        test_loss += loss.item()\n",
    "                    # -------------------------------------\n",
    "                    # Detach tensors from the computation graph and move them to CPU\n",
    "                    outputs = outputs.detach().cpu().numpy()\n",
    "                    targets = targets.detach().cpu().numpy()\n",
    "                    # Remove the padded endings of each sequence and restore their original lengths\n",
    "                    unpadded_outputs = [output[:length] for output, length in zip(outputs, original_lengths)]\n",
    "                    unpadded_targets = [target[:length] for target, length in zip(targets, original_lengths)]\n",
    "                    # -------------------------------------\n",
    "                    # Collect all outputs and targets\n",
    "                    all_outputs.append(unpadded_outputs)\n",
    "                    all_targets.append(unpadded_targets)\n",
    "                    all_original_lengths.append(original_lengths.detach().cpu().numpy())\n",
    "            # -------------------------------------\n",
    "            test_loss /= len(self.test_loader)  # Calculate average test loss\n",
    "            return test_loss, all_outputs, all_targets, all_original_lengths\n",
    "\n",
    "    # VALIDATION ROUTINE DEFINITION -----------------------------------------------------------------\n",
    "    def validate_model(self, epoch: int) -> float:\n",
    "        if self.val_loader is None: print(\"No validation data available.\"); return None\n",
    "        else:\n",
    "            self.model.eval()  # Set model to evaluation mode\n",
    "            val_loss = 0.0\n",
    "            with torch.no_grad():  # Disable gradient calculation\n",
    "                for inputs, targets, original_lengths in self.val_loader:\n",
    "                    inputs, targets = inputs.to(self.device), targets.to(self.device)\n",
    "                    # -------------------------------------\n",
    "                    if self.use_mixed_precision:\n",
    "                        with autocast(device_type='cuda'):\n",
    "                            outputs = self.model(inputs)  # inputs are packed, outputs are not ! --> see forward method in model\n",
    "                            outputs = outputs.squeeze()\n",
    "                            mask = torch.arange(outputs.size(1))[None, :] < original_lengths[:, None]\n",
    "                            outputs = outputs[mask]\n",
    "                            targets = targets[mask]\n",
    "                            loss = self.loss_fn(outputs.squeeze(), targets).mean()\n",
    "                            val_loss += loss.item()\n",
    "                    else:\n",
    "                        outputs = self.model(inputs)  # inputs are packed, outputs are not ! --> see forward method in model\n",
    "                        outputs = outputs.squeeze()\n",
    "                        mask = torch.arange(outputs.size(1))[None, :] < original_lengths[:, None]\n",
    "                        outputs = outputs[mask]\n",
    "                        targets = targets[mask]\n",
    "                        loss = self.loss_fn(outputs.squeeze(), targets).mean()\n",
    "                        val_loss += loss.item()\n",
    "            # -------------------------------------          \n",
    "            val_loss /= len(self.val_loader)  # Calculate average validation loss\n",
    "            if self.scheduler:\n",
    "                lr1 = self.scheduler.get_last_lr()[0]\n",
    "                self.scheduler.step(val_loss)  # Adjust learning rate based on validation loss\n",
    "                lr2 = self.scheduler.get_last_lr()[0]\n",
    "                self.lr_history.append(lr2)\n",
    "                if lr1 != lr2: print(f\"Learning rate updated after epoch {epoch}: {lr1} -> {lr2}\")\n",
    "            return val_loss\n",
    "\n",
    "    # TRAINING ROUTINE DEFINITION -----------------------------------------------------------------\n",
    "    def train_model(self) -> dict:\n",
    "       # output info on training process\n",
    "        print(f\"{'-'*60}\\nTraining Started.\\tProcess ID: {os.getpid()} \\n{'-'*60}\\n\"\n",
    "              f\"Model: {self.model.__class__.__name__}\\t\\tParameters on device: {str(next(self.model.parameters()).device).upper()}\\n{'-'*60}\\n\"\n",
    "              f\"Train/Batch size:\\t{len(self.train_loader.dataset)} / {self.train_loader.batch_size}\\n\"\n",
    "              f\"Loss:\\t\\t\\t{self.loss_fn}\\nOptimizer:\\t\\t{self.optimizer.__class__.__name__}\\nLR:\\t\\t\\t\"\n",
    "              f\"{self.optimizer.param_groups[0]['lr']}\\nWeight Decay:\\t\\t{self.optimizer.param_groups[0]['weight_decay']}\\n{'-'*60}\")\n",
    "        \n",
    "        # Load state dict if provided\n",
    "        start_epoch = 1\n",
    "        if self.state:\n",
    "            self.model.load_state_dict(self.state['model_state_dict'])\n",
    "            self.optimizer.load_state_dict(self.state['optimizer_state_dict'])\n",
    "            self.train_losses = self.state['train_losses']\n",
    "            self.train_losses_per_iter = self.state['train_losses_per_iter']\n",
    "            self.lr_history = self.state['lr_history']\n",
    "            self.val_losses = self.state['val_losses']\n",
    "            self.training_table = self.state['training_table']\n",
    "            start_epoch = self.state['epoch'] + 1\n",
    "        else:\n",
    "            self.train_losses = [] \n",
    "            self.train_losses_per_iter = []\n",
    "            self.val_losses = []  \n",
    "            self.training_table = []  \n",
    "            self.lr_history = []\n",
    "            if self.is_notebook: display_html(HTML(initialize_table()))\n",
    "\n",
    "        # TRAINING LOOP:\n",
    "        start_time = time.perf_counter()\n",
    "        for epoch in range(start_epoch, self.num_epochs + 1):\n",
    "            self.model.train()  # set model to training mode\n",
    "            running_loss = 0.0\n",
    "            num_iterations = math.ceil(len(self.train_loader.dataset) / self.train_loader.batch_size)\n",
    "            header_printed = False\n",
    "\n",
    "            tqdm_version = tqdm_nb if self.is_notebook else tqdm\n",
    "            with tqdm_version(enumerate(self.train_loader, 1), unit=\"batch\", total=num_iterations, leave=False) as tepoch:\n",
    "                for iter, (inputs, targets, original_lengths) in tepoch:  # ----> note: (packed_inputs, padded_targets, lengths)\n",
    "                    tepoch.set_description(f\"Epoch {epoch}/{self.num_epochs}\")\n",
    "                    #print(\"Dataloader: \", type(inputs), type(targets), type(original_lengths))\n",
    "                    #print(f\"Shape of inputs: {inputs.data.shape}, {type(inputs)}\")\n",
    "                    #print(f\"Shape of targets: {targets.shape}, {type(targets)}\")\n",
    "                    #print(f\"Shape of original_lengths: {original_lengths.shape}, {type(original_lengths)}\")\n",
    "                    # -------------------------------------------------------------\n",
    "                    # Move data to the GPU\n",
    "                    inputs, targets = inputs.to(self.device), targets.to(self.device)\n",
    "\n",
    "                    # zero gradients -> forward pass -> obtain loss function -> apply backpropagation -> update weights:\n",
    "                    self.optimizer.zero_grad()\n",
    "\n",
    "                    # A) use mixed precision calculation ------------------------------------------------------------------------------\n",
    "                    if self.use_mixed_precision:\n",
    "                        with autocast(device_type='cuda'):  # Enable autocast for mixed precision training\n",
    "                            outputs = self.model(inputs)   # inputs are packed, outputs are not ! --> see forward method in model\n",
    "                            outputs = outputs.squeeze()\n",
    "                            mask = torch.arange(outputs.size(1))[None, :] < original_lengths[:, None]\n",
    "                            outputs = outputs[mask]\n",
    "                            targets = targets[mask]\n",
    "                            loss = self.loss_fn(outputs.squeeze(), targets).mean()\n",
    "                        self.scaler.scale(loss).backward()  # Scale the loss and perform backward pass\n",
    "                        if self.clip_value is not None:\n",
    "                            nn.utils.clip_grad_value_(self.model.parameters(), clip_value=self.clip_value)  # optional: Gradient Value Clipping\n",
    "                        self.scaler.step(self.optimizer)  # Update model parameters\n",
    "                        self.scaler.update()  # Update the scale for next iteration\n",
    "\n",
    "                    # B) Normal precision calculation ------------------------------------------------------------------------------\n",
    "                    else:\n",
    "                        #print(\"Forwarding.\")\n",
    "                        outputs = self.model(inputs)  # inputs are packed, outputs are not ! --> see forward method in model\n",
    "                        # -------------------------------------\n",
    "                        #print(f\"Shape of outputs: {outputs.shape}, {type(outputs)}\")\n",
    "                        outputs = outputs.squeeze()\n",
    "                        mask = torch.arange(outputs.size(1))[None, :] < original_lengths[:, None]\n",
    "\n",
    "                        #print(f\"Shape of mask: {mask.shape}, {type(mask)}\")\n",
    "                        #print(f\"Masking.\")\n",
    "                        outputs = outputs[mask]\n",
    "                        targets = targets[mask]\n",
    "                        # -------------------------------------\n",
    "                        #print(f\"Shape of outputs after mask: {outputs.shape}, {type(outputs)}\")\n",
    "                        #print(f\"Shape of targets after mask: {targets.shape}, {type(targets)}\")\n",
    "\n",
    "                        loss = self.loss_fn(outputs.squeeze(), targets).mean()\n",
    "                        loss.backward()\n",
    "                        if self.clip_value is not None:\n",
    "                            nn.utils.clip_grad_value_(self.model.parameters(), clip_value=self.clip_value)  # optional: Gradient Value Clipping\n",
    "                        self.optimizer.step()\n",
    "\n",
    "                    # -------------------------------------------------------------\n",
    "                    # Update the performance table\n",
    "                    if iter % (num_iterations // 4) == 0 and iter != num_iterations // 4 * 4:\n",
    "                        add_row(self.training_table, f\" \", f\"{iter}\", f\"{loss.item():.6f}\", \" \")\n",
    "                        if self.is_notebook:\n",
    "                            display_html(HTML(f\"\"\"<script>addRow(\"\", \"{iter}\", \"{loss.item():.6f}\", \"\");</script>\"\"\"))\n",
    "                        else:\n",
    "                            print_row(self.training_table)\n",
    "                    elif iter == 1:\n",
    "                        add_row(self.training_table, f\"{epoch}/{self.num_epochs}\", f\"{iter}/{num_iterations}\", f\"{loss.item():.6f}\", \" \")\n",
    "                        if self.is_notebook:\n",
    "                            display_html(HTML(f\"\"\"<script>addRow(\"<b>{epoch}/{self.num_epochs}\", \"{iter}/{num_iterations}\", \"{loss.item():.6f}\", \"\");</script>\"\"\"))\n",
    "                        else:\n",
    "                            print_row(self.training_table)\n",
    "\n",
    "                    # -------------------------------------------------------------\n",
    "                    # Update running loss and progress bar\n",
    "                    self.train_losses_per_iter.append(loss.item())\n",
    "                    running_loss += loss.item()  # accumulate loss for epoch\n",
    "                    tepoch.set_postfix(loss=loss.item()); tepoch.update(1)\n",
    "\n",
    "            # Calculate average training loss for the epoch\n",
    "            avg_train_loss = running_loss / len(self.train_loader)\n",
    "            self.train_losses.append(avg_train_loss)\n",
    "\n",
    "            # Update the performance table\n",
    "            add_row(self.training_table, f\" \", f\"{iter}\", f\"{loss.item():.6f}\", f\"{avg_train_loss:.6f}\")\n",
    "            if self.is_notebook:\n",
    "                display_html(HTML(f\"\"\"<script>addRow(\"\", \"{iter}\", \"{loss.item():.6f}\", \"<b>{avg_train_loss:.6f}\");</script>\"\"\"))\n",
    "            else:\n",
    "                print_row(self.training_table)\n",
    "\n",
    "            # VALIDATION\n",
    "            if self.val_loader:\n",
    "                val_loss = self.validate_model(epoch)\n",
    "                self.val_losses.append(val_loss)\n",
    "                # Update the performance table\n",
    "                add_row(self.training_table, f\"Val\", f\"Validation Loss:\", f\"{val_loss:.6f}\", \"\")\n",
    "                if self.is_notebook:\n",
    "                    display_html(HTML(f\"\"\"<script>addRow(\"<b>Val\", \"Validation Loss:\", \"<b>{val_loss:.6f}\", \"\");</script>\"\"\"))\n",
    "                else:\n",
    "                    print_row(self.training_table)\n",
    "\n",
    "        elapsed_time = round(time.perf_counter() - start_time)\n",
    "        print(f\"{'-'*60}\\nTraining Completed.\\tExecution Time: {time.strftime('%H:%M:%S', time.gmtime(elapsed_time))}\\n{'-'*60}\\n\")\n",
    "        return {\n",
    "            # model and optimizer states\n",
    "            \"model\": self.model,\n",
    "            \"model_state_dict\": self.model.state_dict(),\n",
    "            \"optimizer_state_dict\": self.optimizer.state_dict(),\n",
    "            # training performance\n",
    "            \"training_table\": self.training_table,\n",
    "            \"train_losses\": self.train_losses,\n",
    "            \"train_losses_per_iter\": list(self.train_losses_per_iter),\n",
    "            \"val_losses\": self.val_losses,\n",
    "            'lr_history': self.lr_history,\n",
    "            # settings and meta data\n",
    "            \"loss_fn\": self.loss_fn,\n",
    "            \"epoch\": epoch,\n",
    "            \"elapsed_train_time\": elapsed_time\n",
    "        }\n"
   ]
  },
  {
   "cell_type": "code",
   "execution_count": 17,
   "metadata": {},
   "outputs": [
    {
     "name": "stdout",
     "output_type": "stream",
     "text": [
      "------------------------------------------------------------\n",
      "Training Started.\tProcess ID: 55122 \n",
      "------------------------------------------------------------\n",
      "Model: LSTM1_packed\t\tParameters on device: CUDA:0\n",
      "------------------------------------------------------------\n",
      "Train/Batch size:\t277 / 1\n",
      "Loss:\t\t\tSmoothL1Loss()\n",
      "Optimizer:\t\tAdamW\n",
      "LR:\t\t\t0.003\n",
      "Weight Decay:\t\t0.001\n",
      "------------------------------------------------------------\n"
     ]
    },
    {
     "data": {
      "text/html": [
       "<div id=\"scrollable_table\" style=\"height: 300px; overflow-y: scroll;\">\n",
       "    <table id=\"training_table\" style=\"width:60%; border-collapse: collapse;\">\n",
       "        <thead style=\"position: sticky; top: 0; z-index: 1;\">\n",
       "            <tr>\n",
       "                <th style=\"font-weight:bold; width:15%; text-align:left; padding: 10px; background-color: #404040;\">Epoch</th>\n",
       "                <th style=\"font-weight:bold; width:25%; text-align:left; padding: 10px; background-color: #404040;\">Iteration</th>\n",
       "                <th style=\"font-weight:bold; width:30%; text-align:left; padding: 10px; background-color: #404040;\">Batch Loss</th>\n",
       "                <th style=\"font-weight:bold; width:30%; text-align:left; padding: 10px; background-color: #404040;\">Train Loss</th>\n",
       "            </tr>\n",
       "        </thead>\n",
       "        <tbody>\n",
       "        </tbody>\n",
       "    </table>\n",
       "    <script>\n",
       "        function addRow(epoch, step, loss, running_loss) {\n",
       "            var table = document.getElementById(\"training_table\").getElementsByTagName('tbody')[0];\n",
       "            var row = table.insertRow(-1);\n",
       "            var cell1 = row.insertCell(0);\n",
       "            var cell2 = row.insertCell(1);\n",
       "            var cell3 = row.insertCell(2);\n",
       "            var cell4 = row.insertCell(3);\n",
       "            cell1.style.textAlign = \"left\";\n",
       "            cell2.style.textAlign = \"left\";\n",
       "            cell3.style.textAlign = \"left\";\n",
       "            cell4.style.textAlign = \"left\";\n",
       "            cell1.innerHTML = epoch;\n",
       "            cell2.innerHTML = step;\n",
       "            cell3.innerHTML = loss;\n",
       "            cell4.innerHTML = running_loss;\n",
       "            var scrollableDiv = document.getElementById(\"scrollable_table\");\n",
       "            scrollableDiv.scrollTop = scrollableDiv.scrollHeight;\n",
       "        }\n",
       "    </script>\n",
       "    </div>"
      ]
     },
     "metadata": {},
     "output_type": "display_data"
    },
    {
     "data": {
      "application/vnd.jupyter.widget-view+json": {
       "model_id": "c7b6ad9bc80846d58aa964d02aacccca",
       "version_major": 2,
       "version_minor": 0
      },
      "text/plain": [
       "  0%|          | 0/277 [00:00<?, ?batch/s]"
      ]
     },
     "metadata": {},
     "output_type": "display_data"
    },
    {
     "data": {
      "text/html": [
       "<script>addRow(\"<b>1/10\", \"1/277\", \"0.254217\", \"\");</script>"
      ]
     },
     "metadata": {},
     "output_type": "display_data"
    },
    {
     "data": {
      "text/html": [
       "<script>addRow(\"\", \"69\", \"0.035564\", \"\");</script>"
      ]
     },
     "metadata": {},
     "output_type": "display_data"
    },
    {
     "data": {
      "text/html": [
       "<script>addRow(\"\", \"138\", \"0.029196\", \"\");</script>"
      ]
     },
     "metadata": {},
     "output_type": "display_data"
    },
    {
     "data": {
      "text/html": [
       "<script>addRow(\"\", \"207\", \"0.020228\", \"\");</script>"
      ]
     },
     "metadata": {},
     "output_type": "display_data"
    },
    {
     "data": {
      "text/html": [
       "<script>addRow(\"\", \"277\", \"0.016952\", \"<b>0.043444\");</script>"
      ]
     },
     "metadata": {},
     "output_type": "display_data"
    },
    {
     "data": {
      "text/html": [
       "<script>addRow(\"<b>Val\", \"Validation Loss:\", \"<b>0.019083\", \"\");</script>"
      ]
     },
     "metadata": {},
     "output_type": "display_data"
    },
    {
     "data": {
      "application/vnd.jupyter.widget-view+json": {
       "model_id": "a892a4bc015f436ca6382e2b153a4beb",
       "version_major": 2,
       "version_minor": 0
      },
      "text/plain": [
       "  0%|          | 0/277 [00:00<?, ?batch/s]"
      ]
     },
     "metadata": {},
     "output_type": "display_data"
    },
    {
     "data": {
      "text/html": [
       "<script>addRow(\"<b>2/10\", \"1/277\", \"0.019625\", \"\");</script>"
      ]
     },
     "metadata": {},
     "output_type": "display_data"
    },
    {
     "data": {
      "text/html": [
       "<script>addRow(\"\", \"69\", \"0.023794\", \"\");</script>"
      ]
     },
     "metadata": {},
     "output_type": "display_data"
    },
    {
     "data": {
      "text/html": [
       "<script>addRow(\"\", \"138\", \"0.016167\", \"\");</script>"
      ]
     },
     "metadata": {},
     "output_type": "display_data"
    },
    {
     "data": {
      "text/html": [
       "<script>addRow(\"\", \"207\", \"0.023347\", \"\");</script>"
      ]
     },
     "metadata": {},
     "output_type": "display_data"
    },
    {
     "data": {
      "text/html": [
       "<script>addRow(\"\", \"277\", \"0.019921\", \"<b>0.019763\");</script>"
      ]
     },
     "metadata": {},
     "output_type": "display_data"
    },
    {
     "data": {
      "text/html": [
       "<script>addRow(\"<b>Val\", \"Validation Loss:\", \"<b>0.019581\", \"\");</script>"
      ]
     },
     "metadata": {},
     "output_type": "display_data"
    },
    {
     "data": {
      "application/vnd.jupyter.widget-view+json": {
       "model_id": "4f2162f2226a4eb1895da23e3a87f743",
       "version_major": 2,
       "version_minor": 0
      },
      "text/plain": [
       "  0%|          | 0/277 [00:00<?, ?batch/s]"
      ]
     },
     "metadata": {},
     "output_type": "display_data"
    },
    {
     "data": {
      "text/html": [
       "<script>addRow(\"<b>3/10\", \"1/277\", \"0.022299\", \"\");</script>"
      ]
     },
     "metadata": {},
     "output_type": "display_data"
    },
    {
     "data": {
      "text/html": [
       "<script>addRow(\"\", \"69\", \"0.014696\", \"\");</script>"
      ]
     },
     "metadata": {},
     "output_type": "display_data"
    },
    {
     "data": {
      "text/html": [
       "<script>addRow(\"\", \"138\", \"0.019912\", \"\");</script>"
      ]
     },
     "metadata": {},
     "output_type": "display_data"
    },
    {
     "data": {
      "text/html": [
       "<script>addRow(\"\", \"207\", \"0.020136\", \"\");</script>"
      ]
     },
     "metadata": {},
     "output_type": "display_data"
    },
    {
     "data": {
      "text/html": [
       "<script>addRow(\"\", \"277\", \"0.019094\", \"<b>0.019179\");</script>"
      ]
     },
     "metadata": {},
     "output_type": "display_data"
    },
    {
     "data": {
      "text/html": [
       "<script>addRow(\"<b>Val\", \"Validation Loss:\", \"<b>0.019221\", \"\");</script>"
      ]
     },
     "metadata": {},
     "output_type": "display_data"
    },
    {
     "data": {
      "application/vnd.jupyter.widget-view+json": {
       "model_id": "173311713dcf42c386520d26722b7e26",
       "version_major": 2,
       "version_minor": 0
      },
      "text/plain": [
       "  0%|          | 0/277 [00:00<?, ?batch/s]"
      ]
     },
     "metadata": {},
     "output_type": "display_data"
    },
    {
     "data": {
      "text/html": [
       "<script>addRow(\"<b>4/10\", \"1/277\", \"0.019605\", \"\");</script>"
      ]
     },
     "metadata": {},
     "output_type": "display_data"
    },
    {
     "data": {
      "text/html": [
       "<script>addRow(\"\", \"69\", \"0.021706\", \"\");</script>"
      ]
     },
     "metadata": {},
     "output_type": "display_data"
    },
    {
     "data": {
      "text/html": [
       "<script>addRow(\"\", \"138\", \"0.023500\", \"\");</script>"
      ]
     },
     "metadata": {},
     "output_type": "display_data"
    },
    {
     "data": {
      "text/html": [
       "<script>addRow(\"\", \"207\", \"0.019044\", \"\");</script>"
      ]
     },
     "metadata": {},
     "output_type": "display_data"
    },
    {
     "data": {
      "text/html": [
       "<script>addRow(\"\", \"277\", \"0.022107\", \"<b>0.019054\");</script>"
      ]
     },
     "metadata": {},
     "output_type": "display_data"
    },
    {
     "data": {
      "text/html": [
       "<script>addRow(\"<b>Val\", \"Validation Loss:\", \"<b>0.018885\", \"\");</script>"
      ]
     },
     "metadata": {},
     "output_type": "display_data"
    },
    {
     "data": {
      "application/vnd.jupyter.widget-view+json": {
       "model_id": "3444b4ce14d7448b979b4a5efcc618a4",
       "version_major": 2,
       "version_minor": 0
      },
      "text/plain": [
       "  0%|          | 0/277 [00:00<?, ?batch/s]"
      ]
     },
     "metadata": {},
     "output_type": "display_data"
    },
    {
     "data": {
      "text/html": [
       "<script>addRow(\"<b>5/10\", \"1/277\", \"0.016965\", \"\");</script>"
      ]
     },
     "metadata": {},
     "output_type": "display_data"
    },
    {
     "data": {
      "text/html": [
       "<script>addRow(\"\", \"69\", \"0.022595\", \"\");</script>"
      ]
     },
     "metadata": {},
     "output_type": "display_data"
    },
    {
     "data": {
      "text/html": [
       "<script>addRow(\"\", \"138\", \"0.016620\", \"\");</script>"
      ]
     },
     "metadata": {},
     "output_type": "display_data"
    },
    {
     "data": {
      "text/html": [
       "<script>addRow(\"\", \"207\", \"0.027587\", \"\");</script>"
      ]
     },
     "metadata": {},
     "output_type": "display_data"
    },
    {
     "data": {
      "text/html": [
       "<script>addRow(\"\", \"277\", \"0.027337\", \"<b>0.018882\");</script>"
      ]
     },
     "metadata": {},
     "output_type": "display_data"
    },
    {
     "data": {
      "text/html": [
       "<script>addRow(\"<b>Val\", \"Validation Loss:\", \"<b>0.017825\", \"\");</script>"
      ]
     },
     "metadata": {},
     "output_type": "display_data"
    },
    {
     "data": {
      "application/vnd.jupyter.widget-view+json": {
       "model_id": "2a3f200a4d5e4564826c156b9f9fd844",
       "version_major": 2,
       "version_minor": 0
      },
      "text/plain": [
       "  0%|          | 0/277 [00:00<?, ?batch/s]"
      ]
     },
     "metadata": {},
     "output_type": "display_data"
    },
    {
     "data": {
      "text/html": [
       "<script>addRow(\"<b>6/10\", \"1/277\", \"0.019531\", \"\");</script>"
      ]
     },
     "metadata": {},
     "output_type": "display_data"
    },
    {
     "data": {
      "text/html": [
       "<script>addRow(\"\", \"69\", \"0.024619\", \"\");</script>"
      ]
     },
     "metadata": {},
     "output_type": "display_data"
    },
    {
     "data": {
      "text/html": [
       "<script>addRow(\"\", \"138\", \"0.012833\", \"\");</script>"
      ]
     },
     "metadata": {},
     "output_type": "display_data"
    },
    {
     "data": {
      "text/html": [
       "<script>addRow(\"\", \"207\", \"0.022192\", \"\");</script>"
      ]
     },
     "metadata": {},
     "output_type": "display_data"
    },
    {
     "data": {
      "text/html": [
       "<script>addRow(\"\", \"277\", \"0.022883\", \"<b>0.018620\");</script>"
      ]
     },
     "metadata": {},
     "output_type": "display_data"
    },
    {
     "data": {
      "text/html": [
       "<script>addRow(\"<b>Val\", \"Validation Loss:\", \"<b>0.019322\", \"\");</script>"
      ]
     },
     "metadata": {},
     "output_type": "display_data"
    },
    {
     "data": {
      "application/vnd.jupyter.widget-view+json": {
       "model_id": "cbc400067f50492a94432fe7b0cb9b43",
       "version_major": 2,
       "version_minor": 0
      },
      "text/plain": [
       "  0%|          | 0/277 [00:00<?, ?batch/s]"
      ]
     },
     "metadata": {},
     "output_type": "display_data"
    },
    {
     "data": {
      "text/html": [
       "<script>addRow(\"<b>7/10\", \"1/277\", \"0.019287\", \"\");</script>"
      ]
     },
     "metadata": {},
     "output_type": "display_data"
    },
    {
     "data": {
      "text/html": [
       "<script>addRow(\"\", \"69\", \"0.023750\", \"\");</script>"
      ]
     },
     "metadata": {},
     "output_type": "display_data"
    },
    {
     "data": {
      "text/html": [
       "<script>addRow(\"\", \"138\", \"0.017596\", \"\");</script>"
      ]
     },
     "metadata": {},
     "output_type": "display_data"
    },
    {
     "data": {
      "text/html": [
       "<script>addRow(\"\", \"207\", \"0.019393\", \"\");</script>"
      ]
     },
     "metadata": {},
     "output_type": "display_data"
    },
    {
     "data": {
      "text/html": [
       "<script>addRow(\"\", \"277\", \"0.013839\", \"<b>0.018831\");</script>"
      ]
     },
     "metadata": {},
     "output_type": "display_data"
    },
    {
     "data": {
      "text/html": [
       "<script>addRow(\"<b>Val\", \"Validation Loss:\", \"<b>0.018778\", \"\");</script>"
      ]
     },
     "metadata": {},
     "output_type": "display_data"
    },
    {
     "data": {
      "application/vnd.jupyter.widget-view+json": {
       "model_id": "4fac3f7f5e464376bdfe0d8d6166d426",
       "version_major": 2,
       "version_minor": 0
      },
      "text/plain": [
       "  0%|          | 0/277 [00:00<?, ?batch/s]"
      ]
     },
     "metadata": {},
     "output_type": "display_data"
    },
    {
     "data": {
      "text/html": [
       "<script>addRow(\"<b>8/10\", \"1/277\", \"0.019320\", \"\");</script>"
      ]
     },
     "metadata": {},
     "output_type": "display_data"
    },
    {
     "data": {
      "text/html": [
       "<script>addRow(\"\", \"69\", \"0.012029\", \"\");</script>"
      ]
     },
     "metadata": {},
     "output_type": "display_data"
    },
    {
     "data": {
      "text/html": [
       "<script>addRow(\"\", \"138\", \"0.013529\", \"\");</script>"
      ]
     },
     "metadata": {},
     "output_type": "display_data"
    },
    {
     "data": {
      "text/html": [
       "<script>addRow(\"\", \"207\", \"0.025998\", \"\");</script>"
      ]
     },
     "metadata": {},
     "output_type": "display_data"
    },
    {
     "data": {
      "text/html": [
       "<script>addRow(\"\", \"277\", \"0.010878\", \"<b>0.018518\");</script>"
      ]
     },
     "metadata": {},
     "output_type": "display_data"
    },
    {
     "name": "stdout",
     "output_type": "stream",
     "text": [
      "Learning rate updated after epoch 8: 0.003 -> 0.0015\n"
     ]
    },
    {
     "data": {
      "text/html": [
       "<script>addRow(\"<b>Val\", \"Validation Loss:\", \"<b>0.017881\", \"\");</script>"
      ]
     },
     "metadata": {},
     "output_type": "display_data"
    },
    {
     "data": {
      "application/vnd.jupyter.widget-view+json": {
       "model_id": "921e96b9947f46669a48a0a2a337a4c6",
       "version_major": 2,
       "version_minor": 0
      },
      "text/plain": [
       "  0%|          | 0/277 [00:00<?, ?batch/s]"
      ]
     },
     "metadata": {},
     "output_type": "display_data"
    },
    {
     "data": {
      "text/html": [
       "<script>addRow(\"<b>9/10\", \"1/277\", \"0.012690\", \"\");</script>"
      ]
     },
     "metadata": {},
     "output_type": "display_data"
    },
    {
     "data": {
      "text/html": [
       "<script>addRow(\"\", \"69\", \"0.016635\", \"\");</script>"
      ]
     },
     "metadata": {},
     "output_type": "display_data"
    },
    {
     "data": {
      "text/html": [
       "<script>addRow(\"\", \"138\", \"0.015050\", \"\");</script>"
      ]
     },
     "metadata": {},
     "output_type": "display_data"
    },
    {
     "data": {
      "text/html": [
       "<script>addRow(\"\", \"207\", \"0.018648\", \"\");</script>"
      ]
     },
     "metadata": {},
     "output_type": "display_data"
    },
    {
     "data": {
      "text/html": [
       "<script>addRow(\"\", \"277\", \"0.015378\", \"<b>0.018048\");</script>"
      ]
     },
     "metadata": {},
     "output_type": "display_data"
    },
    {
     "data": {
      "text/html": [
       "<script>addRow(\"<b>Val\", \"Validation Loss:\", \"<b>0.015891\", \"\");</script>"
      ]
     },
     "metadata": {},
     "output_type": "display_data"
    },
    {
     "data": {
      "application/vnd.jupyter.widget-view+json": {
       "model_id": "ac98909854854518a403c2c6193eec49",
       "version_major": 2,
       "version_minor": 0
      },
      "text/plain": [
       "  0%|          | 0/277 [00:00<?, ?batch/s]"
      ]
     },
     "metadata": {},
     "output_type": "display_data"
    },
    {
     "data": {
      "text/html": [
       "<script>addRow(\"<b>10/10\", \"1/277\", \"0.012229\", \"\");</script>"
      ]
     },
     "metadata": {},
     "output_type": "display_data"
    },
    {
     "data": {
      "text/html": [
       "<script>addRow(\"\", \"69\", \"0.013973\", \"\");</script>"
      ]
     },
     "metadata": {},
     "output_type": "display_data"
    },
    {
     "data": {
      "text/html": [
       "<script>addRow(\"\", \"138\", \"0.017308\", \"\");</script>"
      ]
     },
     "metadata": {},
     "output_type": "display_data"
    },
    {
     "data": {
      "text/html": [
       "<script>addRow(\"\", \"207\", \"0.022156\", \"\");</script>"
      ]
     },
     "metadata": {},
     "output_type": "display_data"
    },
    {
     "data": {
      "text/html": [
       "<script>addRow(\"\", \"277\", \"0.011489\", \"<b>0.015314\");</script>"
      ]
     },
     "metadata": {},
     "output_type": "display_data"
    },
    {
     "data": {
      "text/html": [
       "<script>addRow(\"<b>Val\", \"Validation Loss:\", \"<b>0.014619\", \"\");</script>"
      ]
     },
     "metadata": {},
     "output_type": "display_data"
    },
    {
     "name": "stdout",
     "output_type": "stream",
     "text": [
      "------------------------------------------------------------\n",
      "Training Completed.\tExecution Time: 00:07:22\n",
      "------------------------------------------------------------\n",
      "\n"
     ]
    }
   ],
   "source": [
    "# NETWORK TRAINING -----------------------------------------------------------------\n",
    "trainer = Trainer_packed(\n",
    "    model = model, \n",
    "    optimizer = optimizer,\n",
    "    scheduler = scheduler, \n",
    "    loss_fn = criterion, \n",
    "    train_loader = train_loader,\n",
    "    val_loader = val_loader,\n",
    "    test_loader = test_loader,\n",
    "    num_epochs = NUM_EPOCHS, \n",
    "    device = DEVICE, \n",
    "    is_notebook = IS_NOTEBOOK,\n",
    "    use_mixed_precision = True\n",
    "    )\n",
    "    \n",
    "trained = trainer.train_model()"
   ]
  },
  {
   "cell_type": "code",
   "execution_count": 18,
   "metadata": {},
   "outputs": [
    {
     "name": "stdout",
     "output_type": "stream",
     "text": [
      "Model saved to:\t /home/sieglew/MA-eR-PINN/src/models/pth/LSTM1_packed_241129_174536.pth\n",
      "------------------------------------------------------------\n",
      "Size: 35.58 MB\n",
      "------------------------------------------------------------\n"
     ]
    }
   ],
   "source": [
    "# COLLECTING RESULTS AND META DATA ---------------------------------------------------\n",
    "trained['CONFIG'] = CONFIG\n",
    "trained['subset_files'] = subset_files\n",
    "# SAVE   -----------------------------------------------------------------\n",
    "# create unique model name\n",
    "model_name = f'{model.__class__.__name__}_{datetime.now().strftime(\"%y%m%d_%H%M%S\")}'\n",
    "model_destination_path = Path(pth_folder, model_name + \".pth\")\n",
    "\n",
    "# save object & print info\n",
    "torch.save(trained, model_destination_path)\n",
    "print(f\"Model saved to:\\t {model_destination_path}\\n{'-'*60}\\nSize: {os.path.getsize(model_destination_path) / 1024**2:.2f} MB\\n{'-'*60}\")\n",
    "if os.path.getsize(model_destination_path) > 100 * 1024**2: print(\"--> Warning: The saved model size exceeds 100MB!\")"
   ]
  },
  {
   "cell_type": "code",
   "execution_count": 19,
   "metadata": {},
   "outputs": [
    {
     "name": "stdout",
     "output_type": "stream",
     "text": [
      "Model loaded from:\t /home/sieglew/MA-eR-PINN/src/models/pth/LSTM1_packed_241129_174536.pth\n",
      "------------------------------------------------------------\n",
      "Model: LSTM1_packed\t\tParameters on device: cuda:0\n",
      "------------------------------------------------------------\n",
      "Train/Batch size:\t277 / 1\n",
      "Loss:\t\t\tSmoothL1Loss()\n",
      "Optimizer:\t\tAdamW\n",
      "LR:\t\t\t0.0015\n",
      "Weight Decay:\t\t0.001\n",
      "------------------------------------------------------------\n",
      " LSTM1_packed(\n",
      "  (lstm): LSTM(14, 500, num_layers=2, batch_first=True, dropout=0.5)\n",
      "  (relu): ReLU()\n",
      "  (fc_test): Linear(in_features=500, out_features=1, bias=True)\n",
      ")\n"
     ]
    }
   ],
   "source": [
    "# LOAD FROM CHECKPOINT -----------------------------------------------------------------\n",
    "#model_destination_path = Path(pth_folder, \"LSTM1_241118_184156.pth\")\n",
    "\n",
    "# -----------------------------------------------------------------\n",
    "checkpoint = torch.load(model_destination_path, weights_only=False, map_location=DEVICE if torch.cuda.is_available() else torch.device('cpu'))\n",
    "for key in [\"model\", \"loss_fn\", \"training_table\", \"train_losses\", \"train_losses_per_iter\", \"val_losses\", \"epoch\", \"lr_history\"]: \n",
    "    exec(f\"{key} = checkpoint[key]\")\n",
    "\n",
    "# configure model and optimizer:\n",
    "model.load_state_dict(checkpoint['model_state_dict'])\n",
    "optimizer.load_state_dict(checkpoint['optimizer_state_dict'])\n",
    "\n",
    "# Move the model and its parameters to the CPU      -->  necessary?\n",
    "try:\n",
    "    if torch.cuda.is_available() and GPU_SELECT is not None:\n",
    "        model.to(DEVICE)\n",
    "    else:\n",
    "        model.to(torch.device(\"cpu\"))\n",
    "except:\n",
    "    model.to(torch.device(\"cpu\"))\n",
    "\n",
    "model.eval(); # set model to evaluation mode for inference\n",
    "print(f\"Model loaded from:\\t {model_destination_path}\\n{'-'*60}\")\n",
    "print(f\"Model: {model.__class__.__name__}\\t\\tParameters on device: {next(model.parameters()).device}\\n{'-'*60}\\n\"\n",
    "        f\"Train/Batch size:\\t{len(train_loader.dataset)} / {train_loader.batch_size}\\n\"\n",
    "        f\"Loss:\\t\\t\\t{loss_fn}\\nOptimizer:\\t\\t{optimizer.__class__.__name__}\\nLR:\\t\\t\\t\"\n",
    "        f\"{optimizer.param_groups[0]['lr']}\\nWeight Decay:\\t\\t{optimizer.param_groups[0]['weight_decay']}\\n{'-'*60}\\n\", model)"
   ]
  },
  {
   "cell_type": "code",
   "execution_count": null,
   "metadata": {},
   "outputs": [
    {
     "data": {
      "image/png": "[encoded data removed]",
      "text/plain": [
       "<Figure size 1800x400 with 2 Axes>"
      ]
     },
     "metadata": {},
     "output_type": "display_data"
    }
   ],
   "source": [
    "# get DataFrame of training metrics:\n",
    "training_df = pd.DataFrame(training_table, columns=[\"Epoch\", \"Iteration\", \"Batch Loss\", \"Train Loss\"])\n",
    "# Extract the 'Train Loss' column and compare with the train_losses list\n",
    "train_loss_column = training_df['Train Loss'].replace(['',' '], np.nan).dropna().astype(float).values\n",
    "if any(abs(train_loss_column - train_losses) > 1e-3):  print(\"Extracted and original Train Losses are not equal. Please check metrics table.\")\n",
    "\n",
    "# -------------------------------------\n",
    "# plot training performance:\n",
    "fig, ax1 = plt.subplots(figsize=(14,4))\n",
    "ax1.set_xlabel('Epochs')\n",
    "ax1.set_xticks(range(1, NUM_EPOCHS + 1))\n",
    "\n",
    "assert len(train_losses_per_iter) == NUM_EPOCHS * len(train_loader), \"Length of train_losses_per_iter might not match the number of iterations.\"\n",
    "plt.plot(np.linspace(1, NUM_EPOCHS, len(train_losses_per_iter)), train_losses_per_iter, label='batch_loss', color='lightblue')\n",
    "plt.plot(range(1, NUM_EPOCHS + 1), train_losses, label='train_loss', color='blue')\n",
    "plt.plot(range(1, NUM_EPOCHS + 1), val_losses, label='val_loss', color='red')\n",
    "\n",
    "plt.yscale('log'); fig.tight_layout(); plt.legend();\n",
    "\n",
    "plt.text(0.86, 0.6, f\"Train: {train_losses[-1]:.3e}\\nVal:    {val_losses[-1]:.3e}\", \\\n",
    "    transform=plt.gca().transAxes, fontsize=10, bbox=dict(facecolor='white', alpha=0.5));\n",
    "\n",
    "if pd.Series(lr_history).nunique() > 1:\n",
    "    ax2 = ax1.twinx()\n",
    "    ax2.plot(range(1, NUM_EPOCHS + 1), lr_history, label='lr', color='green', linestyle='--')\n",
    "    ax2.set_ylabel('Learning Rate', color='green')\n",
    "    ax2.tick_params(axis='y', labelcolor='green')\n",
    "    ax2.set_yscale('log')\n"
   ]
  },
  {
   "cell_type": "code",
   "execution_count": 21,
   "metadata": {},
   "outputs": [
    {
     "name": "stdout",
     "output_type": "stream",
     "text": [
      "Test Loss:  0.0156\n",
      "RMSE: 15.5149\n",
      "Standard Deviation: 14.8627\n"
     ]
    }
   ],
   "source": [
    "# EVALUATION -----------------------------------------------------------------\n",
    "# get file list of test subset\n",
    "test_files = checkpoint[\"subset_files\"][\"test\"]\n",
    "# -------------------------------------\n",
    "test_loss, outputs, targets, original_lengths = trainer.evaluate_model()\n",
    "# -------------------------------------\n",
    "all_outputs, all_targets, all_original_lengths = [], [], []\n",
    "for batch_outputs, batch_targets, batch_lengths in zip(outputs, targets, original_lengths):\n",
    "    all_outputs.extend(batch_outputs)\n",
    "    all_targets.extend(batch_targets)\n",
    "    all_original_lengths.extend(batch_lengths)\n",
    "\n",
    "# Inverse-transform on all outputs and targets for evaluation\n",
    "#scaled_outputs = target_scaler.inverse_transform(np.concatenate(all_outputs, axis=0).reshape(-1, 1))\n",
    "#scaled_targets = target_scaler.inverse_transform(np.concatenate(all_targets, axis=0).reshape(-1, 1))\n",
    "\n",
    "# Inverse-transform on all outputs and targets for evaluation\n",
    "scaled_outputs = [target_scaler.inverse_transform(output_sequence.reshape(1, -1)).squeeze() for output_sequence in all_outputs]\n",
    "scaled_targets = [target_scaler.inverse_transform(target_sequence.reshape(1, -1)).squeeze() for target_sequence in all_targets]\n",
    "\n",
    "\n",
    "print(f\"Test Loss:  {test_loss:.4f}\")\n",
    "print(f\"RMSE: {root_mean_squared_error(np.concatenate(scaled_targets), np.concatenate(scaled_outputs)):.4f}\")\n",
    "print(f\"Standard Deviation: {np.std(np.concatenate(scaled_targets) - np.concatenate(scaled_outputs)):.4f}\")"
   ]
  },
  {
   "cell_type": "code",
   "execution_count": 34,
   "metadata": {},
   "outputs": [
    {
     "data": {
      "image/png": "[encoded data removed]",
      "text/plain": [
       "<Figure size 1800x400 with 1 Axes>"
      ]
     },
     "metadata": {},
     "output_type": "display_data"
    },
    {
     "data": {
      "image/png": "[encoded data removed]",
      "text/plain": [
       "<Figure size 1800x400 with 1 Axes>"
      ]
     },
     "metadata": {},
     "output_type": "display_data"
    }
   ],
   "source": [
    "# get random sample sequence from test set\n",
    "# -------------------------------------\n",
    "sample_int = random.randint(1, len(scaled_outputs))\n",
    "y_pred = scaled_outputs[sample_int]\n",
    "y_true = scaled_targets[sample_int]\n",
    "\n",
    "###############################################\n",
    "# PLOT PREDICTION -----------------------------------------------------------------\n",
    "plt.figure(figsize=(18,4)); plt.xlabel('Time in s'); plt.ylabel('SOC in %'); plt.title('Battery State of Charge: Prediction vs. Actual Data') \n",
    "plt.plot(y_true, label='Actual Data') # actual plot\n",
    "plt.plot(np.arange(0, len(y_true), 1), y_pred, label='Predicted Data') # predicted plot\n",
    "plt.legend()\n",
    "plt.text(0.01, 0.02, f\"RMSE: {root_mean_squared_error(y_true, y_pred):.4f}\\nStd Dev: {np.std(y_true - y_pred):.4f}\",\\\n",
    "     transform=plt.gca().transAxes, fontsize=12, bbox=dict(facecolor='white', alpha=0.5))\n",
    "\n",
    "plt.figure(figsize=(18,4)); plt.xlabel('Time in s'); plt.ylabel('SOC in %')\n",
    "plt.plot(savgol_filter(y_true.flatten(), window_length=60, polyorder=3), label='Actual Data (Smoothed)') # actual plot\n",
    "plt.plot(np.arange(0, len(y_true), 1), savgol_filter(y_pred.flatten(), window_length=60, polyorder=3), label='Predicted Data (Smoothed)') # predicted plot\n",
    "plt.legend();"
   ]
  },
  {
   "cell_type": "code",
   "execution_count": 23,
   "metadata": {},
   "outputs": [],
   "source": [
    "'''\n",
    "TODOs\n",
    "    - check if any batch contains only one sequence. If so, discard it before training\n",
    "    - val loss must be significantly higher than train loss !!!\n",
    "    - check effects of mixed precision training\n",
    "''';"
   ]
  }
 ],
 "metadata": {
  "kernelspec": {
   "display_name": "Python 3",
   "language": "python",
   "name": "python3"
  },
  "language_info": {
   "codemirror_mode": {
    "name": "ipython",
    "version": 3
   },
   "file_extension": ".py",
   "mimetype": "text/x-python",
   "name": "python",
   "nbconvert_exporter": "python",
   "pygments_lexer": "ipython3",
   "version": "3.11.0rc1"
  }
 },
 "nbformat": 4,
 "nbformat_minor": 2
}
