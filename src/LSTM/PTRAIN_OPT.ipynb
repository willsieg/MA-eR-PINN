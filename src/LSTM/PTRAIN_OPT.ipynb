{
 "cells": [
  {
   "cell_type": "code",
   "execution_count": 8,
   "id": "9cfaf8cc",
   "metadata": {},
   "outputs": [],
   "source": [
    "#%reset -f -s\n",
    "%matplotlib inline\n",
    "'''------------------------------------------------------------------\n",
    "MA-eR-PINN: eRange Prediction using Physics-Informed Neural Networks\n",
    "---------------------------------------------------------------------\n",
    "Version: V2.0      Modified: 12.01.2025        William Siegle\n",
    "---------------------------------------------------------------------\n",
    "PTRAIN - Standard Pipeline Framework for Training the PINN\n",
    "+ OPTUNA - Hyperparameter Optimization using Optuna\n",
    "------------------------------------------------------------------''';"
   ]
  },
  {
   "cell_type": "code",
   "execution_count": 9,
   "id": "55581895",
   "metadata": {},
   "outputs": [],
   "source": [
    "# MA-eR-PINN: CONFIGURATION FILE -------------------------------------------------\n",
    "from pathlib import Path\n",
    "CONFIG = {\n",
    "    # SYSTEM: ---------------------------------------------------------------------\n",
    "    \"GPU_SELECT\":       0,\n",
    "    \"ROOT\":             Path('../..').resolve(),\n",
    "    \"INPUT_LOCATION\":   Path(\"TripSequences\", \"trips_processed_pinn_4\"), \n",
    "    \"OUTPUT_LOCATION\":  Path(\"src\", \"models\", \"pth\"),\n",
    "    \"SEED\"  :           18,\n",
    "    \"MIXED_PRECISION\":  True,\n",
    "\n",
    "    # DATA PREPROCESSING: ---------------------------------------------------------\n",
    "    \"TRAIN_VAL_TEST\":   [0.8, 0.1, 0.1], # [train, val, test splits]\n",
    "    \"MAX_FILES\":        None, # None: all files\n",
    "    \"MIN_SEQ_LENGTH\":   600, # minimum sequence length in s to be included in DataSets\n",
    "    \"SCALERS\":          {'feature_scaler': 'MinMaxScaler()','target_scaler': 'MinMaxScaler()','prior_scaler': 'MinMaxScaler()'},\n",
    "\n",
    "    # FEATURES: -------------------------------------------------------------------\n",
    "    \"FEATURES\":         ['accelpdlposn_cval','actdrvtrnpwrprc_cval','actualdcvoltage_pti1','actualspeed_pti1','actualtorque_pti1',\n",
    "                        'airtempinsd_cval_hvac','airtempinsd_rq','airtempoutsd_cval_cpc','altitude_cval_ippc','brc_stat_brc1','brktempra_cval',\n",
    "                        'bs_brk_cval','currpwr_contendrnbrkresist_cval','elcomp_pwrcons_cval','epto_pwr_cval','hv_bat_dc_momvolt_cval_bms1',\n",
    "                        'hv_batavcelltemp_cval_bms1','hv_batcurr_cval_bms1','hv_batisores_cval_e2e','hv_batmaxchrgpwrlim_cval_1',\n",
    "                        'hv_batmaxdischrgpwrlim_cval_1','hv_curr_cval_dcl1','hv_dclink_volt_cval_dcl1','hv_ptc_cabin1_pwr_cval','hv_pwr_cval_dcl1',\n",
    "                        'lv_convpwr_cval_dcl1','maxrecuppwrprc_cval','maxtracpwrpct_cval','motortemperature_pti1','powerstagetemperature_pti1',\n",
    "                        'rmsmotorcurrent_pti1','roadgrad_cval_pt','selgr_rq_pt','start_soc','txoiltemp_cval_tcm','vehspd_cval_cpc','vehweight_cval_pt'],                 \n",
    "    \"TARGETS\":          ['hv_bat_soc_cval_bms1'],\n",
    "    \"PRIORS\":           ['emot_soc_pred'],  \n",
    "\n",
    "    # MODEL: -----------------------------------------------------------------------\n",
    "    \"HIDDEN_SIZE\":      80,    # features in the hidden state h\n",
    "    \"NUM_LAYERS\":       5,      # recurrent layers for stacked LSTMs. Default: 1\n",
    "    \"DROPOUT\":          0.1,   # usually: [0.2 - 0.5]\n",
    "    \n",
    "    # TRAINING & OPTIMIZER: --------------------------------------------------------\n",
    "    \"NUM_EPOCHS\":       12,\n",
    "    \"BATCH_SIZE\":       32,         # [2, 4, 8, 16, 32, 64, 128, 256]\n",
    "    \"LEARNING_RATE\":    9e-4,       # 0.001 lr\n",
    "    \"WEIGHT_DECAY\":     1e-5,       # weight decay coefficient (default: 1e-2)\n",
    "    \"MOMENTUM_SGD\":     0.1,        # (default: 0.0)\n",
    "    \"OPTIMIZER\":        'adamw',    # ('adam', 'sgd', 'adamw')\n",
    "    \"WEIGHT_INIT_TYPE\": 'he',  # ('he', 'normal', 'default')\n",
    "    \"CLIP_GRAD\":        2.0,        # default: None\n",
    "    \"LRSCHEDULER\":      \"torch.optim.lr_scheduler.LambdaLR(optimizer, lr_lambda=lr_lambda)\",  # constant LR for 1.0 as multiplicative factor\n",
    "                        # torch.optim.lr_scheduler.ReduceLROnPlateau(optimizer, mode='min', patience = 3, factor = 0.5, min_lr = 1e-7)\n",
    "    \n",
    "    # LOSS FUNCTION: ---------------------------------------------------------------\n",
    "    \"LPSCHEDULER\":      \"ParameterScheduler(initial_value=0.2, schedule_type='constant', absolute_reduction=-0.0002)\",\n",
    "    #       'constant': [], 'time_based': ['decay_rate'], 'step_based': ['drop_rate', 'epochs_drop'], 'exponential': ['decay_rate'], 'linear': ['absolute_reduction'], \n",
    "    #       'cosine_annealing': ['total_epochs'], 'cyclic': ['base_lr', 'max_lr', 'step_size']\n",
    "}"
   ]
  },
  {
   "cell_type": "code",
   "execution_count": 10,
   "id": "dc61569d",
   "metadata": {},
   "outputs": [],
   "source": [
    "# OPTUNA: SEARCH SPACE ---------------------------------------------------\n",
    "N_TRIALS = 200\n",
    "\n",
    "global search_space, search_space_NewData\n",
    "search_space = {\n",
    "    # MODEL: -----------------------------------------------------------------------\n",
    "    'HIDDEN_SIZE': ('int', 50, 150, 10),\n",
    "    'NUM_LAYERS': ('int', 2, 6, 1),\n",
    "    'DROPOUT': ('float', 0.0, 0.4, 0.05),\n",
    "    'CLIP_GRAD': ('categorical', (None, 0.1, 0.5, 1.0, 2.0, 5.0, 10, 100)),\n",
    "    'WEIGHT_INIT_TYPE': ('categorical', ('he', 'normal', 'default')),\n",
    "\n",
    "    # TRAINING & OPTIMIZER: --------------------------------------------------------\n",
    "    'OPTIMIZER': ('categorical', ('adam', 'adamw')),\n",
    "    #'NUM_EPOCHS': ('int', 5, 10, 1),\n",
    "    'LEARNING_RATE': ('categorical', (5e-5, 9e-5, 1e-4, 2e-4, 3e-4, 4e-4, 5e-4, 6e-4, 7e-4, 8e-4, 9e-4, 1e-3, 2e-3, 3e-3, 4e-3, 5e-3, 8e-3, 1e-2, 2e-2)),\n",
    "    'WEIGHT_DECAY': ('categorical', (0.0, 1e-6, 1e-5, 1e-4, 1e-3)),\n",
    "    #'MOMENTUM_SGD': ('float', 0.0, 0.9, 0.1),\n",
    "\n",
    "    #'P_LOSS_FACTOR': ('float', 0.05, 1.0, 0.05)\n",
    "}\n",
    "\n",
    "search_space_NewData = {\n",
    "    'BATCH_SIZE': ('categorical', (4, 8, 16, 32, 64, 128)),\n",
    "}"
   ]
  },
  {
   "cell_type": "code",
   "execution_count": 11,
   "id": "42b8868d",
   "metadata": {},
   "outputs": [],
   "source": [
    "# LOSS FUNCTION MODULES ----------------------------------------------------------------  \n",
    "global LOSS_FN\n",
    "from torch import nn\n",
    "\n",
    "class CustomLoss(nn.Module):\n",
    "    def __init__(self):\n",
    "        super(CustomLoss, self).__init__()\n",
    "        self.mse_loss = nn.MSELoss()\n",
    "        \n",
    "    def forward(self, y_pred, y_true, y_phys, l_p):\n",
    "        mse_loss_value = self.mse_loss(y_pred, y_true)                      # loss w.r.t. data\n",
    "        phys_loss_value = self.mse_loss(y_pred, y_phys)                     # loss w.r.t. physical model\n",
    "        total_loss = (1 - l_p) * mse_loss_value + l_p * phys_loss_value     # total loss, weighted by l_p-factor\n",
    "        return total_loss\n",
    "\n",
    "LOSS_FN = CustomLoss()"
   ]
  },
  {
   "cell_type": "markdown",
   "id": "1a5c4680",
   "metadata": {},
   "source": [
    "___\n",
    "SETUP: Locate devices & system folders"
   ]
  },
  {
   "cell_type": "code",
   "execution_count": 12,
   "id": "7924eab4",
   "metadata": {},
   "outputs": [
    {
     "name": "stdout",
     "output_type": "stream",
     "text": [
      "/home/sieglew/MA-eR-PINN\n",
      "------------------------------------------------------------\n",
      "Directories:\n",
      "  /home/sieglew/MA-eR-PINN:\t\t\ttest, .git, archive, project, data, src\n",
      "  /mnt/nvme/datasets/sieglew:\t\t\tTripSequences\n",
      "------------------------------------------------------------\n",
      "Running in notebook mode\n",
      "CONFIG Dictionary:\n",
      "---------------------------------------------------------------------------------------------------------------------------------\n",
      "     Parameter         Value\n",
      "--  ----------------  ---------------------------------------------------------------------------------------------------------\n",
      "0   GPU_SELECT        0\n",
      "1   ROOT              /home/sieglew/MA-eR-PINN\n",
      "2   INPUT_LOCATION    TripSequences/trips_processed_pinn_4\n",
      "3   OUTPUT_LOCATION   src/models/pth\n",
      "4   SEED              18\n",
      "5   MIXED_PRECISION   True\n",
      "6   TRAIN_VAL_TEST    [0.8, 0.1, 0.1]\n",
      "7   MAX_FILES         None\n",
      "8   MIN_SEQ_LENGTH    600\n",
      "9   SCALERS           {'feature_scaler': 'MinMaxScaler()', 'target_scaler': 'MinMaxScaler()', 'prior_scaler': 'MinMaxScaler()'}\n",
      "10  FEATURES          ['accelpdlposn_cval',\n",
      "                       'actdrvtrnpwrprc_cval',\n",
      "                       'actualdcvoltage_pti1',\n",
      "                       'actualspeed_pti1',\n",
      "                       'actualtorque_pti1',\n",
      "                       'airtempinsd_cval_hvac',\n",
      "                       'airtempinsd_rq',\n",
      "                       'airtempoutsd_cval_cpc',\n",
      "                       'altitude_cval_ippc',\n",
      "                       'brc_stat_brc1',\n",
      "                       'brktempra_cval',\n",
      "                       'bs_brk_cval',\n",
      "                       'currpwr_contendrnbrkresist_cval',\n",
      "                       'elcomp_pwrcons_cval',\n",
      "                       'epto_pwr_cval',\n",
      "                       'hv_bat_dc_momvolt_cval_bms1',\n",
      "                       'hv_batavcelltemp_cval_bms1',\n",
      "                       'hv_batcurr_cval_bms1',\n",
      "                       'hv_batisores_cval_e2e',\n",
      "                       'hv_batmaxchrgpwrlim_cval_1',\n",
      "                       'hv_batmaxdischrgpwrlim_cval_1',\n",
      "                       'hv_curr_cval_dcl1',\n",
      "                       'hv_dclink_volt_cval_dcl1',\n",
      "                       'hv_ptc_cabin1_pwr_cval',\n",
      "                       'hv_pwr_cval_dcl1',\n",
      "                       'lv_convpwr_cval_dcl1',\n",
      "                       'maxrecuppwrprc_cval',\n",
      "                       'maxtracpwrpct_cval',\n",
      "                       'motortemperature_pti1',\n",
      "                       'powerstagetemperature_pti1',\n",
      "                       'rmsmotorcurrent_pti1',\n",
      "                       'roadgrad_cval_pt',\n",
      "                       'selgr_rq_pt',\n",
      "                       'start_soc',\n",
      "                       'txoiltemp_cval_tcm',\n",
      "                       'vehspd_cval_cpc',\n",
      "                       'vehweight_cval_pt']\n",
      "11  TARGETS           ['hv_bat_soc_cval_bms1']\n",
      "12  PRIORS            ['emot_soc_pred']\n",
      "13  HIDDEN_SIZE       80\n",
      "14  NUM_LAYERS        5\n",
      "15  DROPOUT           0.1\n",
      "16  NUM_EPOCHS        2\n",
      "17  BATCH_SIZE        32\n",
      "18  LEARNING_RATE     0.0009\n",
      "19  WEIGHT_DECAY      1e-05\n",
      "20  MOMENTUM_SGD      0.1\n",
      "21  OPTIMIZER         adamw\n",
      "22  WEIGHT_INIT_TYPE  he\n",
      "23  CLIP_GRAD         2.0\n",
      "24  LRSCHEDULER       torch.optim.lr_scheduler.LambdaLR(optimizer, lr_lambda=lr_lambda)\n",
      "25  LPSCHEDULER       ParameterScheduler(initial_value=0.2, schedule_type='constant', absolute_reduction=-0.0002) \n",
      "---------------------------------------------------------------------------------------------------------------------------------\n",
      "\n",
      "Torch version:  2.5.1+cu124\n",
      "Using: -->  CUDA:0\n",
      "Timestamp: 250117_203616\n",
      "------------------------------------------------------------\n",
      "Total Files:\t6626\n",
      "Filtered Files:\t6626\n",
      "------------------------------------------------------------\n",
      "               FileName  Length  Index\n",
      "0       V13_T25.parquet   20843   3868\n",
      "1      V13_T352.parquet   18308   3630\n",
      "2     V18_T1224.parquet   16645   5939\n",
      "3      V101_T37.parquet   16591   4718\n",
      "4      V13_T486.parquet   16434   3811\n",
      "...                 ...     ...    ...\n",
      "6621  V17_T4757.parquet     645   2031\n",
      "6622  V14_T1967.parquet     643   5314\n",
      "6623    V4_T260.parquet     636   4530\n",
      "6624    V4_T244.parquet     628   3798\n",
      "6625  V14_T2036.parquet     625   3635\n",
      "\n",
      "[6626 rows x 3 columns]\n"
     ]
    }
   ],
   "source": [
    "# LOCATE REPOSITORY/DATASTORAGE IN CURRENT SYSTEM ENVIRONMENT  ---------------------------\n",
    "import sys, os\n",
    "for key in CONFIG: globals()[key] = CONFIG[key]\n",
    "print(ROOT)\n",
    "if 'ROOT' not in globals(): ROOT = Path('../..').resolve()\n",
    "sys.path.append(os.path.abspath(ROOT))\n",
    "\n",
    "# INTERNAL MODULE IMPORTS ----------------------------------------------------------------\n",
    "from src.__init__ import *\n",
    "from src.utils.data_utils import *\n",
    "from src.utils.preprocess_utils import *\n",
    "from src.utils.eval_utils import *\n",
    "from src.utils.Trainers import *\n",
    "from src.utils.scheduler_utils import *\n",
    "from src.models.lstm_models import *\n",
    "\n",
    "# SETUP ENVIRONMENT ---------------------------------------------------------------------\n",
    "DATA_PATH, IS_NOTEBOOK, DEVICE, LOG_FILE_NAME, TS = setup_environment(CONFIG, ROOT, SEED, GPU_SELECT)\n",
    "if not IS_NOTEBOOK: output_file = open(f\"{LOG_FILE_NAME}\", \"w\"); sys.stdout = Tee(sys.stdout, output_file); sys.stderr = Tee(sys.stderr, output_file)\n",
    "\n",
    "# FILE SOURCES ---------------------------------------------------------------\n",
    "input_folder = Path(DATA_PATH, INPUT_LOCATION) # Trip parquet files\n",
    "pth_folder = Path(ROOT, OUTPUT_LOCATION, f\"{TS}\")\n",
    "pth_folder.mkdir(parents=True, exist_ok=True)\n",
    "files, trip_lengths, indices_by_length, sorted_trip_lengths, all_signals = prepare_data(input_folder, pth_folder, MAX_FILES, MIN_SEQ_LENGTH, ROOT)"
   ]
  },
  {
   "cell_type": "markdown",
   "id": "8f1963d1",
   "metadata": {},
   "source": [
    "___\n",
    "DATA SELECTION & PREPROCESSING"
   ]
  },
  {
   "cell_type": "code",
   "execution_count": 13,
   "id": "bb951c30",
   "metadata": {
    "lines_to_next_cell": 2
   },
   "outputs": [],
   "source": [
    "# INPUT & TARGET SPECIFICATION ---------------------------------------------------\n",
    "# these signals are required for the physical Model calculation:\n",
    "base_signals = [\"signal_time\", \"hirestotalvehdist_cval_icuc\", \"vehspd_cval_cpc\", \"altitude_cval_ippc\", \"airtempoutsd_cval_cpc\", \n",
    "                \"hv_batpwr_cval_bms1\", \"emot_pwr_cval\",\"bs_roadincln_cval\", \"roadgrad_cval_pt\"]\n",
    "\n",
    "# these signals have to be dropped (from Features) in order for appropriate training:\n",
    "columns_to_drop = [\"signal_time\",                       # works as index\n",
    "                    \"hirestotalvehdist_cval_icuc\",      # starts from 0, obtained by speed integration\n",
    "                    \"latitude_cval_ippc\",               # only GPS \n",
    "                    \"longitude_cval_ippc\",              # only GPS\n",
    "                    \"hv_batpwr_cval_bms1\",              # directly related to target (soc_gradient)\n",
    "                    \"hv_batmomavldischrgen_cval_1\",     # indirect target 1 in kWh\n",
    "                    \"hv_bat_soc_cval_bms1\",              # indirect target 2 in %SoC\n",
    "                    \"soc_gradient\",                     # actual target signal   \n",
    "                    \"emot_pwr_cval\",                    # replaced as physical prior for PINN\n",
    "                    \"emot_pwr_pred\",                    # actual physical prior for PINN\n",
    "                    ]\n",
    "\n",
    "# Ensure no element of \"columns_to_drop\" is included in \"FEATURES\"\n",
    "assert not any(col in FEATURES for col in columns_to_drop), \"Some columns to drop are still in FEATURES\"\n",
    "\n",
    "# ---------------------------------------------------\n",
    "selection_1 = [\"vehspd_cval_cpc\", \"altitude_cval_ippc\", \"airtempoutsd_cval_cpc\", 'roadgrad_cval_pt', \"vehweight_cval_pt\", \"accelpdlposn_cval\", \"bs_brk_cval\", \"elcomp_pwrcons_cval\",\n",
    "               \"epto_pwr_cval\", \"motortemperature_pti1\", \"powerstagetemperature_pti1\", 'airtempinsd_cval_hvac', 'brktempra_cval', 'selgr_rq_pt']\n",
    "selection_2 = [\"hirestotalvehdist_cval_icuc\", \"vehspd_cval_cpc\", \"altitude_cval_ippc\", \"airtempoutsd_cval_cpc\", \"hv_batpwr_cval_bms1\", \"emot_pwr_cval\", \"roadgrad_cval_pt\"]\n",
    "selection_3 = [\"vehspd_cval_cpc\", \"altitude_cval_ippc\", \"airtempoutsd_cval_cpc\", \"vehweight_cval_pt\"]"
   ]
  },
  {
   "cell_type": "code",
   "execution_count": 14,
   "id": "6bb0b2cd",
   "metadata": {},
   "outputs": [
    {
     "name": "stdout",
     "output_type": "stream",
     "text": [
      "------------------------------------------------------------\n",
      "Input Signals:\t37\n",
      "Target Signals:\t1\n",
      "Physical Prior Signals:\t1\n",
      "------------------------------------------------------------\n",
      " --> Warning: Removed the last 21 samples to ensure a balanced batch size\n",
      "fitting Scalers: MinMaxScaler, MinMaxScaler, MinMaxScaler\n",
      "\t50% of the fitting done...\n",
      "Done. Create DataSets and DataLoaders...\n",
      "\tNumber of batches created: 165\n",
      "\tNumber of batches created: 21\n",
      "\tNumber of batches created: 21\n",
      "------------------------------------------------------------\n",
      "Train size:  25211222\t\t(Files: 5280)\n",
      "Val. size:   3079561\t\t(Files: 663)\n",
      "Test size:   3167209\t\t(Files: 662) \n",
      " ------------------------------------------------------------\n",
      "\tRemoved 21 file from the dataset\n",
      "------------------------------------------------------------\n"
     ]
    }
   ],
   "source": [
    "# FEATURE SELECTION & SCALING ----------------------------------------------------------------------------\n",
    "INPUT_COLUMNS = FEATURES; TARGET_COLUMN = TARGETS; PRIOR_COLUMN = PRIORS\n",
    "print(f\"{'-'*60}\\nInput Signals:\\t{len(FEATURES)}\\nTarget Signals:\\t{len(TARGETS)}\\nPhysical Prior Signals:\\t{len(PRIORS)}\\n{'-'*60}\")\n",
    "scaler, target_scaler, prior_scaler = eval(SCALERS['feature_scaler']), eval(SCALERS['target_scaler']), eval(SCALERS['prior_scaler'])\n",
    "\n",
    "# DATA SET SPLITTING AND SORTING ----------------------------------------------------------------\n",
    "train_subset, val_subset, test_subset = random_split(files, TRAIN_VAL_TEST)\n",
    "\n",
    "# DATALOADER SETTINGS ------------------------------------------------------------------\n",
    "dataloader_settings = {'batch_size': 1, 'shuffle': True, 'collate_fn': collate_fn_PINN, 'num_workers': 8,\n",
    " 'prefetch_factor': 4, 'persistent_workers': True, 'pin_memory': False if DEVICE.type == 'cpu' else True}\n",
    "\n",
    "# PREPARE TRAIN, VAL & TEST DATALOADERS  ------------------------------------------------------------\n",
    "train_subset, train_dataset, train_dataset_batches, train_loader = prepare_dataloader_PINN(train_subset, indices_by_length, \\\n",
    "    BATCH_SIZE, INPUT_COLUMNS, TARGET_COLUMN, PRIOR_COLUMN, scaler, target_scaler, prior_scaler, dataloader_settings, fit=True, drop_last=True)\n",
    "\n",
    "val_subset, val_dataset, val_dataset_batches, val_loader = prepare_dataloader_PINN(val_subset, indices_by_length, \\\n",
    "    BATCH_SIZE, INPUT_COLUMNS, TARGET_COLUMN, PRIOR_COLUMN, scaler, target_scaler, prior_scaler, dataloader_settings, drop_last=False)\n",
    "\n",
    "test_subset, test_dataset, test_dataset_batches, test_loader = prepare_dataloader_PINN(test_subset, indices_by_length, \\\n",
    "    BATCH_SIZE, INPUT_COLUMNS, TARGET_COLUMN, PRIOR_COLUMN, scaler, target_scaler, prior_scaler, dataloader_settings, drop_last=False)\n",
    "\n",
    "# print dataset info\n",
    "subset_files = print_dataset_sizes(train_dataset, val_dataset, test_dataset, train_subset, val_subset, test_subset, files)\n",
    "\n",
    "# -----------------------------------------------------------------------------------\n",
    "# Load dataloaders instead\n",
    "#train_loader = torch.load('train_loader.pth')\n",
    "#val_loader = torch.load('val_loader.pth')\n",
    "#test_loader = torch.load('test_loader.pth')\n",
    "\n",
    "# optional visualizations of padding preprocessing:\n",
    "if IS_NOTEBOOK and False: \n",
    "    check_batch_PINN(train_loader)\n",
    "    visualize_padding(BATCH_SIZE, trip_lengths, sorted_trip_lengths, train_loader, val_loader, test_loader)"
   ]
  },
  {
   "cell_type": "markdown",
   "id": "51c3fe74",
   "metadata": {},
   "source": [
    "___\n",
    "MODEL & TRAINING CONFIGURATIONS"
   ]
  },
  {
   "cell_type": "code",
   "execution_count": 15,
   "id": "15ef486f",
   "metadata": {},
   "outputs": [],
   "source": [
    "# LSTM NETWORK -----------------------------------------------------------------------\n",
    "\n",
    "class LSTM1_packed_old_version(nn.Module):\n",
    "    def __init__(self, input_size, hidden_size, num_layers, dropout, device=DEVICE):\n",
    "        super(LSTM1_packed_old_version, self).__init__()\n",
    "\n",
    "        self.input_size = input_size    # input size\n",
    "        self.hidden_size = hidden_size  # hidden state\n",
    "        self.num_layers = num_layers    # number of layers\n",
    "        self.dropout = dropout\n",
    "\n",
    "        # LSTM CELL --------------------------------\n",
    "        self.lstm = nn.LSTM(self.input_size,self.hidden_size,self.num_layers,batch_first=True,dropout=self.dropout,device=device)\n",
    "\n",
    "        # LAYERS -----------------------------------\n",
    "        self.dropout_layer = nn.Dropout(self.dropout)\n",
    "        self.fc1 = nn.Linear(hidden_size, hidden_size // 2)\n",
    "        self.bn1 = nn.BatchNorm1d(hidden_size // 2)\n",
    "        self.fc2 = nn.Linear(hidden_size // 2, 1)\n",
    "        self.relu = nn.ReLU()\n",
    "\n",
    "    def forward(self, packed_input, batch_size=None):\n",
    "        packed_out, _ = self.lstm(packed_input)\n",
    "        out, _ = pad_packed_sequence(packed_out, batch_first=True)\n",
    "        out = self.relu(out)  # relu\n",
    "        out = self.dropout_layer(out)  # dropout\n",
    "        out = self.fc1(out)  # fully connected layer 1\n",
    "        out = self.bn1(out.transpose(1, 2)).transpose(1, 2)\n",
    "        out = self.relu(out)  # relu\n",
    "        out = self.fc2(out)  # fully connected layer 2\n",
    "        return out\n",
    "\n",
    "    # Define the weight initialization function for LSTM\n",
    "    def initialize_weights_lstm(self, init_type):\n",
    "        for name, param in self.named_parameters():\n",
    "            if 'weight_ih' in name or 'weight_hh' in name:\n",
    "                if init_type == 'he': nn.init.kaiming_uniform_(param.data, nonlinearity='relu')     # HE INIT\n",
    "                elif init_type == 'normal': nn.init.normal_(param.data, mean=0.0, std=0.02)         # NORMAL INIT\n",
    "                elif init_type == 'default': continue                                               # TORCH DEFAULT INIT\n",
    "            elif 'bias' in name and init_type != 'default': nn.init.constant_(param.data, 0)"
   ]
  },
  {
   "cell_type": "markdown",
   "id": "1ac0d8b3",
   "metadata": {},
   "source": [
    "___\n",
    "OPTUNA: Hyperparameter Optimization"
   ]
  },
  {
   "cell_type": "code",
   "execution_count": 16,
   "id": "ef9c4426",
   "metadata": {},
   "outputs": [],
   "source": [
    "# OPTUNA: OBJECTIVE ---------------------------------------------------\n",
    "def objective(trial):\n",
    "\n",
    "    # OPTUNA: CREATE TRIAL OBJECTS ---------------------------------------------------\n",
    "    optuna_params = {}\n",
    "    for param, (suggest_type, *args) in search_space.items():\n",
    "        if suggest_type == 'int': optuna_params[param.lower()] = trial.suggest_int(param, *args[:2], step=args[2])\n",
    "        elif suggest_type == 'float': optuna_params[param.lower()] = trial.suggest_float(param, *args[:2], step=args[2])\n",
    "        elif suggest_type == 'categorical': optuna_params[param.lower()] = trial.suggest_categorical(param, *args)\n",
    "    \n",
    "    # Update CONFIG with suggested hyperparameters\n",
    "    for param in optuna_params.keys(): CONFIG[param.upper()] = optuna_params[param]\n",
    "    for key in CONFIG: globals()[key] = CONFIG[key]\n",
    "    # -----------------------------------------------------------------------------------\n",
    "\n",
    "    # TRAINING_CODE: -----------------------------------------------------------------\n",
    "    # INSTANTIATE MODEL AND APPLY WEIGHT INITIALIZATION --------------------\n",
    "    model = LSTM1_packed_old_version(len(INPUT_COLUMNS), HIDDEN_SIZE, NUM_LAYERS, DROPOUT).to(DEVICE)\n",
    "    model.initialize_weights_lstm(WEIGHT_INIT_TYPE)\n",
    "    #print_info(model)\n",
    "    \n",
    "    # SET OPTIMIIZER, SCHEDULER AND LOSS MODULES ---------------------------\n",
    "    if OPTIMIZER=='adam': optimizer = torch.optim.Adam(model.parameters(), lr=LEARNING_RATE, weight_decay=WEIGHT_DECAY)\n",
    "    elif OPTIMIZER=='adamw': optimizer = torch.optim.AdamW(model.parameters(), lr = LEARNING_RATE, weight_decay = WEIGHT_DECAY)\n",
    "    elif OPTIMIZER=='sgd': optimizer = torch.optim.SGD(model.parameters(), lr=LEARNING_RATE, momentum=MOMENTUM_SGD, weight_decay=WEIGHT_DECAY)\n",
    "\n",
    "    def lr_lambda(epoch): return 1.0\n",
    "    lr_scheduler = eval(LRSCHEDULER); l_p_scheduler = eval(LPSCHEDULER)\n",
    "\n",
    "    # TRAIN -----------------------------------------------------------------\n",
    "    TRAINER = PTrainer_PINN(\n",
    "        model = model, \n",
    "        optimizer = optimizer, \n",
    "        lr_scheduler = lr_scheduler,\n",
    "        l_p_scheduler = l_p_scheduler,\n",
    "        loss_fn = LOSS_FN, \n",
    "        train_loader = train_loader, \n",
    "        val_loader = val_loader, \n",
    "        test_loader = test_loader, \n",
    "        num_epochs = NUM_EPOCHS, \n",
    "        device = DEVICE, \n",
    "        is_notebook = IS_NOTEBOOK, \n",
    "        use_mixed_precision = MIXED_PRECISION, \n",
    "        clip_value = CLIP_GRAD, \n",
    "        log_file = Path(LOG_FILE_NAME).with_name(f\"{TS}_Trial{trial.number}.txt\"))\n",
    "\n",
    "    RESULTS = TRAINER.train_model()\n",
    "\n",
    "    # PLOT RESULTS AND SAVE OPERATIONS ----------------------------------------------\n",
    "    print(f\"Trial {trial.number}\")\n",
    "    plot_training_performance(RESULTS)\n",
    "    \n",
    "    # TRAIN/VAL Loss:\n",
    "    val_loss = RESULTS['val_losses'][-1]\n",
    "    train_loss = RESULTS['train_losses'][-1]\n",
    "\n",
    "    # EVALUATE -----------------------------------------------------------------\n",
    "    test_loss, all_outputs, all_targets, all_priors, all_original_lengths = TRAINER.evaluate_model()\n",
    "    # back-transform:\n",
    "    scaled_outputs = [target_scaler.inverse_transform(output_sequence.reshape(1, -1)).squeeze() for output_sequence in all_outputs]\n",
    "    scaled_targets = [target_scaler.inverse_transform(target_sequence.reshape(1, -1)).squeeze() for target_sequence in all_targets]\n",
    "    scaled_priors = [prior_scaler.inverse_transform(prior_sequence.reshape(1, -1)).squeeze() for prior_sequence in all_priors]\n",
    "    # concatenate:\n",
    "    all_y_true, all_y_pred, all_y_phys = np.concatenate(scaled_targets), np.concatenate(scaled_outputs), np.concatenate(scaled_priors)\n",
    "    # calculate evaluation metrics\n",
    "    print(f\"Test Loss:\\t\\t{test_loss:.6f}\")\n",
    "    metrics = calculate_metrics(all_y_true, all_y_pred); # [rmse, mae, std_dev, mape, r2, max_error]\n",
    "    mean_metrics = calculate_metrics_per_sequence(scaled_targets, scaled_outputs);\n",
    "\n",
    "    rmse = metrics[\"rmse\"]; trial.set_user_attr(\"rmse\", rmse)\n",
    "    mae = metrics[\"mae\"]; trial.set_user_attr(\"mae\", mae)\n",
    "    std = metrics[\"std_dev\"]; trial.set_user_attr(\"std_dev\", std)\n",
    "    mape = metrics[\"mape\"]; trial.set_user_attr(\"mape\", mape)\n",
    "\n",
    "    rmse_mean = mean_metrics[\"rmse\"]; trial.set_user_attr(\"rmse_mean\", rmse_mean)\n",
    "    mae_mean = mean_metrics[\"mae\"]; trial.set_user_attr(\"mae_mean\", mae_mean)\n",
    "    std_mean = mean_metrics[\"std_dev\"]; trial.set_user_attr(\"std_dev_mean\", std_mean)\n",
    "    mape_mean = mean_metrics[\"mape\"]; trial.set_user_attr(\"mape_mean\", mape_mean)\n",
    "\n",
    "    return mae"
   ]
  },
  {
   "cell_type": "code",
   "execution_count": 17,
   "id": "2cd453ae",
   "metadata": {},
   "outputs": [
    {
     "name": "stderr",
     "output_type": "stream",
     "text": [
      "[I 2025-01-17 20:37:32,457] A new study created in memory with name: no-name-c4bf4c74-0cf9-46ac-a397-13f78536e70f\n"
     ]
    },
    {
     "name": "stdout",
     "output_type": "stream",
     "text": [
      "------------------------------------------------------------\n",
      "Training Started.\tProcess ID: 3210423 \n",
      "------------------------------------------------------------\n",
      "Model: LSTM1_packed_old_version\tParameters on device: CUDA:0\n",
      "------------------------------------------------------------\n",
      "Train/Batch size:\t165 / 165\n",
      "Loss:\t\t\tCustomLoss(\n",
      "  (mse_loss): MSELoss()\n",
      ")\n",
      "Optimizer:\t\tAdam\n",
      "LR:\t\t\t0.0001\n",
      "Weight Decay:\t\t0.0\n",
      "------------------------------------------------------------\n"
     ]
    },
    {
     "data": {
      "text/html": [
       "<div id=\"scrollable_table\" style=\"height: 300px; overflow-y: scroll;\">\n",
       "    <table id=\"training_table\" style=\"width:60%; border-collapse: collapse;\">\n",
       "        <thead style=\"position: sticky; top: 0; z-index: 1;\">\n",
       "            <tr>\n",
       "                <th style=\"font-weight:bold; width:15%; text-align:left; padding: 10px; background-color: #404040;\">Epoch</th>\n",
       "                <th style=\"font-weight:bold; width:25%; text-align:left; padding: 10px; background-color: #404040;\">Iteration</th>\n",
       "                <th style=\"font-weight:bold; width:30%; text-align:left; padding: 10px; background-color: #404040;\">Batch Loss</th>\n",
       "                <th style=\"font-weight:bold; width:30%; text-align:left; padding: 10px; background-color: #404040;\">Train Loss</th>\n",
       "            </tr>\n",
       "        </thead>\n",
       "        <tbody>\n",
       "        </tbody>\n",
       "    </table>\n",
       "    <script>\n",
       "        function addRow(epoch, step, loss, running_loss) {\n",
       "            var table = document.getElementById(\"training_table\").getElementsByTagName('tbody')[0];\n",
       "            var row = table.insertRow(-1);\n",
       "            var cell1 = row.insertCell(0);\n",
       "            var cell2 = row.insertCell(1);\n",
       "            var cell3 = row.insertCell(2);\n",
       "            var cell4 = row.insertCell(3);\n",
       "            cell1.style.textAlign = \"left\";\n",
       "            cell2.style.textAlign = \"left\";\n",
       "            cell3.style.textAlign = \"left\";\n",
       "            cell4.style.textAlign = \"left\";\n",
       "            cell1.innerHTML = epoch;\n",
       "            cell2.innerHTML = step;\n",
       "            cell3.innerHTML = loss;\n",
       "            cell4.innerHTML = running_loss;\n",
       "            var scrollableDiv = document.getElementById(\"scrollable_table\");\n",
       "            scrollableDiv.scrollTop = scrollableDiv.scrollHeight;\n",
       "        }\n",
       "    </script>\n",
       "    </div>"
      ]
     },
     "metadata": {},
     "output_type": "display_data"
    },
    {
     "data": {
      "application/vnd.jupyter.widget-view+json": {
       "model_id": "819fb40b892a451990e9e03c17232620",
       "version_major": 2,
       "version_minor": 0
      },
      "text/plain": [
       "  0%|          | 0/165 [00:00<?, ?batch/s]"
      ]
     },
     "metadata": {},
     "output_type": "display_data"
    },
    {
     "data": {
      "text/html": [
       "<script>addRow(\"<b>1/2\", \"1/165\", \"0.566080\", \"\");</script>"
      ]
     },
     "metadata": {},
     "output_type": "display_data"
    },
    {
     "data": {
      "text/html": [
       "<script>addRow(\"\", \"165\", \"0.115862\", \"<b>0.272319\");</script>"
      ]
     },
     "metadata": {},
     "output_type": "display_data"
    },
    {
     "data": {
      "text/html": [
       "<script>addRow(\"<b>Val\", \"Validation Loss:\", \"<b>0.127133\", \"\");</script>"
      ]
     },
     "metadata": {},
     "output_type": "display_data"
    },
    {
     "data": {
      "application/vnd.jupyter.widget-view+json": {
       "model_id": "f3a0295899424766b214cb8788d92806",
       "version_major": 2,
       "version_minor": 0
      },
      "text/plain": [
       "  0%|          | 0/165 [00:00<?, ?batch/s]"
      ]
     },
     "metadata": {},
     "output_type": "display_data"
    },
    {
     "data": {
      "text/html": [
       "<script>addRow(\"<b>2/2\", \"1/165\", \"0.091074\", \"\");</script>"
      ]
     },
     "metadata": {},
     "output_type": "display_data"
    },
    {
     "data": {
      "text/html": [
       "<script>addRow(\"\", \"165\", \"0.017147\", \"<b>0.067460\");</script>"
      ]
     },
     "metadata": {},
     "output_type": "display_data"
    },
    {
     "data": {
      "text/html": [
       "<script>addRow(\"<b>Val\", \"Validation Loss:\", \"<b>0.016909\", \"\");</script>"
      ]
     },
     "metadata": {},
     "output_type": "display_data"
    },
    {
     "name": "stdout",
     "output_type": "stream",
     "text": [
      "------------------------------------------------------------\n",
      "Training Completed.\tExecution Time: 00:01:08\n",
      "------------------------------------------------------------\n",
      "\n",
      "Trial 0\n"
     ]
    },
    {
     "data": {
      "image/png": "[encoded data removed]",
      "text/plain": [
       "<Figure size 1200x300 with 1 Axes>"
      ]
     },
     "metadata": {},
     "output_type": "display_data"
    },
    {
     "name": "stdout",
     "output_type": "stream",
     "text": [
      "Test Loss:\t\t0.016636\n",
      "RMSE:\t\t\t12.1042        \n",
      "MAE ± STD (MAPE):\t9.6329 ± 9.8060 (18.91%)\n",
      "R-squared:\t\t0.6785\n",
      "------------------------------------------------------------\n"
     ]
    },
    {
     "name": "stderr",
     "output_type": "stream",
     "text": [
      "[I 2025-01-17 20:38:44,540] Trial 0 finished with value: 12.10420036315918 and parameters: {'HIDDEN_SIZE': 60, 'NUM_LAYERS': 2, 'DROPOUT': 0.2, 'CLIP_GRAD': 5.0, 'WEIGHT_INIT_TYPE': 'he', 'OPTIMIZER': 'adam', 'LEARNING_RATE': 0.0001, 'WEIGHT_DECAY': 0.0}. Best is trial 0 with value: 12.10420036315918.\n"
     ]
    },
    {
     "name": "stdout",
     "output_type": "stream",
     "text": [
      "RMSE:\t\t\t11.5256        \n",
      "MAE ± STD (MAPE):\t10.1698 ± 6.1348 (19.43%)\n",
      "R-squared:\t\t-13.7085\n",
      "------------------------------------------------------------\n",
      "------------------------------------------------------------\n",
      "Training Started.\tProcess ID: 3210423 \n",
      "------------------------------------------------------------\n",
      "Model: LSTM1_packed_old_version\tParameters on device: CUDA:0\n",
      "------------------------------------------------------------\n",
      "Train/Batch size:\t165 / 165\n",
      "Loss:\t\t\tCustomLoss(\n",
      "  (mse_loss): MSELoss()\n",
      ")\n",
      "Optimizer:\t\tAdamW\n",
      "LR:\t\t\t5e-05\n",
      "Weight Decay:\t\t0.0001\n",
      "------------------------------------------------------------\n"
     ]
    },
    {
     "data": {
      "text/html": [
       "<div id=\"scrollable_table\" style=\"height: 300px; overflow-y: scroll;\">\n",
       "    <table id=\"training_table\" style=\"width:60%; border-collapse: collapse;\">\n",
       "        <thead style=\"position: sticky; top: 0; z-index: 1;\">\n",
       "            <tr>\n",
       "                <th style=\"font-weight:bold; width:15%; text-align:left; padding: 10px; background-color: #404040;\">Epoch</th>\n",
       "                <th style=\"font-weight:bold; width:25%; text-align:left; padding: 10px; background-color: #404040;\">Iteration</th>\n",
       "                <th style=\"font-weight:bold; width:30%; text-align:left; padding: 10px; background-color: #404040;\">Batch Loss</th>\n",
       "                <th style=\"font-weight:bold; width:30%; text-align:left; padding: 10px; background-color: #404040;\">Train Loss</th>\n",
       "            </tr>\n",
       "        </thead>\n",
       "        <tbody>\n",
       "        </tbody>\n",
       "    </table>\n",
       "    <script>\n",
       "        function addRow(epoch, step, loss, running_loss) {\n",
       "            var table = document.getElementById(\"training_table\").getElementsByTagName('tbody')[0];\n",
       "            var row = table.insertRow(-1);\n",
       "            var cell1 = row.insertCell(0);\n",
       "            var cell2 = row.insertCell(1);\n",
       "            var cell3 = row.insertCell(2);\n",
       "            var cell4 = row.insertCell(3);\n",
       "            cell1.style.textAlign = \"left\";\n",
       "            cell2.style.textAlign = \"left\";\n",
       "            cell3.style.textAlign = \"left\";\n",
       "            cell4.style.textAlign = \"left\";\n",
       "            cell1.innerHTML = epoch;\n",
       "            cell2.innerHTML = step;\n",
       "            cell3.innerHTML = loss;\n",
       "            cell4.innerHTML = running_loss;\n",
       "            var scrollableDiv = document.getElementById(\"scrollable_table\");\n",
       "            scrollableDiv.scrollTop = scrollableDiv.scrollHeight;\n",
       "        }\n",
       "    </script>\n",
       "    </div>"
      ]
     },
     "metadata": {},
     "output_type": "display_data"
    },
    {
     "data": {
      "application/vnd.jupyter.widget-view+json": {
       "model_id": "4402b4e54ef74476a30dbab851fba2a5",
       "version_major": 2,
       "version_minor": 0
      },
      "text/plain": [
       "  0%|          | 0/165 [00:00<?, ?batch/s]"
      ]
     },
     "metadata": {},
     "output_type": "display_data"
    },
    {
     "data": {
      "text/html": [
       "<script>addRow(\"<b>1/2\", \"1/165\", \"0.358008\", \"\");</script>"
      ]
     },
     "metadata": {},
     "output_type": "display_data"
    },
    {
     "data": {
      "text/html": [
       "<script>addRow(\"\", \"165\", \"0.084520\", \"<b>0.246020\");</script>"
      ]
     },
     "metadata": {},
     "output_type": "display_data"
    },
    {
     "data": {
      "text/html": [
       "<script>addRow(\"<b>Val\", \"Validation Loss:\", \"<b>0.082384\", \"\");</script>"
      ]
     },
     "metadata": {},
     "output_type": "display_data"
    },
    {
     "data": {
      "application/vnd.jupyter.widget-view+json": {
       "model_id": "0de65dc865334831814c4681633031f5",
       "version_major": 2,
       "version_minor": 0
      },
      "text/plain": [
       "  0%|          | 0/165 [00:00<?, ?batch/s]"
      ]
     },
     "metadata": {},
     "output_type": "display_data"
    },
    {
     "data": {
      "text/html": [
       "<script>addRow(\"<b>2/2\", \"1/165\", \"0.159331\", \"\");</script>"
      ]
     },
     "metadata": {},
     "output_type": "display_data"
    },
    {
     "data": {
      "text/html": [
       "<script>addRow(\"\", \"165\", \"0.076490\", \"<b>0.078943\");</script>"
      ]
     },
     "metadata": {},
     "output_type": "display_data"
    },
    {
     "data": {
      "text/html": [
       "<script>addRow(\"<b>Val\", \"Validation Loss:\", \"<b>0.064124\", \"\");</script>"
      ]
     },
     "metadata": {},
     "output_type": "display_data"
    },
    {
     "name": "stdout",
     "output_type": "stream",
     "text": [
      "------------------------------------------------------------\n",
      "Training Completed.\tExecution Time: 00:02:23\n",
      "------------------------------------------------------------\n",
      "\n",
      "Trial 1\n"
     ]
    },
    {
     "data": {
      "image/png": "[encoded data removed]",
      "text/plain": [
       "<Figure size 1200x300 with 1 Axes>"
      ]
     },
     "metadata": {},
     "output_type": "display_data"
    },
    {
     "name": "stdout",
     "output_type": "stream",
     "text": [
      "Test Loss:\t\t0.061343\n",
      "RMSE:\t\t\t20.6155        \n",
      "MAE ± STD (MAPE):\t17.2575 ± 19.5230 (35.06%)\n",
      "R-squared:\t\t0.0675\n",
      "------------------------------------------------------------\n"
     ]
    },
    {
     "name": "stderr",
     "output_type": "stream",
     "text": [
      "[I 2025-01-17 20:41:12,247] Trial 1 finished with value: 20.615509033203125 and parameters: {'HIDDEN_SIZE': 110, 'NUM_LAYERS': 5, 'DROPOUT': 0.0, 'CLIP_GRAD': 10, 'WEIGHT_INIT_TYPE': 'normal', 'OPTIMIZER': 'adamw', 'LEARNING_RATE': 5e-05, 'WEIGHT_DECAY': 0.0001}. Best is trial 0 with value: 12.10420036315918.\n"
     ]
    },
    {
     "name": "stdout",
     "output_type": "stream",
     "text": [
      "RMSE:\t\t\t19.8257        \n",
      "MAE ± STD (MAPE):\t18.1102 ± 10.1912 (37.81%)\n",
      "R-squared:\t\t-45.4303\n",
      "------------------------------------------------------------\n",
      "Trial 0: Value: 12.10420036315918, RMSE: 11.525571476296715, MAE: 10.169784545898438, STD_dev: 6.134840965270996, MAPE: 19.43365478515625\n",
      "Trial 1: Value: 20.615509033203125, RMSE: 19.825676580210107, MAE: 18.1102237701416, STD_dev: 10.191153526306152, MAPE: 37.809932708740234\n"
     ]
    }
   ],
   "source": [
    "# OPTUNA: STUDY -------------------------------------------------------------------\n",
    "study = optuna.create_study(direction='minimize', sampler = optuna.samplers.TPESampler())    # TPESampler, RandomSampler, GridSampler, CmaEsSampler, NSGAIISampler\n",
    "study.optimize(lambda trial: objective(trial), n_trials=N_TRIALS)\n",
    "\n",
    "for trial in study.trials:\n",
    "    print(f\"Trial {trial.number}: Value: {trial.value}, RMSE: {trial.user_attrs['rmse']}, MAE: {trial.user_attrs['mae']}, STD_dev: {trial.user_attrs['std_dev']}, MAPE: {trial.user_attrs['mape']}\")"
   ]
  },
  {
   "cell_type": "markdown",
   "id": "b0fc2065",
   "metadata": {},
   "source": [
    "___\n",
    "SAVE CHECKPOINT"
   ]
  },
  {
   "cell_type": "code",
   "execution_count": 19,
   "id": "0d07e21f",
   "metadata": {},
   "outputs": [
    {
     "name": "stdout",
     "output_type": "stream",
     "text": [
      "Best Trial:  0\n",
      "Best hyperparameters:  {'HIDDEN_SIZE': 60, 'NUM_LAYERS': 2, 'DROPOUT': 0.2, 'CLIP_GRAD': 5.0, 'WEIGHT_INIT_TYPE': 'he', 'OPTIMIZER': 'adam', 'LEARNING_RATE': 0.0001, 'WEIGHT_DECAY': 0.0}\n",
      "+----+----------+---------+----------------------------+----------------------------+------------------------+--------------------+------------------+----------------------+------------------------+---------------------+--------------------+-----------------------+---------------------------+------------------+-------------------+-------------------+----------------------+----------+\n",
      "|    |   number |   value | datetime_start             | datetime_complete          | duration               |   params_CLIP_GRAD |   params_DROPOUT |   params_HIDDEN_SIZE |   params_LEARNING_RATE |   params_NUM_LAYERS | params_OPTIMIZER   |   params_WEIGHT_DECAY | params_WEIGHT_INIT_TYPE   |   user_attrs_mae |   user_attrs_mape |   user_attrs_rmse |   user_attrs_std_dev | state    |\n",
      "|----+----------+---------+----------------------------+----------------------------+------------------------+--------------------+------------------+----------------------+------------------------+---------------------+--------------------+-----------------------+---------------------------+------------------+-------------------+-------------------+----------------------+----------|\n",
      "|  0 |        0 | 12.1042 | 2025-01-17 20:37:32.458590 | 2025-01-17 20:38:44.539365 | 0 days 00:01:12.080775 |                  5 |              0.2 |                   60 |                 0.0001 |                   2 | adam               |                0      | he                        |          10.1698 |           19.4337 |           11.5256 |              6.13484 | COMPLETE |\n",
      "|  1 |        1 | 20.6155 | 2025-01-17 20:38:44.541300 | 2025-01-17 20:41:12.247562 | 0 days 00:02:27.706262 |                 10 |              0   |                  110 |                 5e-05  |                   5 | adamw              |                0.0001 | normal                    |          18.1102 |           37.8099 |           19.8257 |             10.1912  | COMPLETE |\n",
      "+----+----------+---------+----------------------------+----------------------------+------------------------+--------------------+------------------+----------------------+------------------------+---------------------+--------------------+-----------------------+---------------------------+------------------+-------------------+-------------------+----------------------+----------+\n"
     ]
    }
   ],
   "source": [
    "# Save the best trial config to a text file\n",
    "best_trial = study.best_trial\n",
    "best_trial_dict = {'params': best_trial.params, 'value': best_trial.value}\n",
    "with open(Path(LOG_FILE_NAME).with_name(f\"{TS}_BEST_IS_{best_trial.number}.txt\"), 'w') as f: json.dump(best_trial_dict, f, indent=4)\n",
    "print(\"Best Trial: \", best_trial.number); print(\"Best hyperparameters: \", study.best_params)\n",
    "trials_df = study.trials_dataframe()\n",
    "sorted_df = trials_df.sort_values(by=trials_df.columns[1], ascending=True)\n",
    "print(tabulate(trials_df, headers='keys', tablefmt='psql'))\n",
    "sorted_df.to_csv(Path(LOG_FILE_NAME).with_name(f\"trials_overview.csv\"), index=False)"
   ]
  }
 ],
 "metadata": {
  "kernelspec": {
   "display_name": "sieglew",
   "language": "python",
   "name": "python3"
  },
  "language_info": {
   "codemirror_mode": {
    "name": "ipython",
    "version": 3
   },
   "file_extension": ".py",
   "mimetype": "text/x-python",
   "name": "python",
   "nbconvert_exporter": "python",
   "pygments_lexer": "ipython3",
   "version": "3.11.9"
  }
 },
 "nbformat": 4,
 "nbformat_minor": 5
}
