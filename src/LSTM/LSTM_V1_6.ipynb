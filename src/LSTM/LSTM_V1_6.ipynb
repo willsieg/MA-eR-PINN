{
 "cells": [
  {
   "cell_type": "code",
   "execution_count": 19,
   "metadata": {},
   "outputs": [],
   "source": [
    "'''\n",
    "---------------------------------------------------------------------\n",
    "LSTM Training\n",
    "Version: V1.6\n",
    "Modified: 31.10.2024\n",
    "William Siegle\n",
    "---------------------------------------------------------------------\n",
    "notebook can be converted to python script using: \n",
    "(python -m) jupytext --to py FILENAME.ipynb\n",
    "---------------------------------------------------------------------\n",
    "'''\n",
    "\n",
    "global IS_NOTEBOOK\n",
    "IS_NOTEBOOK = False\n",
    "try:    # if running in IPython\n",
    "    shell = get_ipython().__class__.__name__ # type: ignore \n",
    "    #%reset -f -s\n",
    "    %matplotlib inline\n",
    "    from IPython.display import display, HTML, Javascript\n",
    "    from IPython.core.magic import register_cell_magic\n",
    "    @register_cell_magic    # cells can be skipped by using '%%skip' in the first line\n",
    "    def skip(line, cell): return\n",
    "    from tqdm.notebook import tqdm # type: ignore\n",
    "    IS_NOTEBOOK = True\n",
    "except (NameError, ImportError):    # if running in script\n",
    "    from tqdm import tqdm\n",
    "    from tabulate import tabulate\n",
    "    print(f\"{'-'*60}\\nRunning in script mode\")"
   ]
  },
  {
   "cell_type": "code",
   "execution_count": 20,
   "metadata": {},
   "outputs": [],
   "source": [
    "# IMPORTS ---------------------------------------------------------------------\n",
    "import sys\n",
    "import os\n",
    "import math\n",
    "import time\n",
    "import random\n",
    "import numpy as np\n",
    "import pandas as pd\n",
    "import matplotlib.pyplot as plt\n",
    "\n",
    "from pathlib import Path\n",
    "from copy import deepcopy\n",
    "from datetime import datetime\n",
    "\n",
    "from sklearn.preprocessing import StandardScaler, MinMaxScaler\n",
    "from sklearn.model_selection import train_test_split\n",
    "from sklearn.metrics import root_mean_squared_error\n",
    "from sklearn.pipeline import Pipeline\n",
    "from sklearn.compose import ColumnTransformer\n",
    "\n",
    "#from torchinfo import summary\n",
    "#import pickle\n",
    "#import random\n",
    "#from scipy.signal import savgol_filter\n",
    "\n",
    "import torch\n",
    "from torch import nn\n",
    "from torch.nn import functional as F\n",
    "from torch.nn.parameter import Parameter\n",
    "from torch.nn.utils.rnn import pack_sequence\n",
    "from torch.utils.data import DataLoader, TensorDataset, Dataset, random_split\n",
    "from torchmetrics.functional import mean_squared_error\n",
    "torch.manual_seed(1);"
   ]
  },
  {
   "cell_type": "markdown",
   "metadata": {},
   "source": [
    "___\n",
    "LOCATE DEVICES & SYSTEM FOLDERS"
   ]
  },
  {
   "cell_type": "code",
   "execution_count": 21,
   "metadata": {},
   "outputs": [
    {
     "name": "stdout",
     "output_type": "stream",
     "text": [
      "------------------------------------------------------------\n",
      "Torch version:  2.4.1+cu121\n",
      "Cuda available:  True\n",
      "Currently Selected Device: 0,  Total Count: 4\n",
      "   --> Using cuda device\n"
     ]
    }
   ],
   "source": [
    "# DEVICE SELECTION ---------------------------------------------------------------------\n",
    "global DEVICE\n",
    "print(f\"{'-'*60}\\nTorch version: \", torch.__version__)\n",
    "print('Cuda available: ',torch.cuda.is_available())\n",
    "if torch.cuda.is_available():\n",
    "    DEVICE = torch.device(f\"cuda\") \n",
    "    #DEVICE = torch.device(\"cuda:1\")   # or overwrite with explicit Core number\n",
    "    print(f'Currently Selected Device: {torch.cuda.current_device()},  Total Count: {torch.cuda.device_count()}')\n",
    "else:\n",
    "    DEVICE = (\"cpu\")\n",
    "print(f\"   --> Using {DEVICE} device\")"
   ]
  },
  {
   "cell_type": "code",
   "execution_count": 22,
   "metadata": {},
   "outputs": [
    {
     "name": "stdout",
     "output_type": "stream",
     "text": [
      "------------------------------------------------------------\n",
      "/home/sieglew/MA-eR-PINN:\tproject, ref, test, data, src, .git, archive\n",
      "/home/sieglew/MA-Data:\t\t__pycache__, trips_processed_resampled, final, y_true, processed, trips_processed_pickles, trips_processed_final\n"
     ]
    }
   ],
   "source": [
    "# ------------ LOCATE REPOSITORY/DATASTORAGE IN CURRENT SYSTEM ENVIRONMENT  --------------\n",
    "global ROOT, DATA_PATH                                #|\n",
    "ROOT = Path('../..').resolve() if IS_NOTEBOOK else Path('.').resolve()                     #|\n",
    "print(f\"{'-'*60}\\n{ROOT}:\\t{', '.join([_.name for _ in ROOT.glob('*/')])}\")             #|\n",
    "sys.path.append(os.path.abspath(ROOT))                                                  #|\n",
    "from data import get_data_path  # paths set in \"data/__init__.py\"                       #|\n",
    "DATA_PATH = get_data_path()                                                             #|\n",
    "print(f\"{DATA_PATH}:\\t\\t{', '.join([_.name for _ in DATA_PATH.glob('*/')])}\")           #|\n",
    "# ----------------------------------------------------------------------------------------"
   ]
  },
  {
   "cell_type": "code",
   "execution_count": 23,
   "metadata": {},
   "outputs": [
    {
     "name": "stdout",
     "output_type": "stream",
     "text": [
      "------------------------------------------------------------\n",
      "Input Data: /home/sieglew/MA-Data/final/trips_processed_resampled\n",
      "Stored model: /home/sieglew/MA-eR-PINN/src/models/pth\n"
     ]
    }
   ],
   "source": [
    "# FILE SOURCES ---------------------------------------------------------------\n",
    "input_folder = Path(DATA_PATH, \"final\", \"trips_processed_resampled\") # Trip parquet files\n",
    "pth_folder = Path(ROOT, \"src\", \"models\", \"pth\")\n",
    "print(f\"{'-'*60}\\nInput Data: {input_folder}\\nStored model: {pth_folder}\")"
   ]
  },
  {
   "cell_type": "markdown",
   "metadata": {},
   "source": [
    "___\n",
    "DATA PREPROCESSING"
   ]
  },
  {
   "cell_type": "code",
   "execution_count": 24,
   "metadata": {},
   "outputs": [
    {
     "name": "stdout",
     "output_type": "stream",
     "text": [
      "------------------------------------------------------------\n",
      "Total Files: 100\n",
      "------------------------------------------------------------\n"
     ]
    }
   ],
   "source": [
    "# PREPARE TRAIN & TEST SET ---------------------------------------------------\n",
    "all_files = [Path(input_folder, f) for f in os.listdir(input_folder) if f.endswith(\".parquet\")]\n",
    "files = all_files[:100]\n",
    "print(f\"{'-'*60}\\nTotal Files: {len(files)}\\n{'-'*60}\")\n",
    "# ---------------------------------------------------\n",
    "df = pd.read_parquet(Path(input_folder, random.choice(files)), engine='fastparquet')\n",
    "all_signals = df.columns\n",
    "assert len(all_signals) == 58\n",
    "\n",
    "# get df stats:\n",
    "'''df.info()\n",
    "from scipy.stats import shapiro\n",
    "nd = []\n",
    "for sig in df.columns:\n",
    "    if np.ptp(df[sig]) != 0:\n",
    "        _ , p = shapiro(df[sig])\n",
    "        if p > 0.05:\n",
    "            nd.append(sig)\n",
    "print(f\"{'-'*60}\\nNormal Distributed Signals: {len(nd)}\\n{'-'*60}\")''';"
   ]
  },
  {
   "cell_type": "code",
   "execution_count": 25,
   "metadata": {},
   "outputs": [],
   "source": [
    "# INPUT & TARGET SPECIFICATION ---------------------------------------------------\n",
    "# these signals are required for the physical Model calculation:\n",
    "base_signals = [\"signal_time\", \n",
    "            \"hirestotalvehdist_cval_icuc\", \"vehspd_cval_cpc\", \"altitude_cval_ippc\", \"airtempoutsd_cval_cpc\", \"hv_batpwr_cval_bms1\", \"emot_pwr_cval\",\n",
    "            \"bs_roadincln_cval\", \"roadgrad_cval_pt\"]\n",
    "\n",
    "# these signals have to be dropped in order for appropriate training:\n",
    "columns_to_drop = [\"hv_bat_soc_cval_bms1\", \"latitude_cval_ippc\", \"longitude_cval_ippc\", \"signal_time\", \"signal_ts\"]\n",
    "\n",
    "# ---------------------------------------------------\n",
    "target_column = \"hv_batmomavldischrgen_cval_1\"\n",
    "input_columns = all_signals.drop(columns_to_drop + [target_column])"
   ]
  },
  {
   "cell_type": "code",
   "execution_count": null,
   "metadata": {},
   "outputs": [],
   "source": [
    "# DATASET DEFINITION -----------------------------------------------------------------------\n",
    "class TripDataset(Dataset):\n",
    "    def __init__(self, file_list, scaler, target_scaler, fit=False):\n",
    "        self.file_list = file_list\n",
    "        self.scaler = scaler\n",
    "        self.target_scaler = target_scaler\n",
    "        self.fit = fit\n",
    "        self.data = []\n",
    "        self.targets = []\n",
    "\n",
    "        for file in self.file_list:\n",
    "            # DATA PREPROCESSING -----------------------------------------------------------\n",
    "            df = pd.read_parquet(file, engine='fastparquet')\n",
    "\n",
    "            # assigning inputs and targets and reshaping ---------------\n",
    "            X = df[input_columns].values\n",
    "            y = df[target_column].values.reshape(-1, 1)     # reshape to match the shape of the input\n",
    "            \n",
    "            ##########################\n",
    "            # THis has to be corrected\n",
    "            if self.fit == True:\n",
    "                # Normalize inputs\n",
    "                X = self.scaler.fit_transform(X)\n",
    "                y = self.target_scaler.fit_transform(y).squeeze()\n",
    "            else:\n",
    "                X = self.scaler.transform(X)    \n",
    "                y = self.target_scaler.transform(y).squeeze()\n",
    "            \n",
    "            # Append to data\n",
    "            self.data.append(X)\n",
    "            self.targets.append(y)\n",
    "\n",
    "    def __len__(self):\n",
    "        return sum(len(target) for target in self.targets)\n",
    "\n",
    "    def __getitem__(self, index):\n",
    "        # Find which file the index belongs to\n",
    "        for i, target in enumerate(self.targets):\n",
    "            if index < len(target):\n",
    "                return (\n",
    "                    torch.tensor(self.data[i][index], dtype=torch.float32).unsqueeze(0),  # Add time dimension\n",
    "                    torch.tensor(target[index], dtype=torch.float32)\n",
    "                )\n",
    "            index -= len(target)\n",
    "        raise IndexError(\"Index out of range\")"
   ]
  },
  {
   "cell_type": "code",
   "execution_count": 27,
   "metadata": {},
   "outputs": [],
   "source": [
    "# FEATURE NORMALIZATION/SCALING -----------------------------------------------------------------\n",
    "scaler = StandardScaler()   # Standardize features by removing the mean and scaling to unit variance\n",
    "target_scaler = MinMaxScaler(feature_range=(0, 1))  #MinMaxScaler(feature_range=(0, 1))  # Transform features by scaling each feature to a given range"
   ]
  },
  {
   "cell_type": "code",
   "execution_count": 28,
   "metadata": {},
   "outputs": [],
   "source": [
    "# DATA SET SPLITTING -----------------------------------------------------------------------\n",
    "# train_subset, test_subset = train_test_split(files, test_size=0.2, random_state=1)\n",
    "train_subset, val_subset, test_subset = random_split(files, [0.8, 0.1, 0.1])"
   ]
  },
  {
   "cell_type": "code",
   "execution_count": null,
   "metadata": {},
   "outputs": [
    {
     "name": "stdout",
     "output_type": "stream",
     "text": [
      "------------------------------------------------------------\n",
      "Train size:  356762\n",
      "Val. size:   31825\n",
      "Test size:   25079\n"
     ]
    }
   ],
   "source": [
    "# GENERATE DATALOADERS  ---------------------------------------------------------------\n",
    "batch_size = 1024 # [16, 32, 64, 128, 256, 512, 1024, 2048, 4096, 8192, 16384, 32768]\n",
    "\n",
    "# How is the normalization done?\n",
    "# TRAIN  ------------------------------------------------------------\n",
    "train_dataset = TripDataset(train_subset, scaler, target_scaler, fit=True)\n",
    "train_loader = DataLoader(train_dataset, batch_size=batch_size, shuffle=True)\n",
    "\n",
    "# VAL ------------------------------------------------------------\n",
    "val_dataset = TripDataset(val_subset, scaler, target_scaler, fit=True)\n",
    "val_loader = DataLoader(val_dataset, batch_size=batch_size, shuffle=False)\n",
    "\n",
    "# TEST ------------------------------------------------------------\n",
    "test_dataset = TripDataset(test_subset, scaler, target_scaler)\n",
    "test_loader = DataLoader(test_dataset, batch_size=batch_size, shuffle=False)\n",
    "\n",
    "# Print the size of the datasets\n",
    "print(f\"{'-'*60}\\nTrain size:  {len(train_dataset)}\")\n",
    "print(f'Val. size:   {len(val_dataset)}')\n",
    "print(f'Test size:   {len(test_dataset)}')"
   ]
  },
  {
   "cell_type": "markdown",
   "metadata": {},
   "source": [
    "___\n",
    "NETWORK ARCHITECTURE"
   ]
  },
  {
   "cell_type": "code",
   "execution_count": 30,
   "metadata": {},
   "outputs": [],
   "source": [
    "# LSTM NETWORK -----------------------------------------------------------------------\n",
    "class LSTM1(nn.Module):\n",
    "    def __init__(self, input_size, hidden_size, num_layers, device = DEVICE): #, num_classes, seq_length):\n",
    "        super(LSTM1, self).__init__()\n",
    "\n",
    "        self.input_size = input_size    # input size\n",
    "        self.hidden_size = hidden_size  # hidden state\n",
    "        self.num_layers = num_layers    # number of layers\n",
    "        #self.num_classes = num_classes  # number of classes\n",
    "        #self.seq_length = seq_length    # sequence length\n",
    "\n",
    "        # LSTM CELL --------------------------------\n",
    "        self.lstm = nn.LSTM(\n",
    "            self.input_size,            # The number of expected features in the input x\n",
    "            self.hidden_size,           # The number of features in the hidden state h\n",
    "            self.num_layers,            # Number of recurrent layers for stacked LSTMs. Default: 1\n",
    "            batch_first = True,         # If True, then the input and output tensors are provided as (batch, seq, feature) instead of (seq, batch, feature). Default: False\n",
    "            bias = True,                # If False, then the layer does not use bias weights b_ih and b_hh. Default: True\n",
    "            dropout = 0.2,              # usually: [0.2 - 0.5] ,introduces a Dropout layer on the outputs of each LSTM layer except the last layer, (dropout probability). Default: 0\n",
    "            bidirectional = False,      # If True, becomes a bidirectional LSTM. Default: False\n",
    "            proj_size = 0,              # If > 0, will use LSTM with projections of corresponding size. Default: 0\n",
    "            device = DEVICE,\n",
    "            dtype = torch.float32\n",
    "            ) \n",
    "        \n",
    "        # --------------------------------\n",
    "        #self.fc_1 =  nn.Linear(hidden_size, 128)  # fully connected 1\n",
    "        #self.fc = nn.Linear(128, num_classes)     # fully connected last layer\n",
    "        # --------------------------------\n",
    "        self.relu = nn.ReLU()\n",
    "        self.fc_test =  nn.Linear(hidden_size, 1)\n",
    "\n",
    "    \n",
    "    def forward(self, input, batch_size = None):\n",
    "        '''        \n",
    "        # initial hidden and internal states\n",
    "        # --------------------------------\n",
    "        h_0 = torch.zeros(self.num_layers, input.size(0) if batch_size is None else batch_size, self.hidden_size)\n",
    "        c_0 = torch.zeros(self.num_layers, input.size(0) if batch_size is None else batch_size, self.hidden_size)  \n",
    "        # --------------------------------\n",
    "        out = self.relu(hn.view(-1, self.hidden_size)) # reshaping the data for Dense layer next\n",
    "        out = self.fc_1(out) # first Dense\n",
    "        out = self.relu(out) # relu\n",
    "        out = self.fc(out) # Final Output\n",
    "        '''\n",
    "\n",
    "        # Propagate input through LSTM\n",
    "        # --------------------------------\n",
    "        # output, (hn, cn) = self.lstm(input, (h_0, c_0)) # lstm with input, hidden, and internal state\n",
    "        # input shape:      (batch_size, seq_length, input_size)\n",
    "        # output shape:     (batch_size, seq_length, hidden_size)\n",
    "        # --------------------------------\n",
    "        out, _ = self.lstm(input)\n",
    "\n",
    "\n",
    "        # ouput layers\n",
    "        # --------------------------------\n",
    "        out = self.relu(out) # relu\n",
    "        out = self.fc_test(out[:, -1, :])  \n",
    "        #out = self.fc_test(out)\n",
    "\n",
    "        return out"
   ]
  },
  {
   "cell_type": "code",
   "execution_count": 31,
   "metadata": {},
   "outputs": [
    {
     "name": "stdout",
     "output_type": "stream",
     "text": [
      "------------------------------------------------------------\n",
      " LSTM1(\n",
      "  (lstm): LSTM(52, 64, num_layers=2, batch_first=True, dropout=0.2)\n",
      "  (relu): ReLU()\n",
      "  (fc_test): Linear(in_features=64, out_features=1, bias=True)\n",
      ")\n"
     ]
    }
   ],
   "source": [
    "# MODEL CONFIGURATION -----------------------------------------------------------------------\n",
    "\n",
    "# LAYERS --------------------------------\n",
    "input_size = len(input_columns)     # expected features in the input x\n",
    "hidden_size = 64                    # features in the hidden state h\n",
    "num_layers = 2                      # recurrent layers for stacked LSTMs. Default: 1\n",
    "num_classes = 1                     # output classes (=1 for regression)\n",
    "\n",
    "# INSTANTIATE MODEL --------------------\n",
    "model = LSTM1(input_size, hidden_size, num_layers).to(DEVICE)  #, num_classes, X_train_T_final.shape[1]\n",
    "print(f\"{'-'*60}\\n\",model)"
   ]
  },
  {
   "cell_type": "markdown",
   "metadata": {},
   "source": [
    "___\n",
    "TRAINING SETUP"
   ]
  },
  {
   "cell_type": "code",
   "execution_count": 32,
   "metadata": {},
   "outputs": [],
   "source": [
    "# TRAINING CONFIGURATION -----------------------------------------------------------------------\n",
    "global NUM_EPOCHS\n",
    "\n",
    "# HYPERPARAMETERS -----------------------\n",
    "NUM_EPOCHS = 20\n",
    "learning_rate = 1e-3 # 0.001 lr\n",
    "\n",
    "# OPTIMIZER -----------------------------\n",
    "optimizer = torch.optim.Adam(model.parameters(), lr = learning_rate,\n",
    "    weight_decay = 1e-5      # weight decay coefficient (default: 1e-2)\n",
    "    #betas = (0.9, 0.95),    # coefficients used for computing running averages of gradient and its square (default: (0.9, 0.999))\n",
    "    #eps = 1e-8,             # term added to the denominator to improve numerical stability (default: 1e-8)\n",
    ")\n",
    "\n",
    "# LOSS FUNCTION ---------------------------\n",
    "def loss_fn(model_output, target):\n",
    "    loss = F.mse_loss(model_output, target) # mean-squared error for regression\n",
    "    return loss\n",
    "\n",
    "# or define criterion function:\n",
    "criterion = nn.MSELoss()\n",
    "#criterion = nn.MSELoss(reduction='mean')"
   ]
  },
  {
   "cell_type": "code",
   "execution_count": 33,
   "metadata": {},
   "outputs": [
    {
     "name": "stdout",
     "output_type": "stream",
     "text": [
      "------------------------------------------------------------\n",
      "Model state_dict:\n",
      "lstm.weight_ih_l0:\t torch.Size([256, 52])\n",
      "lstm.weight_hh_l0:\t torch.Size([256, 64])\n",
      "lstm.bias_ih_l0:\t torch.Size([256])\n",
      "lstm.bias_hh_l0:\t torch.Size([256])\n",
      "lstm.weight_ih_l1:\t torch.Size([256, 64])\n",
      "lstm.weight_hh_l1:\t torch.Size([256, 64])\n",
      "lstm.bias_ih_l1:\t torch.Size([256])\n",
      "lstm.bias_hh_l1:\t torch.Size([256])\n",
      "fc_test.weight:\t torch.Size([1, 64])\n",
      "fc_test.bias:\t torch.Size([1])\n",
      "\n",
      "Optimizer state_dict:\n",
      "{'lr': 0.001, 'betas': (0.9, 0.999), 'eps': 1e-08, 'weight_decay': 1e-05, 'amsgrad': False, 'maximize': False, 'foreach': None, 'capturable': False, 'differentiable': False, 'fused': None, 'params': [0, 1, 2, 3, 4, 5, 6, 7, 8, 9]}\n",
      "------------------------------------------------------------\n",
      "------------------------------------------------------------\n",
      "\n"
     ]
    }
   ],
   "source": [
    "# print Model and Optimizer state_dicts\n",
    "def print_state_dicts(model, optimizer=None):\n",
    "    print(f\"{'-'*60}\\nModel state_dict:\")\n",
    "    for param_tensor in model.state_dict():\n",
    "        print(f\"{param_tensor}:\\t {model.state_dict()[param_tensor].size()}\")\n",
    "        \n",
    "    if optimizer:\n",
    "        print(\"\\nOptimizer state_dict:\")\n",
    "        for var_name in optimizer.state_dict():\n",
    "            if var_name == 'param_groups':\n",
    "                print(optimizer.state_dict()[var_name][0])\n",
    "\n",
    "print_state_dicts(model, optimizer)\n",
    "print(f\"{'-'*60}\\n{'-'*60}\\n\")"
   ]
  },
  {
   "cell_type": "markdown",
   "metadata": {},
   "source": [
    "___"
   ]
  },
  {
   "cell_type": "code",
   "execution_count": 34,
   "metadata": {},
   "outputs": [],
   "source": [
    "# Initialize a HTML table for performance tracking (if running in a notebook)\n",
    "def initialize_table():\n",
    "    table_html = \"\"\"\n",
    "    <table id=\"training_table\" style=\"width:60%; border-collapse: collapse;\">\n",
    "        <thead style=\"position: sticky; top: 0; z-index: 1;\">\n",
    "            <tr>\n",
    "                <th style=\"font-weight:bold; width:15%; text-align:left; padding: 10px; background-color: #404040;\">Epoch</th>\n",
    "                <th style=\"font-weight:bold; width:25%; text-align:left; padding: 10px; background-color: #404040;\">Iteration</th>\n",
    "                <th style=\"font-weight:bold; width:30%; text-align:left; padding: 10px; background-color: #404040;\">Batch Loss</th>\n",
    "                <th style=\"font-weight:bold; width:30%; text-align:left; padding: 10px; background-color: #404040;\">Train Loss</th>\n",
    "            </tr>\n",
    "        </thead>\n",
    "        <tbody>\n",
    "        </tbody>\n",
    "    </table>\n",
    "    <script>\n",
    "        function addRow(epoch, step, loss, running_loss) {\n",
    "            var table = document.getElementById(\"training_table\").getElementsByTagName('tbody')[0];\n",
    "            var row = table.insertRow(-1);\n",
    "            var cell1 = row.insertCell(0);\n",
    "            var cell2 = row.insertCell(1);\n",
    "            var cell3 = row.insertCell(2);\n",
    "            var cell4 = row.insertCell(3);\n",
    "            cell1.style.textAlign = \"left\";\n",
    "            cell2.style.textAlign = \"left\";\n",
    "            cell3.style.textAlign = \"left\";\n",
    "            cell4.style.textAlign = \"left\";\n",
    "            cell1.innerHTML = epoch;\n",
    "            cell2.innerHTML = step;\n",
    "            cell3.innerHTML = loss;\n",
    "            cell4.innerHTML = running_loss;\n",
    "            var scrollableDiv = document.getElementById(\"scrollable_table\");\n",
    "            scrollableDiv.scrollTop = scrollableDiv.scrollHeight;\n",
    "        }\n",
    "    </script>\n",
    "    \"\"\"\n",
    "\n",
    "    return \"\"\"<div id=\"scrollable_table\" style=\"height: 300px; overflow-y: scroll;\">\"\"\" + table_html + \"\"\"</div>\"\"\"\n",
    "\n",
    "# -----------------------\n",
    "# Initialize a list for performance tracking (if running in script mode)\n",
    "training_table = []\n",
    "\n",
    "# Function to add a row to the performance table\n",
    "def add_row(epoch, iteration, batch_loss, train_loss):\n",
    "    training_table.append([epoch, iteration, batch_loss, train_loss])\n",
    "\n",
    "# Function to print the performance table\n",
    "header_printed = False\n",
    "def print_row():\n",
    "    global header_printed\n",
    "    headers = [\"Epoch\", \"Iteration\", \"Batch Loss\", \"Train Loss\"]\n",
    "    col_widths = [14, 14, 14, 14]  # Define fixed column widths\n",
    "\n",
    "    def format_row(row):\n",
    "        return [str(item).ljust(width) for item, width in zip(row, col_widths)]\n",
    "\n",
    "    if not header_printed:\n",
    "        formatted_headers = format_row(headers)\n",
    "        tqdm.write(tabulate([training_table[-1]], headers=formatted_headers, tablefmt=\"plain\", colalign=(\"left\", \"left\", \"left\", \"left\")))\n",
    "        header_printed = True\n",
    "    else:\n",
    "        formatted_row = format_row(training_table[-1])\n",
    "        tqdm.write(tabulate([training_table[-1]], headers=format_row([\"\", \"\", \"\", \"\"]), tablefmt=\"plain\", colalign=(\"left\", \"left\", \"left\", \"left\")))"
   ]
  },
  {
   "cell_type": "code",
   "execution_count": 35,
   "metadata": {},
   "outputs": [],
   "source": [
    "# TRAINING ROUTINE DEFINITION -----------------------------------------------------------------\n",
    "def train_model(model, optimizer, loss_fn, train_loader, val_loader = None):\n",
    "\n",
    "    def validate_model(model, val_loader, loss_fn):\n",
    "        model.eval()  # Set model to evaluation mode\n",
    "        val_loss = 0.0\n",
    "        with torch.no_grad():  # Disable gradient calculation\n",
    "            for inputs, targets in val_loader:\n",
    "                inputs, targets = inputs.to(DEVICE), targets.to(DEVICE)\n",
    "                outputs = model(inputs)\n",
    "                loss = loss_fn(outputs.squeeze(), targets)\n",
    "                val_loss += loss.item()\n",
    "        \n",
    "        val_loss /= len(val_loader)  # Calculate average validation loss\n",
    "        return val_loss\n",
    "\n",
    "    # output info on training process\n",
    "    print(f\"Training Started.\\tProcess ID: {os.getpid()} \\n{'-'*60}\\n\"\n",
    "        f\"Model: {model.__class__.__name__}\\t\\tParameters on device: {next(model.parameters()).device}\\n{'-'*60}\\n\"\n",
    "        f\"Train/Batch size:\\t{len(train_loader.dataset)} / {train_loader.batch_size}\\n\"\n",
    "        f\"Loss:\\t\\t\\t{loss_fn}\\nOptimizer:\\t\\t{optimizer.__class__.__name__}\\nLR:\\t\\t\\t\"\n",
    "        f\"{optimizer.param_groups[0]['lr']}\\nWeight Decay:\\t\\t{optimizer.param_groups[0]['weight_decay']}\\n{'-'*60}\")\n",
    "    \n",
    "    if IS_NOTEBOOK: display(HTML(initialize_table()))\n",
    "\n",
    "    # TRAINING LOOP:\n",
    "    train_losses, val_losses = [], [] # collect loss\n",
    "    start_time = time.perf_counter()\n",
    "    for epoch in range(1, NUM_EPOCHS + 1):\n",
    "        model.train()   # set model to training mode\n",
    "        running_loss = 0.0\n",
    "        num_iterations = math.ceil(len(train_loader.dataset) / train_loader.batch_size)\n",
    "        header_printed = False\n",
    "        \n",
    "        with tqdm(enumerate(train_loader, 1), unit=\"batch\", total=num_iterations, leave=False) as tepoch:\n",
    "            for iter, (inputs, targets) in tepoch:\n",
    "                tepoch.set_description(f\"Epoch {epoch}/{NUM_EPOCHS}\")\n",
    "\n",
    "                # -------------------------------------------------------------\n",
    "                # Move data to the GPU\n",
    "                inputs, targets = inputs.to(DEVICE), targets.to(DEVICE)  \n",
    "                # zero gradients -> forward pass -> obtain loss function -> apply backpropagation -> update weights:\n",
    "                optimizer.zero_grad()\n",
    "                outputs = model(inputs) \n",
    "                loss = loss_fn(outputs.squeeze(), targets) \n",
    "                loss.backward() \n",
    "                # nn.utils.clip_grad_value_(model.parameters(), clip_value=1.0) # optional: Gradient Value Clipping\n",
    "                optimizer.step()\n",
    "\n",
    "                # -------------------------------------------------------------\n",
    "                # Update the performance table\n",
    "                if iter % (num_iterations//4) == 0 and iter != num_iterations//4*4:\n",
    "                    add_row(f\" \", f\"{iter}\",f\"{loss.item():.6f}\", \" \")\n",
    "                    if IS_NOTEBOOK:\n",
    "                        display(Javascript(f\"\"\"addRow(\"\", \"{iter}\", \"{loss.item():.6f}\", \"\");\"\"\"))\n",
    "                    else:\n",
    "                        print_row()\n",
    "                elif iter == 1:\n",
    "                    add_row(f\"{epoch}/{NUM_EPOCHS}\", f\"{iter}/{num_iterations}\",f\"{loss.item():.6f}\", \" \")\n",
    "                    if IS_NOTEBOOK:\n",
    "                        display(Javascript(f\"\"\"addRow(\"<b>{epoch}/{NUM_EPOCHS}\", \"{iter}/{num_iterations}\", \"{loss.item():.6f}\", \"\");\"\"\"))\n",
    "                    else:\n",
    "                        print_row()\n",
    "                        \n",
    "                # -------------------------------------------------------------\n",
    "                # Update running loss and progress bar\n",
    "                running_loss += loss.item() # acculumate loss for epoch\n",
    "                tepoch.set_postfix(loss=loss.item()); tepoch.update(1)\n",
    "\n",
    "        # Calculate average training loss for the epoch\n",
    "        avg_train_loss = running_loss / len(train_loader)\n",
    "        train_losses.append(avg_train_loss)\n",
    "\n",
    "        # Update the performance table\n",
    "        add_row(f\" \", f\"{iter}\",f\"{loss.item():.6f}\", f\"{avg_train_loss:6f}\")\n",
    "        if IS_NOTEBOOK:\n",
    "            display(Javascript(f\"\"\"addRow(\"\", \"{iter}\", \"{loss.item():.6f}\", \"<b>{avg_train_loss:.6f}\");\"\"\"))\n",
    "        else:\n",
    "            print_row()\n",
    "\n",
    "        # VALIDATION\n",
    "        if val_loader:\n",
    "            val_loss = validate_model(model, val_loader, loss_fn)\n",
    "            val_losses.append(val_loss)\n",
    "            # Update the performance table\n",
    "            add_row(f\" \", f\"Validation Loss:\",f\"{val_loss:.6f}\", f\"\")\n",
    "            if IS_NOTEBOOK:\n",
    "                display(Javascript(f\"\"\"addRow(\"<b>Val\", \"Validation Loss:\", \"<b>{val_loss:.4f}\", \"\");\"\"\"))\n",
    "            else:\n",
    "                print_row()\n",
    "\n",
    "        # save epochs results:\n",
    "\n",
    "\n",
    "    print(f\"{'-'*60}\\nTraining Completed.\\tExecution Time: \", f\"{(time.perf_counter() - start_time):.2f}\", f\"s\\n\")\n",
    "    output = {\"train_losses\": train_losses, \"val_losses\": val_losses, \"epoch\": epoch, \"training_table\": training_table}\n",
    "    return output"
   ]
  },
  {
   "cell_type": "markdown",
   "metadata": {},
   "source": [
    "___\n",
    "NETWORK TRAINING"
   ]
  },
  {
   "cell_type": "code",
   "execution_count": null,
   "metadata": {},
   "outputs": [
    {
     "name": "stdout",
     "output_type": "stream",
     "text": [
      "Training Started.\tProcess ID: 1217350 \n",
      "------------------------------------------------------------\n",
      "Model: LSTM1\t\tParameters on device: cuda:0\n",
      "------------------------------------------------------------\n",
      "Train/Batch size:\t356762 / 1024\n",
      "Loss:\t\t\tMSELoss()\n",
      "Optimizer:\t\tAdam\n",
      "LR:\t\t\t0.001\n",
      "Weight Decay:\t\t1e-05\n",
      "------------------------------------------------------------\n"
     ]
    },
    {
     "data": {
      "text/html": [
       "<div id=\"scrollable_table\" style=\"height: 300px; overflow-y: scroll;\">\n",
       "    <table id=\"training_table\" style=\"width:60%; border-collapse: collapse;\">\n",
       "        <thead style=\"position: sticky; top: 0; z-index: 1;\">\n",
       "            <tr>\n",
       "                <th style=\"font-weight:bold; width:15%; text-align:left; padding: 10px; background-color: #404040;\">Epoch</th>\n",
       "                <th style=\"font-weight:bold; width:25%; text-align:left; padding: 10px; background-color: #404040;\">Iteration</th>\n",
       "                <th style=\"font-weight:bold; width:30%; text-align:left; padding: 10px; background-color: #404040;\">Batch Loss</th>\n",
       "                <th style=\"font-weight:bold; width:30%; text-align:left; padding: 10px; background-color: #404040;\">Train Loss</th>\n",
       "            </tr>\n",
       "        </thead>\n",
       "        <tbody>\n",
       "        </tbody>\n",
       "    </table>\n",
       "    <script>\n",
       "        function addRow(epoch, step, loss, running_loss) {\n",
       "            var table = document.getElementById(\"training_table\").getElementsByTagName('tbody')[0];\n",
       "            var row = table.insertRow(-1);\n",
       "            var cell1 = row.insertCell(0);\n",
       "            var cell2 = row.insertCell(1);\n",
       "            var cell3 = row.insertCell(2);\n",
       "            var cell4 = row.insertCell(3);\n",
       "            cell1.style.textAlign = \"left\";\n",
       "            cell2.style.textAlign = \"left\";\n",
       "            cell3.style.textAlign = \"left\";\n",
       "            cell4.style.textAlign = \"left\";\n",
       "            cell1.innerHTML = epoch;\n",
       "            cell2.innerHTML = step;\n",
       "            cell3.innerHTML = loss;\n",
       "            cell4.innerHTML = running_loss;\n",
       "            var scrollableDiv = document.getElementById(\"scrollable_table\");\n",
       "            scrollableDiv.scrollTop = scrollableDiv.scrollHeight;\n",
       "        }\n",
       "    </script>\n",
       "    </div>"
      ],
      "text/plain": [
       "<IPython.core.display.HTML object>"
      ]
     },
     "metadata": {},
     "output_type": "display_data"
    },
    {
     "data": {
      "application/vnd.jupyter.widget-view+json": {
       "model_id": "37247ca65f9a48018860d63023cedb61",
       "version_major": 2,
       "version_minor": 0
      },
      "text/plain": [
       "  0%|          | 0/349 [00:00<?, ?batch/s]"
      ]
     },
     "metadata": {},
     "output_type": "display_data"
    },
    {
     "data": {
      "application/javascript": "addRow(\"<b>1/20\", \"1/349\", \"0.317163\", \"\");",
      "text/plain": [
       "<IPython.core.display.Javascript object>"
      ]
     },
     "metadata": {},
     "output_type": "display_data"
    },
    {
     "data": {
      "application/javascript": "addRow(\"\", \"87\", \"0.019690\", \"\");",
      "text/plain": [
       "<IPython.core.display.Javascript object>"
      ]
     },
     "metadata": {},
     "output_type": "display_data"
    },
    {
     "data": {
      "application/javascript": "addRow(\"\", \"174\", \"0.011444\", \"\");",
      "text/plain": [
       "<IPython.core.display.Javascript object>"
      ]
     },
     "metadata": {},
     "output_type": "display_data"
    },
    {
     "data": {
      "application/javascript": "addRow(\"\", \"261\", \"0.009400\", \"\");",
      "text/plain": [
       "<IPython.core.display.Javascript object>"
      ]
     },
     "metadata": {},
     "output_type": "display_data"
    },
    {
     "data": {
      "application/javascript": "addRow(\"\", \"349\", \"0.008387\", \"<b>0.035031\");",
      "text/plain": [
       "<IPython.core.display.Javascript object>"
      ]
     },
     "metadata": {},
     "output_type": "display_data"
    },
    {
     "data": {
      "application/javascript": "addRow(\"<b>Val\", \"Validation Loss:\", \"<b>0.0163\", \"\");",
      "text/plain": [
       "<IPython.core.display.Javascript object>"
      ]
     },
     "metadata": {},
     "output_type": "display_data"
    },
    {
     "data": {
      "application/vnd.jupyter.widget-view+json": {
       "model_id": "ecaba6465cc2458584ec5bd7d62e5e22",
       "version_major": 2,
       "version_minor": 0
      },
      "text/plain": [
       "  0%|          | 0/349 [00:00<?, ?batch/s]"
      ]
     },
     "metadata": {},
     "output_type": "display_data"
    },
    {
     "data": {
      "application/javascript": "addRow(\"<b>2/20\", \"1/349\", \"0.008619\", \"\");",
      "text/plain": [
       "<IPython.core.display.Javascript object>"
      ]
     },
     "metadata": {},
     "output_type": "display_data"
    },
    {
     "data": {
      "application/javascript": "addRow(\"\", \"87\", \"0.009279\", \"\");",
      "text/plain": [
       "<IPython.core.display.Javascript object>"
      ]
     },
     "metadata": {},
     "output_type": "display_data"
    },
    {
     "data": {
      "application/javascript": "addRow(\"\", \"174\", \"0.006264\", \"\");",
      "text/plain": [
       "<IPython.core.display.Javascript object>"
      ]
     },
     "metadata": {},
     "output_type": "display_data"
    },
    {
     "data": {
      "application/javascript": "addRow(\"\", \"261\", \"0.006200\", \"\");",
      "text/plain": [
       "<IPython.core.display.Javascript object>"
      ]
     },
     "metadata": {},
     "output_type": "display_data"
    },
    {
     "data": {
      "application/javascript": "addRow(\"\", \"349\", \"0.006306\", \"<b>0.007104\");",
      "text/plain": [
       "<IPython.core.display.Javascript object>"
      ]
     },
     "metadata": {},
     "output_type": "display_data"
    },
    {
     "data": {
      "application/javascript": "addRow(\"<b>Val\", \"Validation Loss:\", \"<b>0.0159\", \"\");",
      "text/plain": [
       "<IPython.core.display.Javascript object>"
      ]
     },
     "metadata": {},
     "output_type": "display_data"
    },
    {
     "data": {
      "application/vnd.jupyter.widget-view+json": {
       "model_id": "d41907930c6d4d4b88d22acc905176a0",
       "version_major": 2,
       "version_minor": 0
      },
      "text/plain": [
       "  0%|          | 0/349 [00:00<?, ?batch/s]"
      ]
     },
     "metadata": {},
     "output_type": "display_data"
    },
    {
     "data": {
      "application/javascript": "addRow(\"<b>3/20\", \"1/349\", \"0.005597\", \"\");",
      "text/plain": [
       "<IPython.core.display.Javascript object>"
      ]
     },
     "metadata": {},
     "output_type": "display_data"
    },
    {
     "data": {
      "application/javascript": "addRow(\"\", \"87\", \"0.005576\", \"\");",
      "text/plain": [
       "<IPython.core.display.Javascript object>"
      ]
     },
     "metadata": {},
     "output_type": "display_data"
    },
    {
     "data": {
      "application/javascript": "addRow(\"\", \"174\", \"0.005162\", \"\");",
      "text/plain": [
       "<IPython.core.display.Javascript object>"
      ]
     },
     "metadata": {},
     "output_type": "display_data"
    },
    {
     "data": {
      "application/javascript": "addRow(\"\", \"261\", \"0.004653\", \"\");",
      "text/plain": [
       "<IPython.core.display.Javascript object>"
      ]
     },
     "metadata": {},
     "output_type": "display_data"
    },
    {
     "data": {
      "application/javascript": "addRow(\"\", \"349\", \"0.004542\", \"<b>0.005449\");",
      "text/plain": [
       "<IPython.core.display.Javascript object>"
      ]
     },
     "metadata": {},
     "output_type": "display_data"
    },
    {
     "data": {
      "application/javascript": "addRow(\"<b>Val\", \"Validation Loss:\", \"<b>0.0160\", \"\");",
      "text/plain": [
       "<IPython.core.display.Javascript object>"
      ]
     },
     "metadata": {},
     "output_type": "display_data"
    },
    {
     "data": {
      "application/vnd.jupyter.widget-view+json": {
       "model_id": "603ffaee62a947d69d554050171dd2b5",
       "version_major": 2,
       "version_minor": 0
      },
      "text/plain": [
       "  0%|          | 0/349 [00:00<?, ?batch/s]"
      ]
     },
     "metadata": {},
     "output_type": "display_data"
    },
    {
     "data": {
      "application/javascript": "addRow(\"<b>4/20\", \"1/349\", \"0.004620\", \"\");",
      "text/plain": [
       "<IPython.core.display.Javascript object>"
      ]
     },
     "metadata": {},
     "output_type": "display_data"
    },
    {
     "data": {
      "application/javascript": "addRow(\"\", \"87\", \"0.004505\", \"\");",
      "text/plain": [
       "<IPython.core.display.Javascript object>"
      ]
     },
     "metadata": {},
     "output_type": "display_data"
    },
    {
     "name": "stderr",
     "output_type": "stream",
     "text": [
      "Exception ignored in: <bound method IPythonKernel._clean_thread_parent_frames of <ipykernel.ipkernel.IPythonKernel object at 0x7f2ad1706350>>\n",
      "Traceback (most recent call last):\n",
      "  File \"/home/sieglew/.local/lib/python3.11/site-packages/ipykernel/ipkernel.py\", line 775, in _clean_thread_parent_frames\n",
      "    def _clean_thread_parent_frames(\n",
      "\n",
      "KeyboardInterrupt: \n"
     ]
    },
    {
     "data": {
      "application/javascript": "addRow(\"\", \"174\", \"0.004630\", \"\");",
      "text/plain": [
       "<IPython.core.display.Javascript object>"
      ]
     },
     "metadata": {},
     "output_type": "display_data"
    },
    {
     "data": {
      "application/javascript": "addRow(\"\", \"261\", \"0.004386\", \"\");",
      "text/plain": [
       "<IPython.core.display.Javascript object>"
      ]
     },
     "metadata": {},
     "output_type": "display_data"
    },
    {
     "data": {
      "application/javascript": "addRow(\"\", \"349\", \"0.004809\", \"<b>0.004558\");",
      "text/plain": [
       "<IPython.core.display.Javascript object>"
      ]
     },
     "metadata": {},
     "output_type": "display_data"
    },
    {
     "data": {
      "application/javascript": "addRow(\"<b>Val\", \"Validation Loss:\", \"<b>0.0158\", \"\");",
      "text/plain": [
       "<IPython.core.display.Javascript object>"
      ]
     },
     "metadata": {},
     "output_type": "display_data"
    },
    {
     "data": {
      "application/vnd.jupyter.widget-view+json": {
       "model_id": "168fe702e7fe40788eb21640ce19a8b4",
       "version_major": 2,
       "version_minor": 0
      },
      "text/plain": [
       "  0%|          | 0/349 [00:00<?, ?batch/s]"
      ]
     },
     "metadata": {},
     "output_type": "display_data"
    },
    {
     "data": {
      "application/javascript": "addRow(\"<b>5/20\", \"1/349\", \"0.004175\", \"\");",
      "text/plain": [
       "<IPython.core.display.Javascript object>"
      ]
     },
     "metadata": {},
     "output_type": "display_data"
    },
    {
     "data": {
      "application/javascript": "addRow(\"\", \"87\", \"0.003875\", \"\");",
      "text/plain": [
       "<IPython.core.display.Javascript object>"
      ]
     },
     "metadata": {},
     "output_type": "display_data"
    },
    {
     "data": {
      "application/javascript": "addRow(\"\", \"174\", \"0.003855\", \"\");",
      "text/plain": [
       "<IPython.core.display.Javascript object>"
      ]
     },
     "metadata": {},
     "output_type": "display_data"
    },
    {
     "data": {
      "application/javascript": "addRow(\"\", \"261\", \"0.003599\", \"\");",
      "text/plain": [
       "<IPython.core.display.Javascript object>"
      ]
     },
     "metadata": {},
     "output_type": "display_data"
    },
    {
     "data": {
      "application/javascript": "addRow(\"\", \"349\", \"0.003492\", \"<b>0.003969\");",
      "text/plain": [
       "<IPython.core.display.Javascript object>"
      ]
     },
     "metadata": {},
     "output_type": "display_data"
    },
    {
     "data": {
      "application/javascript": "addRow(\"<b>Val\", \"Validation Loss:\", \"<b>0.0162\", \"\");",
      "text/plain": [
       "<IPython.core.display.Javascript object>"
      ]
     },
     "metadata": {},
     "output_type": "display_data"
    },
    {
     "data": {
      "application/vnd.jupyter.widget-view+json": {
       "model_id": "9fa077c73fc6459586a75fd5805cbb85",
       "version_major": 2,
       "version_minor": 0
      },
      "text/plain": [
       "  0%|          | 0/349 [00:00<?, ?batch/s]"
      ]
     },
     "metadata": {},
     "output_type": "display_data"
    },
    {
     "data": {
      "application/javascript": "addRow(\"<b>6/20\", \"1/349\", \"0.003972\", \"\");",
      "text/plain": [
       "<IPython.core.display.Javascript object>"
      ]
     },
     "metadata": {},
     "output_type": "display_data"
    },
    {
     "data": {
      "application/javascript": "addRow(\"\", \"87\", \"0.003590\", \"\");",
      "text/plain": [
       "<IPython.core.display.Javascript object>"
      ]
     },
     "metadata": {},
     "output_type": "display_data"
    },
    {
     "data": {
      "application/javascript": "addRow(\"\", \"174\", \"0.003756\", \"\");",
      "text/plain": [
       "<IPython.core.display.Javascript object>"
      ]
     },
     "metadata": {},
     "output_type": "display_data"
    },
    {
     "data": {
      "application/javascript": "addRow(\"\", \"261\", \"0.003356\", \"\");",
      "text/plain": [
       "<IPython.core.display.Javascript object>"
      ]
     },
     "metadata": {},
     "output_type": "display_data"
    },
    {
     "data": {
      "application/javascript": "addRow(\"\", \"349\", \"0.003346\", \"<b>0.003579\");",
      "text/plain": [
       "<IPython.core.display.Javascript object>"
      ]
     },
     "metadata": {},
     "output_type": "display_data"
    },
    {
     "data": {
      "application/javascript": "addRow(\"<b>Val\", \"Validation Loss:\", \"<b>0.0159\", \"\");",
      "text/plain": [
       "<IPython.core.display.Javascript object>"
      ]
     },
     "metadata": {},
     "output_type": "display_data"
    },
    {
     "data": {
      "application/vnd.jupyter.widget-view+json": {
       "model_id": "330b7781f8a5482d9fe5b723e96d9170",
       "version_major": 2,
       "version_minor": 0
      },
      "text/plain": [
       "  0%|          | 0/349 [00:00<?, ?batch/s]"
      ]
     },
     "metadata": {},
     "output_type": "display_data"
    },
    {
     "data": {
      "application/javascript": "addRow(\"<b>7/20\", \"1/349\", \"0.003308\", \"\");",
      "text/plain": [
       "<IPython.core.display.Javascript object>"
      ]
     },
     "metadata": {},
     "output_type": "display_data"
    },
    {
     "data": {
      "application/javascript": "addRow(\"\", \"87\", \"0.003577\", \"\");",
      "text/plain": [
       "<IPython.core.display.Javascript object>"
      ]
     },
     "metadata": {},
     "output_type": "display_data"
    },
    {
     "data": {
      "application/javascript": "addRow(\"\", \"174\", \"0.004137\", \"\");",
      "text/plain": [
       "<IPython.core.display.Javascript object>"
      ]
     },
     "metadata": {},
     "output_type": "display_data"
    },
    {
     "data": {
      "application/javascript": "addRow(\"\", \"261\", \"0.003080\", \"\");",
      "text/plain": [
       "<IPython.core.display.Javascript object>"
      ]
     },
     "metadata": {},
     "output_type": "display_data"
    },
    {
     "data": {
      "application/javascript": "addRow(\"\", \"349\", \"0.003138\", \"<b>0.003297\");",
      "text/plain": [
       "<IPython.core.display.Javascript object>"
      ]
     },
     "metadata": {},
     "output_type": "display_data"
    },
    {
     "data": {
      "application/javascript": "addRow(\"<b>Val\", \"Validation Loss:\", \"<b>0.0162\", \"\");",
      "text/plain": [
       "<IPython.core.display.Javascript object>"
      ]
     },
     "metadata": {},
     "output_type": "display_data"
    },
    {
     "data": {
      "application/vnd.jupyter.widget-view+json": {
       "model_id": "44d47a4bee634847afb2f962d3041053",
       "version_major": 2,
       "version_minor": 0
      },
      "text/plain": [
       "  0%|          | 0/349 [00:00<?, ?batch/s]"
      ]
     },
     "metadata": {},
     "output_type": "display_data"
    },
    {
     "data": {
      "application/javascript": "addRow(\"<b>8/20\", \"1/349\", \"0.003407\", \"\");",
      "text/plain": [
       "<IPython.core.display.Javascript object>"
      ]
     },
     "metadata": {},
     "output_type": "display_data"
    },
    {
     "data": {
      "application/javascript": "addRow(\"\", \"87\", \"0.003283\", \"\");",
      "text/plain": [
       "<IPython.core.display.Javascript object>"
      ]
     },
     "metadata": {},
     "output_type": "display_data"
    },
    {
     "data": {
      "application/javascript": "addRow(\"\", \"174\", \"0.002858\", \"\");",
      "text/plain": [
       "<IPython.core.display.Javascript object>"
      ]
     },
     "metadata": {},
     "output_type": "display_data"
    },
    {
     "data": {
      "application/javascript": "addRow(\"\", \"261\", \"0.003128\", \"\");",
      "text/plain": [
       "<IPython.core.display.Javascript object>"
      ]
     },
     "metadata": {},
     "output_type": "display_data"
    },
    {
     "data": {
      "application/javascript": "addRow(\"\", \"349\", \"0.002991\", \"<b>0.003051\");",
      "text/plain": [
       "<IPython.core.display.Javascript object>"
      ]
     },
     "metadata": {},
     "output_type": "display_data"
    },
    {
     "data": {
      "application/javascript": "addRow(\"<b>Val\", \"Validation Loss:\", \"<b>0.0163\", \"\");",
      "text/plain": [
       "<IPython.core.display.Javascript object>"
      ]
     },
     "metadata": {},
     "output_type": "display_data"
    },
    {
     "data": {
      "application/vnd.jupyter.widget-view+json": {
       "model_id": "fae390a06ee04bbab6b5990d3837f2bf",
       "version_major": 2,
       "version_minor": 0
      },
      "text/plain": [
       "  0%|          | 0/349 [00:00<?, ?batch/s]"
      ]
     },
     "metadata": {},
     "output_type": "display_data"
    },
    {
     "data": {
      "application/javascript": "addRow(\"<b>9/20\", \"1/349\", \"0.002411\", \"\");",
      "text/plain": [
       "<IPython.core.display.Javascript object>"
      ]
     },
     "metadata": {},
     "output_type": "display_data"
    },
    {
     "data": {
      "application/javascript": "addRow(\"\", \"87\", \"0.002819\", \"\");",
      "text/plain": [
       "<IPython.core.display.Javascript object>"
      ]
     },
     "metadata": {},
     "output_type": "display_data"
    },
    {
     "data": {
      "application/javascript": "addRow(\"\", \"174\", \"0.002685\", \"\");",
      "text/plain": [
       "<IPython.core.display.Javascript object>"
      ]
     },
     "metadata": {},
     "output_type": "display_data"
    },
    {
     "data": {
      "application/javascript": "addRow(\"\", \"261\", \"0.002967\", \"\");",
      "text/plain": [
       "<IPython.core.display.Javascript object>"
      ]
     },
     "metadata": {},
     "output_type": "display_data"
    },
    {
     "data": {
      "application/javascript": "addRow(\"\", \"349\", \"0.002827\", \"<b>0.002891\");",
      "text/plain": [
       "<IPython.core.display.Javascript object>"
      ]
     },
     "metadata": {},
     "output_type": "display_data"
    },
    {
     "data": {
      "application/javascript": "addRow(\"<b>Val\", \"Validation Loss:\", \"<b>0.0162\", \"\");",
      "text/plain": [
       "<IPython.core.display.Javascript object>"
      ]
     },
     "metadata": {},
     "output_type": "display_data"
    },
    {
     "data": {
      "application/vnd.jupyter.widget-view+json": {
       "model_id": "6bbf261ab31b46cc970f6a3dbb7be087",
       "version_major": 2,
       "version_minor": 0
      },
      "text/plain": [
       "  0%|          | 0/349 [00:00<?, ?batch/s]"
      ]
     },
     "metadata": {},
     "output_type": "display_data"
    },
    {
     "data": {
      "application/javascript": "addRow(\"<b>10/20\", \"1/349\", \"0.003006\", \"\");",
      "text/plain": [
       "<IPython.core.display.Javascript object>"
      ]
     },
     "metadata": {},
     "output_type": "display_data"
    },
    {
     "data": {
      "application/javascript": "addRow(\"\", \"87\", \"0.002509\", \"\");",
      "text/plain": [
       "<IPython.core.display.Javascript object>"
      ]
     },
     "metadata": {},
     "output_type": "display_data"
    },
    {
     "data": {
      "application/javascript": "addRow(\"\", \"174\", \"0.002774\", \"\");",
      "text/plain": [
       "<IPython.core.display.Javascript object>"
      ]
     },
     "metadata": {},
     "output_type": "display_data"
    },
    {
     "data": {
      "application/javascript": "addRow(\"\", \"261\", \"0.002716\", \"\");",
      "text/plain": [
       "<IPython.core.display.Javascript object>"
      ]
     },
     "metadata": {},
     "output_type": "display_data"
    },
    {
     "data": {
      "application/javascript": "addRow(\"\", \"349\", \"0.002897\", \"<b>0.002739\");",
      "text/plain": [
       "<IPython.core.display.Javascript object>"
      ]
     },
     "metadata": {},
     "output_type": "display_data"
    },
    {
     "data": {
      "application/javascript": "addRow(\"<b>Val\", \"Validation Loss:\", \"<b>0.0163\", \"\");",
      "text/plain": [
       "<IPython.core.display.Javascript object>"
      ]
     },
     "metadata": {},
     "output_type": "display_data"
    },
    {
     "data": {
      "application/vnd.jupyter.widget-view+json": {
       "model_id": "12e3e9fa139a428793bb80e32ca96715",
       "version_major": 2,
       "version_minor": 0
      },
      "text/plain": [
       "  0%|          | 0/349 [00:00<?, ?batch/s]"
      ]
     },
     "metadata": {},
     "output_type": "display_data"
    },
    {
     "data": {
      "application/javascript": "addRow(\"<b>11/20\", \"1/349\", \"0.002838\", \"\");",
      "text/plain": [
       "<IPython.core.display.Javascript object>"
      ]
     },
     "metadata": {},
     "output_type": "display_data"
    },
    {
     "data": {
      "application/javascript": "addRow(\"\", \"87\", \"0.002771\", \"\");",
      "text/plain": [
       "<IPython.core.display.Javascript object>"
      ]
     },
     "metadata": {},
     "output_type": "display_data"
    },
    {
     "data": {
      "application/javascript": "addRow(\"\", \"174\", \"0.002574\", \"\");",
      "text/plain": [
       "<IPython.core.display.Javascript object>"
      ]
     },
     "metadata": {},
     "output_type": "display_data"
    }
   ],
   "source": [
    "# NETWORK TRAINING -----------------------------------------------------------------\n",
    "trained = train_model(\n",
    "    model = model, \n",
    "    optimizer = optimizer, \n",
    "    loss_fn = criterion, \n",
    "    train_loader = train_loader,\n",
    "    val_loader = val_loader\n",
    "    )"
   ]
  },
  {
   "cell_type": "code",
   "execution_count": null,
   "metadata": {},
   "outputs": [
    {
     "name": "stdout",
     "output_type": "stream",
     "text": [
      "Model saved to:\t /home/sieglew/MA-eR-PINN/src/models/pth/LSTM1_241102_233302.pth\n"
     ]
    }
   ],
   "source": [
    "# SAVE MODEL  -----------------------------------------------------------------\n",
    "# create unique model name\n",
    "model_name = f'{model.__class__.__name__}_{datetime.now().strftime(\"%y%m%d_%H%M%S\")}'\n",
    "model_destination_path = Path(pth_folder, model_name + \".pth\")\n",
    "\n",
    "# SAVE STATE_DICT FOR MODEL INFERENCE -----------------\n",
    "state = {\n",
    "    'model_state_dict': model.state_dict(),\n",
    "    'optimizer_state_dict': optimizer.state_dict(),\n",
    "    'loss_func': criterion, \n",
    "    'train_loader': train_loader, \n",
    "    'val_loader': val_loader, \n",
    "    'training_table': trained[\"training_table\"],\n",
    "    'train_losses': trained[\"train_losses\"],\n",
    "    'val_losses': trained[\"val_losses\"],\n",
    "    'epoch': trained[\"epoch\"]\n",
    "}\n",
    "torch.save(state, model_destination_path)\n",
<<<<<<< HEAD
    "print(f\"Model saved to:\\t {model_destination_path}\")\n",
    "print(f\"Size of the saved model: {os.path.getsize(model_destination_path) / 1e6:.2f} MB\")"
=======
    "print(f\"Model saved to:\\t {model_destination_path}\")"
>>>>>>> f81ea69 (Nov 3)
   ]
  },
  {
   "cell_type": "code",
   "execution_count": null,
   "metadata": {},
   "outputs": [],
   "source": [
    "from pathlib import Path\n",
    "#model_destination_path = Path(pth_folder, \"LSTM1_241102_232814.pth\")\n",
    "state = torch.load(model_destination_path, weights_only=False)\n",
    "model.load_state_dict(state['model_state_dict'])\n",
    "optimizer.load_state_dict(state['optimizer_state_dict'])\n",
    "model.eval(); # set model to evaluation mode for inference"
   ]
  },
  {
   "cell_type": "code",
   "execution_count": null,
   "metadata": {},
   "outputs": [],
   "source": [
    "training_table = state[\"training_table\"]\n",
    "train_losses = state[\"train_losses\"]\n",
    "val_losses = state[\"val_losses\"]\n",
    "epoch = state[\"epoch\"]"
   ]
  },
  {
   "cell_type": "code",
   "execution_count": null,
   "metadata": {},
   "outputs": [
    {
     "data": {
      "image/png": "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",
      "text/plain": [
       "<Figure size 800x300 with 1 Axes>"
      ]
     },
     "metadata": {},
     "output_type": "display_data"
    }
   ],
   "source": [
    "# get DataFrame of training metrics:\n",
    "training_df = pd.DataFrame(training_table, columns=[\"Epoch\", \"Iteration\", \"Batch Loss\", \"Train Loss\"])\n",
    "# Extract the 'Train Loss' column and compare with the train_losses list\n",
    "train_loss_column = training_df['Train Loss'].replace(['',' '], np.nan).dropna().astype(float).values\n",
    "if any(abs(train_loss_column - train_losses) > 1e-3): print(\"Extracted and original Train Losses are not equal. Please check metrics table.\")\n",
    "\n",
    "# -------------------------------------\n",
    "# plot training performance:\n",
    "plt.style.use('ggplot')\n",
    "fig, ax1 = plt.subplots(figsize=(8,3))\n",
    "\n",
    "# Set x-axis to integers starting from 1\n",
    "ax1.set_xlabel('Epochs')\n",
    "ax1.set_xticks(range(1, NUM_EPOCHS + 1))\n",
    "\n",
    "plt.plot(range(1, NUM_EPOCHS + 1), train_losses, label='train_loss')\n",
    "plt.plot(range(1, NUM_EPOCHS + 1), val_losses, label='val_loss')\n",
    "plt.yscale('log')\n",
    "fig.tight_layout(); plt.legend();"
   ]
  },
  {
   "cell_type": "markdown",
   "metadata": {},
   "source": [
    "___\n",
    "EVALUATION / POST-PROCESSING"
   ]
  },
  {
   "cell_type": "code",
   "execution_count": null,
   "metadata": {},
   "outputs": [
    {
     "name": "stdout",
     "output_type": "stream",
     "text": [
      "Test Loss:  0.0065\n",
      "Iterations: 592/592\n"
     ]
    }
   ],
   "source": [
    "# EVALUATION -----------------------------------------------------------------\n",
    "model.eval() # set model to evaluation mode\n",
    "test_loss = 0\n",
    "\n",
    "with torch.no_grad():\n",
    "\n",
    "    for iter, (inputs, targets) in enumerate(test_loader):\n",
    "        inputs, targets = inputs.to(DEVICE), targets.to(DEVICE)\n",
    "        outputs = model(inputs)\n",
    "\n",
    "        # Optional: Inverse-transform outputs and targets for evaluation\n",
    "        # You can use `scaled_outputs` and `scaled_targets` for error metrics in the original scale if needed\n",
    "        scaled_outputs = target_scaler.inverse_transform(outputs.detach().cpu().numpy().reshape(-1, 1))\n",
    "        scaled_targets = target_scaler.inverse_transform(targets.detach().cpu().numpy().reshape(-1, 1))\n",
    "\n",
    "        loss = criterion(outputs.squeeze(), targets)\n",
    "        test_loss += loss.item()\n",
    "\n",
    "test_loss /= len(test_loader)\n",
    "print(f\"Test Loss:  {test_loss:.4f}\")\n",
    "print(f\"Iterations: {iter}/{math.floor(len(test_loader.dataset) / test_loader.batch_size)}\")"
   ]
  },
  {
   "cell_type": "code",
   "execution_count": null,
   "metadata": {},
   "outputs": [
    {
     "name": "stdout",
     "output_type": "stream",
     "text": [
      "RMSE: 175.2923\n"
     ]
    },
    {
     "data": {
      "image/png": "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",
      "text/plain": [
       "<Figure size 1800x400 with 1 Axes>"
      ]
     },
     "metadata": {},
     "output_type": "display_data"
    }
   ],
   "source": [
    "test_files = list(test_loader.dataset.file_list)\n",
    "test_dataset = TripDataset(random.sample(test_files,1), scaler, target_scaler)\n",
    "test_loader_2 = DataLoader(test_dataset, batch_size=1, shuffle=False)\n",
    "\n",
    "model.eval()\n",
    "y_pred = []\n",
    "with torch.no_grad():\n",
    "\n",
    "    for iter, (inputs, targets) in enumerate(test_loader_2):\n",
    "        inputs, targets = inputs.to(DEVICE), targets.to(DEVICE)\n",
    "        outputs = model(inputs)\n",
    "        y_pred.append(torch.mean(outputs).item())\n",
    "\n",
    "y_pred = target_scaler.inverse_transform(np.array(y_pred).reshape(-1, 1))\n",
    "y_true = target_scaler.inverse_transform(np.array(test_loader_2.dataset.targets[0] ).reshape(-1, 1))\n",
    "\n",
    "###############################################\n",
    "print(f\"RMSE: {root_mean_squared_error(y_true, y_pred):.4f}\")\n",
    "plt.figure(figsize=(18,4)) \n",
    "\n",
    "plt.xlabel('Time in s')\n",
    "plt.ylabel('Battery Energy in kWh')\n",
    "\n",
    "plt.plot(y_true, label='Actual Data') # actual plot\n",
    "plt.plot(np.arange(0, len(y_true), 1), y_pred, label='Predicted Data') # predicted plot\n",
    "plt.title('Time-Series Prediction')\n",
    "plt.legend();"
   ]
  },
  {
   "cell_type": "code",
   "execution_count": null,
   "metadata": {},
   "outputs": [
    {
     "name": "stdout",
     "output_type": "stream",
     "text": [
      "Inference Loss:  0.1828\n",
      "Predicted values: [139.9406]\n",
      "True values: [220.37099 220.32599 220.29999 220.261   220.24998]\n"
     ]
    },
    {
     "name": "stderr",
     "output_type": "stream",
     "text": [
      "/home/sieglew/.local/lib/python3.11/site-packages/torch/nn/modules/loss.py:538: UserWarning: Using a target size (torch.Size([5270])) that is different to the input size (torch.Size([1, 1])). This will likely lead to incorrect results due to broadcasting. Please ensure they have the same size.\n",
      "  return F.mse_loss(input, target, reduction=self.reduction)\n"
     ]
    }
   ],
   "source": [
    "model.eval()\n",
    "with torch.no_grad():\n",
    "    # Randomly select a sequence from the test dataset\n",
    "    seq = random.randint(0, len(test_loader.dataset.data) - 1)\n",
    "\n",
    "    # Get the inputs and targets for the selected sequence\n",
    "    test_inputs = torch.tensor(test_loader.dataset.data[seq], dtype=torch.float32).unsqueeze(0).to(DEVICE).contiguous()\n",
    "    test_targets = torch.tensor(test_loader.dataset.targets[seq], dtype=torch.float32).to(DEVICE).contiguous()\n",
    "\n",
    "    test_loader = DataLoader(test_dataset, batch_size=batch_size, shuffle=False)\n",
    "    \n",
    "    # Perform inference\n",
    "    outputs = model(test_inputs)\n",
    "    inference_loss = criterion(outputs, test_targets)\n",
    "    print(f\"Inference Loss:  {inference_loss.item():.4f}\")\n",
    "\n",
    "    # Inverse-transform the outputs and targets for evaluation\n",
    "    y_pred = target_scaler.inverse_transform(outputs.detach().cpu().numpy().reshape(-1, 1))\n",
    "    y_true = target_scaler.inverse_transform(test_targets.detach().cpu().numpy().reshape(-1, 1))\n",
    "\n",
    "    # Print the first few predictions and true values for comparison\n",
    "    print(\"Predicted values:\", y_pred[:5].flatten())\n",
    "    print(\"True values:\", y_true[:5].flatten())"
   ]
  },
  {
   "cell_type": "code",
   "execution_count": null,
   "metadata": {},
   "outputs": [],
   "source": [
    "#%%skip\n",
    "# PLOT RESULTS -----------------------------------------------------------------\n",
    "\n",
    "# Reverse Transformation of the latest output and target\n",
    "scaled_outputs = target_scaler.inverse_transform(outputs.detach().cpu().numpy().reshape(-1, 1))\n",
    "scaled_targets = target_scaler.inverse_transform(targets.detach().cpu().numpy().reshape(-1, 1))"
   ]
  },
  {
   "cell_type": "code",
   "execution_count": null,
   "metadata": {},
   "outputs": [
    {
     "data": {
      "text/plain": [
       "(5270, 1)"
      ]
     },
     "execution_count": 44,
     "metadata": {},
     "output_type": "execute_result"
    }
   ],
   "source": [
    "y_true = target_scaler.inverse_transform(np.array(test_loader.dataset.targets[0] ).reshape(-1, 1))\n",
    "y_true.shape"
   ]
  },
  {
   "cell_type": "code",
   "execution_count": null,
   "metadata": {},
   "outputs": [
    {
     "data": {
      "text/plain": [
       "(527, 1)"
      ]
     },
     "execution_count": 49,
     "metadata": {},
     "output_type": "execute_result"
    }
   ],
   "source": [
    "y_pred.shape"
   ]
  },
  {
   "cell_type": "code",
   "execution_count": null,
   "metadata": {},
   "outputs": [
    {
     "data": {
      "image/png": "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",
      "text/plain": [
       "<Figure size 1800x400 with 1 Axes>"
      ]
     },
     "metadata": {},
     "output_type": "display_data"
    }
   ],
   "source": [
    "from scipy.signal import savgol_filter\n",
    "\n",
    "plt.figure(figsize=(18,4)) \n",
    "\n",
    "# Original and Smoothed plot\n",
    "plt.xlabel('Time in s')\n",
    "plt.ylabel('Battery Energy in kWh')\n",
    "plt.plot(y_true, label='Actual Data') # actual plot\n",
    "#plt.plot(np.arange(0, len(y_true), 10), y_pred, label='Predicted Data') # predicted plot\n",
    "\n",
    "# Smoothed predicted plot\n",
    "smoothed_y_pred = savgol_filter(y_pred.flatten(), window_length=100, polyorder=3)\n",
    "plt.plot(np.arange(0, len(y_true), 10), smoothed_y_pred, label='Smoothed Predicted Data')\n",
    "\n",
    "plt.title('Time-Series Prediction')\n",
    "plt.legend()\n",
    "plt.tight_layout()\n",
    "plt.show()\n"
   ]
  }
 ],
 "metadata": {
  "kernelspec": {
   "display_name": "Python 3",
   "language": "python",
   "name": "python3"
  },
  "language_info": {
   "codemirror_mode": {
    "name": "ipython",
    "version": 3
   },
   "file_extension": ".py",
   "mimetype": "text/x-python",
   "name": "python",
   "nbconvert_exporter": "python",
   "pygments_lexer": "ipython3",
   "version": "3.11.0"
  }
 },
 "nbformat": 4,
 "nbformat_minor": 2
}
