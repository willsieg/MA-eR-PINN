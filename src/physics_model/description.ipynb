{
 "cells": [
  {
   "cell_type": "markdown",
   "metadata": {},
   "source": [
    "### Air Resistance $F_{Air}$\n",
    "\n",
    "Air resistance is a force that resists the motion of the truck. The magnitude of force is proportional to the density of the air, the frontal area of the truck and the squared of relative velocity between the truck and the wind. A \"drag coefficient\" is also accounted in the formula to remove the proportionality. Air resistance is also called \"drag\", and the Unit for this force is Newton.\n",
    "\n",
    "$\\begin{aligned}\n",
    "&F_{Air} = \\frac{1}{2}*\\rho*A*C_{d}*v²\\\\\n",
    "\\end{aligned}$\n",
    "\n",
    "$\\rho : $ Air Density (in $\\frac{kg}{m³}$) \\\n",
    "$A : $ Frontal area of the vehicle (in $m²$) \\\n",
    "$C_{w} : $ Drag Coefficient (dimensionless) \\\n",
    "$v : $ vehicle velocity (in $\\frac{m}{s}$)\n",
    "\n",
    "### Rolling Resistance $F_{Roll}$\n",
    "\n",
    "The other major vehicle resistance force on level ground is the rolling resistance of the tires. At low speeds on hard pavement, the rolling resistance is the primary motion resistance force. While other resistances act only under certain conditions of motion, rolling resistance is present from the instant the wheels begin to turn.  \n",
    "The major cause of the rolling resistance is the deformation of tire surface. When a tire is turning on the road, that portion of the tire’s circumference that passes over the pavement undergoes a deflection as shown in below figure. Part of the energy that is spent in deformation will not be restored in the following relaxation. This loss of energy is what is referred to as the rolling resistance.\n",
    "\n",
    "Practically the rolling resistance force can be defined using a rolling friction coefficient. The equation is as given below.\n",
    "\n",
    "$F_{Roll} = \\mu_{rr}*F_{m}*cos\\theta$\n",
    "\n",
    "$\\mu_{rr} : $ Rolling Resistance Coefficient (dimensionless) \\\n",
    "$F_{m} : $ Weight of the truck, calculated with $m * g$ (in $N$) \\\n",
    "$\\theta : $ Road Gradient (in $degree$)\n",
    "\n",
    "### Gradient Resistance $F_{Grad}$\n",
    "\n",
    "Gradient resistance is the resistance offered due to slope changes in the road profile.\n",
    "\n",
    "$F_{Grad} = F_{m} * sin\\theta$\n",
    "\n",
    "$F_{m} : $ Weight of the truck, calculated with $m * g$ (in $N$) \\\n",
    "$\\theta : $ Road Gradient (in $degree$)\n",
    "\n",
    "### Inertial Force $F_{Accel}$\n",
    "\n",
    "The total force required to overcome the inertia of the vehicle."
   ]
  }
 ],
 "metadata": {
  "language_info": {
   "name": "python"
  }
 },
 "nbformat": 4,
 "nbformat_minor": 2
}
