{
 "cells": [
  {
   "cell_type": "code",
   "execution_count": 1,
   "metadata": {},
   "outputs": [],
   "source": [
    "'''\n",
    "---------------------------------------------------------------------\n",
    "LSTM Training\n",
    "Version: V1.5\n",
    "Modified: 31.10.2024\n",
    "William Siegle\n",
    "---------------------------------------------------------------------\n",
    "notebook can be converted to python script using: \n",
    "(python -m) jupytext --to py FILENAME.ipynb\n",
    "---------------------------------------------------------------------\n",
    "'''\n",
    "\n",
    "global IS_NOTEBOOK\n",
    "IS_NOTEBOOK = False\n",
    "try:    # if running in IPython\n",
    "    shell = get_ipython().__class__.__name__ # type: ignore \n",
    "    %reset -f -s\n",
    "    %matplotlib inline\n",
    "    from IPython.display import display, HTML, Javascript\n",
    "    from IPython.core.magic import register_cell_magic\n",
    "    @register_cell_magic    # cells can be skipped by using '%%skip' in the first line\n",
    "    def skip(line, cell): return\n",
    "    from tqdm.notebook import tqdm # type: ignore\n",
    "    IS_NOTEBOOK = True\n",
    "except (NameError, ImportError):    # if running in script\n",
    "    from tqdm import tqdm\n",
    "    from tabulate import tabulate\n",
    "    print(f\"{'-'*60}\\nRunning in script mode\")"
   ]
  },
  {
   "cell_type": "code",
   "execution_count": 2,
   "metadata": {},
   "outputs": [],
   "source": [
    "# IMPORTS ---------------------------------------------------------------------\n",
    "import sys\n",
    "import os\n",
    "import math\n",
    "import time\n",
    "import random\n",
    "import numpy as np\n",
    "import pandas as pd\n",
    "import matplotlib.pyplot as plt\n",
    "\n",
    "from pathlib import Path\n",
    "from copy import deepcopy\n",
    "from datetime import datetime\n",
    "\n",
    "from sklearn.preprocessing import StandardScaler, MinMaxScaler\n",
    "from sklearn.model_selection import train_test_split\n",
    "from sklearn.metrics import root_mean_squared_error\n",
    "\n",
    "#from torchinfo import summary\n",
    "#import pickle\n",
    "#import random\n",
    "#from scipy.signal import savgol_filter\n",
    "\n",
    "import torch\n",
    "from torch import nn\n",
    "from torch.nn import functional as F\n",
    "from torch.nn.parameter import Parameter\n",
    "from torch.nn.utils.rnn import pack_sequence\n",
    "from torchmetrics.functional import mean_squared_error\n",
    "from torch.utils.data import DataLoader, TensorDataset, Dataset, random_split\n",
    "torch.manual_seed(1);"
   ]
  },
  {
   "cell_type": "markdown",
   "metadata": {},
   "source": [
    "___\n",
    "LOCATE DEVICES & SYSTEM FOLDERS"
   ]
  },
  {
   "cell_type": "code",
   "execution_count": 3,
   "metadata": {},
   "outputs": [
    {
     "name": "stdout",
     "output_type": "stream",
     "text": [
      "------------------------------------------------------------\n",
      "Torch version:  2.4.1+cu121\n",
      "Cuda available:  True\n",
      "Current Device: 0,  Total Count: 4\n",
      "   --> Using cuda device\n"
     ]
    }
   ],
   "source": [
    "# DEVICE SELECTION ---------------------------------------------------------------------\n",
    "global DEVICE\n",
    "print(f\"{'-'*60}\\nTorch version: \", torch.__version__)\n",
    "print('Cuda available: ',torch.cuda.is_available())\n",
    "if torch.cuda.is_available():\n",
    "    DEVICE = torch.device(f\"cuda\") \n",
    "    #DEVICE = torch.device(\"cuda:1\")   # or overwrite with explicit Core number\n",
    "    print(f'Current Device: {torch.cuda.current_device()},  Total Count: {torch.cuda.device_count()}')\n",
    "else:\n",
    "    DEVICE = (\"cpu\")\n",
    "print(f\"   --> Using {DEVICE} device\")"
   ]
  },
  {
   "cell_type": "code",
   "execution_count": 4,
   "metadata": {},
   "outputs": [
    {
     "name": "stdout",
     "output_type": "stream",
     "text": [
      "------------------------------------------------------------\n",
      "/home/sieglew/MA-eR-PINN:\tproject, ref, test, data, src, .git, archive\n",
      "/home/sieglew/MA-Data:\t\t__pycache__, trips_processed_resampled, final, y_true, processed, trips_processed_pickles, trips_processed_final\n"
     ]
    }
   ],
   "source": [
    "# ------------ LOCATE REPOSITORY/DATASTORAGE IN CURRENT SYSTEM ENVIRONMENT  --------------\n",
    "global ROOT, DATA_PATH                                #|\n",
    "ROOT = Path('../..').resolve() if IS_NOTEBOOK else Path('.').resolve()                     #|\n",
    "print(f\"{'-'*60}\\n{ROOT}:\\t{', '.join([_.name for _ in ROOT.glob('*/')])}\")             #|\n",
    "sys.path.append(os.path.abspath(ROOT))                                                  #|\n",
    "from data import get_data_path  # paths set in \"data/__init__.py\"                       #|\n",
    "DATA_PATH = get_data_path()                                                             #|\n",
    "print(f\"{DATA_PATH}:\\t\\t{', '.join([_.name for _ in DATA_PATH.glob('*/')])}\")           #|\n",
    "# ----------------------------------------------------------------------------------------"
   ]
  },
  {
   "cell_type": "code",
   "execution_count": 5,
   "metadata": {},
   "outputs": [],
   "source": [
    "# FILE SOURCES ---------------------------------------------------------------\n",
    "input_folder = Path(DATA_PATH, \"trips_processed_resampled\") # Trip parquet files\n",
    "save_model_folder = Path(ROOT, \"src\", \"models\", \"pth\")"
   ]
  },
  {
   "cell_type": "markdown",
   "metadata": {},
   "source": [
    "___\n",
    "DATA PREPROCESSING"
   ]
  },
  {
   "cell_type": "code",
   "execution_count": 6,
   "metadata": {},
   "outputs": [],
   "source": [
    "# PREPARE TRAIN & TEST SET ---------------------------------------------------\n",
    "all_files = [Path(input_folder, f) for f in os.listdir(input_folder) if f.endswith(\".parquet\")]\n",
    "files = all_files\n",
    "\n",
    "# ---------------------------------------------------\n",
    "# Train & Test Sets Ratios\n",
    "# train_subset, test_subset = train_test_split(files, test_size=0.2, random_state=1)\n",
    "\n",
    "train_subset, val_subset, test_subset = random_split(files, [0.8, 0.1, 0.1])"
   ]
  },
  {
   "cell_type": "code",
   "execution_count": 7,
   "metadata": {},
   "outputs": [],
   "source": [
    "df = pd.read_parquet(Path(input_folder, files[0]), engine='fastparquet')\n",
    "all_signals = df.columns\n",
    "assert len(all_signals) == 82"
   ]
  },
  {
   "cell_type": "code",
   "execution_count": 8,
   "metadata": {},
   "outputs": [],
   "source": [
    "# INPUT & TARGET SPECIFICATION ---------------------------------------------------\n",
    "base_signals = [\"signal_time\", \n",
    "            \"hirestotalvehdist_cval_icuc\", \"vehspd_cval_cpc\", \"altitude_cval_ippc\", \"airtempoutsd_cval_cpc\", \"hv_batpwr_cval_bms1\", \"emot_pwr_cval\",\n",
    "            \"bs_roadincln_cval\", \"roadgrad_cval_pt\"]\n",
    "\n",
    "# these signals have to be dropped in order for appropriate training\n",
    "columns_to_drop = [\"hv_batmomavldischrgen_cval_1\", \"hv_batmomavlchrgen_cval_bms1\", \"signal_time\", \"signal_ts\", \"hv_bat_soc_cval_bms1\", 'latitude_cval_ippc', 'longitude_cval_ippc']\n",
    "input_columns = all_signals.drop([\"hv_batmomavldischrgen_cval_1\", \"signal_time\", \"hirestotalvehdist_cval_cpc\", \"hv_batmomavlchrgen_cval_bms1\", \"hv_bat_soc_cval_bms1\"])\n",
    "target_column = \"hv_batmomavldischrgen_cval_1\""
   ]
  },
  {
   "cell_type": "code",
   "execution_count": 9,
   "metadata": {},
   "outputs": [],
   "source": [
    "# FEATURE NORMALIZATION/SCALING -----------------------------------------------------------------\n",
    "scaler = StandardScaler()   # Standardize features by removing the mean and scaling to unit variance\n",
    "target_scaler = MinMaxScaler(feature_range=(0, 1))  #MinMaxScaler(feature_range=(0, 1))  # Transform features by scaling each feature to a given range"
   ]
  },
  {
   "cell_type": "code",
   "execution_count": 10,
   "metadata": {},
   "outputs": [],
   "source": [
    "# DATASET DEFINITION -----------------------------------------------------------------------\n",
    "class TripDataset(Dataset):\n",
    "    def __init__(self, file_list, scaler, target_scaler):\n",
    "        self.file_list = file_list\n",
    "        self.scaler = scaler\n",
    "        self.target_scaler = target_scaler\n",
    "        self.data = []\n",
    "        self.targets = []\n",
    "\n",
    "        for file in self.file_list:\n",
    "            # DATA PREPROCESSING -----------------------------------------------------------\n",
    "            df = pd.read_parquet(file, columns=all_signals, engine='fastparquet')\n",
    "\n",
    "            # assigning inputs and targets and reshaping ---------------\n",
    "            X = df[input_columns].values\n",
    "            y = df[target_column].values.reshape(-1, 1)     # reshape to match the shape of the input\n",
    "            \n",
    "            # Normalize inputs\n",
    "            X = self.scaler.fit_transform(X)\n",
    "            y = self.target_scaler.fit_transform(y).squeeze()\n",
    "            \n",
    "            # Append to data\n",
    "            self.data.append(X)\n",
    "            self.targets.append(y)\n",
    "\n",
    "    def __len__(self):\n",
    "        return sum(len(target) for target in self.targets)\n",
    "\n",
    "    def __getitem__(self, index):\n",
    "        # Find which file the index belongs to\n",
    "        for i, target in enumerate(self.targets):\n",
    "            if index < len(target):\n",
    "                return (\n",
    "                    torch.tensor(self.data[i][index], dtype=torch.float32).unsqueeze(0),  # Add time dimension\n",
    "                    torch.tensor(target[index], dtype=torch.float32)\n",
    "                )\n",
    "            index -= len(target)\n",
    "        raise IndexError(\"Index out of range\")"
   ]
  },
  {
   "cell_type": "code",
   "execution_count": 11,
   "metadata": {},
   "outputs": [
    {
     "name": "stdout",
     "output_type": "stream",
     "text": [
      "------------------------------------------------------------\n",
      "Train size:  9902196\n",
      "Val. size:   1040835\n",
      "Test size:   1212493\n"
     ]
    }
   ],
   "source": [
    "# GENERATE DATALOADERS  ---------------------------------------------------------------\n",
    "batch_size = 2048 # [16, 32, 64, 128, 256, 512, 1024, 2048, 4096, 8192, 16384, 32768]\n",
    "\n",
    "# TRAIN  ------------------------------------------------------------\n",
    "train_dataset = TripDataset(train_subset, scaler, target_scaler)\n",
    "train_loader = DataLoader(train_dataset, batch_size=batch_size, shuffle=True)\n",
    "\n",
    "# VAL ------------------------------------------------------------\n",
    "val_dataset = TripDataset(val_subset, scaler, target_scaler)\n",
    "val_loader = DataLoader(val_dataset, batch_size=batch_size, shuffle=False)\n",
    "\n",
    "# TEST ------------------------------------------------------------\n",
    "test_dataset = TripDataset(test_subset, scaler, target_scaler)\n",
    "test_loader = DataLoader(test_dataset, batch_size=batch_size, shuffle=False)\n",
    "\n",
    "# Print the size of the datasets\n",
    "print(f\"{'-'*60}\\nTrain size:  {len(train_dataset)}\")\n",
    "print(f'Val. size:   {len(val_dataset)}')\n",
    "print(f'Test size:   {len(test_dataset)}')"
   ]
  },
  {
   "cell_type": "markdown",
   "metadata": {},
   "source": [
    "___\n",
    "NETWORK ARCHITECTURE"
   ]
  },
  {
   "cell_type": "code",
   "execution_count": 12,
   "metadata": {},
   "outputs": [],
   "source": [
    "# LSTM NETWORK -----------------------------------------------------------------------\n",
    "class LSTM1(nn.Module):\n",
    "    def __init__(self, input_size, hidden_size, num_layers, device = DEVICE): #, num_classes, seq_length):\n",
    "        super(LSTM1, self).__init__()\n",
    "\n",
    "        self.input_size = input_size    # input size\n",
    "        self.hidden_size = hidden_size  # hidden state\n",
    "        self.num_layers = num_layers    # number of layers\n",
    "        #self.num_classes = num_classes  # number of classes\n",
    "        #self.seq_length = seq_length    # sequence length\n",
    "\n",
    "        # LSTM CELL --------------------------------\n",
    "        self.lstm = nn.LSTM(\n",
    "            self.input_size,            # The number of expected features in the input x\n",
    "            self.hidden_size,           # The number of features in the hidden state h\n",
    "            self.num_layers,            # Number of recurrent layers for stacked LSTMs. Default: 1\n",
    "            batch_first = True,         # If True, then the input and output tensors are provided as (batch, seq, feature) instead of (seq, batch, feature). Default: False\n",
    "            bias = True,                # If False, then the layer does not use bias weights b_ih and b_hh. Default: True\n",
    "            dropout = 0.2,              # usually: [0.2 - 0.5] ,introduces a Dropout layer on the outputs of each LSTM layer except the last layer, (dropout probability). Default: 0\n",
    "            bidirectional = False,      # If True, becomes a bidirectional LSTM. Default: False\n",
    "            proj_size = 0,              # If > 0, will use LSTM with projections of corresponding size. Default: 0\n",
    "            device = DEVICE,\n",
    "            dtype = torch.float32\n",
    "            ) \n",
    "        \n",
    "        # --------------------------------\n",
    "        #self.fc_1 =  nn.Linear(hidden_size, 128)  # fully connected 1\n",
    "        #self.fc = nn.Linear(128, num_classes)     # fully connected last layer\n",
    "        # --------------------------------\n",
    "        self.relu = nn.ReLU()\n",
    "        self.fc_test =  nn.Linear(hidden_size, 1)\n",
    "\n",
    "    \n",
    "    def forward(self, input, batch_size = None):\n",
    "        '''        \n",
    "        # initial hidden and internal states\n",
    "        # --------------------------------\n",
    "        h_0 = torch.zeros(self.num_layers, input.size(0) if batch_size is None else batch_size, self.hidden_size)\n",
    "        c_0 = torch.zeros(self.num_layers, input.size(0) if batch_size is None else batch_size, self.hidden_size)  \n",
    "        # --------------------------------\n",
    "        out = self.relu(hn.view(-1, self.hidden_size)) # reshaping the data for Dense layer next\n",
    "        out = self.fc_1(out) # first Dense\n",
    "        out = self.relu(out) # relu\n",
    "        out = self.fc(out) # Final Output\n",
    "        '''\n",
    "\n",
    "        # Propagate input through LSTM\n",
    "        # --------------------------------\n",
    "        # output, (hn, cn) = self.lstm(input, (h_0, c_0)) # lstm with input, hidden, and internal state\n",
    "        # input shape:      (batch_size, seq_length, input_size)\n",
    "        # output shape:     (batch_size, seq_length, hidden_size)\n",
    "        # --------------------------------\n",
    "        out, _ = self.lstm(input)\n",
    "\n",
    "\n",
    "        # ouput layers\n",
    "        # --------------------------------\n",
    "        out = self.relu(out) # relu\n",
    "        out = self.fc_test(out[:, -1, :])  \n",
    "        #out = self.fc_test(out)\n",
    "\n",
    "        return out"
   ]
  },
  {
   "cell_type": "code",
   "execution_count": 13,
   "metadata": {},
   "outputs": [
    {
     "name": "stdout",
     "output_type": "stream",
     "text": [
      "------------------------------------------------------------\n",
      " LSTM1(\n",
      "  (lstm): LSTM(77, 64, num_layers=2, batch_first=True, dropout=0.2)\n",
      "  (relu): ReLU()\n",
      "  (fc_test): Linear(in_features=64, out_features=1, bias=True)\n",
      ")\n"
     ]
    }
   ],
   "source": [
    "# MODEL CONFIGURATION -----------------------------------------------------------------------\n",
    "\n",
    "# LAYERS --------------------------------\n",
    "input_size = 77     # expected features in the input x\n",
    "hidden_size = 64                    # features in the hidden state h\n",
    "num_layers = 2                      # recurrent layers for stacked LSTMs. Default: 1\n",
    "num_classes = 1                     # output classes (=1 for regression)\n",
    "\n",
    "# INSTANTIATE MODEL --------------------\n",
    "model = LSTM1(input_size, hidden_size, num_layers).to(DEVICE)  #, num_classes, X_train_T_final.shape[1]\n",
    "print(f\"{'-'*60}\\n\",model)"
   ]
  },
  {
   "cell_type": "markdown",
   "metadata": {},
   "source": [
    "___\n",
    "TRAINING SETUP"
   ]
  },
  {
   "cell_type": "code",
   "execution_count": 14,
   "metadata": {},
   "outputs": [],
   "source": [
    "# TRAINING CONFIGURATION -----------------------------------------------------------------------\n",
    "global NUM_EPOCHS\n",
    "\n",
    "# HYPERPARAMETERS -----------------------\n",
    "NUM_EPOCHS = 5\n",
    "learning_rate = 1e-3 # 0.001 lr\n",
    "\n",
    "# OPTIMIZER -----------------------------\n",
    "optimizer = torch.optim.Adam(model.parameters(), lr = learning_rate,\n",
    "    weight_decay = 1e-5      # weight decay coefficient (default: 1e-2)\n",
    "    #betas = (0.9, 0.95),    # coefficients used for computing running averages of gradient and its square (default: (0.9, 0.999))\n",
    "    #eps = 1e-8,             # term added to the denominator to improve numerical stability (default: 1e-8)\n",
    ")\n",
    "\n",
    "# LOSS FUNCTION ---------------------------\n",
    "def loss_fn(model_output, target):\n",
    "    loss = F.mse_loss(model_output, target) # mean-squared error for regression\n",
    "    return loss\n",
    "\n",
    "# or define criterion function:\n",
    "criterion = nn.MSELoss()\n",
    "#criterion = nn.MSELoss(reduction='mean')"
   ]
  },
  {
   "cell_type": "code",
   "execution_count": 15,
   "metadata": {},
   "outputs": [
    {
     "name": "stdout",
     "output_type": "stream",
     "text": [
      "------------------------------------------------------------\n",
      "Model state_dict:\n",
      "lstm.weight_ih_l0:\t torch.Size([256, 77])\n",
      "lstm.weight_hh_l0:\t torch.Size([256, 64])\n",
      "lstm.bias_ih_l0:\t torch.Size([256])\n",
      "lstm.bias_hh_l0:\t torch.Size([256])\n",
      "lstm.weight_ih_l1:\t torch.Size([256, 64])\n",
      "lstm.weight_hh_l1:\t torch.Size([256, 64])\n",
      "lstm.bias_ih_l1:\t torch.Size([256])\n",
      "lstm.bias_hh_l1:\t torch.Size([256])\n",
      "fc_test.weight:\t torch.Size([1, 64])\n",
      "fc_test.bias:\t torch.Size([1])\n",
      "\n",
      "Optimizer state_dict:\n",
      "{'lr': 0.001, 'betas': (0.9, 0.999), 'eps': 1e-08, 'weight_decay': 1e-05, 'amsgrad': False, 'maximize': False, 'foreach': None, 'capturable': False, 'differentiable': False, 'fused': None, 'params': [0, 1, 2, 3, 4, 5, 6, 7, 8, 9]}\n",
      "------------------------------------------------------------\n",
      "------------------------------------------------------------\n",
      "\n"
     ]
    }
   ],
   "source": [
    "# print Model and Optimizer state_dicts\n",
    "def print_state_dicts(model, optimizer=None):\n",
    "    print(f\"{'-'*60}\\nModel state_dict:\")\n",
    "    for param_tensor in model.state_dict():\n",
    "        print(f\"{param_tensor}:\\t {model.state_dict()[param_tensor].size()}\")\n",
    "        \n",
    "    if optimizer:\n",
    "        print(\"\\nOptimizer state_dict:\")\n",
    "        for var_name in optimizer.state_dict():\n",
    "            if var_name == 'param_groups':\n",
    "                print(optimizer.state_dict()[var_name][0])\n",
    "\n",
    "print_state_dicts(model, optimizer)\n",
    "print(f\"{'-'*60}\\n{'-'*60}\\n\")"
   ]
  },
  {
   "cell_type": "markdown",
   "metadata": {},
   "source": [
    "___"
   ]
  },
  {
   "cell_type": "code",
   "execution_count": 16,
   "metadata": {},
   "outputs": [],
   "source": [
    "# Initialize a HTML table for performance tracking (if running in a notebook)\n",
    "def initialize_table():\n",
    "    table_html = \"\"\"\n",
    "    <table id=\"training_table\" style=\"width:60%; border-collapse: collapse;\">\n",
    "        <thead style=\"position: sticky; top: 0; z-index: 1;\">\n",
    "            <tr>\n",
    "                <th style=\"font-weight:bold; width:15%; text-align:left; padding: 10px; background-color: #404040;\">Epoch</th>\n",
    "                <th style=\"font-weight:bold; width:25%; text-align:left; padding: 10px; background-color: #404040;\">Iteration</th>\n",
    "                <th style=\"font-weight:bold; width:30%; text-align:left; padding: 10px; background-color: #404040;\">Batch Loss</th>\n",
    "                <th style=\"font-weight:bold; width:30%; text-align:left; padding: 10px; background-color: #404040;\">Train Loss</th>\n",
    "            </tr>\n",
    "        </thead>\n",
    "        <tbody>\n",
    "        </tbody>\n",
    "    </table>\n",
    "    <script>\n",
    "        function addRow(epoch, step, loss, running_loss) {\n",
    "            var table = document.getElementById(\"training_table\").getElementsByTagName('tbody')[0];\n",
    "            var row = table.insertRow(-1);\n",
    "            var cell1 = row.insertCell(0);\n",
    "            var cell2 = row.insertCell(1);\n",
    "            var cell3 = row.insertCell(2);\n",
    "            var cell4 = row.insertCell(3);\n",
    "            cell1.style.textAlign = \"left\";\n",
    "            cell2.style.textAlign = \"left\";\n",
    "            cell3.style.textAlign = \"left\";\n",
    "            cell4.style.textAlign = \"left\";\n",
    "            cell1.innerHTML = epoch;\n",
    "            cell2.innerHTML = step;\n",
    "            cell3.innerHTML = loss;\n",
    "            cell4.innerHTML = running_loss;\n",
    "            var scrollableDiv = document.getElementById(\"scrollable_table\");\n",
    "            scrollableDiv.scrollTop = scrollableDiv.scrollHeight;\n",
    "        }\n",
    "    </script>\n",
    "    \"\"\"\n",
    "\n",
    "    return \"\"\"<div id=\"scrollable_table\" style=\"height: 300px; overflow-y: scroll;\">\"\"\" + table_html + \"\"\"</div>\"\"\"\n",
    "\n",
    "# -----------------------\n",
    "# Initialize a list for performance tracking (if running in script mode)\n",
    "training_table = []\n",
    "\n",
    "# Function to add a row to the performance table\n",
    "def add_row(epoch, iteration, batch_loss, train_loss):\n",
    "    training_table.append([epoch, iteration, batch_loss, train_loss])\n",
    "\n",
    "# Function to print the performance table\n",
    "header_printed = False\n",
    "def print_row():\n",
    "    global header_printed\n",
    "    headers = [\"Epoch\", \"Iteration\", \"Batch Loss\", \"Train Loss\"]\n",
    "    col_widths = [14, 14, 14, 14]  # Define fixed column widths\n",
    "\n",
    "    def format_row(row):\n",
    "        return [str(item).ljust(width) for item, width in zip(row, col_widths)]\n",
    "\n",
    "    if not header_printed:\n",
    "        formatted_headers = format_row(headers)\n",
    "        tqdm.write(tabulate([training_table[-1]], headers=formatted_headers, tablefmt=\"plain\", colalign=(\"left\", \"left\", \"left\", \"left\")))\n",
    "        header_printed = True\n",
    "    else:\n",
    "        formatted_row = format_row(training_table[-1])\n",
    "        tqdm.write(tabulate([training_table[-1]], headers=format_row([\"\", \"\", \"\", \"\"]), tablefmt=\"plain\", colalign=(\"left\", \"left\", \"left\", \"left\")))"
   ]
  },
  {
   "cell_type": "code",
   "execution_count": 17,
   "metadata": {},
   "outputs": [],
   "source": [
    "# TRAINING ROUTINE DEFINITION -----------------------------------------------------------------\n",
    "def train_model(model, optimizer, loss_fn, train_loader, val_loader = None):\n",
    "\n",
    "    def validate_model(model, val_loader, loss_fn):\n",
    "        model.eval()  # Set model to evaluation mode\n",
    "        val_loss = 0.0\n",
    "        with torch.no_grad():  # Disable gradient calculation\n",
    "            for inputs, targets in val_loader:\n",
    "                inputs, targets = inputs.to(DEVICE), targets.to(DEVICE)\n",
    "                outputs = model(inputs)\n",
    "                loss = criterion(outputs.squeeze(), targets)\n",
    "                val_loss += loss.item()\n",
    "        \n",
    "        val_loss /= len(val_loader)  # Calculate average validation loss\n",
    "        return val_loss\n",
    "\n",
    "    # output info on training process\n",
    "    print(f\"Training Started.\\tProcess ID: {os.getpid()} \\n{'-'*60}\\n\"\n",
    "        f\"Model: {model.__class__.__name__}\\t\\tParameters on device: {next(model.parameters()).device}\\n{'-'*60}\\n\"\n",
    "        f\"Train/Batch size:\\t{len(train_loader.dataset)} / {train_loader.batch_size}\\n\"\n",
    "        f\"Optimizer:\\t\\t{optimizer.__class__.__name__}\\nLR:\\t\\t\\t{optimizer.param_groups[0]['lr']} \\n{'-'*60}\")\n",
    "    \n",
    "    if IS_NOTEBOOK: display(HTML(initialize_table()))\n",
    "\n",
    "    # TRAINING LOOP:\n",
    "    train_losses, val_losses = [], [] # collect loss\n",
    "    start_time = time.perf_counter()\n",
    "    for epoch in range(1, NUM_EPOCHS + 1):\n",
    "        model.train()   # set model to training mode\n",
    "        running_loss = 0.0\n",
    "        num_iterations = math.ceil(len(train_loader.dataset) / train_loader.batch_size)\n",
    "        header_printed = False\n",
    "        \n",
    "        with tqdm(enumerate(train_loader, 1), unit=\"batch\", total=num_iterations, leave=False) as tepoch:\n",
    "            for iter, (inputs, targets) in tepoch:\n",
    "                tepoch.set_description(f\"Epoch {epoch}/{NUM_EPOCHS}\")\n",
    "\n",
    "                # -------------------------------------------------------------\n",
    "                # Move data to the GPU\n",
    "                inputs, targets = inputs.to(DEVICE), targets.to(DEVICE)  \n",
    "                # zero gradients -> forward pass -> obtain loss function -> apply backpropagation -> update weights:\n",
    "                optimizer.zero_grad()\n",
    "                outputs = model(inputs) \n",
    "                loss = criterion(outputs.squeeze(), targets) \n",
    "                loss.backward() \n",
    "                # nn.utils.clip_grad_value_(model.parameters(), clip_value=1.0) # optional: Gradient Value Clipping\n",
    "                optimizer.step()\n",
    "\n",
    "                # -------------------------------------------------------------\n",
    "                # Update the performance table\n",
    "                if iter % (num_iterations//4) == 0 and iter != num_iterations//4*4:\n",
    "                    add_row(f\" \", f\"{iter}\",f\"{loss.item():.6f}\", \" \")\n",
    "                    if IS_NOTEBOOK:\n",
    "                        display(Javascript(f\"\"\"addRow(\"\", \"{iter}\", \"{loss.item():.6f}\", \"\");\"\"\"))\n",
    "                    else:\n",
    "                        print_row()\n",
    "                elif iter == 1:\n",
    "                    add_row(f\"{epoch}/{NUM_EPOCHS}\", f\"{iter}/{num_iterations}\",f\"{loss.item():.6f}\", \" \")\n",
    "                    if IS_NOTEBOOK:\n",
    "                        display(Javascript(f\"\"\"addRow(\"<b>{epoch}/{NUM_EPOCHS}\", \"{iter}/{num_iterations}\", \"{loss.item():.6f}\", \"\");\"\"\"))\n",
    "                    else:\n",
    "                        print_row()\n",
    "                        \n",
    "                # -------------------------------------------------------------\n",
    "                # Update running loss and progress bar\n",
    "                running_loss += loss.item() # acculumate loss for epoch\n",
    "                tepoch.set_postfix(loss=loss.item()); tepoch.update(1)\n",
    "\n",
    "        # Calculate average training loss for the epoch\n",
    "        avg_train_loss = running_loss / len(train_loader)\n",
    "        train_losses.append(avg_train_loss)\n",
    "\n",
    "        # Update the performance table\n",
    "        add_row(f\" \", f\"{iter}\",f\"{loss.item():.6f}\", f\"{avg_train_loss:6f}\")\n",
    "        if IS_NOTEBOOK:\n",
    "            display(Javascript(f\"\"\"addRow(\"\", \"{iter}\", \"{loss.item():.6f}\", \"<b>{avg_train_loss:.6f}\");\"\"\"))\n",
    "        else:\n",
    "            print_row()\n",
    "\n",
    "        # VALIDATION\n",
    "        if val_loader:\n",
    "            val_loss = validate_model(model, val_loader, loss_fn)\n",
    "            val_losses.append(val_loss)\n",
    "            # Update the performance table\n",
    "            add_row(f\" \", f\"Validation Loss:\",f\"{val_loss:.6f}\", f\"\")\n",
    "            if IS_NOTEBOOK:\n",
    "                display(Javascript(f\"\"\"addRow(\"<b>Val\", \"Validation Loss:\", \"<b>{val_loss:.4f}\", \"\");\"\"\"))\n",
    "            else:\n",
    "                print_row()\n",
    "\n",
    "    print(f\"{'-'*60}\\nTraining Completed.\\tExecution Time: \", f\"{(time.perf_counter() - start_time):.2f}\", f\"s\\n\")\n",
    "    return train_losses, val_losses, epoch, training_table"
   ]
  },
  {
   "cell_type": "markdown",
   "metadata": {},
   "source": [
    "___\n",
    "NETWORK TRAINING"
   ]
  },
  {
   "cell_type": "code",
   "execution_count": 18,
   "metadata": {},
   "outputs": [
    {
     "name": "stdout",
     "output_type": "stream",
     "text": [
      "Training Started.\tProcess ID: 1215775 \n",
      "------------------------------------------------------------\n",
      "Model: LSTM1\t\tParameters on device: cuda:0\n",
      "------------------------------------------------------------\n",
      "Train/Batch size:\t9902196 / 2048\n",
      "Optimizer:\t\tAdam\n",
      "LR:\t\t\t0.001 \n",
      "------------------------------------------------------------\n"
     ]
    },
    {
     "data": {
      "text/html": [
       "<div id=\"scrollable_table\" style=\"height: 300px; overflow-y: scroll;\">\n",
       "    <table id=\"training_table\" style=\"width:60%; border-collapse: collapse;\">\n",
       "        <thead style=\"position: sticky; top: 0; z-index: 1;\">\n",
       "            <tr>\n",
       "                <th style=\"font-weight:bold; width:15%; text-align:left; padding: 10px; background-color: #404040;\">Epoch</th>\n",
       "                <th style=\"font-weight:bold; width:25%; text-align:left; padding: 10px; background-color: #404040;\">Iteration</th>\n",
       "                <th style=\"font-weight:bold; width:30%; text-align:left; padding: 10px; background-color: #404040;\">Batch Loss</th>\n",
       "                <th style=\"font-weight:bold; width:30%; text-align:left; padding: 10px; background-color: #404040;\">Train Loss</th>\n",
       "            </tr>\n",
       "        </thead>\n",
       "        <tbody>\n",
       "        </tbody>\n",
       "    </table>\n",
       "    <script>\n",
       "        function addRow(epoch, step, loss, running_loss) {\n",
       "            var table = document.getElementById(\"training_table\").getElementsByTagName('tbody')[0];\n",
       "            var row = table.insertRow(-1);\n",
       "            var cell1 = row.insertCell(0);\n",
       "            var cell2 = row.insertCell(1);\n",
       "            var cell3 = row.insertCell(2);\n",
       "            var cell4 = row.insertCell(3);\n",
       "            cell1.style.textAlign = \"left\";\n",
       "            cell2.style.textAlign = \"left\";\n",
       "            cell3.style.textAlign = \"left\";\n",
       "            cell4.style.textAlign = \"left\";\n",
       "            cell1.innerHTML = epoch;\n",
       "            cell2.innerHTML = step;\n",
       "            cell3.innerHTML = loss;\n",
       "            cell4.innerHTML = running_loss;\n",
       "            var scrollableDiv = document.getElementById(\"scrollable_table\");\n",
       "            scrollableDiv.scrollTop = scrollableDiv.scrollHeight;\n",
       "        }\n",
       "    </script>\n",
       "    </div>"
      ],
      "text/plain": [
       "<IPython.core.display.HTML object>"
      ]
     },
     "metadata": {},
     "output_type": "display_data"
    },
    {
     "data": {
      "application/vnd.jupyter.widget-view+json": {
       "model_id": "81d1734816d9416d85a36acee669a88b",
       "version_major": 2,
       "version_minor": 0
      },
      "text/plain": [
       "  0%|          | 0/4836 [00:00<?, ?batch/s]"
      ]
     },
     "metadata": {},
     "output_type": "display_data"
    },
    {
     "data": {
      "application/javascript": "addRow(\"<b>1/5\", \"1/4836\", \"0.436263\", \"\");",
      "text/plain": [
       "<IPython.core.display.Javascript object>"
      ]
     },
     "metadata": {},
     "output_type": "display_data"
    },
    {
     "ename": "KeyboardInterrupt",
     "evalue": "",
     "output_type": "error",
     "traceback": [
      "\u001b[0;31m---------------------------------------------------------------------------\u001b[0m",
      "\u001b[0;31mKeyboardInterrupt\u001b[0m                         Traceback (most recent call last)",
      "Cell \u001b[0;32mIn[18], line 2\u001b[0m\n\u001b[1;32m      1\u001b[0m \u001b[38;5;66;03m# NETWORK TRAINING -----------------------------------------------------------------\u001b[39;00m\n\u001b[0;32m----> 2\u001b[0m train_losses, val_losses, epochs_completed, training_table \u001b[38;5;241m=\u001b[39m \u001b[43mtrain_model\u001b[49m\u001b[43m(\u001b[49m\n\u001b[1;32m      3\u001b[0m \u001b[43m    \u001b[49m\u001b[43mmodel\u001b[49m\u001b[43m \u001b[49m\u001b[38;5;241;43m=\u001b[39;49m\u001b[43m \u001b[49m\u001b[43mmodel\u001b[49m\u001b[43m,\u001b[49m\u001b[43m \u001b[49m\n\u001b[1;32m      4\u001b[0m \u001b[43m    \u001b[49m\u001b[43moptimizer\u001b[49m\u001b[43m \u001b[49m\u001b[38;5;241;43m=\u001b[39;49m\u001b[43m \u001b[49m\u001b[43moptimizer\u001b[49m\u001b[43m,\u001b[49m\u001b[43m \u001b[49m\n\u001b[1;32m      5\u001b[0m \u001b[43m    \u001b[49m\u001b[43mloss_fn\u001b[49m\u001b[43m \u001b[49m\u001b[38;5;241;43m=\u001b[39;49m\u001b[43m \u001b[49m\u001b[43mcriterion\u001b[49m\u001b[43m,\u001b[49m\u001b[43m \u001b[49m\n\u001b[1;32m      6\u001b[0m \u001b[43m    \u001b[49m\u001b[43mtrain_loader\u001b[49m\u001b[43m \u001b[49m\u001b[38;5;241;43m=\u001b[39;49m\u001b[43m \u001b[49m\u001b[43mtrain_loader\u001b[49m\u001b[43m,\u001b[49m\n\u001b[1;32m      7\u001b[0m \u001b[43m    \u001b[49m\u001b[43mval_loader\u001b[49m\u001b[43m \u001b[49m\u001b[38;5;241;43m=\u001b[39;49m\u001b[43m \u001b[49m\u001b[43mval_loader\u001b[49m\n\u001b[1;32m      8\u001b[0m \u001b[43m    \u001b[49m\u001b[43m)\u001b[49m\n",
      "Cell \u001b[0;32mIn[17], line 45\u001b[0m, in \u001b[0;36mtrain_model\u001b[0;34m(model, optimizer, loss_fn, train_loader, val_loader)\u001b[0m\n\u001b[1;32m     43\u001b[0m outputs \u001b[38;5;241m=\u001b[39m model(inputs) \n\u001b[1;32m     44\u001b[0m loss \u001b[38;5;241m=\u001b[39m criterion(outputs\u001b[38;5;241m.\u001b[39msqueeze(), targets) \n\u001b[0;32m---> 45\u001b[0m \u001b[43mloss\u001b[49m\u001b[38;5;241;43m.\u001b[39;49m\u001b[43mbackward\u001b[49m\u001b[43m(\u001b[49m\u001b[43m)\u001b[49m \n\u001b[1;32m     46\u001b[0m \u001b[38;5;66;03m# nn.utils.clip_grad_value_(model.parameters(), clip_value=1.0) # optional: Gradient Value Clipping\u001b[39;00m\n\u001b[1;32m     47\u001b[0m optimizer\u001b[38;5;241m.\u001b[39mstep()\n",
      "File \u001b[0;32m~/.local/lib/python3.11/site-packages/torch/_tensor.py:521\u001b[0m, in \u001b[0;36mTensor.backward\u001b[0;34m(self, gradient, retain_graph, create_graph, inputs)\u001b[0m\n\u001b[1;32m    511\u001b[0m \u001b[38;5;28;01mif\u001b[39;00m has_torch_function_unary(\u001b[38;5;28mself\u001b[39m):\n\u001b[1;32m    512\u001b[0m     \u001b[38;5;28;01mreturn\u001b[39;00m handle_torch_function(\n\u001b[1;32m    513\u001b[0m         Tensor\u001b[38;5;241m.\u001b[39mbackward,\n\u001b[1;32m    514\u001b[0m         (\u001b[38;5;28mself\u001b[39m,),\n\u001b[0;32m   (...)\u001b[0m\n\u001b[1;32m    519\u001b[0m         inputs\u001b[38;5;241m=\u001b[39minputs,\n\u001b[1;32m    520\u001b[0m     )\n\u001b[0;32m--> 521\u001b[0m \u001b[43mtorch\u001b[49m\u001b[38;5;241;43m.\u001b[39;49m\u001b[43mautograd\u001b[49m\u001b[38;5;241;43m.\u001b[39;49m\u001b[43mbackward\u001b[49m\u001b[43m(\u001b[49m\n\u001b[1;32m    522\u001b[0m \u001b[43m    \u001b[49m\u001b[38;5;28;43mself\u001b[39;49m\u001b[43m,\u001b[49m\u001b[43m \u001b[49m\u001b[43mgradient\u001b[49m\u001b[43m,\u001b[49m\u001b[43m \u001b[49m\u001b[43mretain_graph\u001b[49m\u001b[43m,\u001b[49m\u001b[43m \u001b[49m\u001b[43mcreate_graph\u001b[49m\u001b[43m,\u001b[49m\u001b[43m \u001b[49m\u001b[43minputs\u001b[49m\u001b[38;5;241;43m=\u001b[39;49m\u001b[43minputs\u001b[49m\n\u001b[1;32m    523\u001b[0m \u001b[43m\u001b[49m\u001b[43m)\u001b[49m\n",
      "File \u001b[0;32m~/.local/lib/python3.11/site-packages/torch/autograd/__init__.py:289\u001b[0m, in \u001b[0;36mbackward\u001b[0;34m(tensors, grad_tensors, retain_graph, create_graph, grad_variables, inputs)\u001b[0m\n\u001b[1;32m    284\u001b[0m     retain_graph \u001b[38;5;241m=\u001b[39m create_graph\n\u001b[1;32m    286\u001b[0m \u001b[38;5;66;03m# The reason we repeat the same comment below is that\u001b[39;00m\n\u001b[1;32m    287\u001b[0m \u001b[38;5;66;03m# some Python versions print out the first line of a multi-line function\u001b[39;00m\n\u001b[1;32m    288\u001b[0m \u001b[38;5;66;03m# calls in the traceback and some print out the last line\u001b[39;00m\n\u001b[0;32m--> 289\u001b[0m \u001b[43m_engine_run_backward\u001b[49m\u001b[43m(\u001b[49m\n\u001b[1;32m    290\u001b[0m \u001b[43m    \u001b[49m\u001b[43mtensors\u001b[49m\u001b[43m,\u001b[49m\n\u001b[1;32m    291\u001b[0m \u001b[43m    \u001b[49m\u001b[43mgrad_tensors_\u001b[49m\u001b[43m,\u001b[49m\n\u001b[1;32m    292\u001b[0m \u001b[43m    \u001b[49m\u001b[43mretain_graph\u001b[49m\u001b[43m,\u001b[49m\n\u001b[1;32m    293\u001b[0m \u001b[43m    \u001b[49m\u001b[43mcreate_graph\u001b[49m\u001b[43m,\u001b[49m\n\u001b[1;32m    294\u001b[0m \u001b[43m    \u001b[49m\u001b[43minputs\u001b[49m\u001b[43m,\u001b[49m\n\u001b[1;32m    295\u001b[0m \u001b[43m    \u001b[49m\u001b[43mallow_unreachable\u001b[49m\u001b[38;5;241;43m=\u001b[39;49m\u001b[38;5;28;43;01mTrue\u001b[39;49;00m\u001b[43m,\u001b[49m\n\u001b[1;32m    296\u001b[0m \u001b[43m    \u001b[49m\u001b[43maccumulate_grad\u001b[49m\u001b[38;5;241;43m=\u001b[39;49m\u001b[38;5;28;43;01mTrue\u001b[39;49;00m\u001b[43m,\u001b[49m\n\u001b[1;32m    297\u001b[0m \u001b[43m\u001b[49m\u001b[43m)\u001b[49m\n",
      "File \u001b[0;32m~/.local/lib/python3.11/site-packages/torch/autograd/graph.py:769\u001b[0m, in \u001b[0;36m_engine_run_backward\u001b[0;34m(t_outputs, *args, **kwargs)\u001b[0m\n\u001b[1;32m    767\u001b[0m     unregister_hooks \u001b[38;5;241m=\u001b[39m _register_logging_hooks_on_whole_graph(t_outputs)\n\u001b[1;32m    768\u001b[0m \u001b[38;5;28;01mtry\u001b[39;00m:\n\u001b[0;32m--> 769\u001b[0m     \u001b[38;5;28;01mreturn\u001b[39;00m \u001b[43mVariable\u001b[49m\u001b[38;5;241;43m.\u001b[39;49m\u001b[43m_execution_engine\u001b[49m\u001b[38;5;241;43m.\u001b[39;49m\u001b[43mrun_backward\u001b[49m\u001b[43m(\u001b[49m\u001b[43m  \u001b[49m\u001b[38;5;66;43;03m# Calls into the C++ engine to run the backward pass\u001b[39;49;00m\n\u001b[1;32m    770\u001b[0m \u001b[43m        \u001b[49m\u001b[43mt_outputs\u001b[49m\u001b[43m,\u001b[49m\u001b[43m \u001b[49m\u001b[38;5;241;43m*\u001b[39;49m\u001b[43margs\u001b[49m\u001b[43m,\u001b[49m\u001b[43m \u001b[49m\u001b[38;5;241;43m*\u001b[39;49m\u001b[38;5;241;43m*\u001b[39;49m\u001b[43mkwargs\u001b[49m\n\u001b[1;32m    771\u001b[0m \u001b[43m    \u001b[49m\u001b[43m)\u001b[49m  \u001b[38;5;66;03m# Calls into the C++ engine to run the backward pass\u001b[39;00m\n\u001b[1;32m    772\u001b[0m \u001b[38;5;28;01mfinally\u001b[39;00m:\n\u001b[1;32m    773\u001b[0m     \u001b[38;5;28;01mif\u001b[39;00m attach_logging_hooks:\n",
      "\u001b[0;31mKeyboardInterrupt\u001b[0m: "
     ]
    }
   ],
   "source": [
    "# NETWORK TRAINING -----------------------------------------------------------------\n",
    "train_losses, val_losses, epochs_completed, training_table = train_model(\n",
    "    model = model, \n",
    "    optimizer = optimizer, \n",
    "    loss_fn = criterion, \n",
    "    train_loader = train_loader,\n",
    "    val_loader = val_loader\n",
    "    )"
   ]
  },
  {
   "cell_type": "code",
   "execution_count": null,
   "metadata": {},
   "outputs": [
    {
     "name": "stdout",
     "output_type": "stream",
     "text": [
      "Model saved to:\t /home/sieglew/MA-eR-PINN/src/models/pth/LSTM1_241030_162158.pth\n"
     ]
    }
   ],
   "source": [
    "# SAVE MODEL  -----------------------------------------------------------------\n",
    "\n",
    "# create unique model name\n",
    "model_name = f\"{model.__class__.__name__}_{datetime.now().strftime(\"%y%m%d_%H%M%S\")}\"\n",
    "model_destination_path = Path(save_model_folder, model_name + \".pth\")\n",
    "\n",
    "# SAVE STATE_DICT FOR MODEL INFERENCE -----------------\n",
    "torch.save(model, model_destination_path)\n",
    "print(f\"Model saved to:\\t {model_destination_path}\")\n",
    "'''\n",
    "# Later to restore:\n",
    "model.load_state_dict(torch.load(model_destintion_path))\n",
    "model.eval() # set model to evaluation mode for inference\n",
    "'''\n",
    "\n",
    "# OPTIONAL: SAVE COMPLETE MODEL DICT FOR RESUMING TRAINING LATER -----------------\n",
    "'''\n",
    "state = {\n",
    "    'epoch': epochs_completed,\n",
    "    'state_dict': model.state_dict(),\n",
    "    'optimizer': optimizer.state_dict(),\n",
    "    'loss_func': criterion, \n",
    "    'train_loader': train_loader, \n",
    "    'train_losses': train_losses\n",
    "}\n",
    "torch.save(model, state, model_destination_path)\n",
    "print(f\"Complete Model dict saved to:\\t {model_destination_path}\")\n",
    "\n",
    "# Later to restore:\n",
    "state = torch.load(model_destination_path)\n",
    "model.load_state_dict(state['state_dict'])\n",
    "optimizer.load_state_dict(state['optimizer'])\n",
    "''';\n",
    "\n",
    "# OPTIONAL: KEEP BEST PERFORMING MODEL -----------------\n",
    "'''\n",
    "best_model_state = deepcopy(model.state_dict())''';"
   ]
  },
  {
   "cell_type": "code",
   "execution_count": null,
   "metadata": {},
   "outputs": [
    {
     "name": "stderr",
     "output_type": "stream",
     "text": [
      "/tmp/ipykernel_1062225/38100030.py:3: FutureWarning: You are using `torch.load` with `weights_only=False` (the current default value), which uses the default pickle module implicitly. It is possible to construct malicious pickle data which will execute arbitrary code during unpickling (See https://github.com/pytorch/pytorch/blob/main/SECURITY.md#untrusted-models for more details). In a future release, the default value for `weights_only` will be flipped to `True`. This limits the functions that could be executed during unpickling. Arbitrary objects will no longer be allowed to be loaded via this mode unless they are explicitly allowlisted by the user via `torch.serialization.add_safe_globals`. We recommend you start setting `weights_only=True` for any use case where you don't have full control of the loaded file. Please open an issue on GitHub for any issues related to this experimental feature.\n",
      "  model.load_state_dict(torch.load(model_destination_path))\n"
     ]
    },
    {
     "data": {
      "text/plain": [
       "LSTM1(\n",
       "  (lstm): LSTM(77, 64, num_layers=2, batch_first=True, dropout=0.2)\n",
       "  (relu): ReLU()\n",
       "  (fc_test): Linear(in_features=64, out_features=1, bias=True)\n",
       ")"
      ]
     },
     "execution_count": 17,
     "metadata": {},
     "output_type": "execute_result"
    }
   ],
   "source": [
    "model_destination_path = Path(save_model_folder, \"LSTM1_241028_104948.pth\")\n",
    "#model = torch.load(model_destination_path, weights_only=False)\n",
    "model.load_state_dict(torch.load(model_destination_path))\n",
    "model.eval() # set model to evaluation mode for inference"
   ]
  },
  {
   "cell_type": "code",
   "execution_count": null,
   "metadata": {},
   "outputs": [
    {
     "ename": "NameError",
     "evalue": "name 'training_table' is not defined",
     "output_type": "error",
     "traceback": [
      "\u001b[0;31m---------------------------------------------------------------------------\u001b[0m",
      "\u001b[0;31mNameError\u001b[0m                                 Traceback (most recent call last)",
      "Cell \u001b[0;32mIn[20], line 2\u001b[0m\n\u001b[1;32m      1\u001b[0m \u001b[38;5;66;03m# get DataFrame of training metrics:\u001b[39;00m\n\u001b[0;32m----> 2\u001b[0m training_df \u001b[38;5;241m=\u001b[39m pd\u001b[38;5;241m.\u001b[39mDataFrame(\u001b[43mtraining_table\u001b[49m, columns\u001b[38;5;241m=\u001b[39m[\u001b[38;5;124m\"\u001b[39m\u001b[38;5;124mEpoch\u001b[39m\u001b[38;5;124m\"\u001b[39m, \u001b[38;5;124m\"\u001b[39m\u001b[38;5;124mIteration\u001b[39m\u001b[38;5;124m\"\u001b[39m, \u001b[38;5;124m\"\u001b[39m\u001b[38;5;124mBatch Loss\u001b[39m\u001b[38;5;124m\"\u001b[39m, \u001b[38;5;124m\"\u001b[39m\u001b[38;5;124mTrain Loss\u001b[39m\u001b[38;5;124m\"\u001b[39m])\n\u001b[1;32m      3\u001b[0m \u001b[38;5;66;03m# Extract the 'Train Loss' column and compare with the train_losses list\u001b[39;00m\n\u001b[1;32m      4\u001b[0m train_loss_column \u001b[38;5;241m=\u001b[39m training_df[\u001b[38;5;124m'\u001b[39m\u001b[38;5;124mTrain Loss\u001b[39m\u001b[38;5;124m'\u001b[39m]\u001b[38;5;241m.\u001b[39mreplace([\u001b[38;5;124m'\u001b[39m\u001b[38;5;124m'\u001b[39m,\u001b[38;5;124m'\u001b[39m\u001b[38;5;124m \u001b[39m\u001b[38;5;124m'\u001b[39m], np\u001b[38;5;241m.\u001b[39mnan)\u001b[38;5;241m.\u001b[39mdropna()\u001b[38;5;241m.\u001b[39mastype(\u001b[38;5;28mfloat\u001b[39m)\u001b[38;5;241m.\u001b[39mvalues\n",
      "\u001b[0;31mNameError\u001b[0m: name 'training_table' is not defined"
     ]
    }
   ],
   "source": [
    "# get DataFrame of training metrics:\n",
    "training_df = pd.DataFrame(training_table, columns=[\"Epoch\", \"Iteration\", \"Batch Loss\", \"Train Loss\"])\n",
    "# Extract the 'Train Loss' column and compare with the train_losses list\n",
    "train_loss_column = training_df['Train Loss'].replace(['',' '], np.nan).dropna().astype(float).values\n",
    "if any(abs(train_loss_column - train_losses) > 1e-3): print(\"Extracted and original Train Losses are not equal. Please check metrics table.\")\n",
    "\n",
    "# -------------------------------------\n",
    "# plot training performance:\n",
    "plt.style.use('ggplot')\n",
    "fig, ax1 = plt.subplots(figsize=(8,3))\n",
    "\n",
    "# Set x-axis to integers starting from 1\n",
    "ax1.set_xlabel('Epochs')\n",
    "ax1.set_xticks(range(1, NUM_EPOCHS + 1))\n",
    "\n",
    "plt.plot(range(1, NUM_EPOCHS + 1), train_losses, label='train_loss')\n",
    "plt.plot(range(1, NUM_EPOCHS + 1), val_losses, label='val_loss')\n",
    "plt.yscale('log')\n",
    "fig.tight_layout(); plt.legend();"
   ]
  },
  {
   "cell_type": "markdown",
   "metadata": {},
   "source": [
    "___\n",
    "EVALUATION / POST-PROCESSING"
   ]
  },
  {
   "cell_type": "code",
   "execution_count": null,
   "metadata": {},
   "outputs": [
    {
     "name": "stdout",
     "output_type": "stream",
     "text": [
      "Test Loss:  0.0065\n",
      "Iterations: 592/592\n"
     ]
    }
   ],
   "source": [
    "# EVALUATION -----------------------------------------------------------------\n",
    "model.eval() # set model to evaluation mode\n",
    "test_loss = 0\n",
    "\n",
    "with torch.no_grad():\n",
    "\n",
    "    for iter, (inputs, targets) in enumerate(test_loader):\n",
    "        inputs, targets = inputs.to(DEVICE), targets.to(DEVICE)\n",
    "        outputs = model(inputs)\n",
    "\n",
    "        # Optional: Inverse-transform outputs and targets for evaluation\n",
    "        # You can use `scaled_outputs` and `scaled_targets` for error metrics in the original scale if needed\n",
    "        scaled_outputs = target_scaler.inverse_transform(outputs.detach().cpu().numpy().reshape(-1, 1))\n",
    "        scaled_targets = target_scaler.inverse_transform(targets.detach().cpu().numpy().reshape(-1, 1))\n",
    "\n",
    "        loss = criterion(outputs.squeeze(), targets)\n",
    "        test_loss += loss.item()\n",
    "\n",
    "test_loss /= len(test_loader)\n",
    "print(f\"Test Loss:  {test_loss:.4f}\")\n",
    "print(f\"Iterations: {iter}/{math.floor(len(test_loader.dataset) / test_loader.batch_size)}\")"
   ]
  },
  {
   "cell_type": "code",
   "execution_count": null,
   "metadata": {},
   "outputs": [
    {
     "name": "stdout",
     "output_type": "stream",
     "text": [
      "RMSE: 14.8952\n"
     ]
    },
    {
     "data": {
      "image/png": "[encoded data removed]",
      "text/plain": [
       "<Figure size 1800x400 with 1 Axes>"
      ]
     },
     "metadata": {},
     "output_type": "display_data"
    }
   ],
   "source": [
    "test_files = list(test_loader.dataset.file_list)\n",
    "test_dataset = TripDataset(random.sample(test_files,1), scaler, target_scaler)\n",
    "test_loader_2 = DataLoader(test_dataset, batch_size=1, shuffle=False)\n",
    "\n",
    "model.eval()\n",
    "y_pred = []\n",
    "with torch.no_grad():\n",
    "\n",
    "    for iter, (inputs, targets) in enumerate(test_loader_2):\n",
    "        inputs, targets = inputs.to(DEVICE), targets.to(DEVICE)\n",
    "        outputs = model(inputs)\n",
    "        y_pred.append(torch.mean(outputs).item())\n",
    "\n",
    "y_pred = target_scaler.inverse_transform(np.array(y_pred).reshape(-1, 1))\n",
    "y_true = target_scaler.inverse_transform(np.array(test_loader_2.dataset.targets[0] ).reshape(-1, 1))\n",
    "\n",
    "###############################################\n",
    "print(f\"RMSE: {root_mean_squared_error(y_true, y_pred):.4f}\")\n",
    "plt.figure(figsize=(18,4)) \n",
    "\n",
    "plt.xlabel('Time in s')\n",
    "plt.ylabel('Battery Energy in kWh')\n",
    "\n",
    "plt.plot(y_true, label='Actual Data') # actual plot\n",
    "plt.plot(np.arange(0, len(y_true), 1), y_pred, label='Predicted Data') # predicted plot\n",
    "plt.title('Time-Series Prediction')\n",
    "plt.legend();"
   ]
  },
  {
   "cell_type": "code",
   "execution_count": null,
   "metadata": {},
   "outputs": [
    {
     "name": "stdout",
     "output_type": "stream",
     "text": [
      "Inference Loss:  0.1828\n",
      "Predicted values: [139.9406]\n",
      "True values: [220.37099 220.32599 220.29999 220.261   220.24998]\n"
     ]
    },
    {
     "name": "stderr",
     "output_type": "stream",
     "text": [
      "/home/sieglew/.local/lib/python3.11/site-packages/torch/nn/modules/loss.py:538: UserWarning: Using a target size (torch.Size([5270])) that is different to the input size (torch.Size([1, 1])). This will likely lead to incorrect results due to broadcasting. Please ensure they have the same size.\n",
      "  return F.mse_loss(input, target, reduction=self.reduction)\n"
     ]
    }
   ],
   "source": [
    "model.eval()\n",
    "with torch.no_grad():\n",
    "    # Randomly select a sequence from the test dataset\n",
    "    seq = random.randint(0, len(test_loader.dataset.data) - 1)\n",
    "\n",
    "    # Get the inputs and targets for the selected sequence\n",
    "    test_inputs = torch.tensor(test_loader.dataset.data[seq], dtype=torch.float32).unsqueeze(0).to(DEVICE).contiguous()\n",
    "    test_targets = torch.tensor(test_loader.dataset.targets[seq], dtype=torch.float32).to(DEVICE).contiguous()\n",
    "\n",
    "    test_loader = DataLoader(test_dataset, batch_size=batch_size, shuffle=False)\n",
    "    \n",
    "    # Perform inference\n",
    "    outputs = model(test_inputs)\n",
    "    inference_loss = criterion(outputs, test_targets)\n",
    "    print(f\"Inference Loss:  {inference_loss.item():.4f}\")\n",
    "\n",
    "    # Inverse-transform the outputs and targets for evaluation\n",
    "    y_pred = target_scaler.inverse_transform(outputs.detach().cpu().numpy().reshape(-1, 1))\n",
    "    y_true = target_scaler.inverse_transform(test_targets.detach().cpu().numpy().reshape(-1, 1))\n",
    "\n",
    "    # Print the first few predictions and true values for comparison\n",
    "    print(\"Predicted values:\", y_pred[:5].flatten())\n",
    "    print(\"True values:\", y_true[:5].flatten())"
   ]
  },
  {
   "cell_type": "code",
   "execution_count": null,
   "metadata": {},
   "outputs": [],
   "source": [
    "#%%skip\n",
    "# PLOT RESULTS -----------------------------------------------------------------\n",
    "\n",
    "# Reverse Transformation of the latest output and target\n",
    "scaled_outputs = target_scaler.inverse_transform(outputs.detach().cpu().numpy().reshape(-1, 1))\n",
    "scaled_targets = target_scaler.inverse_transform(targets.detach().cpu().numpy().reshape(-1, 1))"
   ]
  },
  {
   "cell_type": "code",
   "execution_count": null,
   "metadata": {},
   "outputs": [
    {
     "data": {
      "text/plain": [
       "(5270, 1)"
      ]
     },
     "execution_count": 44,
     "metadata": {},
     "output_type": "execute_result"
    }
   ],
   "source": [
    "y_true = target_scaler.inverse_transform(np.array(test_loader.dataset.targets[0] ).reshape(-1, 1))\n",
    "y_true.shape"
   ]
  },
  {
   "cell_type": "code",
   "execution_count": null,
   "metadata": {},
   "outputs": [
    {
     "data": {
      "text/plain": [
       "(527, 1)"
      ]
     },
     "execution_count": 49,
     "metadata": {},
     "output_type": "execute_result"
    }
   ],
   "source": [
    "y_pred.shape"
   ]
  },
  {
   "cell_type": "code",
   "execution_count": null,
   "metadata": {},
   "outputs": [
    {
     "data": {
      "image/png": "[encoded data removed]",
      "text/plain": [
       "<Figure size 1800x400 with 1 Axes>"
      ]
     },
     "metadata": {},
     "output_type": "display_data"
    }
   ],
   "source": [
    "from scipy.signal import savgol_filter\n",
    "\n",
    "plt.figure(figsize=(18,4)) \n",
    "\n",
    "# Original and Smoothed plot\n",
    "plt.xlabel('Time in s')\n",
    "plt.ylabel('Battery Energy in kWh')\n",
    "plt.plot(y_true, label='Actual Data') # actual plot\n",
    "#plt.plot(np.arange(0, len(y_true), 10), y_pred, label='Predicted Data') # predicted plot\n",
    "\n",
    "# Smoothed predicted plot\n",
    "smoothed_y_pred = savgol_filter(y_pred.flatten(), window_length=100, polyorder=3)\n",
    "plt.plot(np.arange(0, len(y_true), 10), smoothed_y_pred, label='Smoothed Predicted Data')\n",
    "\n",
    "plt.title('Time-Series Prediction')\n",
    "plt.legend()\n",
    "plt.tight_layout()\n",
    "plt.show()\n"
   ]
  }
 ],
 "metadata": {
  "kernelspec": {
   "display_name": "Python 3",
   "language": "python",
   "name": "python3"
  },
  "language_info": {
   "codemirror_mode": {
    "name": "ipython",
    "version": 3
   },
   "file_extension": ".py",
   "mimetype": "text/x-python",
   "name": "python",
   "nbconvert_exporter": "python",
   "pygments_lexer": "ipython3",
   "version": "3.11.9"
  }
 },
 "nbformat": 4,
 "nbformat_minor": 2
}
