{
 "cells": [
  {
   "cell_type": "markdown",
   "metadata": {},
   "source": [
    "Same as micrograd.py, but uses PyTorch for the autograd engine.\n",
    "This is a way for us to check and verify correctness, and also\n",
    "shows some of the similarities/differences in how PyTorch would\n",
    "implement the same MLP. PyTorch lets you specify the forward pass,\n",
    "records all the operations performed, and then calls backward()\n",
    "\"under the hood\" inside its autograd engine."
   ]
  },
  {
   "cell_type": "code",
   "execution_count": 7,
   "metadata": {},
   "outputs": [],
   "source": [
    "import random\n",
    "import numpy as np\n",
    "import matplotlib.pyplot as plt\n",
    "%matplotlib inline"
   ]
  },
  {
   "cell_type": "code",
   "execution_count": 8,
   "metadata": {},
   "outputs": [],
   "source": [
    "import torch\n",
    "from torch import nn\n",
    "from torch.nn import functional as F\n",
    "from torch.nn.parameter import Parameter\n",
    "\n",
    "torch.manual_seed(1)\n",
    "\n",
    "from utils import gen_data_yinyang"
   ]
  },
  {
   "cell_type": "code",
   "execution_count": 9,
   "metadata": {},
   "outputs": [],
   "source": [
    "# -----------------------------------------------------------------------------\n",
    "# Multi-Layer Perceptron (MLP) network\n",
    "\n",
    "class Neuron(nn.Module):\n",
    "\n",
    "    # Neuron Creation\n",
    "    def __init__(self, nin, nonlin=True):\n",
    "\n",
    "        # compability, class inheritance related\n",
    "        super().__init__() \n",
    "        \n",
    "        # PARAMETERS: \n",
    "\n",
    "        # weights\n",
    "        # so the random weight initialization is rescaled by a factor depending on the input number. This leads \n",
    "        # to smaller weight initializations for a higher number of nin. \n",
    "        # \"All the weights and biases are initialized from...\"  see: torch.nn.LSTM.html\n",
    "        self.w = Parameter(torch.tensor([random.uniform(-1, 1) * nin**-0.5 for _ in range(nin)]))\n",
    "        \n",
    "        # biases\n",
    "        # all bias scalars are initialized with 0\n",
    "        self.b = Parameter(torch.zeros(1))\n",
    "\n",
    "        # all neurons have a nonlinear output activation by default, except otherwise indicated\n",
    "        self.nonlin = nonlin\n",
    "\n",
    "    # Neuron Activation:\n",
    "    def forward(self, x):\n",
    "        # act = (w1*x1 + w2*x2 + ... + wnin*xnin) + b\n",
    "        act = torch.sum(self.w * x) + self.b\n",
    "\n",
    "        # o = tanh(act)\n",
    "        return act.tanh() if self.nonlin else act\n",
    "\n",
    "    def __repr__(self):\n",
    "        return f\"{'TanH' if self.nonlin else 'Linear'}Neuron({len(self.w)})\"\n",
    "\n",
    "class Layer(nn.Module):\n",
    "\n",
    "    # Layer Creation\n",
    "    def __init__(self, nin, nout, **kwargs):\n",
    "\n",
    "        super().__init__() # compatibility\n",
    "\n",
    "        # create a layer as a list of {nout} neurons with each neuron having {nin} inputs\n",
    "        self.neurons = nn.ModuleList([Neuron(nin, **kwargs) for _ in range(nout)])\n",
    "\n",
    "    # Layer Activation by rearranging the calculated activations of the corresponding neurons\n",
    "    # to a stacked tensor (concatenated)\n",
    "    def forward(self, x):\n",
    "        out = [n(x) for n in self.neurons]\n",
    "        return torch.stack(out, dim=-1)\n",
    "\n",
    "    def __repr__(self):\n",
    "        return f\"Layer of [{', '.join(str(n) for n in self.neurons)}]\"\n",
    "\n",
    "class MLP(nn.Module):\n",
    "\n",
    "    # Create a Multilayer Perceptron Network\n",
    "    def __init__(self, nin, nouts):     # ex.: NN = MLP(2,[4,4,1])\n",
    "\n",
    "        # compatibility\n",
    "        super().__init__() \n",
    "\n",
    "        # network dimensions as a list of [nin, layer1_neurons, layer2_neurons, layer..., nout]\n",
    "        # [2,4,4,1] --> 2 hidden layers, 8 hidden neurons, 1 output neuron\n",
    "        sz = [nin] + nouts\n",
    "\n",
    "        # according to the given dimensions, create the layers, so [2,,4] , [4,4], [4,1]\n",
    "        # Note: unlike in the hidden layers, the neurons in the output layer are linear\n",
    "        self.layers = nn.ModuleList([Layer(sz[i], sz[i+1], nonlin = (i != len(nouts)-1)) for i in range(len(nouts))])\n",
    "\n",
    "    # Activation of the complete Network (Forward Propagation), by subsequently activating each layer\n",
    "    def forward(self, x):\n",
    "        for layer in self.layers:\n",
    "            x = layer(x)\n",
    "        return x    # return a set of layer activations\n",
    "\n",
    "    def __repr__(self):\n",
    "        return f\"MLP of [{', '.join(str(layer) for layer in self.layers)}]\"\n",
    "\n",
    "# -----------------------------------------------------------------------------"
   ]
  },
  {
   "cell_type": "markdown",
   "metadata": {},
   "source": [
    "let's train!"
   ]
  },
  {
   "cell_type": "code",
   "execution_count": 10,
   "metadata": {},
   "outputs": [],
   "source": [
    "# generate a dataset with 100 2-dimensional datapoints in 3 classes\n",
    "train_split, val_split, test_split = gen_data_yinyang(random, n=100) # split ratios 80/10/10"
   ]
  },
  {
   "cell_type": "code",
   "execution_count": 11,
   "metadata": {},
   "outputs": [
    {
     "data": {
      "text/plain": [
       "MLP of [Layer of [TanHNeuron(2), TanHNeuron(2), TanHNeuron(2), TanHNeuron(2), TanHNeuron(2), TanHNeuron(2), TanHNeuron(2), TanHNeuron(2), TanHNeuron(2), TanHNeuron(2), TanHNeuron(2), TanHNeuron(2), TanHNeuron(2), TanHNeuron(2), TanHNeuron(2), TanHNeuron(2)], Layer of [TanHNeuron(16), TanHNeuron(16), TanHNeuron(16), TanHNeuron(16), TanHNeuron(16), TanHNeuron(16), TanHNeuron(16), TanHNeuron(16), TanHNeuron(16), TanHNeuron(16), TanHNeuron(16), TanHNeuron(16), TanHNeuron(16), TanHNeuron(16), TanHNeuron(16), TanHNeuron(16)], Layer of [TanHNeuron(16), TanHNeuron(16), TanHNeuron(16), TanHNeuron(16), TanHNeuron(16), TanHNeuron(16), TanHNeuron(16), TanHNeuron(16)], Layer of [LinearNeuron(8), LinearNeuron(8), LinearNeuron(8)]]"
      ]
     },
     "execution_count": 11,
     "metadata": {},
     "output_type": "execute_result"
    }
   ],
   "source": [
    "# init the model: 2D inputs, 8 neurons, 3 outputs (logits)\n",
    "model = MLP(2, [16, 16, 8 , 3])\n",
    "model.to(torch.float64) # ensure we're using double precision\n",
    "model"
   ]
  },
  {
   "cell_type": "code",
   "execution_count": 12,
   "metadata": {},
   "outputs": [],
   "source": [
    "# optimize using Adam\n",
    "optimizer = torch.optim.AdamW(\n",
    "    model.parameters(),\n",
    "    lr=1e-1,\n",
    "    betas=(0.9, 0.95),\n",
    "    eps=1e-8,\n",
    "    weight_decay=1e-4\n",
    ")"
   ]
  },
  {
   "cell_type": "code",
   "execution_count": 13,
   "metadata": {},
   "outputs": [],
   "source": [
    "def loss_fun(model, split):\n",
    "    losses = [F.cross_entropy(model(torch.tensor(x)), torch.tensor(y).view(-1)) for x, y in split]\n",
    "    return torch.stack(losses).mean()"
   ]
  },
  {
   "cell_type": "code",
   "execution_count": 14,
   "metadata": {},
   "outputs": [
    {
     "name": "stdout",
     "output_type": "stream",
     "text": [
      "step 1/100, val loss 1.2021295849238443\n",
      "step 1/100, train loss 1.1610096575306714\n",
      "step 2/100, train loss 0.9392739481405477\n",
      "step 3/100, train loss 0.8499778254942963\n",
      "step 4/100, train loss 0.7897178452701358\n",
      "step 5/100, train loss 0.7702144459829349\n",
      "step 6/100, train loss 0.7686350028889612\n",
      "step 7/100, train loss 0.7270250079229947\n",
      "step 8/100, train loss 0.6887964070782895\n",
      "step 9/100, train loss 0.6864419958470195\n",
      "step 10/100, train loss 0.629739947281327\n",
      "step 11/100, val loss 0.6132174517612027\n",
      "step 11/100, train loss 0.6455626727083427\n",
      "step 12/100, train loss 0.5900468798618942\n",
      "step 13/100, train loss 0.571679468477847\n",
      "step 14/100, train loss 0.5385297679009158\n",
      "step 15/100, train loss 0.4823663681493076\n",
      "step 16/100, train loss 0.46254436942047644\n",
      "step 17/100, train loss 0.4326240797275763\n",
      "step 18/100, train loss 0.38631823651052005\n",
      "step 19/100, train loss 0.3651515538400081\n",
      "step 20/100, train loss 0.3272811055536977\n",
      "step 21/100, val loss 0.41334028578719256\n",
      "step 21/100, train loss 0.32493840579527833\n",
      "step 22/100, train loss 0.2901918914711802\n",
      "step 23/100, train loss 0.2908376483738353\n",
      "step 24/100, train loss 0.2718311607442726\n",
      "step 25/100, train loss 0.254393520326632\n",
      "step 26/100, train loss 0.2547467857308043\n",
      "step 27/100, train loss 0.22635973207356233\n",
      "step 28/100, train loss 0.22167522611521484\n",
      "step 29/100, train loss 0.20267133383714203\n",
      "step 30/100, train loss 0.19897839237551188\n",
      "step 31/100, val loss 0.2566562818587287\n",
      "step 31/100, train loss 0.18172931118693572\n",
      "step 32/100, train loss 0.17896914498096037\n",
      "step 33/100, train loss 0.16277592894104947\n",
      "step 34/100, train loss 0.15478806592967112\n",
      "step 35/100, train loss 0.146862395703645\n",
      "step 36/100, train loss 0.1332607073295743\n",
      "step 37/100, train loss 0.13389320655537643\n",
      "step 38/100, train loss 0.12352113279045189\n",
      "step 39/100, train loss 0.12321435858841112\n",
      "step 40/100, train loss 0.11563701505224663\n",
      "step 41/100, val loss 0.16439664449216237\n",
      "step 41/100, train loss 0.11232188729897677\n",
      "step 42/100, train loss 0.10525064708095913\n",
      "step 43/100, train loss 0.10224681606082937\n",
      "step 44/100, train loss 0.09744342818999838\n",
      "step 45/100, train loss 0.09383457201158055\n",
      "step 46/100, train loss 0.09112740539080395\n",
      "step 47/100, train loss 0.08847048830964818\n",
      "step 48/100, train loss 0.08648217310107877\n",
      "step 49/100, train loss 0.08365005781469911\n",
      "step 50/100, train loss 0.08120124937286873\n",
      "step 51/100, val loss 0.10729665965792909\n",
      "step 51/100, train loss 0.07890176222183302\n",
      "step 52/100, train loss 0.07684680312563329\n",
      "step 53/100, train loss 0.07496053730343268\n",
      "step 54/100, train loss 0.07298282129443104\n",
      "step 55/100, train loss 0.07165602735069752\n",
      "step 56/100, train loss 0.06994089429823251\n",
      "step 57/100, train loss 0.06873038256852057\n",
      "step 58/100, train loss 0.06751147374519717\n",
      "step 59/100, train loss 0.0653947026680738\n",
      "step 60/100, train loss 0.06261116214000777\n",
      "step 61/100, val loss 0.11334821709679291\n",
      "step 61/100, train loss 0.06152682879803242\n",
      "step 62/100, train loss 0.07674816024560416\n",
      "step 63/100, train loss 0.11391046062792906\n",
      "step 64/100, train loss 0.07651435585314618\n",
      "step 65/100, train loss 0.09417223538031895\n",
      "step 66/100, train loss 0.07240178323585017\n",
      "step 67/100, train loss 0.06412794887374085\n",
      "step 68/100, train loss 0.07843993569802744\n",
      "step 69/100, train loss 0.07955198300979152\n",
      "step 70/100, train loss 0.054051117921285294\n",
      "step 71/100, val loss 0.02233578141827059\n",
      "step 71/100, train loss 0.07855577273384673\n",
      "step 72/100, train loss 0.1080630094034248\n",
      "step 73/100, train loss 0.07966936190373715\n",
      "step 74/100, train loss 0.08090969843953996\n",
      "step 75/100, train loss 0.08230126402456639\n",
      "step 76/100, train loss 0.06742942542563429\n",
      "step 77/100, train loss 0.0666490332595954\n",
      "step 78/100, train loss 0.06826869187277665\n",
      "step 79/100, train loss 0.06893212344985777\n",
      "step 80/100, train loss 0.06628416096010573\n",
      "step 81/100, val loss 0.0653389439399761\n",
      "step 81/100, train loss 0.06945788537509119\n",
      "step 82/100, train loss 0.05861604767825783\n",
      "step 83/100, train loss 0.068678926282845\n",
      "step 84/100, train loss 0.054559600786464324\n",
      "step 85/100, train loss 0.1392678964809509\n",
      "step 86/100, train loss 0.08828789990691654\n",
      "step 87/100, train loss 0.09537522254883732\n",
      "step 88/100, train loss 0.052867613809120105\n",
      "step 89/100, train loss 0.3652645886595668\n",
      "step 90/100, train loss 0.07104174146769877\n",
      "step 91/100, val loss 0.6048299655473707\n",
      "step 91/100, train loss 0.05659479772065923\n",
      "step 92/100, train loss 0.22694363820542499\n",
      "step 93/100, train loss 0.13572436652807376\n",
      "step 94/100, train loss 0.049168374142092734\n",
      "step 95/100, train loss 0.09051462384368011\n",
      "step 96/100, train loss 0.11470448355979208\n",
      "step 97/100, train loss 0.07584370711881934\n",
      "step 98/100, train loss 0.058592423115775186\n",
      "step 99/100, train loss 0.07659887980563682\n",
      "step 100/100, val loss 0.7208630125601271\n",
      "step 100/100, train loss 0.07162031172006814\n"
     ]
    }
   ],
   "source": [
    "# train the network\n",
    "train_losses, val_losses, val_steps = ([],[],[])\n",
    "\n",
    "num_steps = 100\n",
    "for step in range(num_steps):\n",
    "\n",
    "    # evaluate the validation split every few steps\n",
    "    if step % 10 == 0 or step == num_steps-1:\n",
    "        val_loss = loss_fun(model, val_split)\n",
    "        print(f\"step {step+1}/{num_steps}, val loss {val_loss.item()}\")\n",
    "        val_losses.append(val_loss.item())\n",
    "        val_steps.append(step)\n",
    "\n",
    "    # forward the network and the loss and all training datapoints\n",
    "    loss = loss_fun(model, train_split)\n",
    "    # backward pass (calculate the gradient of the loss w.r.t. the model parameters)\n",
    "    loss.backward()\n",
    "    # update model parameters\n",
    "    optimizer.step()\n",
    "    optimizer.zero_grad()\n",
    "    # print some stats\n",
    "    print(f\"step {step+1}/{num_steps}, train loss {loss.item()}\")\n",
    "    train_losses.append(loss.data)"
   ]
  },
  {
   "cell_type": "code",
   "execution_count": 15,
   "metadata": {},
   "outputs": [
    {
     "data": {
      "image/png": "[encoded data removed]",
      "text/plain": [
       "<Figure size 800x400 with 1 Axes>"
      ]
     },
     "metadata": {},
     "output_type": "display_data"
    }
   ],
   "source": [
    "fig, ax1 = plt.subplots(figsize=(8,4))\n",
    "ax1.set_xlabel('Iteration')\n",
    "\n",
    "plt.plot(train_losses, label='train_loss')\n",
    "plt.plot(val_steps, val_losses, label='validation_loss')\n",
    "fig.tight_layout(); plt.legend(); plt.grid(); plt.legend();"
   ]
  },
  {
   "cell_type": "code",
   "execution_count": 16,
   "metadata": {},
   "outputs": [
    {
     "data": {
      "text/plain": [
       "[2.8074517072689576e-05,\n",
       " 8.58739362566194e-05,\n",
       " 0.1253731090865079,\n",
       " 0.12061857676953165,\n",
       " 4.370104938505633e-05,\n",
       " 0.0031534499842012127,\n",
       " 0.001568871730816457,\n",
       " 3.695685163982971e-05,\n",
       " 0.023455089623284218,\n",
       " 4.892605960178967e-05]"
      ]
     },
     "execution_count": 16,
     "metadata": {},
     "output_type": "execute_result"
    }
   ],
   "source": [
    "# get cross-entropy losses for test data set:\n",
    "[F.cross_entropy(model(torch.tensor(x)), torch.tensor(y).view(-1)).item() for x, y in test_split]"
   ]
  }
 ],
 "metadata": {
  "kernelspec": {
   "display_name": "Python 3",
   "language": "python",
   "name": "python3"
  },
  "language_info": {
   "codemirror_mode": {
    "name": "ipython",
    "version": 3
   },
   "file_extension": ".py",
   "mimetype": "text/x-python",
   "name": "python",
   "nbconvert_exporter": "python",
   "pygments_lexer": "ipython3",
   "version": "3.11.9"
  }
 },
 "nbformat": 4,
 "nbformat_minor": 2
}
