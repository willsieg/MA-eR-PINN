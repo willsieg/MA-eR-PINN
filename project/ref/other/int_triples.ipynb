{
 "cells": [
  {
   "cell_type": "code",
   "execution_count": null,
   "metadata": {},
   "outputs": [],
   "source": [
    "import numpy as np"
   ]
  },
  {
   "cell_type": "code",
   "execution_count": 1,
   "metadata": {},
   "outputs": [
    {
     "name": "stdout",
     "output_type": "stream",
     "text": [
      "Torch version:  2.3.1+cpu\n",
      "Cuda available:  False\n",
      "Devices:  0\n"
     ]
    }
   ],
   "source": [
    "# PyTorch\n",
    "import torch\n",
    "from torch import nn\n",
    "from torch.utils.data import DataLoader\n",
    "\n",
    "print('Torch version: ', torch.__version__)\n",
    "print('Cuda available: ',torch.cuda.is_available())\n",
    "print('Devices: ',torch.cuda.device_count())\n",
    "if torch.cuda.is_available(): print('Current Device: ', torch.cuda.current_device())"
   ]
  },
  {
   "cell_type": "code",
   "execution_count": null,
   "metadata": {},
   "outputs": [],
   "source": [
    "# Variant 1: PyTorch Tensors\n",
    "def quad_triples_1(dim):\n",
    "    v = np.linspace(1,dim,dim)**2\n",
    "    T = torch.from_numpy(np.array(np.transpose([v]*dim) + [v]*dim))\n",
    "    idx = torch.unique(torch.sort(torch.where(torch.isin(T, torch.from_numpy(v)), T, torch.tensor([0])).nonzero() + torch.tensor([1]))[0], dim = 0)\n",
    "    L1 = idx[:,0]**2\n",
    "    L2 = idx[:,1]**2\n",
    "\n",
    "    return list(map(tuple, np.transpose(torch.sqrt(torch.stack((L1, L2, L1+L2))).int().numpy())))"
   ]
  },
  {
   "cell_type": "code",
   "execution_count": null,
   "metadata": {},
   "outputs": [],
   "source": [
    "# Variant 2: List comprehension \n",
    "def quad_triples_2(dim): return [(x,y,z) for x in range(1,dim+1) for y in range(x,dim+1) for z in range(y,dim+1) if x**2 + y**2 == z**2]"
   ]
  },
  {
   "cell_type": "code",
   "execution_count": null,
   "metadata": {},
   "outputs": [],
   "source": [
    "dim = 10000"
   ]
  },
  {
   "cell_type": "code",
   "execution_count": null,
   "metadata": {},
   "outputs": [],
   "source": [
    "triples = quad_triples_1(dim)"
   ]
  },
  {
   "cell_type": "code",
   "execution_count": null,
   "metadata": {},
   "outputs": [],
   "source": [
    "triples = quad_triples_2(dim)"
   ]
  },
  {
   "cell_type": "code",
   "execution_count": null,
   "metadata": {},
   "outputs": [],
   "source": [
    "# check results size\n",
    "print(len(triples))"
   ]
  }
 ],
 "metadata": {
  "kernelspec": {
   "display_name": "Python 3",
   "language": "python",
   "name": "python3"
  },
  "language_info": {
   "codemirror_mode": {
    "name": "ipython",
    "version": 3
   },
   "file_extension": ".py",
   "mimetype": "text/x-python",
   "name": "python",
   "nbconvert_exporter": "python",
   "pygments_lexer": "ipython3",
   "version": "3.11.9"
  }
 },
 "nbformat": 4,
 "nbformat_minor": 2
}
